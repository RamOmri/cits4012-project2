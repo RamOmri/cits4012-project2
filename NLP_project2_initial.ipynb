{
 "cells": [
  {
   "cell_type": "code",
   "execution_count": 1,
   "id": "fb912ee8",
   "metadata": {},
   "outputs": [],
   "source": [
    "import pandas as pd"
   ]
  },
  {
   "cell_type": "code",
   "execution_count": 2,
   "id": "7aa03ab6",
   "metadata": {},
   "outputs": [
    {
     "data": {
      "text/html": [
       "<div>\n",
       "<style scoped>\n",
       "    .dataframe tbody tr th:only-of-type {\n",
       "        vertical-align: middle;\n",
       "    }\n",
       "\n",
       "    .dataframe tbody tr th {\n",
       "        vertical-align: top;\n",
       "    }\n",
       "\n",
       "    .dataframe thead th {\n",
       "        text-align: right;\n",
       "    }\n",
       "</style>\n",
       "<table border=\"1\" class=\"dataframe\">\n",
       "  <thead>\n",
       "    <tr style=\"text-align: right;\">\n",
       "      <th></th>\n",
       "      <th>category</th>\n",
       "      <th>city</th>\n",
       "      <th>company_name</th>\n",
       "      <th>geo</th>\n",
       "      <th>job_board</th>\n",
       "      <th>job_description</th>\n",
       "      <th>job_title</th>\n",
       "      <th>job_type</th>\n",
       "      <th>post_date</th>\n",
       "      <th>salary_offered</th>\n",
       "      <th>state</th>\n",
       "      <th>url</th>\n",
       "    </tr>\n",
       "  </thead>\n",
       "  <tbody>\n",
       "    <tr>\n",
       "      <th>0</th>\n",
       "      <td>Retail &amp; Consumer Products</td>\n",
       "      <td>Sydney</td>\n",
       "      <td>Frontline Executive Retail Sydney</td>\n",
       "      <td>AU</td>\n",
       "      <td>seek</td>\n",
       "      <td>Have you had 10 years experience in fresh pro...</td>\n",
       "      <td>Store Manager - Fresh Produce</td>\n",
       "      <td>Full Time</td>\n",
       "      <td>2018-04-15T23:13:45Z</td>\n",
       "      <td>$100k Base + Super + Benefits</td>\n",
       "      <td>North Shore &amp; Northern Beaches</td>\n",
       "      <td>https://www.seek.com.au/job/35989382</td>\n",
       "    </tr>\n",
       "    <tr>\n",
       "      <th>1</th>\n",
       "      <td>Government &amp; Defence</td>\n",
       "      <td>Brisbane</td>\n",
       "      <td>Powerlink</td>\n",
       "      <td>AU</td>\n",
       "      <td>seek</td>\n",
       "      <td>The Opportunity: The Client Solution Analyst ...</td>\n",
       "      <td>Client Solution Analyst</td>\n",
       "      <td>Full Time</td>\n",
       "      <td>2018-04-15T23:04:40Z</td>\n",
       "      <td>Excellent remuneration packages</td>\n",
       "      <td>Northern Suburbs</td>\n",
       "      <td>https://www.seek.com.au/job/35989272</td>\n",
       "    </tr>\n",
       "    <tr>\n",
       "      <th>2</th>\n",
       "      <td>Trades &amp; Services</td>\n",
       "      <td>Sydney</td>\n",
       "      <td>Richard Jay Laundry</td>\n",
       "      <td>AU</td>\n",
       "      <td>seek</td>\n",
       "      <td>An innovative business development role for a...</td>\n",
       "      <td>Service Technician / Installer - NSW</td>\n",
       "      <td>Full Time</td>\n",
       "      <td>2018-04-15T23:04:31Z</td>\n",
       "      <td>NaN</td>\n",
       "      <td>Parramatta &amp; Western Suburbs</td>\n",
       "      <td>https://www.seek.com.au/job/35989270</td>\n",
       "    </tr>\n",
       "    <tr>\n",
       "      <th>3</th>\n",
       "      <td>Trades &amp; Services</td>\n",
       "      <td>Melbourne</td>\n",
       "      <td>Adaptalift Hyster</td>\n",
       "      <td>AU</td>\n",
       "      <td>seek</td>\n",
       "      <td>About the role: We are seeking an Automotive W...</td>\n",
       "      <td>Workshop Technician I Material Handling Equipment</td>\n",
       "      <td>Full Time</td>\n",
       "      <td>2018-04-16T03:15:17Z</td>\n",
       "      <td>NaN</td>\n",
       "      <td>Bayside &amp; South Eastern Suburbs</td>\n",
       "      <td>https://www.seek.com.au/job/35993203</td>\n",
       "    </tr>\n",
       "    <tr>\n",
       "      <th>4</th>\n",
       "      <td>Trades &amp; Services</td>\n",
       "      <td>Adelaide</td>\n",
       "      <td>Bakers Delight G&amp;M</td>\n",
       "      <td>AU</td>\n",
       "      <td>seek</td>\n",
       "      <td>Â Early starts and weekend shifts. No experie...</td>\n",
       "      <td>APPRENTICESHIP JUNIOR BAKER</td>\n",
       "      <td>Full Time</td>\n",
       "      <td>2018-04-16T01:26:50Z</td>\n",
       "      <td>NaN</td>\n",
       "      <td>NaN</td>\n",
       "      <td>https://www.seek.com.au/job/35991578</td>\n",
       "    </tr>\n",
       "    <tr>\n",
       "      <th>...</th>\n",
       "      <td>...</td>\n",
       "      <td>...</td>\n",
       "      <td>...</td>\n",
       "      <td>...</td>\n",
       "      <td>...</td>\n",
       "      <td>...</td>\n",
       "      <td>...</td>\n",
       "      <td>...</td>\n",
       "      <td>...</td>\n",
       "      <td>...</td>\n",
       "      <td>...</td>\n",
       "      <td>...</td>\n",
       "    </tr>\n",
       "    <tr>\n",
       "      <th>29995</th>\n",
       "      <td>Hospitality &amp; Tourism</td>\n",
       "      <td>Sydney</td>\n",
       "      <td>Radisson Blu Plaza Hotel Sydney</td>\n",
       "      <td>AU</td>\n",
       "      <td>seek</td>\n",
       "      <td>Hotel snapshot The Radisson Blu Plaza Sydney ...</td>\n",
       "      <td>Bar Supervisor</td>\n",
       "      <td>Full Time</td>\n",
       "      <td>2018-04-11T04:20:40Z</td>\n",
       "      <td>Annualised salary, uniform + Super</td>\n",
       "      <td>CBD, Inner West &amp; Eastern Suburbs</td>\n",
       "      <td>https://www.seek.com.au/job/35958503</td>\n",
       "    </tr>\n",
       "    <tr>\n",
       "      <th>29996</th>\n",
       "      <td>CEO &amp; General Management</td>\n",
       "      <td>ACT</td>\n",
       "      <td>Airservices Australia</td>\n",
       "      <td>AU</td>\n",
       "      <td>seek</td>\n",
       "      <td>The Organisation Airservices is a government ...</td>\n",
       "      <td>Deputy Board Secretary</td>\n",
       "      <td>Full Time</td>\n",
       "      <td>2018-04-11T04:00:49Z</td>\n",
       "      <td>Salary package to be negotiated</td>\n",
       "      <td>NaN</td>\n",
       "      <td>https://www.seek.com.au/job/35958100</td>\n",
       "    </tr>\n",
       "    <tr>\n",
       "      <th>29997</th>\n",
       "      <td>Accounting</td>\n",
       "      <td>Melbourne</td>\n",
       "      <td>The Hassett Group</td>\n",
       "      <td>AU</td>\n",
       "      <td>seek</td>\n",
       "      <td>ABOUT THE COMPANY AND ROLE Our client is one o...</td>\n",
       "      <td>Corporate Accountant</td>\n",
       "      <td>Full Time</td>\n",
       "      <td>2018-04-11T02:45:37Z</td>\n",
       "      <td>$110k Package On Offer!</td>\n",
       "      <td>CBD &amp; Inner Suburbs</td>\n",
       "      <td>https://www.seek.com.au/job/35956991</td>\n",
       "    </tr>\n",
       "    <tr>\n",
       "      <th>29998</th>\n",
       "      <td>Government &amp; Defence</td>\n",
       "      <td>ACT</td>\n",
       "      <td>SOS Recruitment</td>\n",
       "      <td>AU</td>\n",
       "      <td>seek</td>\n",
       "      <td>Long term contract for 12 months with possibl...</td>\n",
       "      <td>APS 6 &amp; EL1 Account Managers</td>\n",
       "      <td>Contract/Temp</td>\n",
       "      <td>2018-04-11T04:55:16Z</td>\n",
       "      <td>NaN</td>\n",
       "      <td>NaN</td>\n",
       "      <td>https://www.seek.com.au/job/35959184</td>\n",
       "    </tr>\n",
       "    <tr>\n",
       "      <th>29999</th>\n",
       "      <td>Government &amp; Defence</td>\n",
       "      <td>Dubbo &amp; Central NSW</td>\n",
       "      <td>ServiceNSW</td>\n",
       "      <td>AU</td>\n",
       "      <td>seek</td>\n",
       "      <td>Customer Service Representative - (West Wyalo...</td>\n",
       "      <td>Customer Service Representative - (West Wyalon...</td>\n",
       "      <td>Part Time</td>\n",
       "      <td>2018-04-11T05:43:35Z</td>\n",
       "      <td>NaN</td>\n",
       "      <td>NaN</td>\n",
       "      <td>https://www.seek.com.au/job/35960045</td>\n",
       "    </tr>\n",
       "  </tbody>\n",
       "</table>\n",
       "<p>30000 rows × 12 columns</p>\n",
       "</div>"
      ],
      "text/plain": [
       "                         category                 city  \\\n",
       "0      Retail & Consumer Products               Sydney   \n",
       "1            Government & Defence             Brisbane   \n",
       "2               Trades & Services               Sydney   \n",
       "3               Trades & Services            Melbourne   \n",
       "4               Trades & Services             Adelaide   \n",
       "...                           ...                  ...   \n",
       "29995       Hospitality & Tourism               Sydney   \n",
       "29996    CEO & General Management                  ACT   \n",
       "29997                  Accounting            Melbourne   \n",
       "29998        Government & Defence                  ACT   \n",
       "29999        Government & Defence  Dubbo & Central NSW   \n",
       "\n",
       "                            company_name geo job_board  \\\n",
       "0      Frontline Executive Retail Sydney  AU      seek   \n",
       "1                              Powerlink  AU      seek   \n",
       "2                    Richard Jay Laundry  AU      seek   \n",
       "3                      Adaptalift Hyster  AU      seek   \n",
       "4                     Bakers Delight G&M  AU      seek   \n",
       "...                                  ...  ..       ...   \n",
       "29995    Radisson Blu Plaza Hotel Sydney  AU      seek   \n",
       "29996              Airservices Australia  AU      seek   \n",
       "29997                  The Hassett Group  AU      seek   \n",
       "29998                    SOS Recruitment  AU      seek   \n",
       "29999                         ServiceNSW  AU      seek   \n",
       "\n",
       "                                         job_description  \\\n",
       "0       Have you had 10 years experience in fresh pro...   \n",
       "1       The Opportunity: The Client Solution Analyst ...   \n",
       "2       An innovative business development role for a...   \n",
       "3      About the role: We are seeking an Automotive W...   \n",
       "4       Â Early starts and weekend shifts. No experie...   \n",
       "...                                                  ...   \n",
       "29995   Hotel snapshot The Radisson Blu Plaza Sydney ...   \n",
       "29996   The Organisation Airservices is a government ...   \n",
       "29997  ABOUT THE COMPANY AND ROLE Our client is one o...   \n",
       "29998   Long term contract for 12 months with possibl...   \n",
       "29999   Customer Service Representative - (West Wyalo...   \n",
       "\n",
       "                                               job_title       job_type  \\\n",
       "0                          Store Manager - Fresh Produce      Full Time   \n",
       "1                                Client Solution Analyst      Full Time   \n",
       "2                   Service Technician / Installer - NSW      Full Time   \n",
       "3      Workshop Technician I Material Handling Equipment      Full Time   \n",
       "4                            APPRENTICESHIP JUNIOR BAKER      Full Time   \n",
       "...                                                  ...            ...   \n",
       "29995                                     Bar Supervisor      Full Time   \n",
       "29996                             Deputy Board Secretary      Full Time   \n",
       "29997                               Corporate Accountant      Full Time   \n",
       "29998                       APS 6 & EL1 Account Managers  Contract/Temp   \n",
       "29999  Customer Service Representative - (West Wyalon...      Part Time   \n",
       "\n",
       "                  post_date                      salary_offered  \\\n",
       "0      2018-04-15T23:13:45Z       $100k Base + Super + Benefits   \n",
       "1      2018-04-15T23:04:40Z     Excellent remuneration packages   \n",
       "2      2018-04-15T23:04:31Z                                 NaN   \n",
       "3      2018-04-16T03:15:17Z                                 NaN   \n",
       "4      2018-04-16T01:26:50Z                                 NaN   \n",
       "...                     ...                                 ...   \n",
       "29995  2018-04-11T04:20:40Z  Annualised salary, uniform + Super   \n",
       "29996  2018-04-11T04:00:49Z     Salary package to be negotiated   \n",
       "29997  2018-04-11T02:45:37Z             $110k Package On Offer!   \n",
       "29998  2018-04-11T04:55:16Z                                 NaN   \n",
       "29999  2018-04-11T05:43:35Z                                 NaN   \n",
       "\n",
       "                                   state                                   url  \n",
       "0         North Shore & Northern Beaches  https://www.seek.com.au/job/35989382  \n",
       "1                       Northern Suburbs  https://www.seek.com.au/job/35989272  \n",
       "2           Parramatta & Western Suburbs  https://www.seek.com.au/job/35989270  \n",
       "3        Bayside & South Eastern Suburbs  https://www.seek.com.au/job/35993203  \n",
       "4                                    NaN  https://www.seek.com.au/job/35991578  \n",
       "...                                  ...                                   ...  \n",
       "29995  CBD, Inner West & Eastern Suburbs  https://www.seek.com.au/job/35958503  \n",
       "29996                                NaN  https://www.seek.com.au/job/35958100  \n",
       "29997                CBD & Inner Suburbs  https://www.seek.com.au/job/35956991  \n",
       "29998                                NaN  https://www.seek.com.au/job/35959184  \n",
       "29999                                NaN  https://www.seek.com.au/job/35960045  \n",
       "\n",
       "[30000 rows x 12 columns]"
      ]
     },
     "execution_count": 2,
     "metadata": {},
     "output_type": "execute_result"
    }
   ],
   "source": [
    "df_original = pd.read_csv ('seek_australia.csv')\n",
    "df_original"
   ]
  },
  {
   "cell_type": "markdown",
   "id": "04ead274",
   "metadata": {},
   "source": [
    "# Data exploration"
   ]
  },
  {
   "cell_type": "code",
   "execution_count": 3,
   "id": "3e7e222c",
   "metadata": {},
   "outputs": [],
   "source": [
    "# delete irrelevant features\n",
    "# use gensim to train word embeddings, use TSE to visualize some examples"
   ]
  },
  {
   "cell_type": "markdown",
   "id": "82267828",
   "metadata": {},
   "source": [
    "Reduce dataframe to necessary features"
   ]
  },
  {
   "cell_type": "code",
   "execution_count": 4,
   "id": "421948dc",
   "metadata": {},
   "outputs": [],
   "source": [
    "features_to_delete = ['job_board','geo','url']\n",
    "df = df_original.drop(features_to_delete, axis=1)"
   ]
  },
  {
   "cell_type": "markdown",
   "id": "02b35cbd",
   "metadata": {},
   "source": [
    "Train word embeddings via GloVe (only method using gensim library)"
   ]
  },
  {
   "cell_type": "code",
   "execution_count": 6,
   "id": "ee1fe856",
   "metadata": {},
   "outputs": [
    {
     "name": "stderr",
     "output_type": "stream",
     "text": [
      "[nltk_data] Downloading package reuters to\n",
      "[nltk_data]     /Users/charlotteschmidt/nltk_data...\n"
     ]
    }
   ],
   "source": [
    "import sys\n",
    "assert sys.version_info[0]==3\n",
    "assert sys.version_info[1] >= 5\n",
    "\n",
    "from gensim.models import KeyedVectors\n",
    "from gensim.test.utils import datapath\n",
    "import pprint\n",
    "import matplotlib.pyplot as plt\n",
    "plt.rcParams['figure.figsize'] = [10, 5]\n",
    "import nltk\n",
    "nltk.download('reuters')\n",
    "from nltk.corpus import reuters\n",
    "import numpy as np\n",
    "import random\n",
    "import scipy as sp\n",
    "from sklearn.decomposition import TruncatedSVD\n",
    "from sklearn.decomposition import PCA\n",
    "\n",
    "START_TOKEN = '<START>'\n",
    "END_TOKEN = '<END>'\n",
    "\n",
    "np.random.seed(0)\n",
    "random.seed(0)"
   ]
  },
  {
   "cell_type": "code",
   "execution_count": 11,
   "id": "51cb3998",
   "metadata": {},
   "outputs": [],
   "source": [
    "def load_embedding_model():\n",
    "    \"\"\" Load GloVe Vectors\n",
    "        Return:\n",
    "            wv_from_bin: All 400000 embeddings, each lengh 200\n",
    "    \"\"\"\n",
    "    import gensim.downloader as api\n",
    "    wv_pretrained = api.load(\"glove-wiki-gigaword-200\")\n",
    "    print(\"Loaded vocab size %i\" % len(wv_pretrained))\n",
    "    print(\"The loaded object is of type %s\" % str(type(wv_pretrained)))\n",
    "    return wv_pretrained"
   ]
  },
  {
   "cell_type": "code",
   "execution_count": 12,
   "id": "63fcb786",
   "metadata": {},
   "outputs": [
    {
     "name": "stdout",
     "output_type": "stream",
     "text": [
      "[====----------------------------------------------] 9.3% 23.4/252.1MB downloaded"
     ]
    },
    {
     "name": "stderr",
     "output_type": "stream",
     "text": [
      "IOPub message rate exceeded.\n",
      "The notebook server will temporarily stop sending output\n",
      "to the client in order to avoid crashing it.\n",
      "To change this limit, set the config variable\n",
      "`--NotebookApp.iopub_msg_rate_limit`.\n",
      "\n",
      "Current values:\n",
      "NotebookApp.iopub_msg_rate_limit=1000.0 (msgs/sec)\n",
      "NotebookApp.rate_limit_window=3.0 (secs)\n",
      "\n"
     ]
    },
    {
     "name": "stdout",
     "output_type": "stream",
     "text": [
      "[=============-------------------------------------] 26.7% 67.2/252.1MB downloaded"
     ]
    },
    {
     "name": "stderr",
     "output_type": "stream",
     "text": [
      "IOPub message rate exceeded.\n",
      "The notebook server will temporarily stop sending output\n",
      "to the client in order to avoid crashing it.\n",
      "To change this limit, set the config variable\n",
      "`--NotebookApp.iopub_msg_rate_limit`.\n",
      "\n",
      "Current values:\n",
      "NotebookApp.iopub_msg_rate_limit=1000.0 (msgs/sec)\n",
      "NotebookApp.rate_limit_window=3.0 (secs)\n",
      "\n"
     ]
    },
    {
     "name": "stdout",
     "output_type": "stream",
     "text": [
      "[=======================---------------------------] 46.5% 117.1/252.1MB downloaded"
     ]
    },
    {
     "name": "stderr",
     "output_type": "stream",
     "text": [
      "IOPub message rate exceeded.\n",
      "The notebook server will temporarily stop sending output\n",
      "to the client in order to avoid crashing it.\n",
      "To change this limit, set the config variable\n",
      "`--NotebookApp.iopub_msg_rate_limit`.\n",
      "\n",
      "Current values:\n",
      "NotebookApp.iopub_msg_rate_limit=1000.0 (msgs/sec)\n",
      "NotebookApp.rate_limit_window=3.0 (secs)\n",
      "\n"
     ]
    },
    {
     "name": "stdout",
     "output_type": "stream",
     "text": [
      "[===================================---------------] 70.3% 177.1/252.1MB downloaded"
     ]
    },
    {
     "name": "stderr",
     "output_type": "stream",
     "text": [
      "IOPub message rate exceeded.\n",
      "The notebook server will temporarily stop sending output\n",
      "to the client in order to avoid crashing it.\n",
      "To change this limit, set the config variable\n",
      "`--NotebookApp.iopub_msg_rate_limit`.\n",
      "\n",
      "Current values:\n",
      "NotebookApp.iopub_msg_rate_limit=1000.0 (msgs/sec)\n",
      "NotebookApp.rate_limit_window=3.0 (secs)\n",
      "\n"
     ]
    },
    {
     "name": "stdout",
     "output_type": "stream",
     "text": [
      "[===============================================---] 94.4% 238.0/252.1MB downloaded"
     ]
    },
    {
     "name": "stderr",
     "output_type": "stream",
     "text": [
      "IOPub message rate exceeded.\n",
      "The notebook server will temporarily stop sending output\n",
      "to the client in order to avoid crashing it.\n",
      "To change this limit, set the config variable\n",
      "`--NotebookApp.iopub_msg_rate_limit`.\n",
      "\n",
      "Current values:\n",
      "NotebookApp.iopub_msg_rate_limit=1000.0 (msgs/sec)\n",
      "NotebookApp.rate_limit_window=3.0 (secs)\n",
      "\n"
     ]
    },
    {
     "name": "stdout",
     "output_type": "stream",
     "text": [
      "Loaded vocab size 400000\n",
      "The loaded object is of type <class 'gensim.models.keyedvectors.KeyedVectors'>\n"
     ]
    }
   ],
   "source": [
    "# runs long (approx 8 minutes)\n",
    "wv_pretrained = load_embedding_model()"
   ]
  },
  {
   "cell_type": "markdown",
   "id": "9b5d2b13",
   "metadata": {},
   "source": [
    "# Data pre-processing"
   ]
  },
  {
   "cell_type": "code",
   "execution_count": null,
   "id": "f449f487",
   "metadata": {},
   "outputs": [],
   "source": []
  },
  {
   "cell_type": "markdown",
   "id": "c3504360",
   "metadata": {},
   "source": [
    "# Task 1"
   ]
  },
  {
   "cell_type": "markdown",
   "id": "6a8805ea",
   "metadata": {},
   "source": [
    "Derive target variable"
   ]
  },
  {
   "cell_type": "code",
   "execution_count": 7,
   "id": "cea8cb7d",
   "metadata": {},
   "outputs": [],
   "source": [
    "df['job_type_target'] = df['job_type']"
   ]
  },
  {
   "cell_type": "code",
   "execution_count": 8,
   "id": "ab6844c3",
   "metadata": {},
   "outputs": [],
   "source": [
    "df.loc[df['job_type_target'] != 'Full Time', 'job_type_target'] = 'Other'"
   ]
  },
  {
   "cell_type": "markdown",
   "id": "3f574dac",
   "metadata": {},
   "source": [
    "Analyse class distribution"
   ]
  },
  {
   "cell_type": "code",
   "execution_count": 9,
   "id": "d25c60fb",
   "metadata": {},
   "outputs": [
    {
     "data": {
      "text/plain": [
       "<AxesSubplot:>"
      ]
     },
     "execution_count": 9,
     "metadata": {},
     "output_type": "execute_result"
    },
    {
     "data": {
      "image/png": "[encoded data removed]",
      "text/plain": [
       "<Figure size 720x360 with 1 Axes>"
      ]
     },
     "metadata": {
      "needs_background": "light"
     },
     "output_type": "display_data"
    }
   ],
   "source": [
    "df['job_type_target'].hist()"
   ]
  },
  {
   "cell_type": "code",
   "execution_count": 10,
   "id": "aa01ed50",
   "metadata": {},
   "outputs": [],
   "source": [
    "# Class 'Full Time' is twice as large as 'Other'. Verify based on literature if such a distribution is too\n",
    "# imbalanced for this learning task "
   ]
  },
  {
   "cell_type": "markdown",
   "id": "2ba58b9f",
   "metadata": {},
   "source": [
    "# Task 2"
   ]
  },
  {
   "cell_type": "code",
   "execution_count": null,
   "id": "c4543322",
   "metadata": {},
   "outputs": [],
   "source": []
  }
 ],
 "metadata": {
  "kernelspec": {
   "display_name": "Python 3 (ipykernel)",
   "language": "python",
   "name": "python3"
  },
  "language_info": {
   "codemirror_mode": {
    "name": "ipython",
    "version": 3
   },
   "file_extension": ".py",
   "mimetype": "text/x-python",
   "name": "python",
   "nbconvert_exporter": "python",
   "pygments_lexer": "ipython3",
   "version": "3.9.10"
  }
 },
 "nbformat": 4,
 "nbformat_minor": 5
}
