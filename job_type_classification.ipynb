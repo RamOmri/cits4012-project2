{
 "cells": [
  {
   "cell_type": "markdown",
   "metadata": {
    "id": "nZAhFGMUEdRg"
   },
   "source": [
    "# Job Type classification with a feed forward neural netowrk and CNN\n",
    "22274048, 23191175"
   ]
  },
  {
   "cell_type": "markdown",
   "metadata": {
    "id": "BHUOufhDmIU9"
   },
   "source": [
    "In this assignment three neural net architectures were implemented and trained using three different types of job description word embeddings. Their classification task is to identify Full time jobs. In total three feed forward and six convolutional neural net classifiers were trained and evaluated against one another. The three embedding strategies utilized were one hot encoding, pretrained glove embeddings and a domain specific word2vec model prepared on the data. "
   ]
  },
  {
   "cell_type": "code",
   "execution_count": 28,
   "metadata": {
    "colab": {
     "base_uri": "https://localhost:8080/"
    },
    "executionInfo": {
     "elapsed": 1518,
     "status": "ok",
     "timestamp": 1653836772029,
     "user": {
      "displayName": "Omri Ram",
      "userId": "07837710711281572278"
     },
     "user_tz": -120
    },
    "id": "5PAcMgm5E156",
    "outputId": "9f08570b-d86d-4d4a-e780-6cfd5d0f3fa7"
   },
   "outputs": [
    {
     "name": "stderr",
     "output_type": "stream",
     "text": [
      "[nltk_data] Downloading package stopwords to\n",
      "[nltk_data]     /Users/omriram/nltk_data...\n",
      "[nltk_data]   Package stopwords is already up-to-date!\n"
     ]
    },
    {
     "data": {
      "text/plain": [
       "True"
      ]
     },
     "execution_count": 28,
     "metadata": {},
     "output_type": "execute_result"
    }
   ],
   "source": [
    "import nltk\n",
    "nltk.download('stopwords')"
   ]
  },
  {
   "cell_type": "markdown",
   "metadata": {},
   "source": [
    "Import the necessary modules"
   ]
  },
  {
   "cell_type": "code",
   "execution_count": 29,
   "metadata": {
    "executionInfo": {
     "elapsed": 4348,
     "status": "ok",
     "timestamp": 1653836776374,
     "user": {
      "displayName": "Omri Ram",
      "userId": "07837710711281572278"
     },
     "user_tz": -120
    },
    "id": "qairXn8IEdRl"
   },
   "outputs": [],
   "source": [
    "import pandas as pd\n",
    "from torch.utils.data import Dataset, DataLoader\n",
    "import torch\n",
    "import numpy as np\n",
    "import pandas as pd\n",
    "import os\n",
    "from collections import Counter\n",
    "import string\n",
    "from argparse import Namespace\n",
    "import torch.nn as nn\n",
    "from torch.utils.data import Dataset\n",
    "import random\n",
    "import os\n",
    "import torch.optim as optim\n",
    "import json\n",
    "import torch.nn.functional as F\n",
    "import pandas as pd\n",
    "import numpy as np\n",
    "from argparse import Namespace\n",
    "from gensim.models import Word2Vec\n",
    "from nltk.corpus import stopwords\n",
    "from tqdm.notebook import tqdm\n",
    "from nltk.corpus import stopwords\n",
    "stopwords = stopwords.words('english')"
   ]
  },
  {
   "cell_type": "code",
   "execution_count": 30,
   "metadata": {
    "colab": {
     "base_uri": "https://localhost:8080/",
     "height": 35
    },
    "executionInfo": {
     "elapsed": 16,
     "status": "ok",
     "timestamp": 1653836776375,
     "user": {
      "displayName": "Omri Ram",
      "userId": "07837710711281572278"
     },
     "user_tz": -120
    },
    "id": "ZTcRWn2lEdRn",
    "outputId": "2c8b9feb-a3a3-4ba8-f5ae-9a750947d41b"
   },
   "outputs": [
    {
     "data": {
      "text/plain": [
       "'/Users/omriram/Desktop/U/cits4012/cits4012_project2'"
      ]
     },
     "execution_count": 30,
     "metadata": {},
     "output_type": "execute_result"
    }
   ],
   "source": [
    "script_dir = os.path.dirname(os.path.realpath('__file__'))\n",
    "script_dir"
   ]
  },
  {
   "cell_type": "markdown",
   "metadata": {
    "id": "cbwfxUKMpAv9"
   },
   "source": [
    "Find the path to the root directory of the project"
   ]
  },
  {
   "cell_type": "code",
   "execution_count": 31,
   "metadata": {
    "executionInfo": {
     "elapsed": 14,
     "status": "ok",
     "timestamp": 1653836776375,
     "user": {
      "displayName": "Omri Ram",
      "userId": "07837710711281572278"
     },
     "user_tz": -120
    },
    "id": "oCFVVOouEdRp"
   },
   "outputs": [],
   "source": [
    "args = Namespace(\n",
    "     processed_csv = os.path.join(script_dir, 'data/processed_seek.csv'),\n",
    "     word2vec_model_filepath = os.path.join(script_dir, 'model_storage/word2vec'),\n",
    ")"
   ]
  },
  {
   "cell_type": "markdown",
   "metadata": {
    "id": "3oOLqwDGEdRp"
   },
   "source": [
    "Load the csv file into a dataframe, the domain specific word2vec model and the pretrained glove model"
   ]
  },
  {
   "cell_type": "code",
   "execution_count": 32,
   "metadata": {
    "colab": {
     "base_uri": "https://localhost:8080/"
    },
    "executionInfo": {
     "elapsed": 22711,
     "status": "ok",
     "timestamp": 1653836799072,
     "user": {
      "displayName": "Omri Ram",
      "userId": "07837710711281572278"
     },
     "user_tz": -120
    },
    "id": "5C5Uh4tJEdRq",
    "outputId": "22ae064c-d6a6-4aba-9cb0-33dd00fa8e86"
   },
   "outputs": [
    {
     "name": "stdout",
     "output_type": "stream",
     "text": [
      "The loaded object is of type <class 'gensim.models.keyedvectors.KeyedVectors'>\n"
     ]
    }
   ],
   "source": [
    "def load_embedding_model():\n",
    "    \"\"\" Load GloVe Vectors\n",
    "        Return:\n",
    "            wv_from_bin: All 400000 embeddings, each lengh 200\n",
    "    \"\"\"\n",
    "    import gensim.downloader as api\n",
    "    wv_pretrained = api.load(\"glove-wiki-gigaword-100\")\n",
    "    #print(\"Loaded vocab size %i\" % len(wv_pretrained.key_to_index))\n",
    "    print(\"The loaded object is of type %s\" % str(type(wv_pretrained)))\n",
    "    return wv_pretrained\n",
    "glove_model = load_embedding_model()"
   ]
  },
  {
   "cell_type": "code",
   "execution_count": 33,
   "metadata": {
    "colab": {
     "base_uri": "https://localhost:8080/",
     "height": 424
    },
    "executionInfo": {
     "elapsed": 2831,
     "status": "ok",
     "timestamp": 1653836801891,
     "user": {
      "displayName": "Omri Ram",
      "userId": "07837710711281572278"
     },
     "user_tz": -120
    },
    "id": "PfuYVTsPEdRq",
    "outputId": "38208908-4141-489f-9820-a5d3b8cab773"
   },
   "outputs": [
    {
     "data": {
      "text/html": [
       "<div>\n",
       "<style scoped>\n",
       "    .dataframe tbody tr th:only-of-type {\n",
       "        vertical-align: middle;\n",
       "    }\n",
       "\n",
       "    .dataframe tbody tr th {\n",
       "        vertical-align: top;\n",
       "    }\n",
       "\n",
       "    .dataframe thead th {\n",
       "        text-align: right;\n",
       "    }\n",
       "</style>\n",
       "<table border=\"1\" class=\"dataframe\">\n",
       "  <thead>\n",
       "    <tr style=\"text-align: right;\">\n",
       "      <th></th>\n",
       "      <th>category</th>\n",
       "      <th>job_description</th>\n",
       "      <th>job_type_target</th>\n",
       "      <th>short_description</th>\n",
       "      <th>split</th>\n",
       "    </tr>\n",
       "  </thead>\n",
       "  <tbody>\n",
       "    <tr>\n",
       "      <th>2382</th>\n",
       "      <td>Marketing &amp; Communications</td>\n",
       "      <td>[about, the, business, zuper, is, fintech, bor...</td>\n",
       "      <td>Full Time</td>\n",
       "      <td>[help, world, create, social, media, pr, media...</td>\n",
       "      <td>train</td>\n",
       "    </tr>\n",
       "    <tr>\n",
       "      <th>2861</th>\n",
       "      <td>Information &amp; Communication Technology</td>\n",
       "      <td>[at, transurban, we, rely, on, our, forward, t...</td>\n",
       "      <td>Full Time</td>\n",
       "      <td>[transurban, tmre, unified, collaboration, you...</td>\n",
       "      <td>train</td>\n",
       "    </tr>\n",
       "    <tr>\n",
       "      <th>17550</th>\n",
       "      <td>Mining, Resources &amp; Energy</td>\n",
       "      <td>[the, consolidated, minerals, group, consmin, ...</td>\n",
       "      <td>Full Time</td>\n",
       "      <td>[consmin, manganese, manganese, consmin, manga...</td>\n",
       "      <td>train</td>\n",
       "    </tr>\n",
       "    <tr>\n",
       "      <th>6303</th>\n",
       "      <td>Manufacturing, Transport &amp; Logistics</td>\n",
       "      <td>[mbs, in, matraville, is, looking, for, an, ex...</td>\n",
       "      <td>Full Time</td>\n",
       "      <td>[mbs, matraville, crane, must, crane, preffere...</td>\n",
       "      <td>train</td>\n",
       "    </tr>\n",
       "    <tr>\n",
       "      <th>22363</th>\n",
       "      <td>Trades &amp; Services</td>\n",
       "      <td>[tully, sugar, limited, tully, sugar, limited,...</td>\n",
       "      <td>Full Time</td>\n",
       "      <td>[tully, sugar, limited, tully, sugar, limited,...</td>\n",
       "      <td>val</td>\n",
       "    </tr>\n",
       "    <tr>\n",
       "      <th>...</th>\n",
       "      <td>...</td>\n",
       "      <td>...</td>\n",
       "      <td>...</td>\n",
       "      <td>...</td>\n",
       "      <td>...</td>\n",
       "    </tr>\n",
       "    <tr>\n",
       "      <th>12532</th>\n",
       "      <td>Community Services &amp; Development</td>\n",
       "      <td>[short, description, unique, grants, manager, ...</td>\n",
       "      <td>Full Time</td>\n",
       "      <td>[grants, newly, writing, grants, grants, newly...</td>\n",
       "      <td>train</td>\n",
       "    </tr>\n",
       "    <tr>\n",
       "      <th>25556</th>\n",
       "      <td>Education &amp; Training</td>\n",
       "      <td>[multiple, positions, available, we, re, looki...</td>\n",
       "      <td>Full Time</td>\n",
       "      <td>[multiple, children, childcare, award, hold, q...</td>\n",
       "      <td>test</td>\n",
       "    </tr>\n",
       "    <tr>\n",
       "      <th>7508</th>\n",
       "      <td>Retail &amp; Consumer Products</td>\n",
       "      <td>[we, are, national, footwear, company, and, we...</td>\n",
       "      <td>Other</td>\n",
       "      <td>[footwear, company, burwood, westfield, wednes...</td>\n",
       "      <td>train</td>\n",
       "    </tr>\n",
       "    <tr>\n",
       "      <th>328</th>\n",
       "      <td>Healthcare &amp; Medical</td>\n",
       "      <td>[rn, een, nurses, for, ipswich, area, we, are,...</td>\n",
       "      <td>Other</td>\n",
       "      <td>[rn, een, ipswich, rn, een, shifts, comfort, s...</td>\n",
       "      <td>train</td>\n",
       "    </tr>\n",
       "    <tr>\n",
       "      <th>9859</th>\n",
       "      <td>Government &amp; Defence</td>\n",
       "      <td>[role, based, in, orange, or, maitland, ongoin...</td>\n",
       "      <td>Full Time</td>\n",
       "      <td>[role, role, role, deployment, environments, e...</td>\n",
       "      <td>train</td>\n",
       "    </tr>\n",
       "  </tbody>\n",
       "</table>\n",
       "<p>29655 rows × 5 columns</p>\n",
       "</div>"
      ],
      "text/plain": [
       "                                     category  \\\n",
       "2382               Marketing & Communications   \n",
       "2861   Information & Communication Technology   \n",
       "17550              Mining, Resources & Energy   \n",
       "6303     Manufacturing, Transport & Logistics   \n",
       "22363                       Trades & Services   \n",
       "...                                       ...   \n",
       "12532        Community Services & Development   \n",
       "25556                    Education & Training   \n",
       "7508               Retail & Consumer Products   \n",
       "328                      Healthcare & Medical   \n",
       "9859                     Government & Defence   \n",
       "\n",
       "                                         job_description job_type_target  \\\n",
       "2382   [about, the, business, zuper, is, fintech, bor...       Full Time   \n",
       "2861   [at, transurban, we, rely, on, our, forward, t...       Full Time   \n",
       "17550  [the, consolidated, minerals, group, consmin, ...       Full Time   \n",
       "6303   [mbs, in, matraville, is, looking, for, an, ex...       Full Time   \n",
       "22363  [tully, sugar, limited, tully, sugar, limited,...       Full Time   \n",
       "...                                                  ...             ...   \n",
       "12532  [short, description, unique, grants, manager, ...       Full Time   \n",
       "25556  [multiple, positions, available, we, re, looki...       Full Time   \n",
       "7508   [we, are, national, footwear, company, and, we...           Other   \n",
       "328    [rn, een, nurses, for, ipswich, area, we, are,...           Other   \n",
       "9859   [role, based, in, orange, or, maitland, ongoin...       Full Time   \n",
       "\n",
       "                                       short_description  split  \n",
       "2382   [help, world, create, social, media, pr, media...  train  \n",
       "2861   [transurban, tmre, unified, collaboration, you...  train  \n",
       "17550  [consmin, manganese, manganese, consmin, manga...  train  \n",
       "6303   [mbs, matraville, crane, must, crane, preffere...  train  \n",
       "22363  [tully, sugar, limited, tully, sugar, limited,...    val  \n",
       "...                                                  ...    ...  \n",
       "12532  [grants, newly, writing, grants, grants, newly...  train  \n",
       "25556  [multiple, children, childcare, award, hold, q...   test  \n",
       "7508   [footwear, company, burwood, westfield, wednes...  train  \n",
       "328    [rn, een, ipswich, rn, een, shifts, comfort, s...  train  \n",
       "9859   [role, role, role, deployment, environments, e...  train  \n",
       "\n",
       "[29655 rows x 5 columns]"
      ]
     },
     "execution_count": 33,
     "metadata": {},
     "output_type": "execute_result"
    }
   ],
   "source": [
    "word2vec_model = Word2Vec.load(args.word2vec_model_filepath).wv\n",
    "df = pd.read_csv(args.processed_csv)\n",
    "df.short_description = df.short_description.apply(lambda x: x.split(' ')) # CSV files cannot store lists so these columns always has to be retokenized\n",
    "df.job_description = df.job_description.apply(lambda x: x.split(' '))\n",
    "df = df.sample(frac = 1) # CHANGE, AFFECTS FEED EMBEDDING\n",
    "df"
   ]
  },
  {
   "cell_type": "markdown",
   "metadata": {
    "id": "FvAtOs3YEdRr"
   },
   "source": [
    "## Implementing some helper classes"
   ]
  },
  {
   "cell_type": "markdown",
   "metadata": {
    "id": "BUoIBTtpEdRs"
   },
   "source": [
    "The below clases are used in the implementaiton of the models in the next section of this notebook"
   ]
  },
  {
   "cell_type": "markdown",
   "metadata": {
    "id": "Nqap2efcpsPT"
   },
   "source": [
    "A standard vocabulary object used to look up the token corresponding to some index and vice versa"
   ]
  },
  {
   "cell_type": "code",
   "execution_count": 34,
   "metadata": {
    "executionInfo": {
     "elapsed": 8,
     "status": "ok",
     "timestamp": 1653836801892,
     "user": {
      "displayName": "Omri Ram",
      "userId": "07837710711281572278"
     },
     "user_tz": -120
    },
    "id": "SICamGtMEdRs"
   },
   "outputs": [],
   "source": [
    "class Vocabulary(object):\n",
    "    \"\"\"Class to process text and extract Vocabulary for mapping\"\"\"\n",
    "    def __init__(self, token_to_idx=None, add_unk=True, unk_token=\"<UNK>\"):\n",
    "        \"\"\"\n",
    "        Args:\n",
    "            token_to_idx (dict): a pre-existingmap of tokens to indices\n",
    "            add_unk (bool): a flag that indicates whether to add the UNK token\n",
    "            unk_token (str): the UNK token to add into the Vocabulary\n",
    "        \"\"\"\n",
    "        if token_to_idx is None:\n",
    "            token_to_idx = {}\n",
    "        self._token_to_idx = token_to_idx\n",
    "        self._idx_to_token = {idx: token \n",
    "                                for token, idx in self._token_to_idx.items()}\n",
    "        self._add_unk = add_unk\n",
    "        self._unk_token = unk_token\n",
    "        self.unk_index = 1\n",
    "        if add_unk:\n",
    "            self.unk_index = self.add_token(unk_token)\n",
    "    def to_serializable(self):\n",
    "        \"\"\" returns a dictionary that can be serialized \"\"\"\n",
    "        return {'token_to_idx': self._token_to_idx,\n",
    "                'add_unk': self._add_unk,\n",
    "                'unk_token': self._unk_token}\n",
    "    @classmethod\n",
    "    def from_serializable(cls, contents):\n",
    "        \"\"\" instantiates the Vocabulary from a serialized dictionary \"\"\"\n",
    "        return cls(**contents)\n",
    "    def add_token(self, token):\n",
    "        \"\"\"Update mapping dicts based on the token.\n",
    "        Args:\n",
    "            token (str): the item to add into the Vocabulary\n",
    "        Returns:\n",
    "            index (int): the integer corresponding to the token\n",
    "        \"\"\"\n",
    "        if token in self._token_to_idx:\n",
    "            index = self._token_to_idx[token]\n",
    "        else:\n",
    "            index = len(self._token_to_idx)\n",
    "            self._token_to_idx[token] = index\n",
    "            self._idx_to_token[index] = token\n",
    "        return index\n",
    "    \n",
    "    def add_many(self, tokens):\n",
    "        \"\"\"Add a list of tokens into the Vocabulary\n",
    "        \n",
    "        Args:\n",
    "            tokens (list): a list of string tokens\n",
    "        Returns:\n",
    "            indices (list): a list of indices corresponding to the tokens\n",
    "        \"\"\"\n",
    "        return [self.add_token(token) for token in tokens]\n",
    "    \n",
    "    def lookup_token(self, token):\n",
    "        \"\"\"Retrieve the index associated with the token\n",
    "        or the UNK index if token isn't present.\n",
    "        Args:\n",
    "            token (str): the token to look up\n",
    "        Returns:\n",
    "            index (int): the index corresponding to the token\n",
    "        Notes:\n",
    "            `unk_index` needs to be >=0 (having been added into the Vocabulary)\n",
    "            for the UNK functionality\n",
    "        \"\"\"\n",
    "        if self._add_unk:\n",
    "            return self._token_to_idx.get(token, self.unk_index)\n",
    "        else:\n",
    "            return self._token_to_idx[token]\n",
    "    def lookup_index(self, index):\n",
    "        \"\"\"Return the token associated with the index\n",
    "        Args:\n",
    "            index (int): the index to look up\n",
    "        Returns:\n",
    "            token (str): the token corresponding to the index\n",
    "        Raises:\n",
    "        KeyError: if the index is not in the Vocabulary\n",
    "        \"\"\"\n",
    "        if index not in self._idx_to_token:\n",
    "            raise KeyError(\"the index (%d) is not in the Vocabulary\" % index)\n",
    "        return self._idx_to_token[index]\n",
    "    def __str__(self):\n",
    "        return \"<Vocabulary(size=%d)>\" % len(self)\n",
    "    def __len__(self):\n",
    "        return len(self._token_to_idx)"
   ]
  },
  {
   "cell_type": "markdown",
   "metadata": {
    "id": "VwiPIFqWp4uc"
   },
   "source": [
    "Class used to create a flattened one hot encoded vector for each job descriptions"
   ]
  },
  {
   "cell_type": "code",
   "execution_count": 35,
   "metadata": {
    "executionInfo": {
     "elapsed": 8,
     "status": "ok",
     "timestamp": 1653836801892,
     "user": {
      "displayName": "Omri Ram",
      "userId": "07837710711281572278"
     },
     "user_tz": -120
    },
    "id": "ritXuAJ2EdRu"
   },
   "outputs": [],
   "source": [
    "class One_hot_Vectorizer(object):\n",
    "    \"\"\" The Vectorizer which coordinates the Vocabularies and puts them to use\"\"\"\n",
    "    def __init__(self, description_vocab, target_vocab):\n",
    "        \"\"\"\n",
    "        Args:\n",
    "            description_vocab (Vocabulary): maps words to integers\n",
    "            target_vocab (Vocabulary): maps class labels to integers\n",
    "        \"\"\"\n",
    "        self.description_vocab = description_vocab\n",
    "        self.target_vocab = target_vocab\n",
    "    def vectorize(self, description_tokenized):\n",
    "        \"\"\"Create a collapsed one hot vector for the job description\n",
    "        Args:\n",
    "            description_tokenized (list): the tokenized job description\n",
    "        Returns:\n",
    "            one_hot (np.ndarray): the collapsed onehot encoding\n",
    "        \"\"\"\n",
    "        one_hot = np.zeros(len(self.description_vocab), dtype=np.float32)\n",
    "        for token in description_tokenized:\n",
    "            if token not in string.punctuation:\n",
    "                one_hot[self.description_vocab.lookup_token(token)] = 1\n",
    "        return one_hot\n",
    "    @classmethod\n",
    "    def from_dataframe(cls, description_df, target_cat = True, cutoff=25):\n",
    "        \"\"\"Instantiate the vectorizer from the dataset dataframe\n",
    "        Args:\n",
    "            description_df (pandas.DataFrame): the description dataset\n",
    "            cutoff (int): the parameter for frequency based filtering\n",
    "        Returns:\n",
    "            an instance of the descriptionVectorizer\n",
    "        \"\"\"\n",
    "        description_vocab = Vocabulary(add_unk=True)\n",
    "        target_vocab = Vocabulary(add_unk=False)\n",
    "        # adding category or Job_type\n",
    "        if target_cat:\n",
    "            for category in sorted(set(description_df.category)):\n",
    "                target_vocab.add_token(category)\n",
    "        \n",
    "        else:\n",
    "            \n",
    "            for job_type in  sorted(set(description_df.job_type_target)):\n",
    "                target_vocab.add_token(job_type)\n",
    "        # Add top words if count > provided count\n",
    "        word_counts = Counter()\n",
    "        for description in description_df.job_description:\n",
    "            for word in description:\n",
    "                if word not in string.punctuation:\n",
    "                    word_counts[word] += 1\n",
    "        for word, count in word_counts.items():\n",
    "            if count > cutoff:\n",
    "                description_vocab.add_token(word)\n",
    "        return cls(description_vocab, target_vocab)\n",
    "    @classmethod\n",
    "    def from_serializable(cls, contents):\n",
    "        \"\"\"Intantiate a descriptionVectorizer from a serializable dictionary\n",
    "        Args:\n",
    "            contents (dict): the serializable dictionary\n",
    "        Returns:\n",
    "            an instance of the descriptionVectorizer class\n",
    "        \"\"\"\n",
    "        description_vocab = Vocabulary.from_serializable(contents['description_vocab'])\n",
    "        target_vocab = Vocabulary.from_serializable(contents['target_vocab'])\n",
    "        return cls(description_vocab=description_vocab, target_vocab=target_vocab)\n",
    "    def to_serializable(self):\n",
    "        \"\"\"Create the serializable dictionary for caching\n",
    "        Returns:\n",
    "            contents (dict): the serializable dictionary\n",
    "        \"\"\"\n",
    "        return {'description_vocab': self.description_vocab.to_serializable(),\n",
    "                'target_vocab': self.target_vocab.to_serializable()}"
   ]
  },
  {
   "cell_type": "markdown",
   "metadata": {
    "id": "jvhrWgyQp_WS"
   },
   "source": [
    "Extends the vocabulary class to add tokens for end begining and unknown tokens\n"
   ]
  },
  {
   "cell_type": "code",
   "execution_count": 36,
   "metadata": {
    "executionInfo": {
     "elapsed": 8,
     "status": "ok",
     "timestamp": 1653836801893,
     "user": {
      "displayName": "Omri Ram",
      "userId": "07837710711281572278"
     },
     "user_tz": -120
    },
    "id": "VhZAPauhEdRu"
   },
   "outputs": [],
   "source": [
    "class SequenceVocabulary(Vocabulary):\n",
    "    def __init__(self, token_to_idx=None, unk_token=\"<UNK>\",\n",
    "                 mask_token=\"<MASK>\", begin_seq_token=\"<BEGIN>\",\n",
    "                 end_seq_token=\"<END>\"):\n",
    "\n",
    "        super(SequenceVocabulary, self).__init__(token_to_idx)\n",
    "\n",
    "        self._mask_token = mask_token\n",
    "        self._unk_token = unk_token\n",
    "        self._begin_seq_token = begin_seq_token\n",
    "        self._end_seq_token = end_seq_token\n",
    "\n",
    "        self.mask_index = self.add_token(self._mask_token)\n",
    "        self.unk_index = self.add_token(self._unk_token)\n",
    "        self.begin_seq_index = self.add_token(self._begin_seq_token)\n",
    "        self.end_seq_index = self.add_token(self._end_seq_token)\n",
    "\n",
    "    def to_serializable(self):\n",
    "        contents = super(SequenceVocabulary, self).to_serializable()\n",
    "        contents.update({'unk_token': self._unk_token,\n",
    "                         'mask_token': self._mask_token,\n",
    "                         'begin_seq_token': self._begin_seq_token,\n",
    "                         'end_seq_token': self._end_seq_token})\n",
    "        return contents\n",
    "\n",
    "    def lookup_token(self, token):\n",
    "        \"\"\"Retrieve the index associated with the token \n",
    "          or the UNK index if token isn't present.\n",
    "        \n",
    "        Args:\n",
    "            token (str): the token to look up \n",
    "        Returns:\n",
    "            index (int): the index corresponding to the token\n",
    "        Notes:\n",
    "            `unk_index` needs to be >=0 (having been added into the Vocabulary) \n",
    "              for the UNK functionality \n",
    "        \"\"\"\n",
    "        if self.unk_index >= 0:\n",
    "            return self._token_to_idx.get(token, self.unk_index)\n",
    "        else:\n",
    "            return self._token_to_idx[token]"
   ]
  },
  {
   "cell_type": "markdown",
   "metadata": {
    "id": "XmxNIbplqSrK"
   },
   "source": [
    "The vectorizer class coordinates instantiates the sequence vocabulary class with the provided job descriptions. In addition it creates vectors the size of the longest job description and adds the mask, unknown, begin and end tokens to each vector. The resulting vectors can be used to derive the embedding matrix. "
   ]
  },
  {
   "cell_type": "code",
   "execution_count": 37,
   "metadata": {
    "executionInfo": {
     "elapsed": 8,
     "status": "ok",
     "timestamp": 1653836801893,
     "user": {
      "displayName": "Omri Ram",
      "userId": "07837710711281572278"
     },
     "user_tz": -120
    },
    "id": "eihsNoYiEdRv"
   },
   "outputs": [],
   "source": [
    "class Vectorizer(object):\n",
    "    \"\"\" The Vectorizer which coordinates the Vocabularies and puts them to use\"\"\"    \n",
    "    def __init__(self, desc_vocab, target_vocab):\n",
    "        self.description_vocab = desc_vocab\n",
    "        self.target_vocab = target_vocab\n",
    "    def vectorize(self, description, vector_length=-1):\n",
    "        \"\"\"\n",
    "        Args:\n",
    "            description (list) : tokenized description \n",
    "            vector_length (int): an argument for forcing the length of index vector\n",
    "        Returns:\n",
    "            the vetorized description (numpy.array)\n",
    "        \"\"\"\n",
    "        indices = []\n",
    "        \n",
    "        \n",
    "        indices.extend(self.description_vocab.lookup_token(token) \n",
    "                       for token in description)\n",
    "        if vector_length < 0:\n",
    "            vector_length = len(indices)\n",
    "        \n",
    "        out_vector = np.zeros(vector_length, dtype=np.int64)\n",
    "     \n",
    "        out_vector[:len(indices)] = indices\n",
    "       \n",
    "\n",
    "        return out_vector\n",
    "      \n",
    "    def vectorize_one_hot(self, description):\n",
    "        \"\"\"Create a collapsed one hot vector for the job description\n",
    "        Args:\n",
    "            description_tokenized (list): the tokenized job description\n",
    "        Returns:\n",
    "            one_hot (np.ndarray): the collapsed onehot encoding\n",
    "        \"\"\"\n",
    "        one_hot = np.zeros(len(self.description_vocab), dtype=np.float32)\n",
    "        for token in description:\n",
    "            if token not in string.punctuation:\n",
    "                one_hot[self.description_vocab.lookup_token(token)] = 1\n",
    "        return one_hot\n",
    "\n",
    "    @classmethod\n",
    "    def from_dataframe(cls, df, feature_column = 'short_description', target_cat = False, cutoff=10):\n",
    "        \"\"\"Instantiate the vectorizer from the dataset dataframe\n",
    "        Args:\n",
    "            description_df (pandas.DataFrame): the target dataset\n",
    "            cutoff (int): frequency threshold for including in Vocabulary \n",
    "        Returns:\n",
    "            an instance of the descriptionVectorizer\n",
    "        \"\"\"\n",
    "        target_vocab = Vocabulary(add_unk=False)\n",
    "        if target_cat:\n",
    "            for target in sorted(set(df.category)):\n",
    "                target_vocab.add_token(target)    \n",
    "        else:\n",
    "            for job_type in sorted(set(df.job_type_target)):\n",
    "                target_vocab.add_token(job_type)\n",
    "        \n",
    " \n",
    "        word_counts = Counter()\n",
    "        for desc in df[feature_column]:\n",
    "            desc = desc.split(' ') if type(desc) is not list else desc\n",
    "            for token in desc:\n",
    "                word_counts[token] += 1\n",
    "\n",
    "        desc_vocab = SequenceVocabulary()\n",
    "        for word, word_count in word_counts.items():\n",
    "            if word_count >= cutoff:\n",
    "                desc_vocab.add_token(word)\n",
    "        \n",
    "        return cls(desc_vocab, target_vocab)\n",
    "\n",
    "    @classmethod\n",
    "    def from_serializable(cls, contents):\n",
    "        description_vocab = \\\n",
    "            SequenceVocabulary.from_serializable(contents['description_vocab'])\n",
    "        target_vocab =  \\\n",
    "            Vocabulary.from_serializable(contents['target_vocab'])\n",
    "\n",
    "        return cls(description_vocab=description_vocab, target_vocab=target_vocab)\n",
    "\n",
    "    def to_serializable(self):\n",
    "        return {'description_vocab': self.description_vocab.to_serializable(),\n",
    "                'target_vocab': self.target_vocab.to_serializable()}"
   ]
  },
  {
   "cell_type": "markdown",
   "metadata": {
    "id": "TZbnSUnSqxLJ"
   },
   "source": [
    "A standard dataset class used to feed the correct data from the dataframe to the dataloader"
   ]
  },
  {
   "cell_type": "code",
   "execution_count": 38,
   "metadata": {
    "executionInfo": {
     "elapsed": 7,
     "status": "ok",
     "timestamp": 1653836801893,
     "user": {
      "displayName": "Omri Ram",
      "userId": "07837710711281572278"
     },
     "user_tz": -120
    },
    "id": "_QGgLv79EdRw"
   },
   "outputs": [],
   "source": [
    "class Dataset(Dataset):\n",
    "    def __init__(self, df, vectorizer, short = True, job_type = True, one_hot = False):\n",
    "        \"\"\"\n",
    "        Args:\n",
    "            df (pandas.DataFrame): the dataset\n",
    "            vectorizer (GloveVectorizer): vectorizer instatiated from dataset\n",
    "        \"\"\"\n",
    "        self.one_hot = one_hot\n",
    "        self.df = df\n",
    "        self._vectorizer = vectorizer\n",
    "        self.short = short\n",
    "        self.job_type = job_type\n",
    "\n",
    "        # +1 if only using begin_seq, +2 if using both begin and end seq tokens\n",
    "        measure_len = lambda context: len(context)\n",
    "        if self.short:\n",
    "            self._max_seq_length = max(map(measure_len, df.short_description)) + 2\n",
    "        else:\n",
    "            self._max_seq_length = max(map(measure_len, df.job_description)) + 2\n",
    "        \n",
    "        self.train_df = self.df[self.df.split=='train']\n",
    "        self.train_size = len(self.train_df)\n",
    "\n",
    "        self.val_df = self.df[self.df.split=='val']\n",
    "        self.validation_size = len(self.val_df)\n",
    "\n",
    "        self.test_df = self.df[self.df.split=='test']\n",
    "        self.test_size = len(self.test_df)\n",
    "\n",
    "        self._lookup_dict = {'train': (self.train_df, self.train_size),\n",
    "                             'val': (self.val_df, self.validation_size),\n",
    "                             'test': (self.test_df, self.test_size)}\n",
    "\n",
    "        self.set_split('train')\n",
    "\n",
    "        # Class weights\n",
    "        if self.job_type:\n",
    "            class_counts = df.job_type_target.value_counts().to_dict()\n",
    "        else:\n",
    "            class_counts = df.category.value_counts().to_dict()\n",
    "        def sort_key(item):\n",
    "            return self._vectorizer.target_vocab.lookup_token(item[0])\n",
    "        \n",
    "\n",
    "        sorted_counts = sorted(class_counts.items(), key=sort_key)\n",
    "        frequencies = [count for _, count in sorted_counts]\n",
    "        self.class_weights = 1.0 / torch.tensor(frequencies, dtype=torch.float32)\n",
    "        \n",
    "        \n",
    "    @classmethod\n",
    "    def load_df_and_make_vectorizer(cls, df, short = True, one_hot = False):\n",
    "        \"\"\"Load dataset and make a  vectorizer from scratch\n",
    "        \n",
    "        Args:\n",
    "            csv (str): location of the dataset\n",
    "        Returns:\n",
    "            an instance of Dataset\n",
    "        \"\"\"\n",
    "        train_df = df[df.split=='train']\n",
    "        return cls(df, Vectorizer.from_dataframe(train_df), short = short, one_hot = one_hot)\n",
    "\n",
    "    @staticmethod\n",
    "    def load_vectorizer_only(vectorizer_filepath):\n",
    "        \"\"\"a static method for loading the vectorizer from file\n",
    "        \n",
    "        Args:\n",
    "            vectorizer_filepath (str): the location of the serialized vectorizer\n",
    "        Returns:\n",
    "            an instance of GloveVectorizer\n",
    "        \"\"\"\n",
    "        with open(vectorizer_filepath) as fp:\n",
    "            return Vectorizer.from_serializable(json.load(fp))\n",
    "\n",
    "    def save_vectorizer(self, vectorizer_filepath):\n",
    "        \"\"\"saves the vectorizer to disk using json\n",
    "        \n",
    "        Args:\n",
    "            vectorizer_filepath (str): the location to save the vectorizer\n",
    "        \"\"\"\n",
    "        with open(vectorizer_filepath, \"w\") as fp:\n",
    "            json.dump(self._vectorizer.to_serializable(), fp)\n",
    "\n",
    "    def get_vectorizer(self):\n",
    "        \"\"\" returns the vectorizer \"\"\"\n",
    "        return self._vectorizer\n",
    "\n",
    "    def set_split(self, split=\"train\"):\n",
    "        \"\"\" selects the splits in the dataset using a column in the dataframe \"\"\"\n",
    "        self._target_split = split\n",
    "        self._target_df, self._target_size = self._lookup_dict[split]\n",
    "\n",
    "    def __len__(self):\n",
    "        return self._target_size\n",
    "\n",
    "    def __getitem__(self, index):\n",
    "        \"\"\"the primary entry point method for PyTorch datasets\n",
    "        \n",
    "        Args:\n",
    "            index (int): the index to the data point \n",
    "        Returns:\n",
    "            a dictionary holding the data point's features (x_data) and label (y_target)\n",
    "        \"\"\"\n",
    "        row = self._target_df.iloc[index]\n",
    "        if self.one_hot:\n",
    "            if self.short:\n",
    "                description_vector = \\\n",
    "                    self._vectorizer.vectorize_one_hot(row.short_description)\n",
    "            else:\n",
    "                description_vector = \\\n",
    "                    self._vectorizer.vectorize_one_hot(row.job_description)\n",
    "\n",
    "        else:\n",
    "            if self.short:\n",
    "                description_vector = \\\n",
    "                    self._vectorizer.vectorize(row.short_description, self._max_seq_length)\n",
    "            else:\n",
    "                description_vector = \\\n",
    "                    self._vectorizer.vectorize(row.job_description, self._max_seq_length)\n",
    "\n",
    "        if self.job_type:\n",
    "            target_index = \\\n",
    "                self._vectorizer.target_vocab.lookup_token(row.job_type_target)\n",
    "        else:\n",
    "            target_index = \\\n",
    "                self._vectorizer.target_vocab.lookup_token(row.category)\n",
    "\n",
    "\n",
    "        return {'x_data': description_vector,\n",
    "                'y_target': target_index}\n",
    "\n",
    "    def get_num_batches(self, batch_size):\n",
    "        \"\"\"Given a batch size, return the number of batches in the dataset\n",
    "        \n",
    "        Args:\n",
    "            batch_size (int)\n",
    "        Returns:\n",
    "            number of batches in the dataset\n",
    "        \"\"\" \n",
    "        return len(self) // batch_size"
   ]
  },
  {
   "cell_type": "markdown",
   "metadata": {
    "id": "jjE3Sd4TEdRx"
   },
   "source": [
    "## Defining some helper functions for training each model"
   ]
  },
  {
   "cell_type": "markdown",
   "metadata": {
    "id": "NPSvvKvVq9Bx"
   },
   "source": [
    "Define some functions for retrieving the embedding matrix to be passed to the classifier class. Each function takes a list of words from the vocabulary in the dataset"
   ]
  },
  {
   "cell_type": "code",
   "execution_count": 39,
   "metadata": {
    "executionInfo": {
     "elapsed": 8,
     "status": "ok",
     "timestamp": 1653836801894,
     "user": {
      "displayName": "Omri Ram",
      "userId": "07837710711281572278"
     },
     "user_tz": -120
    },
    "id": "ZJY2ixE9Rsz0"
   },
   "outputs": [],
   "source": [
    "def get_matrix_of_vectors(wv_pretrained, required_words):\n",
    "    \"\"\" Put the GloVe vectors into a matrix M.\n",
    "        Param:\n",
    "            wv_pretrained: KeyedVectors object; the 400000 GloVe vectors loaded from file\n",
    "        Return:\n",
    "            M: numpy matrix shape (num words, 200) containing the vectors\n",
    "            word2Ind: dictionary mapping each word to its row number in M\n",
    "    \"\"\"\n",
    "    import random\n",
    "    words = list(wv_pretrained.key_to_index.keys()) # may need to change to key_to_index.keys()\n",
    "    print(\"Shuffling words ...\")\n",
    "    random.seed(224)\n",
    "    random.shuffle(words)\n",
    "    words = words[:10000]\n",
    "    print(\"Putting %i words into word2Ind and matrix M...\" % len(words))\n",
    "    word2Ind = {}\n",
    "    M = []\n",
    "    curInd = 0\n",
    "    for w in words:\n",
    "        try:\n",
    "            M.append(wv_pretrained.get_vector(w)) # norm = True\n",
    "            word2Ind[w] = curInd\n",
    "            curInd += 1\n",
    "        except KeyError:\n",
    "            continue\n",
    "    for w in required_words:\n",
    "        if w in words:\n",
    "            continue\n",
    "        try:\n",
    "            M.append(wv_pretrained.get_vector(w)) # norm = True\n",
    "            word2Ind[w] = curInd\n",
    "            curInd += 1\n",
    "        except KeyError:\n",
    "            continue\n",
    "    M = np.stack(M)\n",
    "    print(\"Done.\")\n",
    "    return M, word2Ind"
   ]
  },
  {
   "cell_type": "code",
   "execution_count": 40,
   "metadata": {
    "executionInfo": {
     "elapsed": 7,
     "status": "ok",
     "timestamp": 1653836801894,
     "user": {
      "displayName": "Omri Ram",
      "userId": "07837710711281572278"
     },
     "user_tz": -120
    },
    "id": "LZo7gdZrEdRx"
   },
   "outputs": [],
   "source": [
    "def make_one_hot_matrix(one_hot_vectorizer, words):\n",
    "    \"\"\"\n",
    "    Args: \n",
    "        one_hot_vectorizer: of class one_hot_vectorizer \n",
    "        words: List of words in the dataset\n",
    "    Returns:\n",
    "        A matrix of the embeddings for each word matching the word's index\n",
    "    \"\"\"\n",
    "    embedding_size = len(words)\n",
    "    final_embeddings = np.zeros((len(words), len(words)))\n",
    "\n",
    "    for i, word in enumerate(words):\n",
    "      final_embeddings[i, :] = one_hot_vectorizer.vectorize(word)\n",
    "    return final_embeddings\n",
    "    \n",
    "def make_embedding_matrix(embeddings, word_to_idx, words):\n",
    "    \"\"\"\n",
    "    Create embedding matrix for a specific set of words.\n",
    "    \n",
    "    Args:\n",
    "        glove_filepath (str): file path to the glove embeddigns\n",
    "        words (list): list of words in the dataseta\n",
    "    \"\"\"\n",
    "    embedding_size = embeddings.shape[1]\n",
    "    \n",
    "    final_embeddings = np.zeros((len(words), embedding_size))\n",
    "\n",
    "    for i, word in enumerate(words):\n",
    "        if word in word_to_idx:\n",
    "            final_embeddings[i, :] = embeddings[word_to_idx[word]]\n",
    "        else:\n",
    "            embedding_i = torch.ones(1, embedding_size)\n",
    "            torch.nn.init.xavier_uniform_(embedding_i)\n",
    "            final_embeddings[i, :] = embedding_i\n",
    "\n",
    "    return final_embeddings"
   ]
  },
  {
   "cell_type": "code",
   "execution_count": 41,
   "metadata": {
    "executionInfo": {
     "elapsed": 7,
     "status": "ok",
     "timestamp": 1653836801894,
     "user": {
      "displayName": "Omri Ram",
      "userId": "07837710711281572278"
     },
     "user_tz": -120
    },
    "id": "JbcyGuMXEdRx"
   },
   "outputs": [],
   "source": [
    "def generate_batches(dataset, batch_size, shuffle=True,\n",
    "                     drop_last=True, device=\"cpu\"): \n",
    "    \"\"\"\n",
    "    A generator function which wraps the PyTorch DataLoader. It will \n",
    "      ensure each tensor is on the write device location.\n",
    "    \"\"\"\n",
    "    dataloader = DataLoader(dataset=dataset, batch_size=batch_size,\n",
    "                            shuffle=shuffle, drop_last=drop_last)\n",
    "\n",
    "    for data_dict in dataloader:\n",
    "        out_data_dict = {}\n",
    "        for name, tensor in data_dict.items():\n",
    "            out_data_dict[name] = data_dict[name].to(device)\n",
    "        yield out_data_dict\n",
    "\n",
    "def make_train_state(args):\n",
    "    return {'stop_early': False,\n",
    "            'early_stopping_step': 4,\n",
    "            'early_stopping_best_val': 1e8,\n",
    "            'learning_rate': args.learning_rate,\n",
    "            'epoch_index': 0,\n",
    "            'train_loss': [],\n",
    "            'train_acc': [],\n",
    "            'val_loss': [],\n",
    "            'val_acc': [],\n",
    "            'test_loss': -1,\n",
    "            'test_acc': -1,\n",
    "            'model_filename': args.model_state_file}\n",
    "\n",
    "def update_train_state(args, model, train_state):\n",
    "    \"\"\"Handle the training state updates.\n",
    "\n",
    "    Components:\n",
    "     - Early Stopping: Prevent overfitting.\n",
    "     - Model Checkpoint: Model is saved if the model is better\n",
    "\n",
    "    :param args: main arguments\n",
    "    :param model: model to train\n",
    "    :param train_state: a dictionary representing the training state values\n",
    "    :returns:\n",
    "        a new train_state\n",
    "    \"\"\"\n",
    "\n",
    "    # Save one model at least\n",
    "    if train_state['epoch_index'] == 0:\n",
    "        torch.save(model.state_dict(), train_state['model_filename'])\n",
    "        train_state['stop_early'] = False\n",
    "\n",
    "    # Save model if performance improved\n",
    "    elif train_state['epoch_index'] >= 1:\n",
    "        loss_tm1, loss_t = train_state['val_loss'][-2:]\n",
    "\n",
    "        # If loss worsened\n",
    "        if loss_t >= train_state['early_stopping_best_val']:\n",
    "            # Update step\n",
    "            train_state['early_stopping_step'] += 1\n",
    "        # Loss decreased\n",
    "        else:\n",
    "            # Save the best model\n",
    "            if loss_t < train_state['early_stopping_best_val']:\n",
    "                torch.save(model.state_dict(), train_state['model_filename'])\n",
    "\n",
    "            # Reset early stopping step\n",
    "            train_state['early_stopping_step'] = 0\n",
    "\n",
    "        # Stop early ?\n",
    "        train_state['stop_early'] = \\\n",
    "            train_state['early_stopping_step'] >= args.early_stopping_criteria\n",
    "\n",
    "    return train_state\n",
    "\n",
    "def compute_accuracy(y_pred, y_target):\n",
    "    y_pred_indices = (torch.sigmoid(y_pred)>0.5).cpu().long().to(cnn_args.device) #.max(dim=1)[1]\n",
    "    n_correct = torch.eq(y_pred_indices, y_target).sum().item()\n",
    "    return n_correct / len(y_pred_indices) * 100\n",
    "    \n",
    "def compute_accuracy_BCE(y_pred, y_target):\n",
    "    y_target = y_target.cpu()\n",
    "    y_pred_indices = (torch.sigmoid(y_pred)>0.5).cpu().long()#.max(dim=1)[1]\n",
    "    n_correct = torch.eq(y_pred_indices, y_target).sum().item()\n",
    "    return n_correct / len(y_pred_indices) * 100"
   ]
  },
  {
   "cell_type": "code",
   "execution_count": 42,
   "metadata": {
    "executionInfo": {
     "elapsed": 394,
     "status": "ok",
     "timestamp": 1653836802281,
     "user": {
      "displayName": "Omri Ram",
      "userId": "07837710711281572278"
     },
     "user_tz": -120
    },
    "id": "kAHO3xBlEdRy"
   },
   "outputs": [],
   "source": [
    "def train_model(classifier, dataset, args,loss_func, BCE = False, one_hot = False):\n",
    "    \"\"\"\n",
    "    args:\n",
    "    classifier: the pytorch model that will be trained.\n",
    "    dataset: An object from the dataset class\n",
    "    returns:\n",
    "    the classifier and the final trainstate\n",
    "    \"\"\"\n",
    "    classifier = classifier.to(args.device)\n",
    "    dataset.class_weights = dataset.class_weights.to(args.device)\n",
    "    \n",
    "    \n",
    "    optimizer = optim.Adam(classifier.parameters(), lr = args.learning_rate)\n",
    "    scheduler = optim.lr_scheduler.ReduceLROnPlateau(optimizer=optimizer, mode = 'min', factor=0.5, patience=1)\n",
    "\n",
    "    train_state = make_train_state(args)\n",
    "\n",
    "    epoch_bar = tqdm(desc='training routine', \n",
    "                            total=args.num_epochs,\n",
    "                            position=0)\n",
    "\n",
    "    dataset.set_split('train')\n",
    "    train_bar = tqdm(desc='split=train',\n",
    "                            total=dataset.get_num_batches(args.batch_size), \n",
    "                            position=1, \n",
    "                            leave=True)\n",
    "    dataset.set_split('val')\n",
    "    val_bar = tqdm(desc='split=val',\n",
    "                          total=dataset.get_num_batches(args.batch_size), \n",
    "                          position=1, \n",
    "                          leave=True)\n",
    "\n",
    "\n",
    "    classifier.float() # sets classifier to receive in double precision format\n",
    "    try:\n",
    "        \n",
    "        for epoch in range(args.num_epochs):\n",
    "            train_state['epoch_index'] = epoch\n",
    "            dataset.set_split('train')\n",
    "            batch_generator = generate_batches(dataset, batch_size=args.batch_size, device = args.device)\n",
    "\n",
    "            running_loss = 0.0\n",
    "            running_acc = 0.0\n",
    "            classifier.train()\n",
    "\n",
    "            for batch_index, batch_dict in enumerate(batch_generator):\n",
    "                optimizer.zero_grad()\n",
    "                if BCE and one_hot:\n",
    "                    \n",
    "                    y_pred = classifier(batch_dict['x_data'].float())\n",
    "                    loss = loss_func(y_pred, batch_dict['y_target'].float())\n",
    "                elif BCE and not one_hot:\n",
    "                    y_pred = classifier(batch_dict['x_data'])\n",
    "                    loss = loss_func(y_pred, batch_dict['y_target'].float())\n",
    "                else:\n",
    "                    y_pred = classifier(batch_dict['x_data'])\n",
    "                    loss = loss_func(y_pred, batch_dict['y_target'])\n",
    "                loss_t = loss.item()\n",
    "                running_loss += (loss_t - running_loss) / (batch_index + 1)\n",
    "                loss.backward()\n",
    "                optimizer.step()\n",
    "                if BCE:\n",
    "                    acc_t = compute_accuracy_BCE(y_pred, batch_dict['y_target'])\n",
    "                else:\n",
    "                    acc_t = compute_accuracy(y_pred, batch_dict['y_target'])\n",
    "                running_acc += (acc_t  - running_acc)/(batch_index+1)\n",
    "                #update bar\n",
    "                train_bar.set_postfix(loss=running_loss, acc=running_acc, \n",
    "                                      epoch=epoch)\n",
    "                train_bar.update()\n",
    "\n",
    "            train_state['train_loss'].append(running_loss)\n",
    "            train_state['train_acc'].append(running_acc)\n",
    "\n",
    "            dataset.set_split('val')\n",
    "            batch_generator = generate_batches(dataset, batch_size=args.batch_size, device=args.device)\n",
    "            running_loss = 0.\n",
    "            running_acc = 0.\n",
    "            classifier.eval()\n",
    "\n",
    "            for batch_index, batch_dict in enumerate(batch_generator):\n",
    "                \n",
    "                # step 3. compute the loss\n",
    "                if BCE and one_hot:\n",
    "                    \n",
    "                    y_pred = classifier(batch_dict['x_data'].float())\n",
    "                    loss = loss_func(y_pred.float(), batch_dict['y_target'].float())\n",
    "                elif BCE and not one_hot:\n",
    "                    y_pred = classifier(batch_dict['x_data'])\n",
    "                    loss = loss_func(y_pred.float(), batch_dict['y_target'].float())\n",
    "                else:\n",
    "                    y_pred = classifier(batch_dict['x_data'])\n",
    "                    loss = loss_func(y_pred.float(), batch_dict['y_target'].float())\n",
    "               \n",
    "                loss_t = loss.item()\n",
    "                running_loss += (loss_t - running_loss) / (batch_index + 1)\n",
    "                if BCE:\n",
    "                     acc_t = compute_accuracy_BCE(y_pred, batch_dict['y_target'])\n",
    "                else:\n",
    "                    acc_t = compute_accuracy(y_pred, batch_dict['y_target'])\n",
    "                running_acc += (acc_t - running_acc) / (batch_index + 1)\n",
    "                val_bar.set_postfix(loss=running_loss, acc=running_acc, \n",
    "                                  epoch=epoch)\n",
    "                val_bar.update()\n",
    "            train_state['val_loss'].append(running_loss)\n",
    "            train_state['val_acc'].append(running_acc)\n",
    "\n",
    "            train_state = update_train_state(args=args, model=classifier,\n",
    "                                          train_state=train_state)\n",
    "\n",
    "            scheduler.step(train_state['val_loss'][-1])\n",
    "\n",
    "            if train_state['stop_early']:\n",
    "                break\n",
    "            train_bar.n = 0\n",
    "            val_bar.n = 0\n",
    "            epoch_bar.update()\n",
    "\n",
    "\n",
    "    except KeyboardInterrupt:\n",
    "        print(\"Exiting loop\")\n",
    "    return classifier, train_state\n",
    "\n",
    "def test_model( classifier, dataset, train_state, args,\n",
    "               loss_func, BCE=False, one_hot = False):\n",
    "    \"\"\"\n",
    "    args:\n",
    "        classifier to evaluate,\n",
    "        dataset: test data for evaluating the classifier,\n",
    "        train_state: the final train state after training the model,\n",
    "        BCE: whether to use binary cross entrop or cross entropy,\n",
    "    returns:\n",
    "        prints the classifier accuracy and loss\n",
    "    \"\"\"\n",
    "    dataset.set_split('test')\n",
    "    batch_generator = generate_batches(dataset, \n",
    "                                       batch_size=args.batch_size,\n",
    "                                      device=args.device)\n",
    "    running_loss = 0.\n",
    "    running_acc = 0.\n",
    "    classifier = classifier.to(args.device)\n",
    "    classifier.eval()\n",
    "\n",
    "    for batch_index, batch_dict in enumerate(batch_generator):\n",
    "        # compute the output\n",
    "        if BCE and one_hot:\n",
    "                    \n",
    "            y_pred = classifier(batch_dict['x_data'].float())\n",
    "            loss = loss_func(y_pred, batch_dict['y_target'].float())\n",
    "        elif BCE and not one_hot:\n",
    "            y_pred = classifier(batch_dict['x_data'])\n",
    "            loss = loss_func(y_pred, batch_dict['y_target'].float())\n",
    "        else:\n",
    "            y_pred = classifier(batch_dict['x_data'])\n",
    "            loss = loss_func(y_pred, batch_dict['y_target'])\n",
    "               \n",
    "        loss_t = loss.item()\n",
    "        running_loss += (loss_t - running_loss) / (batch_index + 1)\n",
    "\n",
    "    # compute the accuracy\n",
    "        if BCE:\n",
    "            acc_t = compute_accuracy_BCE(y_pred, batch_dict['y_target'])\n",
    "        else:\n",
    "            acc_t = compute_accuracy(y_pred, batch_dict['y_target'])\n",
    "        running_acc += (acc_t - running_acc) / (batch_index + 1)\n",
    "\n",
    "    train_state['test_loss'] = running_loss\n",
    "    train_state['test_acc'] = running_acc\n",
    "    print(\"Test loss: {};\".format(train_state['test_loss']))\n",
    "    print(\"Test Accuracy: {}\".format(train_state['test_acc']))"
   ]
  },
  {
   "cell_type": "markdown",
   "metadata": {
    "id": "ii76IthIEdRz"
   },
   "source": [
    "#### Initializing the dataset and deriving the vectorizer for the long and short description"
   ]
  },
  {
   "cell_type": "markdown",
   "metadata": {
    "id": "NxkUbN3kEdRz"
   },
   "source": [
    "The dataset class can be fed into the dataloader that feeds the data as batches while training the classifier. The vectorizer matches all the tokens to indices which can be used when deriving the embeddings for each token."
   ]
  },
  {
   "cell_type": "code",
   "execution_count": 43,
   "metadata": {
    "executionInfo": {
     "elapsed": 399,
     "status": "ok",
     "timestamp": 1653836802678,
     "user": {
      "displayName": "Omri Ram",
      "userId": "07837710711281572278"
     },
     "user_tz": -120
    },
    "id": "7zquXmmiEdRz"
   },
   "outputs": [],
   "source": [
    "dataset_short_desc = Dataset.load_df_and_make_vectorizer(df)\n",
    "vectorizer_short_desc = dataset_short_desc.get_vectorizer()\n",
    "dataset_long_desc = Dataset.load_df_and_make_vectorizer(df, short=False)\n",
    "vectorizer_long_desc = dataset_long_desc.get_vectorizer()"
   ]
  },
  {
   "cell_type": "markdown",
   "metadata": {
    "id": "rhhEfX5FRsz2"
   },
   "source": [
    "## Classifying job type using a Feed forward binary classifier"
   ]
  },
  {
   "cell_type": "markdown",
   "metadata": {
    "id": "bB0gX1r6Rsz2"
   },
   "source": [
    "In order to explore the effectiveness of the three vectorization methods employed in this assignment, the cnn model and a feed forward model will be trained using each embedding.Initially a short description with the top ten tfidf values will be used for each embedding before using the whole description."
   ]
  },
  {
   "cell_type": "code",
   "execution_count": 44,
   "metadata": {
    "executionInfo": {
     "elapsed": 3,
     "status": "ok",
     "timestamp": 1653836802679,
     "user": {
      "displayName": "Omri Ram",
      "userId": "07837710711281572278"
     },
     "user_tz": -120
    },
    "id": "2ZOgvUIjRsz2"
   },
   "outputs": [
    {
     "name": "stdout",
     "output_type": "stream",
     "text": [
      "Using CUDA: False\n"
     ]
    }
   ],
   "source": [
    "from argparse import Namespace\n",
    "# Defining arguments to be used for the feed forward neural network\n",
    "feed_forward_args = Namespace(\n",
    "    # Data and Path hyper parameters\n",
    "    \n",
    "    # Model hyper parameters\n",
    "    use_w2v = False,\n",
    "    use_glove=False, \n",
    "    hidden_dim=100, \n",
    "    input_size = None, # Since we are using top ten tfidf\n",
    "    vocab_size = None,\n",
    "    embedding_dim = 100,\n",
    "    target_dim = 2, # only need Full time and other.\n",
    "    # Training hyper parameter\n",
    "    seed=1337, \n",
    "    learning_rate=0.001, \n",
    "    batch_size=128,\n",
    "    dropout_p=0.1, \n",
    "    num_epochs=100, \n",
    "    early_stopping_criteria=5, \n",
    "    # Runtime option\n",
    "    cuda=True, \n",
    "    catch_keyboard_interrupt=True, \n",
    "    reload_from_files=False,\n",
    "    expand_filepaths_to_save_dir=True,\n",
    "    model_state_file=\"model.pth\",\n",
    "    save_dir= script_dir + '/model_storage/document_classification/',\n",
    "    device='cuda',\n",
    "    load_model = True # CHANGE THIS TO Train model\n",
    ")\n",
    "if not torch.cuda.is_available():\n",
    "    feed_forward_args.cuda = False\n",
    "    \n",
    "feed_forward_args.device = torch.device(\"cuda\" if feed_forward_args.cuda else \"cpu\")\n",
    "print(\"Using CUDA: {}\".format(feed_forward_args.cuda))\n"
   ]
  },
  {
   "cell_type": "code",
   "execution_count": 45,
   "metadata": {
    "executionInfo": {
     "elapsed": 3,
     "status": "ok",
     "timestamp": 1653836802679,
     "user": {
      "displayName": "Omri Ram",
      "userId": "07837710711281572278"
     },
     "user_tz": -120
    },
    "id": "reB9Z4kHRsz3"
   },
   "outputs": [],
   "source": [
    "import torch.nn as nn\n",
    "import torch.nn.functional as F\n",
    "class Classifier_feed_forward(nn.Module, ):\n",
    "    \"\"\" a simple perceptron-based classifier \"\"\"\n",
    "    def __init__(self, num_features = None, embedding_size= None,\n",
    "                 num_embeddings= None, hidden_dim= None,  \n",
    "                 input_size= None, dropout_p= None,\n",
    "                 pretrained_embeddings=None, one_hot = False):\n",
    "        self.one_hot = one_hot\n",
    "        \"\"\"\n",
    "        Args:\n",
    "            num_features (int): the size of the input feature vector\n",
    "        \"\"\"\n",
    "        super(Classifier_feed_forward, self).__init__()\n",
    "        if self.one_hot:\n",
    "            \n",
    "            self.fc1 = nn.Linear(in_features=num_features, out_features=1)\n",
    "        else:\n",
    "            \n",
    "\n",
    "            if pretrained_embeddings is None:\n",
    "\n",
    "                self.emb = nn.Embedding(embedding_dim=embedding_size,\n",
    "                                        num_embeddings=num_embeddings\n",
    "                                        )        \n",
    "            else:\n",
    "                pretrained_embeddings = torch.from_numpy(pretrained_embeddings).float()\n",
    "                self.emb = nn.Embedding(embedding_dim=embedding_size,\n",
    "                                        num_embeddings=num_embeddings,\n",
    "                                        _weight=pretrained_embeddings)\n",
    "\n",
    "            self._dropout_p = dropout_p    \n",
    "\n",
    "            self.fc1 = nn.Linear(\n",
    "               input_size * embedding_size, \n",
    "                out_features=1\n",
    "            )\n",
    "            \n",
    "    def forward(self, x_in, apply_sigmoid=False):\n",
    "        \"\"\"The forward pass of the classifier\n",
    "        Args:\n",
    "            x_in (torch.Tensor): an input data tensor \n",
    "                    x_in.shape should be (batch, num_features)\n",
    "            apply_sigmoid (bool): a flag for the sigmoid activation\n",
    "                    should be false if used with the cross-entropy losses\n",
    "        Returns:\n",
    "            the resulting tensor. tensor.shape should be (batch,).\n",
    "        \"\"\"\n",
    "        if self.one_hot:\n",
    "            y_out = self.fc1(x_in).squeeze()\n",
    "\n",
    "            if apply_sigmoid:\n",
    "                y_out = torch.sigmoid(y_out)\n",
    "            \n",
    "        else:\n",
    "            # mlp classifier\n",
    "       \n",
    "\n",
    "            x_embedded = self.emb(x_in).view(x_in.size()[0], -1)\n",
    "\n",
    "            y_out = self.fc1(x_embedded).squeeze()\n",
    "            if apply_sigmoid:\n",
    "                y_out = torch.sigmoid(y_out)\n",
    "\n",
    "        return y_out"
   ]
  },
  {
   "cell_type": "markdown",
   "metadata": {
    "id": "h6uzTsPuRsz3"
   },
   "source": [
    "### OneHot"
   ]
  },
  {
   "cell_type": "markdown",
   "metadata": {
    "id": "07T7dgvkRsz3"
   },
   "source": [
    "##### Training"
   ]
  },
  {
   "cell_type": "code",
   "execution_count": 46,
   "metadata": {},
   "outputs": [
    {
     "data": {
      "text/plain": [
       "6764"
      ]
     },
     "execution_count": 46,
     "metadata": {},
     "output_type": "execute_result"
    }
   ],
   "source": [
    "len(vectorizer.description_vocab)"
   ]
  },
  {
   "cell_type": "code",
   "execution_count": 47,
   "metadata": {
    "colab": {
     "base_uri": "https://localhost:8080/",
     "height": 131,
     "referenced_widgets": [
      "0c0b45976b824ac1965734a1bf9504d0",
      "d21ee7475e1b4782a366e4655ea0bafb",
      "ce1badaf73264edbad7ba34c53898ac5",
      "f15870f97abf46779b6983f22791ae60",
      "a0b94c2a83e94f44a7f40fafc2d2e90d",
      "6a4019c264a640c49d8326bab60bc9b2",
      "c5325df4c8d64fc38a2bbea22ba97429",
      "62988d1c861945b491a13176e6b77e76",
      "2fef1b6815a44b4fa6b76e2ccb06f807",
      "c7e116e9cc5d4dc2a9ccaf629a960ca5",
      "c08c89181d674806b75229131864d714",
      "a3c623e024594253be32952617caaee7",
      "b4016ce9d6a945a9835861442adb62fb",
      "a759ec336a43450681f1cf7c0a86a9fb",
      "68ea8c84c6e24e15b3c69c5857df1816",
      "058bba68fc66437fa9171361e5006960",
      "ca2baab029ac4b0eb057a3056e0dde1c",
      "cf5b55d019c34f0ca4ed2ef42122481a",
      "e5f649ce7744435195d2ac2a49d1db40",
      "d2621258e00d4b678a8f77aec2fb64a6",
      "127ce8396ed3453eb9054046ab05bdab",
      "70b812fb666c4f18909ac7a1e7d10f62",
      "d6737aca5d304de8aae55d2a5ac79f93",
      "7be9a35b35e94b3e99619012dcc266d0",
      "38477ce2851c42da87d5e292b5929850",
      "db589686c1db451eb5c9ae4316a21270",
      "fdb1e7d0af85477c9accb1edf8aceb13",
      "9c991e6aaffd4c24a709d5c25b838ecf",
      "5da6edf9b3eb456082f6d2480325fddc",
      "46a00f1b7205422a8d58cabdb85280a0",
      "2d645c7a37a542d482320bdeec684780",
      "1073ebec8fcc4ee192e1c3da5d2944be",
      "9a5502dcc0934fb1a7d11215cf1c1b1a"
     ]
    },
    "executionInfo": {
     "elapsed": 78927,
     "status": "ok",
     "timestamp": 1653836882253,
     "user": {
      "displayName": "Omri Ram",
      "userId": "07837710711281572278"
     },
     "user_tz": -120
    },
    "id": "LPfe6lu6Rsz3",
    "outputId": "fb4f0a2b-3b1d-4754-fdec-05f5faae3ddf"
   },
   "outputs": [],
   "source": [
    "dataset_short_desc_one_hot = Dataset.load_df_and_make_vectorizer(df, one_hot= True)\n",
    "vectorizer = dataset_short_desc_one_hot.get_vectorizer()\n",
    "# model\n",
    "one_hot_classifier = Classifier_feed_forward(num_features=len(vectorizer.description_vocab), one_hot=True)\n",
    "feed_forward_args.save_dir = script_dir + '/model_storage/feed_forward/one_hot_feed_forward.pth'\n",
    "\n",
    "if feed_forward_args.load_model:\n",
    "    one_hot_classifier.load_state_dict(torch.load(feed_forward_args.save_dir, map_location=feed_forward_args.device))\n",
    "else:\n",
    "    one_hot_classifier, one_hot_train_state_ff = train_model(classifier=one_hot_classifier,\n",
    "                                                          dataset=dataset_short_desc_one_hot , args = feed_forward_args,\n",
    "                                                         loss_func=nn.BCEWithLogitsLoss(), BCE = True, one_hot=True)\n",
    "    torch.save(one_hot_classifier.state_dict(), feed_forward_args.save_dir)"
   ]
  },
  {
   "cell_type": "markdown",
   "metadata": {
    "id": "fEyl692uRsz3"
   },
   "source": [
    "##### Testing"
   ]
  },
  {
   "cell_type": "code",
   "execution_count": 48,
   "metadata": {
    "colab": {
     "base_uri": "https://localhost:8080/",
     "height": 353
    },
    "executionInfo": {
     "elapsed": 493,
     "status": "error",
     "timestamp": 1653836883589,
     "user": {
      "displayName": "Omri Ram",
      "userId": "07837710711281572278"
     },
     "user_tz": -120
    },
    "id": "Q5U58V1uRsz4",
    "outputId": "4174d76d-e678-4574-b94a-fac22a0bc3f2"
   },
   "outputs": [
    {
     "name": "stdout",
     "output_type": "stream",
     "text": [
      "Test loss: 0.7313664620337278;\n",
      "Test Accuracy: 60.971467391304365\n"
     ]
    }
   ],
   "source": [
    "test_model( one_hot_classifier, dataset_short_desc_one_hot,\n",
    "            make_train_state(feed_forward_args), feed_forward_args,\n",
    "          nn.BCEWithLogitsLoss(), BCE=True, one_hot=True)"
   ]
  },
  {
   "cell_type": "markdown",
   "metadata": {
    "id": "d8mqHLRnRsz4"
   },
   "source": [
    "### glove model"
   ]
  },
  {
   "cell_type": "markdown",
   "metadata": {
    "id": "fztPxLazRsz4"
   },
   "source": [
    "##### Training"
   ]
  },
  {
   "cell_type": "code",
   "execution_count": 50,
   "metadata": {
    "colab": {
     "base_uri": "https://localhost:8080/",
     "height": 131,
     "referenced_widgets": [
      "bb3f9ae64d7445d98362a8e238378770",
      "567153ae24634430ac14f55828b80f48",
      "1e931fd523aa4005a053b00c2f47bb6b",
      "87d10fe9632a4cd0afba2d8d2f476014",
      "0eb633f71bcb480d8688b2cad25a7145",
      "b1cb48d9966d459cb5c9308d9e22c134",
      "564abf30d04f4e63ad19aa0805078cb9",
      "fbb8786882144a749d1c02c0acfea60b",
      "4d14ad2281014e4dad7baa573274ae25",
      "4dba1a6ff2744a698b69d019ac5e55fb",
      "6aa6f8b6c9dc43fdbc9156cee4568e48",
      "7b908496db434031a87e9b136122829f",
      "a90c8385d452429990d868b595fe7e6e",
      "0b47167342a84d1bb6cec233b603e7f8",
      "3bae6f9edb7d4b43ba80345ad75205ed",
      "d4937e9fef1040e2bab278835c34ef9f",
      "273320a1ad2e4e0b8fe05f6d324dbcd9",
      "16c70a97b4354fe99aa89bd97c8d62db",
      "595536346a9e42989ddfe650ccf473c6",
      "f4ae71ebb5cf4baeb967711a2f1a4db5",
      "8ef1282963f04d67930e57ae33711ed9",
      "6063da6713bf4c07b275b381c4d0f2b6",
      "f329725dd7084c51a086cebdd772cd18",
      "a19d7f2de9e94444b6dbd831507e8dc6",
      "11eb62020563456aa79e52ff437c0904",
      "d9b3ff298b164cbc8212a0eccf714863",
      "cf9fe93349ec4f93b034308deaed2647",
      "3e5784ef4d49406bb27f2646cbf0f5e7",
      "6bf9f0cf7dcc4dc29e21168c0d02c032",
      "8958a345e41f4ece9c01987fe22b7626",
      "b26a5d4318804aa6a85be343ed1e6d69",
      "a412230d5c004b0e81b54c31b13177dc",
      "61220c08d9c14d49b25eb70677e90d68"
     ]
    },
    "executionInfo": {
     "elapsed": 5745,
     "status": "ok",
     "timestamp": 1653836898290,
     "user": {
      "displayName": "Omri Ram",
      "userId": "07837710711281572278"
     },
     "user_tz": -120
    },
    "id": "kFjUOzRHRsz4",
    "outputId": "e1e23bfd-14c3-4c03-985b-8ea1df628f9f"
   },
   "outputs": [],
   "source": [
    "vectorizer = dataset_short_desc.get_vectorizer()\n",
    "words = vectorizer.description_vocab._token_to_idx.keys()\n",
    "word_to_idx = {word: idx for idx, word in enumerate(glove_model.key_to_index)} # may need to change to key_to_index\n",
    "\n",
    "glove_embeddings = make_embedding_matrix(glove_model.vectors, word_to_idx, words = words)\n",
    "feed_forward_args.input_size = dataset_short_desc._max_seq_length\n",
    "feed_forward_args.vocab_size = glove_embeddings.shape[0]\n",
    "feed_forward_args.embedding_dim = glove_embeddings.shape[1]\n",
    "feed_forward_args.embedding_dim = glove_embeddings.shape[1]\n",
    "feed_forward_args.save_dir ='./model_storage/feed_forward/glove_feed_forwar.pth'\n",
    "# model\n",
    "ff_classifier_short_glove = Classifier_feed_forward(embedding_size=feed_forward_args.embedding_dim, \n",
    "                            num_embeddings=len(vectorizer.description_vocab),\n",
    "                            hidden_dim=feed_forward_args.hidden_dim, \n",
    "                            input_size = feed_forward_args.input_size,\n",
    "                            dropout_p=feed_forward_args.dropout_p,\n",
    "                            pretrained_embeddings=glove_embeddings)\n",
    "\n",
    "if feed_forward_args.load_model:\n",
    "    ff_classifier_short_glove.load_state_dict(torch.load(feed_forward_args.save_dir, map_location=feed_forward_args.device))\n",
    "else:\n",
    "    ff_classifier_short_glove, glove_train_state_ff = train_model(classifier=ff_classifier_short_glove,\n",
    "                                                      dataset=dataset_short_desc, args = feed_forward_args,\n",
    "                                                         loss_func=nn.BCEWithLogitsLoss(), BCE = True)\n",
    "    torch.save(ff_classifier_short_glove.state_dict(), feed_forward_args.save_dir)"
   ]
  },
  {
   "cell_type": "markdown",
   "metadata": {
    "id": "NQ1S1o_rRsz4"
   },
   "source": [
    "#### Testing"
   ]
  },
  {
   "cell_type": "code",
   "execution_count": 51,
   "metadata": {
    "colab": {
     "base_uri": "https://localhost:8080/",
     "height": 353
    },
    "executionInfo": {
     "elapsed": 7,
     "status": "error",
     "timestamp": 1653836899079,
     "user": {
      "displayName": "Omri Ram",
      "userId": "07837710711281572278"
     },
     "user_tz": -120
    },
    "id": "8v_8Y3eKRsz5",
    "outputId": "213a5ec1-c757-419e-a21a-0ce64cd39ca3"
   },
   "outputs": [
    {
     "name": "stdout",
     "output_type": "stream",
     "text": [
      "Test loss: 1.1161861005036724;\n",
      "Test Accuracy: 58.95040760869565\n"
     ]
    }
   ],
   "source": [
    "test_model( ff_classifier_short_glove, dataset_short_desc,\n",
    "            make_train_state(feed_forward_args), feed_forward_args,\n",
    "          nn.BCEWithLogitsLoss(), BCE= True)"
   ]
  },
  {
   "cell_type": "markdown",
   "metadata": {
    "id": "XhqwNsvjRsz5"
   },
   "source": [
    "### Word2Vec"
   ]
  },
  {
   "cell_type": "markdown",
   "metadata": {
    "id": "DXXicvEwRsz5"
   },
   "source": [
    "##### Training"
   ]
  },
  {
   "cell_type": "code",
   "execution_count": 52,
   "metadata": {
    "colab": {
     "base_uri": "https://localhost:8080/"
    },
    "executionInfo": {
     "elapsed": 2017,
     "status": "ok",
     "timestamp": 1653836904709,
     "user": {
      "displayName": "Omri Ram",
      "userId": "07837710711281572278"
     },
     "user_tz": -120
    },
    "id": "lzuGQayARsz5",
    "outputId": "a34a2e8f-012e-4da6-ca9a-0f3742b76d35"
   },
   "outputs": [
    {
     "name": "stdout",
     "output_type": "stream",
     "text": [
      "Shuffling words ...\n",
      "Putting 10000 words into word2Ind and matrix M...\n",
      "Done.\n"
     ]
    }
   ],
   "source": [
    "w2v_M, w2v_key_to_index = get_matrix_of_vectors(word2vec_model, words)\n"
   ]
  },
  {
   "cell_type": "code",
   "execution_count": 54,
   "metadata": {
    "colab": {
     "base_uri": "https://localhost:8080/",
     "height": 131,
     "referenced_widgets": [
      "cc33b6c3673346a88f2bc3ff9530d061",
      "f4a5e432a0304307802021601cf56d0a",
      "e57e0ede419e4c0394c09de2b6030570",
      "5d7de74b34cf46b9a2718bac909c310d",
      "34e14b0b489244bf9a847221f443b408",
      "a2de02eb6fbd40d1a2f697d15e67f54f",
      "0a86931b801b4bd4bc4c3d606a00ba93",
      "a6d66faf0ac94ef493654714ba34890a",
      "cbfe670132b049dda112e5259f09dfa9",
      "20d2dc0dbeae49809d75e27216198735",
      "c7839db74ae741b486842c7034e9a7c3",
      "c53777df505340b78a0c90d0f0d3e841",
      "ea589957eead4bd2b9ed7687213c575b",
      "797f4fdddac04f9786c3a2779468a8a2",
      "2d6566a454df45c8a7f701fe9920acf2",
      "a56d10014d2943e282280105f5cdc1d7",
      "b2772eea78ba4861aad8e746b230a2fa",
      "58b84cf41e0e4378bfa64c616cc1d070",
      "42d17dff48d64d24aeddbc3cac3aa2f4",
      "b22798a8c3ce409184d21cf6a2088e43",
      "af017a34be5540b9a6fd21fab2a744a0",
      "3c9c00abca7f42a4acc6fee6eecf5a6b",
      "591e5168d8b542ec80fa81dfb9858953",
      "9b11dce828034cf7986c0c3f6ffe6a38",
      "7a2d6cbba2394f43a69f3a7b315fad50",
      "41c8bb6f8f6b46ccbd6ed1a103359272",
      "b5bb60d6c6bc43d79576d58b9ec2ae2b",
      "b93dd14694cc4b51a9740603ae2dd210",
      "6265cb40f3124424ad156c20d13b93b2",
      "b3c6226d502345f9858c14f8454501b1",
      "779c6e0efbd14fa394b71030ede402a2",
      "380ea13695884c65ba7b0694f09ea1ee",
      "915961b3911341749c3153f7f5189d40"
     ]
    },
    "executionInfo": {
     "elapsed": 3161,
     "status": "ok",
     "timestamp": 1653836907862,
     "user": {
      "displayName": "Omri Ram",
      "userId": "07837710711281572278"
     },
     "user_tz": -120
    },
    "id": "_f319NMsRsz6",
    "outputId": "ba16959c-835d-4866-c9ac-f4329de1cbdd"
   },
   "outputs": [],
   "source": [
    "word2vec_embeddings = make_embedding_matrix(w2v_M,\n",
    "                                            w2v_key_to_index, words = words)\n",
    "feed_forward_args.input_size = dataset_short_desc._max_seq_length\n",
    "feed_forward_args.vocab_size = word2vec_embeddings.shape[0]\n",
    "feed_forward_args.embedding_dim = word2vec_embeddings.shape[1]\n",
    "feed_forward_args.save_dir = script_dir + '/model_storage/feed_forward/word2vec_feed_forward.pth'\n",
    "# model\n",
    "ff_classifier_short_word2vec = Classifier_feed_forward(embedding_size=feed_forward_args.embedding_dim, \n",
    "                            num_embeddings=len(vectorizer.description_vocab),\n",
    "                            hidden_dim=feed_forward_args.hidden_dim, \n",
    "                            input_size = feed_forward_args.input_size,\n",
    "                            dropout_p=feed_forward_args.dropout_p,\n",
    "                            pretrained_embeddings=word2vec_embeddings)\n",
    "\n",
    "if feed_forward_args.load_model:\n",
    "    ff_classifier_short_word2vec.load_state_dict(torch.load(feed_forward_args.save_dir, map_location=feed_forward_args.device))\n",
    "else:\n",
    "    ff_classifier_short_word2vec, word2vec_train_state = train_model(classifier=ff_classifier_short_word2vec,\n",
    "                                                          dataset=dataset_short_desc, args = feed_forward_args,\n",
    "                                                         loss_func=nn.BCEWithLogitsLoss(), BCE = True)\n",
    "    torch.save(ff_classifier_short_word2vec.state_dict(), feed_forward_args.save_dir)"
   ]
  },
  {
   "cell_type": "markdown",
   "metadata": {
    "id": "JoE81kn8Rsz6"
   },
   "source": [
    "##### Testing"
   ]
  },
  {
   "cell_type": "code",
   "execution_count": 55,
   "metadata": {
    "colab": {
     "base_uri": "https://localhost:8080/",
     "height": 353
    },
    "executionInfo": {
     "elapsed": 5,
     "status": "error",
     "timestamp": 1653836908321,
     "user": {
      "displayName": "Omri Ram",
      "userId": "07837710711281572278"
     },
     "user_tz": -120
    },
    "id": "9YTw9YHmRsz6",
    "outputId": "32babbc1-f222-43b7-a13e-b35110ed5df8"
   },
   "outputs": [
    {
     "name": "stdout",
     "output_type": "stream",
     "text": [
      "Test loss: 1.086538288904273;\n",
      "Test Accuracy: 56.14809782608696\n"
     ]
    }
   ],
   "source": [
    "test_model( ff_classifier_short_word2vec, dataset_short_desc,\n",
    "            make_train_state(feed_forward_args), feed_forward_args,\n",
    "          nn.BCEWithLogitsLoss(), BCE= True)"
   ]
  },
  {
   "cell_type": "markdown",
   "metadata": {
    "id": "_-u-D4JrEdRz"
   },
   "source": [
    "## Classifying job type using a CNN binary classifier"
   ]
  },
  {
   "cell_type": "markdown",
   "metadata": {
    "id": "ippECUt7EdR0"
   },
   "source": [
    "Here some arguments are defined to be used while training the cnn model. The cnn architecture was borrowed from lab 9 and was repurposed for binary classification."
   ]
  },
  {
   "cell_type": "code",
   "execution_count": 56,
   "metadata": {
    "colab": {
     "base_uri": "https://localhost:8080/"
    },
    "executionInfo": {
     "elapsed": 339,
     "status": "ok",
     "timestamp": 1653836912887,
     "user": {
      "displayName": "Omri Ram",
      "userId": "07837710711281572278"
     },
     "user_tz": -120
    },
    "id": "8qvhyIrvEdR0",
    "outputId": "2479f840-9d40-4fa4-c100-9d13078ded12"
   },
   "outputs": [
    {
     "name": "stdout",
     "output_type": "stream",
     "text": [
      "Using CUDA: False\n"
     ]
    }
   ],
   "source": [
    "cnn_args = Namespace(\n",
    "    num_epochs=100, \n",
    "    early_stopping_criteria=2, # The model tends to overfit very quickly\n",
    "    learning_rate=0.001, \n",
    "    dropout_p=0.5, \n",
    "    batch_size=50, \n",
    "    cuda=True, \n",
    "    catch_keyboard_interrupt=True, \n",
    "    model_state_file=script_dir + \"/model_storage/cnn/cnn_model.pth\",\n",
    "    embedding_size = 100,\n",
    "    num_channels = 50,\n",
    "    hidden_dim = 200,\n",
    "    load_models = True # Change to false to run the training on all the cnn models\n",
    ")\n",
    "# Check CUDA\n",
    "if not torch.cuda.is_available():\n",
    "    cnn_args.cuda = False\n",
    "    \n",
    "cnn_args.device = torch.device(\"cuda\" if cnn_args.cuda else \"cpu\")\n",
    "print(\"Using CUDA: {}\".format(cnn_args.cuda))"
   ]
  },
  {
   "cell_type": "code",
   "execution_count": 57,
   "metadata": {
    "executionInfo": {
     "elapsed": 1181,
     "status": "ok",
     "timestamp": 1653836915801,
     "user": {
      "displayName": "Omri Ram",
      "userId": "07837710711281572278"
     },
     "user_tz": -120
    },
    "id": "yw8EEcfzEdR0"
   },
   "outputs": [],
   "source": [
    "dataset_short_desc = Dataset.load_df_and_make_vectorizer(df, short = True)\n",
    "dataset_long_desc = Dataset.load_df_and_make_vectorizer(df, short = False)\n",
    "dataloader_short_desc = DataLoader(dataset=dataset_short_desc, batch_size=cnn_args.batch_size,\n",
    "                            shuffle=True, drop_last=True)\n",
    "dataloader_long_desc = DataLoader(dataset=dataset_long_desc, batch_size=cnn_args.batch_size,\n",
    "                            shuffle=True, drop_last=True)\n"
   ]
  },
  {
   "cell_type": "code",
   "execution_count": 58,
   "metadata": {
    "executionInfo": {
     "elapsed": 3,
     "status": "ok",
     "timestamp": 1653836924328,
     "user": {
      "displayName": "Omri Ram",
      "userId": "07837710711281572278"
     },
     "user_tz": -120
    },
    "id": "oRak4umVEdR0"
   },
   "outputs": [],
   "source": [
    "class CNNClassifier(nn.Module):\n",
    "    def __init__(self, embedding_size, num_embeddings, num_channels, hidden_dim,\n",
    "     dropout_p, pretrained_embeddings = None, padding_idx = 0):\n",
    "        \"\"\"\n",
    "        Args:\n",
    "            embedding_size (int): size of the embedding vectors\n",
    "            num_embeddings (int): number of embedding vectors\n",
    "            filter_width (int): width of the convolutional kernels\n",
    "            num_channels (int): number of convolutional kernels per layer\n",
    "            hidden_dim (int): the size of the hidden dimension\n",
    "            num_classes (int): the number of classes in classification\n",
    "            dropout_p (float): a dropout parameter \n",
    "            pretrained_embeddings (numpy.array): previously trained word embeddings\n",
    "                default is None. If provided, \n",
    "            padding_idx (int): an index representing a null position\n",
    "        \"\"\"\n",
    "        super(CNNClassifier, self).__init__()\n",
    "\n",
    "        if pretrained_embeddings is None:\n",
    "            self.emb = nn.Embedding(embedding_dim = embedding_size, num_embeddings=num_embeddings, padding_idx=padding_idx)\n",
    "        else:\n",
    "            pretrained_embeddings = torch.from_numpy(pretrained_embeddings)\n",
    "            self.emb = nn.Embedding(embedding_dim=embedding_size,\n",
    "                                    num_embeddings=num_embeddings,\n",
    "                                    padding_idx=padding_idx,\n",
    "                                    _weight=pretrained_embeddings)\n",
    "            \n",
    "        self.convnet = nn.Sequential(nn.Conv1d(in_channels=embedding_size, \n",
    "                   out_channels=num_channels, kernel_size=3),\n",
    "                   nn.ELU(),\n",
    "            nn.Conv1d(in_channels=num_channels, out_channels=num_channels, \n",
    "                   kernel_size=3, stride=1),\n",
    "                  nn.ELU(),\n",
    "            nn.Conv1d(in_channels=num_channels, out_channels=num_channels, \n",
    "                   kernel_size=3, stride=2),\n",
    "            nn.ELU())\n",
    "        self._dropout_p = dropout_p\n",
    "        self.fc1 = nn.Linear(num_channels, hidden_dim)\n",
    "        self.fc2 = nn.Linear(hidden_dim, out_features = 1)\n",
    "    def forward(self, x_in, apply_sigmoid=False):\n",
    "        \"\"\"The forward pass of the classifier\n",
    "        \n",
    "        Args:\n",
    "            x_in (torch.Tensor): an input data tensor. \n",
    "                x_in.shape should be (batch, dataset._max_seq_length)\n",
    "            apply_sigmoid (bool): a flag for the sigmoid activation\n",
    "                should be false if used with the Cross Entropy losses\n",
    "        Returns:\n",
    "            the resulting tensor. tensor.shape should be (batch, num_classes)\n",
    "        \"\"\"\n",
    "        \n",
    "        # embed and permute so features are channels\n",
    "        x_embedded = self.emb(x_in).permute(0, 2, 1)\n",
    "\n",
    "        features = self.convnet(x_embedded)\n",
    "\n",
    "        # average and remove the extra dimension\n",
    "        remaining_size = features.size(dim=2)\n",
    "    \n",
    "        features = F.avg_pool1d(features, remaining_size).squeeze(dim=2)\n",
    "        features = F.dropout(features, p=self._dropout_p)\n",
    "        \n",
    "        # mlp classifier\n",
    "        intermediate_vector = F.relu(F.dropout(self.fc1(features), p=self._dropout_p))\n",
    "        prediction_vector = self.fc2(intermediate_vector).squeeze()\n",
    "\n",
    "        if apply_sigmoid:\n",
    "            prediction_vector = F.sigmoid(prediction_vector)\n",
    "        return prediction_vector\n"
   ]
  },
  {
   "cell_type": "markdown",
   "metadata": {
    "id": "c_kZiStYEdR1"
   },
   "source": [
    "### Training the CNN on the domain specific word2vec model"
   ]
  },
  {
   "cell_type": "markdown",
   "metadata": {
    "id": "gsQcSRy2EdR1"
   },
   "source": [
    "In order to explore the effectiveness of the three vectorization methods employed in this assignment, the cnn model will be trained using each of them when deriving the embeddings while using the short description column to train a baseline model."
   ]
  },
  {
   "cell_type": "markdown",
   "metadata": {
    "id": "Pvr44O7FEdR1"
   },
   "source": [
    "#### Baseline model trained on the short descriptions"
   ]
  },
  {
   "cell_type": "code",
   "execution_count": 59,
   "metadata": {
    "colab": {
     "base_uri": "https://localhost:8080/"
    },
    "executionInfo": {
     "elapsed": 13,
     "status": "ok",
     "timestamp": 1653836924860,
     "user": {
      "displayName": "Omri Ram",
      "userId": "07837710711281572278"
     },
     "user_tz": -120
    },
    "id": "Eg7LM5fcEdR1",
    "outputId": "2fad4742-e84d-4361-9316-773a4bb89226"
   },
   "outputs": [
    {
     "ename": "RuntimeError",
     "evalue": "Error(s) in loading state_dict for CNNClassifier:\n\tsize mismatch for emb.weight: copying a param with shape torch.Size([2123, 100]) from checkpoint, the shape in current model is torch.Size([6746, 100]).",
     "output_type": "error",
     "traceback": [
      "\u001b[0;31m---------------------------------------------------------------------------\u001b[0m",
      "\u001b[0;31mRuntimeError\u001b[0m                              Traceback (most recent call last)",
      "\u001b[1;32m/Users/omriram/Desktop/U/cits4012/cits4012_project2/job_type_classification.ipynb Cell 62'\u001b[0m in \u001b[0;36m<cell line: 16>\u001b[0;34m()\u001b[0m\n\u001b[1;32m     <a href='vscode-notebook-cell:/Users/omriram/Desktop/U/cits4012/cits4012_project2/job_type_classification.ipynb#ch0000061?line=17'>18</a>\u001b[0m       \u001b[39mprint\u001b[39m(test_model(\n\u001b[1;32m     <a href='vscode-notebook-cell:/Users/omriram/Desktop/U/cits4012/cits4012_project2/job_type_classification.ipynb#ch0000061?line=18'>19</a>\u001b[0m         cnn_classifier_short_word2vec, \n\u001b[1;32m     <a href='vscode-notebook-cell:/Users/omriram/Desktop/U/cits4012/cits4012_project2/job_type_classification.ipynb#ch0000061?line=19'>20</a>\u001b[0m         dataset\u001b[39m=\u001b[39m dataset_short_desc, \n\u001b[0;32m   (...)\u001b[0m\n\u001b[1;32m     <a href='vscode-notebook-cell:/Users/omriram/Desktop/U/cits4012/cits4012_project2/job_type_classification.ipynb#ch0000061?line=22'>23</a>\u001b[0m         loss_func\u001b[39m=\u001b[39mloss_func, \n\u001b[1;32m     <a href='vscode-notebook-cell:/Users/omriram/Desktop/U/cits4012/cits4012_project2/job_type_classification.ipynb#ch0000061?line=23'>24</a>\u001b[0m         BCE\u001b[39m=\u001b[39m\u001b[39mTrue\u001b[39;00m))\n\u001b[1;32m     <a href='vscode-notebook-cell:/Users/omriram/Desktop/U/cits4012/cits4012_project2/job_type_classification.ipynb#ch0000061?line=24'>25</a>\u001b[0m \u001b[39melse\u001b[39;00m:\n\u001b[0;32m---> <a href='vscode-notebook-cell:/Users/omriram/Desktop/U/cits4012/cits4012_project2/job_type_classification.ipynb#ch0000061?line=25'>26</a>\u001b[0m      cnn_classifier_short_word2vec\u001b[39m.\u001b[39;49mload_state_dict(state_dict\u001b[39m=\u001b[39;49mtorch\u001b[39m.\u001b[39;49mload(cnn_args\u001b[39m.\u001b[39;49mmodel_state_file))\n\u001b[1;32m     <a href='vscode-notebook-cell:/Users/omriram/Desktop/U/cits4012/cits4012_project2/job_type_classification.ipynb#ch0000061?line=26'>27</a>\u001b[0m cnn_classifier_short_word2vec\n",
      "File \u001b[0;32m~/Desktop/U/Cits4012/cits4012_environment/lib/python3.9/site-packages/torch/nn/modules/module.py:1497\u001b[0m, in \u001b[0;36mModule.load_state_dict\u001b[0;34m(self, state_dict, strict)\u001b[0m\n\u001b[1;32m   <a href='file:///Users/omriram/Desktop/U/Cits4012/cits4012_environment/lib/python3.9/site-packages/torch/nn/modules/module.py?line=1491'>1492</a>\u001b[0m         error_msgs\u001b[39m.\u001b[39minsert(\n\u001b[1;32m   <a href='file:///Users/omriram/Desktop/U/Cits4012/cits4012_environment/lib/python3.9/site-packages/torch/nn/modules/module.py?line=1492'>1493</a>\u001b[0m             \u001b[39m0\u001b[39m, \u001b[39m'\u001b[39m\u001b[39mMissing key(s) in state_dict: \u001b[39m\u001b[39m{}\u001b[39;00m\u001b[39m. \u001b[39m\u001b[39m'\u001b[39m\u001b[39m.\u001b[39mformat(\n\u001b[1;32m   <a href='file:///Users/omriram/Desktop/U/Cits4012/cits4012_environment/lib/python3.9/site-packages/torch/nn/modules/module.py?line=1493'>1494</a>\u001b[0m                 \u001b[39m'\u001b[39m\u001b[39m, \u001b[39m\u001b[39m'\u001b[39m\u001b[39m.\u001b[39mjoin(\u001b[39m'\u001b[39m\u001b[39m\"\u001b[39m\u001b[39m{}\u001b[39;00m\u001b[39m\"\u001b[39m\u001b[39m'\u001b[39m\u001b[39m.\u001b[39mformat(k) \u001b[39mfor\u001b[39;00m k \u001b[39min\u001b[39;00m missing_keys)))\n\u001b[1;32m   <a href='file:///Users/omriram/Desktop/U/Cits4012/cits4012_environment/lib/python3.9/site-packages/torch/nn/modules/module.py?line=1495'>1496</a>\u001b[0m \u001b[39mif\u001b[39;00m \u001b[39mlen\u001b[39m(error_msgs) \u001b[39m>\u001b[39m \u001b[39m0\u001b[39m:\n\u001b[0;32m-> <a href='file:///Users/omriram/Desktop/U/Cits4012/cits4012_environment/lib/python3.9/site-packages/torch/nn/modules/module.py?line=1496'>1497</a>\u001b[0m     \u001b[39mraise\u001b[39;00m \u001b[39mRuntimeError\u001b[39;00m(\u001b[39m'\u001b[39m\u001b[39mError(s) in loading state_dict for \u001b[39m\u001b[39m{}\u001b[39;00m\u001b[39m:\u001b[39m\u001b[39m\\n\u001b[39;00m\u001b[39m\\t\u001b[39;00m\u001b[39m{}\u001b[39;00m\u001b[39m'\u001b[39m\u001b[39m.\u001b[39mformat(\n\u001b[1;32m   <a href='file:///Users/omriram/Desktop/U/Cits4012/cits4012_environment/lib/python3.9/site-packages/torch/nn/modules/module.py?line=1497'>1498</a>\u001b[0m                        \u001b[39mself\u001b[39m\u001b[39m.\u001b[39m\u001b[39m__class__\u001b[39m\u001b[39m.\u001b[39m\u001b[39m__name__\u001b[39m, \u001b[39m\"\u001b[39m\u001b[39m\\n\u001b[39;00m\u001b[39m\\t\u001b[39;00m\u001b[39m\"\u001b[39m\u001b[39m.\u001b[39mjoin(error_msgs)))\n\u001b[1;32m   <a href='file:///Users/omriram/Desktop/U/Cits4012/cits4012_environment/lib/python3.9/site-packages/torch/nn/modules/module.py?line=1498'>1499</a>\u001b[0m \u001b[39mreturn\u001b[39;00m _IncompatibleKeys(missing_keys, unexpected_keys)\n",
      "\u001b[0;31mRuntimeError\u001b[0m: Error(s) in loading state_dict for CNNClassifier:\n\tsize mismatch for emb.weight: copying a param with shape torch.Size([2123, 100]) from checkpoint, the shape in current model is torch.Size([6746, 100])."
     ]
    }
   ],
   "source": [
    "cnn_args.model_state_file = script_dir + '/model_storage/cnn/cnn_short_word2vec.pth'\n",
    "words = vectorizer_short_desc.description_vocab._token_to_idx.keys()\n",
    "word_to_idx = {word: idx for idx, word in enumerate(word2vec_model.index_to_key)}\n",
    "embeddings = make_embedding_matrix(word2vec_model.vectors, word_to_idx, words = words)\n",
    "\n",
    "cnn_classifier_short_word2vec = CNNClassifier(embedding_size=embeddings.shape[1], \n",
    "                            num_embeddings=len(vectorizer_short_desc.description_vocab),\n",
    "                            num_channels=cnn_args.num_channels,\n",
    "                            hidden_dim=cnn_args.hidden_dim,  \n",
    "                            dropout_p=cnn_args.dropout_p,\n",
    "                            pretrained_embeddings=embeddings,\n",
    "                            padding_idx=0)\n",
    "loss_func = nn.BCEWithLogitsLoss()\n",
    "\n",
    "# train or load the model \n",
    "if cnn_args.load_models == False:\n",
    "      cnn_classifier_short_word2vec, train_state = train_model(cnn_classifier_short_word2vec, dataset_short_desc, cnn_args, loss_func, BCE=True)\n",
    "      print(test_model(\n",
    "        cnn_classifier_short_word2vec, \n",
    "        dataset= dataset_short_desc, \n",
    "        train_state= train_state, \n",
    "        args = cnn_args,\n",
    "        loss_func=loss_func, \n",
    "        BCE=True))\n",
    "else:\n",
    "     cnn_classifier_short_word2vec.load_state_dict(state_dict=torch.load(cnn_args.model_state_file))\n",
    "cnn_classifier_short_word2vec"
   ]
  },
  {
   "cell_type": "markdown",
   "metadata": {
    "id": "8kpjAepKEdR2"
   },
   "source": [
    "#### Full description model with word2vec embeddings"
   ]
  },
  {
   "cell_type": "code",
   "execution_count": null,
   "metadata": {
    "colab": {
     "base_uri": "https://localhost:8080/"
    },
    "executionInfo": {
     "elapsed": 12,
     "status": "ok",
     "timestamp": 1653836924861,
     "user": {
      "displayName": "Omri Ram",
      "userId": "07837710711281572278"
     },
     "user_tz": -120
    },
    "id": "kGFqDHbREdR2",
    "outputId": "ce852c01-3c95-4f7f-a983-14785f0cb695"
   },
   "outputs": [
    {
     "data": {
      "application/vnd.jupyter.widget-view+json": {
       "model_id": "669e2968875c45a6be9ad003129e9de2",
       "version_major": 2,
       "version_minor": 0
      },
      "text/plain": [
       "training routine:   0%|          | 0/100 [00:00<?, ?it/s]"
      ]
     },
     "metadata": {},
     "output_type": "display_data"
    },
    {
     "data": {
      "application/vnd.jupyter.widget-view+json": {
       "model_id": "a14de97bf5544f5c87602654fb673d0a",
       "version_major": 2,
       "version_minor": 0
      },
      "text/plain": [
       "split=train:   0%|          | 0/83 [00:00<?, ?it/s]"
      ]
     },
     "metadata": {},
     "output_type": "display_data"
    },
    {
     "data": {
      "application/vnd.jupyter.widget-view+json": {
       "model_id": "490a67588be6496c83e0d67d1425b903",
       "version_major": 2,
       "version_minor": 0
      },
      "text/plain": [
       "split=val:   0%|          | 0/12 [00:00<?, ?it/s]"
      ]
     },
     "metadata": {},
     "output_type": "display_data"
    },
    {
     "name": "stderr",
     "output_type": "stream",
     "text": [
      "[E thread_pool.cpp:113] Exception in thread pool task: mutex lock failed: Invalid argument\n",
      "[E thread_pool.cpp:113] Exception in thread pool task: mutex lock failed: Invalid argument\n",
      "[E thread_pool.cpp:113] Exception in thread pool task: mutex lock failed: Invalid argument\n"
     ]
    },
    {
     "name": "stdout",
     "output_type": "stream",
     "text": [
      "Exiting loop\n",
      "Test loss: 0.463386762401332;\n",
      "Test Accuracy: 78.95652173913045\n",
      "None\n"
     ]
    },
    {
     "data": {
      "text/plain": [
       "CNNClassifier(\n",
       "  (emb): Embedding(2123, 100, padding_idx=0)\n",
       "  (convnet): Sequential(\n",
       "    (0): Conv1d(100, 50, kernel_size=(3,), stride=(1,))\n",
       "    (1): ELU(alpha=1.0)\n",
       "    (2): Conv1d(50, 50, kernel_size=(3,), stride=(1,))\n",
       "    (3): ELU(alpha=1.0)\n",
       "    (4): Conv1d(50, 50, kernel_size=(3,), stride=(2,))\n",
       "    (5): ELU(alpha=1.0)\n",
       "  )\n",
       "  (fc1): Linear(in_features=50, out_features=200, bias=True)\n",
       "  (fc2): Linear(in_features=200, out_features=1, bias=True)\n",
       ")"
      ]
     },
     "execution_count": 75,
     "metadata": {},
     "output_type": "execute_result"
    }
   ],
   "source": [
    "cnn_args.model_state_file = script_dir + '/model_storage/cnn/cnn_long_word2vec.pth'\n",
    "words = vectorizer_long_desc.description_vocab._token_to_idx.keys()\n",
    "word_to_idx = {word: idx for idx, word in enumerate(word2vec_model.index_to_key)} # may need to change to key_to_index\n",
    "embeddings = make_embedding_matrix(word2vec_model.vectors, word_to_idx, words = words)\n",
    "\n",
    "cnn_classifier_long_word2vec = CNNClassifier(embedding_size=embeddings.shape[1], \n",
    "                                num_embeddings=len(vectorizer_long_desc.description_vocab),\n",
    "                                num_channels=cnn_args.num_channels,\n",
    "                                hidden_dim=cnn_args.hidden_dim,  \n",
    "                                dropout_p=cnn_args.dropout_p,\n",
    "                                pretrained_embeddings=embeddings,\n",
    "                                padding_idx=0)\n",
    "loss_func = nn.BCEWithLogitsLoss()\n",
    "\n",
    "\n",
    "if cnn_args.load_models == False:\n",
    "    cnn_classifier_long_word2vec, train_state = train_model(cnn_classifier_long_word2vec, dataset_long_desc, cnn_args, loss_func, BCE=True)\n",
    "    print(test_model(\n",
    "      cnn_classifier_long_word2vec, \n",
    "      dataset= dataset_long_desc, \n",
    "      train_state= train_state, \n",
    "      args = cnn_args,\n",
    "      loss_func=loss_func, \n",
    "      BCE=True))\n",
    "else:\n",
    "    cnn_classifier_long_word2vec.load_state_dict(state_dict=torch.load(cnn_args.model_state_file))\n",
    "\n",
    "cnn_classifier_long_word2vec"
   ]
  },
  {
   "cell_type": "markdown",
   "metadata": {
    "id": "Lc7wt2nfEdR2"
   },
   "source": [
    "### Training the CNN classifier using GLOVE embeddings"
   ]
  },
  {
   "cell_type": "markdown",
   "metadata": {
    "id": "8bspJwfXEdR3"
   },
   "source": [
    "#### Baseline model with glove embeddings"
   ]
  },
  {
   "cell_type": "code",
   "execution_count": null,
   "metadata": {
    "colab": {
     "base_uri": "https://localhost:8080/"
    },
    "executionInfo": {
     "elapsed": 10,
     "status": "ok",
     "timestamp": 1653836924862,
     "user": {
      "displayName": "Omri Ram",
      "userId": "07837710711281572278"
     },
     "user_tz": -120
    },
    "id": "DxtULlg4EdR3",
    "outputId": "4190a89a-e239-46c7-d8d2-8c19fc3da136"
   },
   "outputs": [
    {
     "data": {
      "application/vnd.jupyter.widget-view+json": {
       "model_id": "ac7c2bea8eed4d0c8809400539a82fb4",
       "version_major": 2,
       "version_minor": 0
      },
      "text/plain": [
       "training routine:   0%|          | 0/100 [00:00<?, ?it/s]"
      ]
     },
     "metadata": {},
     "output_type": "display_data"
    },
    {
     "data": {
      "application/vnd.jupyter.widget-view+json": {
       "model_id": "6a3de812179b4d43aaa51eddbfcc68e9",
       "version_major": 2,
       "version_minor": 0
      },
      "text/plain": [
       "split=train:   0%|          | 0/83 [00:00<?, ?it/s]"
      ]
     },
     "metadata": {},
     "output_type": "display_data"
    },
    {
     "data": {
      "application/vnd.jupyter.widget-view+json": {
       "model_id": "65d31b4869354aa9b3d5dc65dfd2828b",
       "version_major": 2,
       "version_minor": 0
      },
      "text/plain": [
       "split=val:   0%|          | 0/12 [00:00<?, ?it/s]"
      ]
     },
     "metadata": {},
     "output_type": "display_data"
    },
    {
     "name": "stdout",
     "output_type": "stream",
     "text": [
      "Test loss: 0.7386139566483704;\n",
      "Test Accuracy: 68.69565217391303\n",
      "None\n"
     ]
    },
    {
     "data": {
      "text/plain": [
       "CNNClassifier(\n",
       "  (emb): Embedding(2123, 100, padding_idx=0)\n",
       "  (convnet): Sequential(\n",
       "    (0): Conv1d(100, 50, kernel_size=(3,), stride=(1,))\n",
       "    (1): ELU(alpha=1.0)\n",
       "    (2): Conv1d(50, 50, kernel_size=(3,), stride=(1,))\n",
       "    (3): ELU(alpha=1.0)\n",
       "    (4): Conv1d(50, 50, kernel_size=(3,), stride=(2,))\n",
       "    (5): ELU(alpha=1.0)\n",
       "  )\n",
       "  (fc1): Linear(in_features=50, out_features=200, bias=True)\n",
       "  (fc2): Linear(in_features=200, out_features=1, bias=True)\n",
       ")"
      ]
     },
     "execution_count": 76,
     "metadata": {},
     "output_type": "execute_result"
    }
   ],
   "source": [
    "cnn_args.model_state_file = script_dir + '/model_storage/cnn/cnn_short_glove.pth'\n",
    "words = vectorizer_short_desc.description_vocab._token_to_idx.keys()\n",
    "word_to_idx = {word: idx for idx, word in enumerate(glove_model.index_to_key)} # index_to_key\n",
    "embeddings = make_embedding_matrix(glove_model.vectors, word_to_idx, words = words)\n",
    "\n",
    "cnn_classifier_short_glove = CNNClassifier(embedding_size=embeddings.shape[1], \n",
    "                            num_embeddings=len(vectorizer_short_desc.description_vocab),\n",
    "                            num_channels=cnn_args.num_channels,\n",
    "                            hidden_dim=cnn_args.hidden_dim,  \n",
    "                            dropout_p=cnn_args.dropout_p,\n",
    "                            pretrained_embeddings=embeddings,\n",
    "                            padding_idx=0)\n",
    "loss_func = nn.BCEWithLogitsLoss()\n",
    "\n",
    "if cnn_args.load_models == False:\n",
    "    cnn_classifier_short_glove, train_state = train_model(cnn_classifier_short_glove, dataset_short_desc, cnn_args, loss_func, BCE=True)\n",
    "    print(test_model(\n",
    "    cnn_classifier_short_glove, \n",
    "    dataset= dataset_short_desc, \n",
    "    train_state= train_state, \n",
    "    args = cnn_args,\n",
    "    loss_func=loss_func, \n",
    "    BCE=True))\n",
    "else:\n",
    "    cnn_classifier_short_glove.load_state_dict(state_dict=torch.load(cnn_args.model_state_file))\n",
    "cnn_classifier_short_glove"
   ]
  },
  {
   "cell_type": "markdown",
   "metadata": {
    "id": "FFXFJMkQEdR4"
   },
   "source": [
    "#### Full description model with glove embeddings"
   ]
  },
  {
   "cell_type": "code",
   "execution_count": null,
   "metadata": {
    "colab": {
     "base_uri": "https://localhost:8080/"
    },
    "executionInfo": {
     "elapsed": 8,
     "status": "ok",
     "timestamp": 1653836924862,
     "user": {
      "displayName": "Omri Ram",
      "userId": "07837710711281572278"
     },
     "user_tz": -120
    },
    "id": "V87WoBfKEdR4",
    "outputId": "98cb1bc0-e5e7-4a6a-873d-4e7510cf9dd9"
   },
   "outputs": [
    {
     "data": {
      "application/vnd.jupyter.widget-view+json": {
       "model_id": "b0cdf4f864c64147b3ccccfb10b8405d",
       "version_major": 2,
       "version_minor": 0
      },
      "text/plain": [
       "training routine:   0%|          | 0/100 [00:00<?, ?it/s]"
      ]
     },
     "metadata": {},
     "output_type": "display_data"
    },
    {
     "data": {
      "application/vnd.jupyter.widget-view+json": {
       "model_id": "b4a154393e4648a4b39abb89bd56aa7b",
       "version_major": 2,
       "version_minor": 0
      },
      "text/plain": [
       "split=train:   0%|          | 0/83 [00:00<?, ?it/s]"
      ]
     },
     "metadata": {},
     "output_type": "display_data"
    },
    {
     "data": {
      "application/vnd.jupyter.widget-view+json": {
       "model_id": "d5d89e8d443948599f2e5b07ffe3eaf6",
       "version_major": 2,
       "version_minor": 0
      },
      "text/plain": [
       "split=val:   0%|          | 0/12 [00:00<?, ?it/s]"
      ]
     },
     "metadata": {},
     "output_type": "display_data"
    }
   ],
   "source": [
    "cnn_args.model_state_file = script_dir + '/model_storage/cnn/cnn_long_glove.pth'\n",
    "words = vectorizer_long_desc.description_vocab._token_to_idx.keys()\n",
    "word_to_idx = {word: idx for idx, word in enumerate(glove_model.index_to_key)} # index_to_key\n",
    "embeddings = make_embedding_matrix(glove_model.vectors, word_to_idx, words = words)\n",
    "\n",
    "cnn_classifier_long_glove = CNNClassifier(embedding_size=embeddings.shape[1], \n",
    "                            num_embeddings=len(vectorizer_long_desc.description_vocab),\n",
    "                            num_channels=cnn_args.num_channels,\n",
    "                            hidden_dim=cnn_args.hidden_dim,  \n",
    "                            dropout_p=cnn_args.dropout_p,\n",
    "                            pretrained_embeddings=embeddings,\n",
    "                            padding_idx=0)\n",
    "loss_func = nn.BCEWithLogitsLoss()\n",
    "\n",
    "if cnn_args.load_models == False:\n",
    "    cnn_classifier_long_glove, train_state = train_model(cnn_classifier_long_glove, dataset_long_desc, cnn_args, loss_func, BCE=True)\n",
    "    test_model(\n",
    "    cnn_classifier_long_glove, \n",
    "    dataset= dataset_long_desc, \n",
    "    train_state= train_state, \n",
    "    args = cnn_args,\n",
    "    loss_func=loss_func, \n",
    "    BCE=True)\n",
    "else:\n",
    "    cnn_classifier_long_glove.load_state_dict(state_dict=torch.load(cnn_args.model_state_file))\n",
    "cnn_classifier_long_glove"
   ]
  },
  {
   "cell_type": "markdown",
   "metadata": {
    "id": "T_bJmMPCEdR4"
   },
   "source": [
    "### Training the cnn on one hot encoded dataset"
   ]
  },
  {
   "cell_type": "markdown",
   "metadata": {
    "id": "l58pUEJQEdR4"
   },
   "source": [
    "First create the one hot encoding vectorizer and the corresponding one hot embedding matrix"
   ]
  },
  {
   "cell_type": "code",
   "execution_count": null,
   "metadata": {
    "colab": {
     "base_uri": "https://localhost:8080/"
    },
    "executionInfo": {
     "elapsed": 4388,
     "status": "ok",
     "timestamp": 1653836929245,
     "user": {
      "displayName": "Omri Ram",
      "userId": "07837710711281572278"
     },
     "user_tz": -120
    },
    "id": "eIouIUprEdR5",
    "outputId": "aef60350-0a88-4092-f3b1-4cf613c891a1"
   },
   "outputs": [
    {
     "data": {
      "text/plain": [
       "array([[1., 0., 0., ..., 0., 0., 0.],\n",
       "       [1., 0., 0., ..., 0., 0., 0.],\n",
       "       [1., 0., 0., ..., 0., 0., 0.],\n",
       "       ...,\n",
       "       [1., 0., 0., ..., 0., 0., 0.],\n",
       "       [1., 0., 0., ..., 0., 0., 0.],\n",
       "       [1., 0., 0., ..., 0., 0., 0.]])"
      ]
     },
     "execution_count": 110,
     "metadata": {},
     "output_type": "execute_result"
    }
   ],
   "source": [
    "one_hot = One_hot_Vectorizer.from_dataframe(df, target_cat = False)\n",
    "words = one_hot.description_vocab._token_to_idx.keys()\n",
    "embeddings = make_one_hot_matrix(one_hot, words)\n",
    "cnn_args.onehot_shape = embeddings.shape\n",
    "embeddings"
   ]
  },
  {
   "cell_type": "markdown",
   "metadata": {
    "id": "WwisXGSOEdR5"
   },
   "source": [
    "#### Baseline one hot encoded classifier"
   ]
  },
  {
   "cell_type": "code",
   "execution_count": null,
   "metadata": {
    "colab": {
     "base_uri": "https://localhost:8080/"
    },
    "executionInfo": {
     "elapsed": 1299,
     "status": "ok",
     "timestamp": 1653836930532,
     "user": {
      "displayName": "Omri Ram",
      "userId": "07837710711281572278"
     },
     "user_tz": -120
    },
    "id": "wA_PXsxkEdR5",
    "outputId": "503824a5-16c3-45a0-dbac-dcce90556a46"
   },
   "outputs": [
    {
     "data": {
      "application/vnd.jupyter.widget-view+json": {
       "model_id": "dc02917c9917497f8a070f3346971e47",
       "version_major": 2,
       "version_minor": 0
      },
      "text/plain": [
       "training routine:   0%|          | 0/100 [00:00<?, ?it/s]"
      ]
     },
     "metadata": {},
     "output_type": "display_data"
    },
    {
     "data": {
      "application/vnd.jupyter.widget-view+json": {
       "model_id": "b0175a3125c9477886a8b70a26e37896",
       "version_major": 2,
       "version_minor": 0
      },
      "text/plain": [
       "split=train:   0%|          | 0/82 [00:00<?, ?it/s]"
      ]
     },
     "metadata": {},
     "output_type": "display_data"
    },
    {
     "data": {
      "application/vnd.jupyter.widget-view+json": {
       "model_id": "7f43abfafc1043859c75878d2611fa2e",
       "version_major": 2,
       "version_minor": 0
      },
      "text/plain": [
       "split=val:   0%|          | 0/12 [00:00<?, ?it/s]"
      ]
     },
     "metadata": {},
     "output_type": "display_data"
    },
    {
     "name": "stdout",
     "output_type": "stream",
     "text": [
      "Exiting loop\n",
      "Test loss: 0.8137197805487592;\n",
      "Test Accuracy: 68.52173913043478\n"
     ]
    },
    {
     "data": {
      "text/plain": [
       "CNNClassifier(\n",
       "  (emb): Embedding(4019, 4019, padding_idx=0)\n",
       "  (convnet): Sequential(\n",
       "    (0): Conv1d(4019, 50, kernel_size=(3,), stride=(1,))\n",
       "    (1): ELU(alpha=1.0)\n",
       "    (2): Conv1d(50, 50, kernel_size=(3,), stride=(1,))\n",
       "    (3): ELU(alpha=1.0)\n",
       "    (4): Conv1d(50, 50, kernel_size=(3,), stride=(2,))\n",
       "    (5): ELU(alpha=1.0)\n",
       "  )\n",
       "  (fc1): Linear(in_features=50, out_features=200, bias=True)\n",
       "  (fc2): Linear(in_features=200, out_features=1, bias=True)\n",
       ")"
      ]
     },
     "execution_count": 111,
     "metadata": {},
     "output_type": "execute_result"
    }
   ],
   "source": [
    "cnn_args.model_state_file = script_dir + '/model_storage/cnn/cnn_short_onehot.pth'\n",
    "cnn_classifier_short_one_hot = CNNClassifier(embedding_size=cnn_args.onehot_shape[1], \n",
    "                            num_embeddings=cnn_args.onehot_shape[0],\n",
    "                            num_channels=cnn_args.num_channels,\n",
    "                            hidden_dim=cnn_args.hidden_dim,  \n",
    "                            dropout_p=cnn_args.dropout_p,\n",
    "                            pretrained_embeddings=embeddings,\n",
    "                            padding_idx=0)\n",
    "loss_func = nn.BCEWithLogitsLoss()\n",
    "\n",
    "# train the model \n",
    "if cnn_args.load_models == False:\n",
    "    cnn_classifier_short_one_hot, train_state = train_model(cnn_classifier_short_one_hot, dataset_short_desc, cnn_args, loss_func= loss_func, BCE=True)\n",
    "    \n",
    "    test_model(\n",
    "    cnn_classifier_short_one_hot, \n",
    "    dataset= dataset_short_desc, \n",
    "    train_state= train_state, \n",
    "    args = cnn_args,\n",
    "    loss_func=loss_func, \n",
    "    BCE=True)\n",
    "else:\n",
    "  cnn_classifier_short_one_hot.load_state_dict(state_dict=torch.load(cnn_args.model_state_file))\n",
    "  cnn_classifier_short_one_hot\n",
    "cnn_classifier_short_one_hot"
   ]
  },
  {
   "cell_type": "markdown",
   "metadata": {
    "id": "aLHkStI_EdR5"
   },
   "source": [
    "#### Classifier on the full description"
   ]
  },
  {
   "cell_type": "code",
   "execution_count": null,
   "metadata": {
    "colab": {
     "base_uri": "https://localhost:8080/"
    },
    "executionInfo": {
     "elapsed": 4,
     "status": "ok",
     "timestamp": 1653836930532,
     "user": {
      "displayName": "Omri Ram",
      "userId": "07837710711281572278"
     },
     "user_tz": -120
    },
    "id": "2uk3A4JVEdR5",
    "outputId": "c965b521-b3c0-435e-b83f-f8d2367b9fd9"
   },
   "outputs": [
    {
     "data": {
      "application/vnd.jupyter.widget-view+json": {
       "model_id": "458e6043ee4f4ce4b66a7d36efb84f1c",
       "version_major": 2,
       "version_minor": 0
      },
      "text/plain": [
       "training routine:   0%|          | 0/100 [00:00<?, ?it/s]"
      ]
     },
     "metadata": {},
     "output_type": "display_data"
    },
    {
     "data": {
      "application/vnd.jupyter.widget-view+json": {
       "model_id": "2c7a0d961d2742ed8171b2d6c26805c2",
       "version_major": 2,
       "version_minor": 0
      },
      "text/plain": [
       "split=train:   0%|          | 0/82 [00:00<?, ?it/s]"
      ]
     },
     "metadata": {},
     "output_type": "display_data"
    },
    {
     "data": {
      "application/vnd.jupyter.widget-view+json": {
       "model_id": "576bca0f59e948668a20b45b9ead7038",
       "version_major": 2,
       "version_minor": 0
      },
      "text/plain": [
       "split=val:   0%|          | 0/12 [00:00<?, ?it/s]"
      ]
     },
     "metadata": {},
     "output_type": "display_data"
    },
    {
     "name": "stdout",
     "output_type": "stream",
     "text": [
      "Exiting loop\n",
      "Test loss: 0.4770868770454241;\n",
      "Test Accuracy: 77.04347826086956\n"
     ]
    }
   ],
   "source": [
    "cnn_args.model_state_file = script_dir + '/model_storage/cnn/cnn_long_onehot.pth'\n",
    "words = vectorizer_long_desc.description_vocab._token_to_idx.keys()\n",
    "cnn_classifier_long_one_hot = CNNClassifier(embedding_size=embeddings.shape[1], \n",
    "                            num_embeddings=embeddings.shape[0],\n",
    "                            num_channels=cnn_args.num_channels,\n",
    "                            hidden_dim=cnn_args.hidden_dim,  \n",
    "                            dropout_p=cnn_args.dropout_p,\n",
    "                            pretrained_embeddings=embeddings,\n",
    "                            padding_idx=0)\n",
    "loss_func = nn.BCEWithLogitsLoss()\n",
    "\n",
    "if cnn_args.load_models == False:\n",
    "    cnn_classifier_long_one_hot, train_state = train_model(cnn_classifier_long_one_hot, dataset_long_desc, cnn_args, loss_func= loss_func, BCE=True)\n",
    "    \n",
    "    print(test_model(\n",
    "    cnn_classifier_long_one_hot, \n",
    "    dataset= dataset_long_desc, \n",
    "    train_state= train_state, \n",
    "    args = cnn_args,\n",
    "    loss_func=loss_func, \n",
    "    BCE=True))\n",
    "else: \n",
    "  try:\n",
    "    cnn_classifier_long_one_hot.load_state_dict(state_dict=torch.load(cnn_args.model_state_file))\n",
    "  except:\n",
    "    print('could not find state file') # The one hot encoded model on the large desc took up too much gpu ram"
   ]
  },
  {
   "cell_type": "markdown",
   "metadata": {
    "id": "bK-d7EtG_R9W"
   },
   "source": [
    "## Model Evaluation"
   ]
  },
  {
   "cell_type": "code",
   "execution_count": null,
   "metadata": {
    "colab": {
     "base_uri": "https://localhost:8080/"
    },
    "executionInfo": {
     "elapsed": 2476,
     "status": "ok",
     "timestamp": 1653836933005,
     "user": {
      "displayName": "Omri Ram",
      "userId": "07837710711281572278"
     },
     "user_tz": -120
    },
    "id": "HzdP6Ep5FezO",
    "outputId": "5c8f5bf8-09b0-4133-94ff-25cc1e9720b1"
   },
   "outputs": [
    {
     "name": "stdout",
     "output_type": "stream",
     "text": [
      "Requirement already satisfied: torchmetrics in /Users/omriram/Desktop/U/Cits4012/cits4012_environment/lib/python3.9/site-packages (0.8.2)\n",
      "Requirement already satisfied: packaging in /Users/omriram/Desktop/U/Cits4012/cits4012_environment/lib/python3.9/site-packages (from torchmetrics) (21.3)\n",
      "Requirement already satisfied: torch>=1.3.1 in /Users/omriram/Desktop/U/Cits4012/cits4012_environment/lib/python3.9/site-packages (from torchmetrics) (1.11.0)\n",
      "Requirement already satisfied: pyDeprecate==0.3.* in /Users/omriram/Desktop/U/Cits4012/cits4012_environment/lib/python3.9/site-packages (from torchmetrics) (0.3.2)\n",
      "Requirement already satisfied: numpy>=1.17.2 in /Users/omriram/Desktop/U/Cits4012/cits4012_environment/lib/python3.9/site-packages (from torchmetrics) (1.21.2)\n",
      "Requirement already satisfied: typing_extensions in /Users/omriram/Desktop/U/Cits4012/cits4012_environment/lib/python3.9/site-packages (from torch>=1.3.1->torchmetrics) (4.1.1)\n",
      "Requirement already satisfied: pyparsing!=3.0.5,>=2.0.2 in /Users/omriram/Desktop/U/Cits4012/cits4012_environment/lib/python3.9/site-packages (from packaging->torchmetrics) (3.0.7)\n"
     ]
    }
   ],
   "source": [
    "!pip install torchmetrics"
   ]
  },
  {
   "cell_type": "code",
   "execution_count": 60,
   "metadata": {
    "executionInfo": {
     "elapsed": 2,
     "status": "ok",
     "timestamp": 1653837224191,
     "user": {
      "displayName": "Omri Ram",
      "userId": "07837710711281572278"
     },
     "user_tz": -120
    },
    "id": "z1N-GQUa_Qz0"
   },
   "outputs": [],
   "source": [
    "def evaluation(classifier =None, dataset= None, args = None,num_classes = 2, y_pred = None,\n",
    "    y_true = None, binary=False, one_hot = False):\n",
    "    \"\"\"\n",
    "    args:\n",
    "        classifier to evaluate,\n",
    "        dataset: test data for evaluating the classifier,\n",
    "        train_state: the final train state after training the model,\n",
    "        BCE: whether to use binary cross entrop or cross entropy,\n",
    "    returns:\n",
    "    \"\"\"\n",
    "   \n",
    "    \n",
    "    from torchmetrics import ConfusionMatrix, F1Score,Precision,Accuracy,Recall\n",
    "    confmat = ConfusionMatrix(num_classes=num_classes)\n",
    "    \n",
    "    import numpy\n",
    "    fin_mat = numpy.zeros((num_classes,num_classes))\n",
    "    if classifier is not None:\n",
    "        dataset.set_split('test')\n",
    "        batch_generator = generate_batches(dataset, \n",
    "                                           batch_size=args.batch_size, device = args.device\n",
    "                                           )\n",
    "\n",
    "        classifier = classifier.to(args.device)\n",
    "\n",
    "        classifier.eval()\n",
    "\n",
    "        for batch_index, batch_dict in enumerate(batch_generator):\n",
    "            # compute the output\n",
    "            inputs, labels = batch_dict\n",
    "\n",
    "            if one_hot == True:\n",
    "                output = classifier(batch_dict['x_data'].float())\n",
    "            else:\n",
    "                output = classifier(batch_dict['x_data'])\n",
    "\n",
    "\n",
    "            if y_pred is None:\n",
    "                y_pred = output\n",
    "                y_true = batch_dict['y_target'].data\n",
    "            else:\n",
    "                y_pred = torch.cat((y_pred, output))\n",
    "                y_true = torch.cat((y_true, batch_dict['y_target']))\n",
    "\n",
    "            fin_mat += confmat(output.data.cpu(), batch_dict['y_target'].data.cpu()).numpy()\n",
    "    if binary:\n",
    "        recall = Recall()\n",
    "        f1Score = F1Score()\n",
    "        accuracy = Accuracy()\n",
    "        precision = Precision()\n",
    "    else:\n",
    "        recall = Recall(num_classes=num_classes, average=\"weighted\", multiclass=True)\n",
    "        f1Score = F1Score(num_classes=num_classes, average=\"weighted\", multiclass=True)\n",
    "        accuracy = Accuracy(num_classes=num_classes, average=\"weighted\", multiclass=True)\n",
    "        precision = Precision(num_classes=num_classes, average=\"weighted\", multiclass=True)\n",
    "    classification_report = {\"Recall\": recall(y_pred.data.cpu(), y_true.data.cpu()).numpy(),\n",
    "                            \"F1Score\": f1Score(y_pred.data.cpu(), y_true.data.cpu()).numpy(),\n",
    "                             \"Accuracy\": accuracy(y_pred.data.cpu(), y_true.data.cpu()).numpy(),\n",
    "                             \"Precision\": precision(y_pred.data.cpu(), y_true.data.cpu()).numpy()\n",
    "                            }\n",
    "    return classification_report, fin_mat"
   ]
  },
  {
   "cell_type": "markdown",
   "metadata": {},
   "source": [
    "### Calculating the evaluation metrics of the Feed Forward Classifier"
   ]
  },
  {
   "cell_type": "markdown",
   "metadata": {},
   "source": [
    "##### Baseline"
   ]
  },
  {
   "cell_type": "code",
   "execution_count": 61,
   "metadata": {},
   "outputs": [],
   "source": [
    "test_data = dataset_short_desc\n",
    "test_data.set_split(\"test\")\n",
    "dataLoaded = DataLoader(test_data)\n",
    "\n",
    "\n",
    "\n",
    "\n",
    "y_test = None\n",
    "for data in dataLoaded:\n",
    "    if y_test is None:\n",
    "        y_test = data[\"y_target\"]\n",
    "    else:    \n",
    "        y_test = torch.cat((y_test, data['y_target']))\n",
    "\n",
    "y_pred = torch.ones(dataset_short_desc.test_size)\n",
    "\n",
    "def custom_replace(tensor, on_zero, on_non_zero):\n",
    "    # we create a copy of the original tensor, \n",
    "    # because of the way we are replacing them.\n",
    "    # https://stackoverflow.com/questions/45384684/replace-all-nonzero-values-by-zero-and-all-zero-values-by-a-specific-value\n",
    "    res = tensor.clone()\n",
    "    res[tensor==0] = on_zero\n",
    "    res[tensor!=0] = on_non_zero\n",
    "    return res\n",
    "\n",
    "y_test = custom_replace(y_test, 1,0)\n",
    "\n",
    "baseline_report, baseline_mat = evaluation(y_pred=y_pred, y_true=y_test, binary=True )"
   ]
  },
  {
   "cell_type": "code",
   "execution_count": 62,
   "metadata": {},
   "outputs": [],
   "source": [
    "ff_short_glove_report, ff_short_glove_mat = evaluation(ff_classifier_short_word2vec, dataset_short_desc, feed_forward_args, binary = True)\n",
    "ff_short_word2vec_report, ff_short_word2vec_mat = evaluation(ff_classifier_short_word2vec, dataset_short_desc, feed_forward_args, binary = True)\n",
    "ff_short_one_hot_report, ff_short_one_hot_mat = evaluation(one_hot_classifier, dataset_short_desc_one_hot, feed_forward_args, binary = True)\n"
   ]
  },
  {
   "cell_type": "code",
   "execution_count": 63,
   "metadata": {},
   "outputs": [
    {
     "name": "stdout",
     "output_type": "stream",
     "text": [
      "key        BASELINE             GLOVE                WORD2VEC             ONEHOT               \n",
      "Recall     1.0                  0.2270381897687912   0.2251552790403366   0.08255933970212936  \n",
      "F1Score    0.8030669689178467   0.2650602459907532   0.2628398835659027   0.13147082924842834  \n",
      "Accuracy   0.6709372997283936   0.585597813129425    0.585597813129425    0.640964686870575    \n",
      "Precision  0.6709372997283936   0.31837916374206543  0.31567490100860596  0.32258063554763794  \n"
     ]
    }
   ],
   "source": [
    "print(\"{:<10} {:<20} {:<20} {:<20} {:<20} \".format('key','BASELINE', 'GLOVE', 'WORD2VEC', 'ONEHOT'))\n",
    "for key in ff_short_glove_report.keys():\n",
    "    print (\"{:<10} {:<20} {:<20} {:<20} {:<20} \".format(key, baseline_report[key],ff_short_glove_report[key], ff_short_word2vec_report[key], \n",
    "                                               ff_short_one_hot_report[key]))"
   ]
  },
  {
   "cell_type": "markdown",
   "metadata": {},
   "source": [
    "The feed forward neural network with the Glove and Word2vec embedding perform similarly accross all metrics, and they both outperform the one hot encodding.\n",
    "The one hot encoding performs similarly to a base line model that guesses \"Full time\" for each document when looking at accuracy. The low recall, F1scaore and precision observed from the one-hot encoding, is much lower than the baseline model, thus it makes no improvements to the perfromance of the baseline model and should be disregarded.\n",
    "Glove and Word2Vec fair better when accuracy is concerned but still lag behind on Recall and F1score but they are more usefull than the baseline for idnetifying \"Other\" classification: Shown by confusion matrix and Table below. A more useful table will look at the average of the metrics across both classes and not just one.\n"
   ]
  },
  {
   "cell_type": "code",
   "execution_count": 64,
   "metadata": {},
   "outputs": [],
   "source": [
    "ff_short_glove_report, ff_short_glove_mat = evaluation(ff_classifier_short_word2vec, \n",
    "                                                       dataset_short_desc, feed_forward_args, binary = False)\n",
    "ff_short_word2vec_report, ff_short_word2vec_mat = evaluation(ff_classifier_short_word2vec,\n",
    "                                                             dataset_short_desc, feed_forward_args, binary = False)\n",
    "ff_short_one_hot_report, ff_short_one_hot_mat = evaluation(one_hot_classifier, dataset_short_desc_one_hot, \n",
    "                                                           feed_forward_args, binary = False)\n",
    "baseline_report, baseline_mat = evaluation(y_pred=y_pred, y_true=y_test, binary=False )\n"
   ]
  },
  {
   "cell_type": "code",
   "execution_count": null,
   "metadata": {},
   "outputs": [
    {
     "name": "stdout",
     "output_type": "stream",
     "text": [
      "key        BASELINE             GLOVE                WORD2VEC             ONEHOT               \n",
      "Recall     0.6709372997283936   0.7250339388847351   0.7245244383811951   0.6416440010070801   \n",
      "F1Score    0.5388075709342957   0.7060257196426392   0.7054429054260254   0.5660634636878967   \n",
      "Accuracy   0.6709372997283936   0.7250339388847351   0.7245244383811951   0.6416440010070801   \n",
      "Precision  0.4501568675041199   0.7106801867485046   0.7100636959075928   0.5605852603912354   \n"
     ]
    }
   ],
   "source": [
    "print(\"{:<10} {:<20} {:<20} {:<20} {:<20} \".format('key','BASELINE', 'GLOVE', 'WORD2VEC', 'ONEHOT'))\n",
    "for key in ff_short_glove_report.keys():\n",
    "    print (\"{:<10} {:<20} {:<20} {:<20} {:<20} \".format(key, baseline_report[key],ff_short_glove_report[key], ff_short_word2vec_report[key], \n",
    "                                               ff_short_one_hot_report[key]))"
   ]
  },
  {
   "cell_type": "code",
   "execution_count": null,
   "metadata": {},
   "outputs": [
    {
     "data": {
      "text/plain": [
       "Text(0.5, 1.0, 'Feed Forward ')"
      ]
     },
     "execution_count": 92,
     "metadata": {},
     "output_type": "execute_result"
    },
    {
     "data": {
      "image/png": "[encoded data removed]",
      "text/plain": [
       "<Figure size 1440x1440 with 3 Axes>"
      ]
     },
     "metadata": {
      "needs_background": "light"
     },
     "output_type": "display_data"
    }
   ],
   "source": [
    "import seaborn as sns\n",
    "import matplotlib.pyplot as plt\n",
    "\n",
    "classnames = ['Full Time', 'Other']\n",
    "fig, (ax1,ax2) = plt.subplots(1,2,figsize=(20,20)) \n",
    "sns.heatmap(ff_short_word2vec_mat, annot= True, xticklabels=classnames, yticklabels=classnames, ax = ax1, cbar= False )\n",
    "sns.heatmap(ff_short_glove_mat, annot= True, xticklabels=classnames, yticklabels=classnames, ax = ax2 )\n",
    "ax1.title.set_text('Word2Vec')\n",
    "ax1.title.set_text('Glove')\n",
    "plt.title(\"Feed Forward \")"
   ]
  },
  {
   "cell_type": "markdown",
   "metadata": {},
   "source": [
    "### Calculating the evaluation metrics of the CNN classifiers"
   ]
  },
  {
   "cell_type": "code",
   "execution_count": null,
   "metadata": {},
   "outputs": [],
   "source": [
    "cnn_short_glove_report, cnn_short_glove_mat = evaluation(cnn_classifier_short_glove, dataset_short_desc, cnn_args, binary = True)\n",
    "cnn_long_glove_report, cnn_long_glove_mat = evaluation(cnn_classifier_long_glove, dataset_long_desc, cnn_args, binary = True)"
   ]
  },
  {
   "cell_type": "code",
   "execution_count": null,
   "metadata": {},
   "outputs": [],
   "source": [
    "cnn_short_word2vec_report, cnn_short_word2vec_mat = evaluation(cnn_classifier_short_word2vec, dataset_short_desc, cnn_args, binary = True)\n",
    "cnn_long_word2vec_report, cnn_long_word2vec_mat = evaluation(cnn_classifier_short_glove, dataset_long_desc, cnn_args, binary = True)"
   ]
  },
  {
   "cell_type": "code",
   "execution_count": null,
   "metadata": {},
   "outputs": [],
   "source": [
    "cnn_short_onehot_report, cnn_short_onehot_mat = evaluation(cnn_classifier_short_one_hot, dataset_short_desc, cnn_args, binary = True)\n",
    "cnn_long_onehot_report, cnn_short_long_mat = evaluation(cnn_classifier_long_one_hot, dataset_long_desc, cnn_args, binary = True) # this takes about 1.5 mins"
   ]
  },
  {
   "cell_type": "code",
   "execution_count": null,
   "metadata": {},
   "outputs": [
    {
     "name": "stdout",
     "output_type": "stream",
     "text": [
      "key        SHORT GLOVE          LONG GLOVE           SHORT WORD2VEC       LONG WORD2VEC       \n",
      "Recall 0.3174999952316284 0.555831253528595 0.18965516984462738 0.024875622242689133\n",
      "F1Score 0.41166937351226807 0.6239554286003113 0.27848100662231445 0.048426151275634766\n",
      "Accuracy 0.6843478083610535 0.7652173638343811 0.6530434489250183 0.6582608819007874\n",
      "Precision 0.5852534770965576 0.7111111283302307 0.523809552192688 0.9090909361839294\n"
     ]
    }
   ],
   "source": [
    "print(\"{:<10} {:<20} {:<20} {:<20} {:<20} {:<20} {:<20}\".format('key', 'SHORT GLOVE', 'LONG GLOVE', 'SHORT WORD2VEC', 'LONG WORD2VEC', 'SHORT ONEHOT', 'LONG ONEHOT'))\n",
    "for key in cnn_short_glove_report.keys():\n",
    "    print (\"{:<5} {:<10} {:<10} {:<10} {:<10} {:<10} {:<10}\".format(key,cnn_short_glove_report[key], cnn_long_glove_report[key], \n",
    "                                               cnn_short_word2vec_report[key], cnn_long_word2vec_report[key], cnn_short_onehot_report[key], cnn_long_onehot_report[key]))"
   ]
  },
  {
   "cell_type": "markdown",
   "metadata": {},
   "source": [
    "Models with the Top ten tfidf data set perform similar to the baseline model but worse than the feed forward model of the same embedding. This is an unexpected result but can be explained by the fact that the top ten tfidf data has key information stripped from it such that two subsequent words in the data have little to no relation with each other. Thus, convolution can not draw out any usefull information. Hence, feeding this information to a neural network leads to subpar classifiaction.\n",
    "Surprisingly, the glove embedding has the best performance overal. The expectation was, the word2vec domain specific embedding would outperform all embeddings since domain specific embedding can draw out information that a general embedding cannot."
   ]
  },
  {
   "cell_type": "markdown",
   "metadata": {},
   "source": [
    "## Confusion matrices"
   ]
  },
  {
   "cell_type": "code",
   "execution_count": null,
   "metadata": {},
   "outputs": [],
   "source": [
    "import seaborn as sns\n",
    "import matplotlib.pyplot as plt\n",
    "classnames = ['Full Time', 'Other']"
   ]
  },
  {
   "cell_type": "code",
   "execution_count": null,
   "metadata": {},
   "outputs": [
    {
     "data": {
      "text/plain": [
       "Text(0.5, 1.0, 'CNN short glove')"
      ]
     },
     "execution_count": 137,
     "metadata": {},
     "output_type": "execute_result"
    },
    {
     "data": {
      "image/png": "[encoded data removed]",
      "text/plain": [
       "<Figure size 1440x1440 with 2 Axes>"
      ]
     },
     "metadata": {
      "needs_background": "light"
     },
     "output_type": "display_data"
    }
   ],
   "source": [
    "fig, ax = plt.subplots(figsize=(20,20)) \n",
    "sns.heatmap(cnn_short_glove_mat, annot= True, xticklabels=classnames, yticklabels=classnames )\n",
    "plt.title(\"CNN short glove\")"
   ]
  },
  {
   "cell_type": "code",
   "execution_count": null,
   "metadata": {},
   "outputs": [
    {
     "data": {
      "text/plain": [
       "Text(0.5, 1.0, 'CNN long glove')"
      ]
     },
     "execution_count": 138,
     "metadata": {},
     "output_type": "execute_result"
    },
    {
     "data": {
      "image/png": "[encoded data removed]",
      "text/plain": [
       "<Figure size 1440x1440 with 2 Axes>"
      ]
     },
     "metadata": {
      "needs_background": "light"
     },
     "output_type": "display_data"
    }
   ],
   "source": [
    "fig, ax = plt.subplots(figsize=(20,20)) \n",
    "sns.heatmap(cnn_long_glove_mat, annot= True, xticklabels=classnames, yticklabels=classnames )\n",
    "plt.title(\"CNN long glove\")"
   ]
  },
  {
   "cell_type": "code",
   "execution_count": null,
   "metadata": {},
   "outputs": [
    {
     "data": {
      "text/plain": [
       "Text(0.5, 1.0, 'CNN short word2vec')"
      ]
     },
     "execution_count": 140,
     "metadata": {},
     "output_type": "execute_result"
    },
    {
     "data": {
      "image/png": "[encoded data removed]",
      "text/plain": [
       "<Figure size 1440x1440 with 2 Axes>"
      ]
     },
     "metadata": {
      "needs_background": "light"
     },
     "output_type": "display_data"
    }
   ],
   "source": [
    "fig, ax = plt.subplots(figsize=(20,20)) \n",
    "sns.heatmap(cnn_short_word2vec_mat, annot= True, xticklabels=classnames, yticklabels=classnames )\n",
    "plt.title(\"CNN short word2vec\")"
   ]
  },
  {
   "cell_type": "code",
   "execution_count": null,
   "metadata": {},
   "outputs": [
    {
     "data": {
      "text/plain": [
       "Text(0.5, 1.0, 'CNN long word2vec')"
      ]
     },
     "execution_count": 141,
     "metadata": {},
     "output_type": "execute_result"
    },
    {
     "data": {
      "image/png": "[encoded data removed]",
      "text/plain": [
       "<Figure size 1440x1440 with 2 Axes>"
      ]
     },
     "metadata": {
      "needs_background": "light"
     },
     "output_type": "display_data"
    }
   ],
   "source": [
    "fig, ax = plt.subplots(figsize=(20,20)) \n",
    "sns.heatmap(cnn_long_word2vec_mat, annot= True, xticklabels=classnames, yticklabels=classnames )\n",
    "plt.title(\"CNN long word2vec\")"
   ]
  },
  {
   "cell_type": "code",
   "execution_count": null,
   "metadata": {},
   "outputs": [
    {
     "data": {
      "text/plain": [
       "Text(0.5, 1.0, 'CNN short one hot')"
      ]
     },
     "execution_count": 139,
     "metadata": {},
     "output_type": "execute_result"
    },
    {
     "data": {
      "image/png": "[encoded data removed]",
      "text/plain": [
       "<Figure size 1440x1440 with 2 Axes>"
      ]
     },
     "metadata": {
      "needs_background": "light"
     },
     "output_type": "display_data"
    }
   ],
   "source": [
    "fig, ax = plt.subplots(figsize=(20,20)) \n",
    "sns.heatmap(cnn_short_onehot_mat, annot= True, xticklabels=classnames, yticklabels=classnames )\n",
    "plt.title(\"CNN short one hot\")"
   ]
  },
  {
   "cell_type": "code",
   "execution_count": null,
   "metadata": {},
   "outputs": [
    {
     "data": {
      "text/plain": [
       "Text(0.5, 1.0, 'CNN short one hot')"
      ]
     },
     "execution_count": 142,
     "metadata": {},
     "output_type": "execute_result"
    },
    {
     "data": {
      "image/png": "[encoded data removed]",
      "text/plain": [
       "<Figure size 1440x1440 with 2 Axes>"
      ]
     },
     "metadata": {
      "needs_background": "light"
     },
     "output_type": "display_data"
    }
   ],
   "source": [
    "fig, ax = plt.subplots(figsize=(20,20)) \n",
    "sns.heatmap(cnn_long_onehot_mat, annot= True, xticklabels=classnames, yticklabels=classnames )\n",
    "plt.title(\"CNN long one hot\")"
   ]
  },
  {
   "cell_type": "markdown",
   "metadata": {
    "id": "hWFB61GZ__83"
   },
   "source": [
    "## Discussion"
   ]
  },
  {
   "cell_type": "markdown",
   "metadata": {
    "id": "7ARIufX2d3dS"
   },
   "source": [
    "Of the feed forward models trained the domain specific word2vec model embeddings performed the best with an accuracy of 73%. The glove embeddings then had a slightly lower accuracy but still performed above the baseline. Lastly the one hot performed around the same as the rest of the classifiers. \n",
    "\n",
    "A possible explanation for the slightly superior performance of the word2vec embeddings is of a sufficiently large dataset and the word2vec model that was trained extracting domain specific semantics. \n",
    "\n",
    "With the cnn classifiers the short description dataset performed consistently  worse with around 10% less accuracy similar to the feed forward models that were also trained on the smaller dataset. The domain specific embeddings again had a slight edge on the glove embeddings however had more or less the same performance as the one hot encoded embeddings. The main downside of the one hot encoded embeddings was the far slower training time and ram requirement. "
   ]
  }
 ],
 "metadata": {
  "accelerator": "GPU",
  "colab": {
   "collapsed_sections": [
    "FvAtOs3YEdRr"
   ],
   "machine_shape": "hm",
   "name": "job_type_classification.ipynb",
   "provenance": []
  },
  "kernelspec": {
   "display_name": "Python 3.9.10",
   "language": "python",
   "name": "python3"
  },
  "language_info": {
   "codemirror_mode": {
    "name": "ipython",
    "version": 3
   },
   "file_extension": ".py",
   "mimetype": "text/x-python",
   "name": "python",
   "nbconvert_exporter": "python",
   "pygments_lexer": "ipython3",
   "version": "3.9.10"
  },
  "vscode": {
   "interpreter": {
    "hash": "3931f8ce93702ec92af21f632a7247673a82decd980a4ceb2171679cfa65979b"
   }
  },
  "widgets": {
   "application/vnd.jupyter.widget-state+json": {
    "058bba68fc66437fa9171361e5006960": {
     "model_module": "@jupyter-widgets/base",
     "model_module_version": "1.2.0",
     "model_name": "LayoutModel",
     "state": {
      "_model_module": "@jupyter-widgets/base",
      "_model_module_version": "1.2.0",
      "_model_name": "LayoutModel",
      "_view_count": null,
      "_view_module": "@jupyter-widgets/base",
      "_view_module_version": "1.2.0",
      "_view_name": "LayoutView",
      "align_content": null,
      "align_items": null,
      "align_self": null,
      "border": null,
      "bottom": null,
      "display": null,
      "flex": null,
      "flex_flow": null,
      "grid_area": null,
      "grid_auto_columns": null,
      "grid_auto_flow": null,
      "grid_auto_rows": null,
      "grid_column": null,
      "grid_gap": null,
      "grid_row": null,
      "grid_template_areas": null,
      "grid_template_columns": null,
      "grid_template_rows": null,
      "height": null,
      "justify_content": null,
      "justify_items": null,
      "left": null,
      "margin": null,
      "max_height": null,
      "max_width": null,
      "min_height": null,
      "min_width": null,
      "object_fit": null,
      "object_position": null,
      "order": null,
      "overflow": null,
      "overflow_x": null,
      "overflow_y": null,
      "padding": null,
      "right": null,
      "top": null,
      "visibility": null,
      "width": null
     }
    },
    "0a86931b801b4bd4bc4c3d606a00ba93": {
     "model_module": "@jupyter-widgets/controls",
     "model_module_version": "1.5.0",
     "model_name": "DescriptionStyleModel",
     "state": {
      "_model_module": "@jupyter-widgets/controls",
      "_model_module_version": "1.5.0",
      "_model_name": "DescriptionStyleModel",
      "_view_count": null,
      "_view_module": "@jupyter-widgets/base",
      "_view_module_version": "1.2.0",
      "_view_name": "StyleView",
      "description_width": ""
     }
    },
    "0b47167342a84d1bb6cec233b603e7f8": {
     "model_module": "@jupyter-widgets/controls",
     "model_module_version": "1.5.0",
     "model_name": "FloatProgressModel",
     "state": {
      "_dom_classes": [],
      "_model_module": "@jupyter-widgets/controls",
      "_model_module_version": "1.5.0",
      "_model_name": "FloatProgressModel",
      "_view_count": null,
      "_view_module": "@jupyter-widgets/controls",
      "_view_module_version": "1.5.0",
      "_view_name": "ProgressView",
      "bar_style": "danger",
      "description": "",
      "description_tooltip": null,
      "layout": "IPY_MODEL_595536346a9e42989ddfe650ccf473c6",
      "max": 162,
      "min": 0,
      "orientation": "horizontal",
      "style": "IPY_MODEL_f4ae71ebb5cf4baeb967711a2f1a4db5",
      "value": 63
     }
    },
    "0c0b45976b824ac1965734a1bf9504d0": {
     "model_module": "@jupyter-widgets/controls",
     "model_module_version": "1.5.0",
     "model_name": "HBoxModel",
     "state": {
      "_dom_classes": [],
      "_model_module": "@jupyter-widgets/controls",
      "_model_module_version": "1.5.0",
      "_model_name": "HBoxModel",
      "_view_count": null,
      "_view_module": "@jupyter-widgets/controls",
      "_view_module_version": "1.5.0",
      "_view_name": "HBoxView",
      "box_style": "",
      "children": [
       "IPY_MODEL_d21ee7475e1b4782a366e4655ea0bafb",
       "IPY_MODEL_ce1badaf73264edbad7ba34c53898ac5",
       "IPY_MODEL_f15870f97abf46779b6983f22791ae60"
      ],
      "layout": "IPY_MODEL_a0b94c2a83e94f44a7f40fafc2d2e90d"
     }
    },
    "0eb633f71bcb480d8688b2cad25a7145": {
     "model_module": "@jupyter-widgets/base",
     "model_module_version": "1.2.0",
     "model_name": "LayoutModel",
     "state": {
      "_model_module": "@jupyter-widgets/base",
      "_model_module_version": "1.2.0",
      "_model_name": "LayoutModel",
      "_view_count": null,
      "_view_module": "@jupyter-widgets/base",
      "_view_module_version": "1.2.0",
      "_view_name": "LayoutView",
      "align_content": null,
      "align_items": null,
      "align_self": null,
      "border": null,
      "bottom": null,
      "display": null,
      "flex": null,
      "flex_flow": null,
      "grid_area": null,
      "grid_auto_columns": null,
      "grid_auto_flow": null,
      "grid_auto_rows": null,
      "grid_column": null,
      "grid_gap": null,
      "grid_row": null,
      "grid_template_areas": null,
      "grid_template_columns": null,
      "grid_template_rows": null,
      "height": null,
      "justify_content": null,
      "justify_items": null,
      "left": null,
      "margin": null,
      "max_height": null,
      "max_width": null,
      "min_height": null,
      "min_width": null,
      "object_fit": null,
      "object_position": null,
      "order": null,
      "overflow": null,
      "overflow_x": null,
      "overflow_y": null,
      "padding": null,
      "right": null,
      "top": null,
      "visibility": null,
      "width": null
     }
    },
    "1073ebec8fcc4ee192e1c3da5d2944be": {
     "model_module": "@jupyter-widgets/base",
     "model_module_version": "1.2.0",
     "model_name": "LayoutModel",
     "state": {
      "_model_module": "@jupyter-widgets/base",
      "_model_module_version": "1.2.0",
      "_model_name": "LayoutModel",
      "_view_count": null,
      "_view_module": "@jupyter-widgets/base",
      "_view_module_version": "1.2.0",
      "_view_name": "LayoutView",
      "align_content": null,
      "align_items": null,
      "align_self": null,
      "border": null,
      "bottom": null,
      "display": null,
      "flex": null,
      "flex_flow": null,
      "grid_area": null,
      "grid_auto_columns": null,
      "grid_auto_flow": null,
      "grid_auto_rows": null,
      "grid_column": null,
      "grid_gap": null,
      "grid_row": null,
      "grid_template_areas": null,
      "grid_template_columns": null,
      "grid_template_rows": null,
      "height": null,
      "justify_content": null,
      "justify_items": null,
      "left": null,
      "margin": null,
      "max_height": null,
      "max_width": null,
      "min_height": null,
      "min_width": null,
      "object_fit": null,
      "object_position": null,
      "order": null,
      "overflow": null,
      "overflow_x": null,
      "overflow_y": null,
      "padding": null,
      "right": null,
      "top": null,
      "visibility": null,
      "width": null
     }
    },
    "11eb62020563456aa79e52ff437c0904": {
     "model_module": "@jupyter-widgets/controls",
     "model_module_version": "1.5.0",
     "model_name": "FloatProgressModel",
     "state": {
      "_dom_classes": [],
      "_model_module": "@jupyter-widgets/controls",
      "_model_module_version": "1.5.0",
      "_model_name": "FloatProgressModel",
      "_view_count": null,
      "_view_module": "@jupyter-widgets/controls",
      "_view_module_version": "1.5.0",
      "_view_name": "ProgressView",
      "bar_style": "danger",
      "description": "",
      "description_tooltip": null,
      "layout": "IPY_MODEL_8958a345e41f4ece9c01987fe22b7626",
      "max": 23,
      "min": 0,
      "orientation": "horizontal",
      "style": "IPY_MODEL_b26a5d4318804aa6a85be343ed1e6d69",
      "value": 0
     }
    },
    "127ce8396ed3453eb9054046ab05bdab": {
     "model_module": "@jupyter-widgets/base",
     "model_module_version": "1.2.0",
     "model_name": "LayoutModel",
     "state": {
      "_model_module": "@jupyter-widgets/base",
      "_model_module_version": "1.2.0",
      "_model_name": "LayoutModel",
      "_view_count": null,
      "_view_module": "@jupyter-widgets/base",
      "_view_module_version": "1.2.0",
      "_view_name": "LayoutView",
      "align_content": null,
      "align_items": null,
      "align_self": null,
      "border": null,
      "bottom": null,
      "display": null,
      "flex": null,
      "flex_flow": null,
      "grid_area": null,
      "grid_auto_columns": null,
      "grid_auto_flow": null,
      "grid_auto_rows": null,
      "grid_column": null,
      "grid_gap": null,
      "grid_row": null,
      "grid_template_areas": null,
      "grid_template_columns": null,
      "grid_template_rows": null,
      "height": null,
      "justify_content": null,
      "justify_items": null,
      "left": null,
      "margin": null,
      "max_height": null,
      "max_width": null,
      "min_height": null,
      "min_width": null,
      "object_fit": null,
      "object_position": null,
      "order": null,
      "overflow": null,
      "overflow_x": null,
      "overflow_y": null,
      "padding": null,
      "right": null,
      "top": null,
      "visibility": null,
      "width": null
     }
    },
    "16c70a97b4354fe99aa89bd97c8d62db": {
     "model_module": "@jupyter-widgets/controls",
     "model_module_version": "1.5.0",
     "model_name": "DescriptionStyleModel",
     "state": {
      "_model_module": "@jupyter-widgets/controls",
      "_model_module_version": "1.5.0",
      "_model_name": "DescriptionStyleModel",
      "_view_count": null,
      "_view_module": "@jupyter-widgets/base",
      "_view_module_version": "1.2.0",
      "_view_name": "StyleView",
      "description_width": ""
     }
    },
    "1e931fd523aa4005a053b00c2f47bb6b": {
     "model_module": "@jupyter-widgets/controls",
     "model_module_version": "1.5.0",
     "model_name": "FloatProgressModel",
     "state": {
      "_dom_classes": [],
      "_model_module": "@jupyter-widgets/controls",
      "_model_module_version": "1.5.0",
      "_model_name": "FloatProgressModel",
      "_view_count": null,
      "_view_module": "@jupyter-widgets/controls",
      "_view_module_version": "1.5.0",
      "_view_name": "ProgressView",
      "bar_style": "danger",
      "description": "",
      "description_tooltip": null,
      "layout": "IPY_MODEL_fbb8786882144a749d1c02c0acfea60b",
      "max": 100,
      "min": 0,
      "orientation": "horizontal",
      "style": "IPY_MODEL_4d14ad2281014e4dad7baa573274ae25",
      "value": 1
     }
    },
    "20d2dc0dbeae49809d75e27216198735": {
     "model_module": "@jupyter-widgets/base",
     "model_module_version": "1.2.0",
     "model_name": "LayoutModel",
     "state": {
      "_model_module": "@jupyter-widgets/base",
      "_model_module_version": "1.2.0",
      "_model_name": "LayoutModel",
      "_view_count": null,
      "_view_module": "@jupyter-widgets/base",
      "_view_module_version": "1.2.0",
      "_view_name": "LayoutView",
      "align_content": null,
      "align_items": null,
      "align_self": null,
      "border": null,
      "bottom": null,
      "display": null,
      "flex": null,
      "flex_flow": null,
      "grid_area": null,
      "grid_auto_columns": null,
      "grid_auto_flow": null,
      "grid_auto_rows": null,
      "grid_column": null,
      "grid_gap": null,
      "grid_row": null,
      "grid_template_areas": null,
      "grid_template_columns": null,
      "grid_template_rows": null,
      "height": null,
      "justify_content": null,
      "justify_items": null,
      "left": null,
      "margin": null,
      "max_height": null,
      "max_width": null,
      "min_height": null,
      "min_width": null,
      "object_fit": null,
      "object_position": null,
      "order": null,
      "overflow": null,
      "overflow_x": null,
      "overflow_y": null,
      "padding": null,
      "right": null,
      "top": null,
      "visibility": null,
      "width": null
     }
    },
    "273320a1ad2e4e0b8fe05f6d324dbcd9": {
     "model_module": "@jupyter-widgets/base",
     "model_module_version": "1.2.0",
     "model_name": "LayoutModel",
     "state": {
      "_model_module": "@jupyter-widgets/base",
      "_model_module_version": "1.2.0",
      "_model_name": "LayoutModel",
      "_view_count": null,
      "_view_module": "@jupyter-widgets/base",
      "_view_module_version": "1.2.0",
      "_view_name": "LayoutView",
      "align_content": null,
      "align_items": null,
      "align_self": null,
      "border": null,
      "bottom": null,
      "display": null,
      "flex": null,
      "flex_flow": null,
      "grid_area": null,
      "grid_auto_columns": null,
      "grid_auto_flow": null,
      "grid_auto_rows": null,
      "grid_column": null,
      "grid_gap": null,
      "grid_row": null,
      "grid_template_areas": null,
      "grid_template_columns": null,
      "grid_template_rows": null,
      "height": null,
      "justify_content": null,
      "justify_items": null,
      "left": null,
      "margin": null,
      "max_height": null,
      "max_width": null,
      "min_height": null,
      "min_width": null,
      "object_fit": null,
      "object_position": null,
      "order": null,
      "overflow": null,
      "overflow_x": null,
      "overflow_y": null,
      "padding": null,
      "right": null,
      "top": null,
      "visibility": null,
      "width": null
     }
    },
    "2d645c7a37a542d482320bdeec684780": {
     "model_module": "@jupyter-widgets/controls",
     "model_module_version": "1.5.0",
     "model_name": "ProgressStyleModel",
     "state": {
      "_model_module": "@jupyter-widgets/controls",
      "_model_module_version": "1.5.0",
      "_model_name": "ProgressStyleModel",
      "_view_count": null,
      "_view_module": "@jupyter-widgets/base",
      "_view_module_version": "1.2.0",
      "_view_name": "StyleView",
      "bar_color": null,
      "description_width": ""
     }
    },
    "2d6566a454df45c8a7f701fe9920acf2": {
     "model_module": "@jupyter-widgets/controls",
     "model_module_version": "1.5.0",
     "model_name": "HTMLModel",
     "state": {
      "_dom_classes": [],
      "_model_module": "@jupyter-widgets/controls",
      "_model_module_version": "1.5.0",
      "_model_name": "HTMLModel",
      "_view_count": null,
      "_view_module": "@jupyter-widgets/controls",
      "_view_module_version": "1.5.0",
      "_view_name": "HTMLView",
      "description": "",
      "description_tooltip": null,
      "layout": "IPY_MODEL_af017a34be5540b9a6fd21fab2a744a0",
      "placeholder": "​",
      "style": "IPY_MODEL_3c9c00abca7f42a4acc6fee6eecf5a6b",
      "value": " 127/162 [00:03&lt;00:00, 42.81it/s, acc=70, epoch=0, loss=0.586]"
     }
    },
    "2fef1b6815a44b4fa6b76e2ccb06f807": {
     "model_module": "@jupyter-widgets/controls",
     "model_module_version": "1.5.0",
     "model_name": "ProgressStyleModel",
     "state": {
      "_model_module": "@jupyter-widgets/controls",
      "_model_module_version": "1.5.0",
      "_model_name": "ProgressStyleModel",
      "_view_count": null,
      "_view_module": "@jupyter-widgets/base",
      "_view_module_version": "1.2.0",
      "_view_name": "StyleView",
      "bar_color": null,
      "description_width": ""
     }
    },
    "34e14b0b489244bf9a847221f443b408": {
     "model_module": "@jupyter-widgets/base",
     "model_module_version": "1.2.0",
     "model_name": "LayoutModel",
     "state": {
      "_model_module": "@jupyter-widgets/base",
      "_model_module_version": "1.2.0",
      "_model_name": "LayoutModel",
      "_view_count": null,
      "_view_module": "@jupyter-widgets/base",
      "_view_module_version": "1.2.0",
      "_view_name": "LayoutView",
      "align_content": null,
      "align_items": null,
      "align_self": null,
      "border": null,
      "bottom": null,
      "display": null,
      "flex": null,
      "flex_flow": null,
      "grid_area": null,
      "grid_auto_columns": null,
      "grid_auto_flow": null,
      "grid_auto_rows": null,
      "grid_column": null,
      "grid_gap": null,
      "grid_row": null,
      "grid_template_areas": null,
      "grid_template_columns": null,
      "grid_template_rows": null,
      "height": null,
      "justify_content": null,
      "justify_items": null,
      "left": null,
      "margin": null,
      "max_height": null,
      "max_width": null,
      "min_height": null,
      "min_width": null,
      "object_fit": null,
      "object_position": null,
      "order": null,
      "overflow": null,
      "overflow_x": null,
      "overflow_y": null,
      "padding": null,
      "right": null,
      "top": null,
      "visibility": null,
      "width": null
     }
    },
    "380ea13695884c65ba7b0694f09ea1ee": {
     "model_module": "@jupyter-widgets/base",
     "model_module_version": "1.2.0",
     "model_name": "LayoutModel",
     "state": {
      "_model_module": "@jupyter-widgets/base",
      "_model_module_version": "1.2.0",
      "_model_name": "LayoutModel",
      "_view_count": null,
      "_view_module": "@jupyter-widgets/base",
      "_view_module_version": "1.2.0",
      "_view_name": "LayoutView",
      "align_content": null,
      "align_items": null,
      "align_self": null,
      "border": null,
      "bottom": null,
      "display": null,
      "flex": null,
      "flex_flow": null,
      "grid_area": null,
      "grid_auto_columns": null,
      "grid_auto_flow": null,
      "grid_auto_rows": null,
      "grid_column": null,
      "grid_gap": null,
      "grid_row": null,
      "grid_template_areas": null,
      "grid_template_columns": null,
      "grid_template_rows": null,
      "height": null,
      "justify_content": null,
      "justify_items": null,
      "left": null,
      "margin": null,
      "max_height": null,
      "max_width": null,
      "min_height": null,
      "min_width": null,
      "object_fit": null,
      "object_position": null,
      "order": null,
      "overflow": null,
      "overflow_x": null,
      "overflow_y": null,
      "padding": null,
      "right": null,
      "top": null,
      "visibility": null,
      "width": null
     }
    },
    "38477ce2851c42da87d5e292b5929850": {
     "model_module": "@jupyter-widgets/controls",
     "model_module_version": "1.5.0",
     "model_name": "FloatProgressModel",
     "state": {
      "_dom_classes": [],
      "_model_module": "@jupyter-widgets/controls",
      "_model_module_version": "1.5.0",
      "_model_name": "FloatProgressModel",
      "_view_count": null,
      "_view_module": "@jupyter-widgets/controls",
      "_view_module_version": "1.5.0",
      "_view_name": "ProgressView",
      "bar_style": "danger",
      "description": "",
      "description_tooltip": null,
      "layout": "IPY_MODEL_46a00f1b7205422a8d58cabdb85280a0",
      "max": 23,
      "min": 0,
      "orientation": "horizontal",
      "style": "IPY_MODEL_2d645c7a37a542d482320bdeec684780",
      "value": 0
     }
    },
    "3bae6f9edb7d4b43ba80345ad75205ed": {
     "model_module": "@jupyter-widgets/controls",
     "model_module_version": "1.5.0",
     "model_name": "HTMLModel",
     "state": {
      "_dom_classes": [],
      "_model_module": "@jupyter-widgets/controls",
      "_model_module_version": "1.5.0",
      "_model_name": "HTMLModel",
      "_view_count": null,
      "_view_module": "@jupyter-widgets/controls",
      "_view_module_version": "1.5.0",
      "_view_name": "HTMLView",
      "description": "",
      "description_tooltip": null,
      "layout": "IPY_MODEL_8ef1282963f04d67930e57ae33711ed9",
      "placeholder": "​",
      "style": "IPY_MODEL_6063da6713bf4c07b275b381c4d0f2b6",
      "value": " 63/162 [00:12&lt;00:02, 43.98it/s, acc=74.7, epoch=1, loss=0.513]"
     }
    },
    "3c9c00abca7f42a4acc6fee6eecf5a6b": {
     "model_module": "@jupyter-widgets/controls",
     "model_module_version": "1.5.0",
     "model_name": "DescriptionStyleModel",
     "state": {
      "_model_module": "@jupyter-widgets/controls",
      "_model_module_version": "1.5.0",
      "_model_name": "DescriptionStyleModel",
      "_view_count": null,
      "_view_module": "@jupyter-widgets/base",
      "_view_module_version": "1.2.0",
      "_view_name": "StyleView",
      "description_width": ""
     }
    },
    "3e5784ef4d49406bb27f2646cbf0f5e7": {
     "model_module": "@jupyter-widgets/base",
     "model_module_version": "1.2.0",
     "model_name": "LayoutModel",
     "state": {
      "_model_module": "@jupyter-widgets/base",
      "_model_module_version": "1.2.0",
      "_model_name": "LayoutModel",
      "_view_count": null,
      "_view_module": "@jupyter-widgets/base",
      "_view_module_version": "1.2.0",
      "_view_name": "LayoutView",
      "align_content": null,
      "align_items": null,
      "align_self": null,
      "border": null,
      "bottom": null,
      "display": null,
      "flex": null,
      "flex_flow": null,
      "grid_area": null,
      "grid_auto_columns": null,
      "grid_auto_flow": null,
      "grid_auto_rows": null,
      "grid_column": null,
      "grid_gap": null,
      "grid_row": null,
      "grid_template_areas": null,
      "grid_template_columns": null,
      "grid_template_rows": null,
      "height": null,
      "justify_content": null,
      "justify_items": null,
      "left": null,
      "margin": null,
      "max_height": null,
      "max_width": null,
      "min_height": null,
      "min_width": null,
      "object_fit": null,
      "object_position": null,
      "order": null,
      "overflow": null,
      "overflow_x": null,
      "overflow_y": null,
      "padding": null,
      "right": null,
      "top": null,
      "visibility": null,
      "width": null
     }
    },
    "41c8bb6f8f6b46ccbd6ed1a103359272": {
     "model_module": "@jupyter-widgets/controls",
     "model_module_version": "1.5.0",
     "model_name": "HTMLModel",
     "state": {
      "_dom_classes": [],
      "_model_module": "@jupyter-widgets/controls",
      "_model_module_version": "1.5.0",
      "_model_name": "HTMLModel",
      "_view_count": null,
      "_view_module": "@jupyter-widgets/controls",
      "_view_module_version": "1.5.0",
      "_view_name": "HTMLView",
      "description": "",
      "description_tooltip": null,
      "layout": "IPY_MODEL_380ea13695884c65ba7b0694f09ea1ee",
      "placeholder": "​",
      "style": "IPY_MODEL_915961b3911341749c3153f7f5189d40",
      "value": " 0/23 [00:00&lt;?, ?it/s]"
     }
    },
    "42d17dff48d64d24aeddbc3cac3aa2f4": {
     "model_module": "@jupyter-widgets/base",
     "model_module_version": "1.2.0",
     "model_name": "LayoutModel",
     "state": {
      "_model_module": "@jupyter-widgets/base",
      "_model_module_version": "1.2.0",
      "_model_name": "LayoutModel",
      "_view_count": null,
      "_view_module": "@jupyter-widgets/base",
      "_view_module_version": "1.2.0",
      "_view_name": "LayoutView",
      "align_content": null,
      "align_items": null,
      "align_self": null,
      "border": null,
      "bottom": null,
      "display": null,
      "flex": null,
      "flex_flow": null,
      "grid_area": null,
      "grid_auto_columns": null,
      "grid_auto_flow": null,
      "grid_auto_rows": null,
      "grid_column": null,
      "grid_gap": null,
      "grid_row": null,
      "grid_template_areas": null,
      "grid_template_columns": null,
      "grid_template_rows": null,
      "height": null,
      "justify_content": null,
      "justify_items": null,
      "left": null,
      "margin": null,
      "max_height": null,
      "max_width": null,
      "min_height": null,
      "min_width": null,
      "object_fit": null,
      "object_position": null,
      "order": null,
      "overflow": null,
      "overflow_x": null,
      "overflow_y": null,
      "padding": null,
      "right": null,
      "top": null,
      "visibility": null,
      "width": null
     }
    },
    "46a00f1b7205422a8d58cabdb85280a0": {
     "model_module": "@jupyter-widgets/base",
     "model_module_version": "1.2.0",
     "model_name": "LayoutModel",
     "state": {
      "_model_module": "@jupyter-widgets/base",
      "_model_module_version": "1.2.0",
      "_model_name": "LayoutModel",
      "_view_count": null,
      "_view_module": "@jupyter-widgets/base",
      "_view_module_version": "1.2.0",
      "_view_name": "LayoutView",
      "align_content": null,
      "align_items": null,
      "align_self": null,
      "border": null,
      "bottom": null,
      "display": null,
      "flex": null,
      "flex_flow": null,
      "grid_area": null,
      "grid_auto_columns": null,
      "grid_auto_flow": null,
      "grid_auto_rows": null,
      "grid_column": null,
      "grid_gap": null,
      "grid_row": null,
      "grid_template_areas": null,
      "grid_template_columns": null,
      "grid_template_rows": null,
      "height": null,
      "justify_content": null,
      "justify_items": null,
      "left": null,
      "margin": null,
      "max_height": null,
      "max_width": null,
      "min_height": null,
      "min_width": null,
      "object_fit": null,
      "object_position": null,
      "order": null,
      "overflow": null,
      "overflow_x": null,
      "overflow_y": null,
      "padding": null,
      "right": null,
      "top": null,
      "visibility": null,
      "width": null
     }
    },
    "4d14ad2281014e4dad7baa573274ae25": {
     "model_module": "@jupyter-widgets/controls",
     "model_module_version": "1.5.0",
     "model_name": "ProgressStyleModel",
     "state": {
      "_model_module": "@jupyter-widgets/controls",
      "_model_module_version": "1.5.0",
      "_model_name": "ProgressStyleModel",
      "_view_count": null,
      "_view_module": "@jupyter-widgets/base",
      "_view_module_version": "1.2.0",
      "_view_name": "StyleView",
      "bar_color": null,
      "description_width": ""
     }
    },
    "4dba1a6ff2744a698b69d019ac5e55fb": {
     "model_module": "@jupyter-widgets/base",
     "model_module_version": "1.2.0",
     "model_name": "LayoutModel",
     "state": {
      "_model_module": "@jupyter-widgets/base",
      "_model_module_version": "1.2.0",
      "_model_name": "LayoutModel",
      "_view_count": null,
      "_view_module": "@jupyter-widgets/base",
      "_view_module_version": "1.2.0",
      "_view_name": "LayoutView",
      "align_content": null,
      "align_items": null,
      "align_self": null,
      "border": null,
      "bottom": null,
      "display": null,
      "flex": null,
      "flex_flow": null,
      "grid_area": null,
      "grid_auto_columns": null,
      "grid_auto_flow": null,
      "grid_auto_rows": null,
      "grid_column": null,
      "grid_gap": null,
      "grid_row": null,
      "grid_template_areas": null,
      "grid_template_columns": null,
      "grid_template_rows": null,
      "height": null,
      "justify_content": null,
      "justify_items": null,
      "left": null,
      "margin": null,
      "max_height": null,
      "max_width": null,
      "min_height": null,
      "min_width": null,
      "object_fit": null,
      "object_position": null,
      "order": null,
      "overflow": null,
      "overflow_x": null,
      "overflow_y": null,
      "padding": null,
      "right": null,
      "top": null,
      "visibility": null,
      "width": null
     }
    },
    "564abf30d04f4e63ad19aa0805078cb9": {
     "model_module": "@jupyter-widgets/controls",
     "model_module_version": "1.5.0",
     "model_name": "DescriptionStyleModel",
     "state": {
      "_model_module": "@jupyter-widgets/controls",
      "_model_module_version": "1.5.0",
      "_model_name": "DescriptionStyleModel",
      "_view_count": null,
      "_view_module": "@jupyter-widgets/base",
      "_view_module_version": "1.2.0",
      "_view_name": "StyleView",
      "description_width": ""
     }
    },
    "567153ae24634430ac14f55828b80f48": {
     "model_module": "@jupyter-widgets/controls",
     "model_module_version": "1.5.0",
     "model_name": "HTMLModel",
     "state": {
      "_dom_classes": [],
      "_model_module": "@jupyter-widgets/controls",
      "_model_module_version": "1.5.0",
      "_model_name": "HTMLModel",
      "_view_count": null,
      "_view_module": "@jupyter-widgets/controls",
      "_view_module_version": "1.5.0",
      "_view_name": "HTMLView",
      "description": "",
      "description_tooltip": null,
      "layout": "IPY_MODEL_b1cb48d9966d459cb5c9308d9e22c134",
      "placeholder": "​",
      "style": "IPY_MODEL_564abf30d04f4e63ad19aa0805078cb9",
      "value": "training routine:   1%"
     }
    },
    "58b84cf41e0e4378bfa64c616cc1d070": {
     "model_module": "@jupyter-widgets/controls",
     "model_module_version": "1.5.0",
     "model_name": "DescriptionStyleModel",
     "state": {
      "_model_module": "@jupyter-widgets/controls",
      "_model_module_version": "1.5.0",
      "_model_name": "DescriptionStyleModel",
      "_view_count": null,
      "_view_module": "@jupyter-widgets/base",
      "_view_module_version": "1.2.0",
      "_view_name": "StyleView",
      "description_width": ""
     }
    },
    "591e5168d8b542ec80fa81dfb9858953": {
     "model_module": "@jupyter-widgets/controls",
     "model_module_version": "1.5.0",
     "model_name": "HBoxModel",
     "state": {
      "_dom_classes": [],
      "_model_module": "@jupyter-widgets/controls",
      "_model_module_version": "1.5.0",
      "_model_name": "HBoxModel",
      "_view_count": null,
      "_view_module": "@jupyter-widgets/controls",
      "_view_module_version": "1.5.0",
      "_view_name": "HBoxView",
      "box_style": "",
      "children": [
       "IPY_MODEL_9b11dce828034cf7986c0c3f6ffe6a38",
       "IPY_MODEL_7a2d6cbba2394f43a69f3a7b315fad50",
       "IPY_MODEL_41c8bb6f8f6b46ccbd6ed1a103359272"
      ],
      "layout": "IPY_MODEL_b5bb60d6c6bc43d79576d58b9ec2ae2b"
     }
    },
    "595536346a9e42989ddfe650ccf473c6": {
     "model_module": "@jupyter-widgets/base",
     "model_module_version": "1.2.0",
     "model_name": "LayoutModel",
     "state": {
      "_model_module": "@jupyter-widgets/base",
      "_model_module_version": "1.2.0",
      "_model_name": "LayoutModel",
      "_view_count": null,
      "_view_module": "@jupyter-widgets/base",
      "_view_module_version": "1.2.0",
      "_view_name": "LayoutView",
      "align_content": null,
      "align_items": null,
      "align_self": null,
      "border": null,
      "bottom": null,
      "display": null,
      "flex": null,
      "flex_flow": null,
      "grid_area": null,
      "grid_auto_columns": null,
      "grid_auto_flow": null,
      "grid_auto_rows": null,
      "grid_column": null,
      "grid_gap": null,
      "grid_row": null,
      "grid_template_areas": null,
      "grid_template_columns": null,
      "grid_template_rows": null,
      "height": null,
      "justify_content": null,
      "justify_items": null,
      "left": null,
      "margin": null,
      "max_height": null,
      "max_width": null,
      "min_height": null,
      "min_width": null,
      "object_fit": null,
      "object_position": null,
      "order": null,
      "overflow": null,
      "overflow_x": null,
      "overflow_y": null,
      "padding": null,
      "right": null,
      "top": null,
      "visibility": null,
      "width": null
     }
    },
    "5d7de74b34cf46b9a2718bac909c310d": {
     "model_module": "@jupyter-widgets/controls",
     "model_module_version": "1.5.0",
     "model_name": "HTMLModel",
     "state": {
      "_dom_classes": [],
      "_model_module": "@jupyter-widgets/controls",
      "_model_module_version": "1.5.0",
      "_model_name": "HTMLModel",
      "_view_count": null,
      "_view_module": "@jupyter-widgets/controls",
      "_view_module_version": "1.5.0",
      "_view_name": "HTMLView",
      "description": "",
      "description_tooltip": null,
      "layout": "IPY_MODEL_20d2dc0dbeae49809d75e27216198735",
      "placeholder": "​",
      "style": "IPY_MODEL_c7839db74ae741b486842c7034e9a7c3",
      "value": " 0/100 [00:00&lt;?, ?it/s]"
     }
    },
    "5da6edf9b3eb456082f6d2480325fddc": {
     "model_module": "@jupyter-widgets/controls",
     "model_module_version": "1.5.0",
     "model_name": "DescriptionStyleModel",
     "state": {
      "_model_module": "@jupyter-widgets/controls",
      "_model_module_version": "1.5.0",
      "_model_name": "DescriptionStyleModel",
      "_view_count": null,
      "_view_module": "@jupyter-widgets/base",
      "_view_module_version": "1.2.0",
      "_view_name": "StyleView",
      "description_width": ""
     }
    },
    "6063da6713bf4c07b275b381c4d0f2b6": {
     "model_module": "@jupyter-widgets/controls",
     "model_module_version": "1.5.0",
     "model_name": "DescriptionStyleModel",
     "state": {
      "_model_module": "@jupyter-widgets/controls",
      "_model_module_version": "1.5.0",
      "_model_name": "DescriptionStyleModel",
      "_view_count": null,
      "_view_module": "@jupyter-widgets/base",
      "_view_module_version": "1.2.0",
      "_view_name": "StyleView",
      "description_width": ""
     }
    },
    "61220c08d9c14d49b25eb70677e90d68": {
     "model_module": "@jupyter-widgets/controls",
     "model_module_version": "1.5.0",
     "model_name": "DescriptionStyleModel",
     "state": {
      "_model_module": "@jupyter-widgets/controls",
      "_model_module_version": "1.5.0",
      "_model_name": "DescriptionStyleModel",
      "_view_count": null,
      "_view_module": "@jupyter-widgets/base",
      "_view_module_version": "1.2.0",
      "_view_name": "StyleView",
      "description_width": ""
     }
    },
    "6265cb40f3124424ad156c20d13b93b2": {
     "model_module": "@jupyter-widgets/controls",
     "model_module_version": "1.5.0",
     "model_name": "DescriptionStyleModel",
     "state": {
      "_model_module": "@jupyter-widgets/controls",
      "_model_module_version": "1.5.0",
      "_model_name": "DescriptionStyleModel",
      "_view_count": null,
      "_view_module": "@jupyter-widgets/base",
      "_view_module_version": "1.2.0",
      "_view_name": "StyleView",
      "description_width": ""
     }
    },
    "62988d1c861945b491a13176e6b77e76": {
     "model_module": "@jupyter-widgets/base",
     "model_module_version": "1.2.0",
     "model_name": "LayoutModel",
     "state": {
      "_model_module": "@jupyter-widgets/base",
      "_model_module_version": "1.2.0",
      "_model_name": "LayoutModel",
      "_view_count": null,
      "_view_module": "@jupyter-widgets/base",
      "_view_module_version": "1.2.0",
      "_view_name": "LayoutView",
      "align_content": null,
      "align_items": null,
      "align_self": null,
      "border": null,
      "bottom": null,
      "display": null,
      "flex": null,
      "flex_flow": null,
      "grid_area": null,
      "grid_auto_columns": null,
      "grid_auto_flow": null,
      "grid_auto_rows": null,
      "grid_column": null,
      "grid_gap": null,
      "grid_row": null,
      "grid_template_areas": null,
      "grid_template_columns": null,
      "grid_template_rows": null,
      "height": null,
      "justify_content": null,
      "justify_items": null,
      "left": null,
      "margin": null,
      "max_height": null,
      "max_width": null,
      "min_height": null,
      "min_width": null,
      "object_fit": null,
      "object_position": null,
      "order": null,
      "overflow": null,
      "overflow_x": null,
      "overflow_y": null,
      "padding": null,
      "right": null,
      "top": null,
      "visibility": null,
      "width": null
     }
    },
    "68ea8c84c6e24e15b3c69c5857df1816": {
     "model_module": "@jupyter-widgets/controls",
     "model_module_version": "1.5.0",
     "model_name": "HTMLModel",
     "state": {
      "_dom_classes": [],
      "_model_module": "@jupyter-widgets/controls",
      "_model_module_version": "1.5.0",
      "_model_name": "HTMLModel",
      "_view_count": null,
      "_view_module": "@jupyter-widgets/controls",
      "_view_module_version": "1.5.0",
      "_view_name": "HTMLView",
      "description": "",
      "description_tooltip": null,
      "layout": "IPY_MODEL_127ce8396ed3453eb9054046ab05bdab",
      "placeholder": "​",
      "style": "IPY_MODEL_70b812fb666c4f18909ac7a1e7d10f62",
      "value": " 143/162 [01:29&lt;01:03,  3.32s/it, acc=80.7, epoch=13, loss=0.44]"
     }
    },
    "6a4019c264a640c49d8326bab60bc9b2": {
     "model_module": "@jupyter-widgets/base",
     "model_module_version": "1.2.0",
     "model_name": "LayoutModel",
     "state": {
      "_model_module": "@jupyter-widgets/base",
      "_model_module_version": "1.2.0",
      "_model_name": "LayoutModel",
      "_view_count": null,
      "_view_module": "@jupyter-widgets/base",
      "_view_module_version": "1.2.0",
      "_view_name": "LayoutView",
      "align_content": null,
      "align_items": null,
      "align_self": null,
      "border": null,
      "bottom": null,
      "display": null,
      "flex": null,
      "flex_flow": null,
      "grid_area": null,
      "grid_auto_columns": null,
      "grid_auto_flow": null,
      "grid_auto_rows": null,
      "grid_column": null,
      "grid_gap": null,
      "grid_row": null,
      "grid_template_areas": null,
      "grid_template_columns": null,
      "grid_template_rows": null,
      "height": null,
      "justify_content": null,
      "justify_items": null,
      "left": null,
      "margin": null,
      "max_height": null,
      "max_width": null,
      "min_height": null,
      "min_width": null,
      "object_fit": null,
      "object_position": null,
      "order": null,
      "overflow": null,
      "overflow_x": null,
      "overflow_y": null,
      "padding": null,
      "right": null,
      "top": null,
      "visibility": null,
      "width": null
     }
    },
    "6aa6f8b6c9dc43fdbc9156cee4568e48": {
     "model_module": "@jupyter-widgets/controls",
     "model_module_version": "1.5.0",
     "model_name": "DescriptionStyleModel",
     "state": {
      "_model_module": "@jupyter-widgets/controls",
      "_model_module_version": "1.5.0",
      "_model_name": "DescriptionStyleModel",
      "_view_count": null,
      "_view_module": "@jupyter-widgets/base",
      "_view_module_version": "1.2.0",
      "_view_name": "StyleView",
      "description_width": ""
     }
    },
    "6bf9f0cf7dcc4dc29e21168c0d02c032": {
     "model_module": "@jupyter-widgets/controls",
     "model_module_version": "1.5.0",
     "model_name": "DescriptionStyleModel",
     "state": {
      "_model_module": "@jupyter-widgets/controls",
      "_model_module_version": "1.5.0",
      "_model_name": "DescriptionStyleModel",
      "_view_count": null,
      "_view_module": "@jupyter-widgets/base",
      "_view_module_version": "1.2.0",
      "_view_name": "StyleView",
      "description_width": ""
     }
    },
    "70b812fb666c4f18909ac7a1e7d10f62": {
     "model_module": "@jupyter-widgets/controls",
     "model_module_version": "1.5.0",
     "model_name": "DescriptionStyleModel",
     "state": {
      "_model_module": "@jupyter-widgets/controls",
      "_model_module_version": "1.5.0",
      "_model_name": "DescriptionStyleModel",
      "_view_count": null,
      "_view_module": "@jupyter-widgets/base",
      "_view_module_version": "1.2.0",
      "_view_name": "StyleView",
      "description_width": ""
     }
    },
    "779c6e0efbd14fa394b71030ede402a2": {
     "model_module": "@jupyter-widgets/controls",
     "model_module_version": "1.5.0",
     "model_name": "ProgressStyleModel",
     "state": {
      "_model_module": "@jupyter-widgets/controls",
      "_model_module_version": "1.5.0",
      "_model_name": "ProgressStyleModel",
      "_view_count": null,
      "_view_module": "@jupyter-widgets/base",
      "_view_module_version": "1.2.0",
      "_view_name": "StyleView",
      "bar_color": null,
      "description_width": ""
     }
    },
    "797f4fdddac04f9786c3a2779468a8a2": {
     "model_module": "@jupyter-widgets/controls",
     "model_module_version": "1.5.0",
     "model_name": "FloatProgressModel",
     "state": {
      "_dom_classes": [],
      "_model_module": "@jupyter-widgets/controls",
      "_model_module_version": "1.5.0",
      "_model_name": "FloatProgressModel",
      "_view_count": null,
      "_view_module": "@jupyter-widgets/controls",
      "_view_module_version": "1.5.0",
      "_view_name": "ProgressView",
      "bar_style": "",
      "description": "",
      "description_tooltip": null,
      "layout": "IPY_MODEL_42d17dff48d64d24aeddbc3cac3aa2f4",
      "max": 162,
      "min": 0,
      "orientation": "horizontal",
      "style": "IPY_MODEL_b22798a8c3ce409184d21cf6a2088e43",
      "value": 127
     }
    },
    "7a2d6cbba2394f43a69f3a7b315fad50": {
     "model_module": "@jupyter-widgets/controls",
     "model_module_version": "1.5.0",
     "model_name": "FloatProgressModel",
     "state": {
      "_dom_classes": [],
      "_model_module": "@jupyter-widgets/controls",
      "_model_module_version": "1.5.0",
      "_model_name": "FloatProgressModel",
      "_view_count": null,
      "_view_module": "@jupyter-widgets/controls",
      "_view_module_version": "1.5.0",
      "_view_name": "ProgressView",
      "bar_style": "",
      "description": "",
      "description_tooltip": null,
      "layout": "IPY_MODEL_b3c6226d502345f9858c14f8454501b1",
      "max": 23,
      "min": 0,
      "orientation": "horizontal",
      "style": "IPY_MODEL_779c6e0efbd14fa394b71030ede402a2",
      "value": 0
     }
    },
    "7b908496db434031a87e9b136122829f": {
     "model_module": "@jupyter-widgets/controls",
     "model_module_version": "1.5.0",
     "model_name": "HBoxModel",
     "state": {
      "_dom_classes": [],
      "_model_module": "@jupyter-widgets/controls",
      "_model_module_version": "1.5.0",
      "_model_name": "HBoxModel",
      "_view_count": null,
      "_view_module": "@jupyter-widgets/controls",
      "_view_module_version": "1.5.0",
      "_view_name": "HBoxView",
      "box_style": "",
      "children": [
       "IPY_MODEL_a90c8385d452429990d868b595fe7e6e",
       "IPY_MODEL_0b47167342a84d1bb6cec233b603e7f8",
       "IPY_MODEL_3bae6f9edb7d4b43ba80345ad75205ed"
      ],
      "layout": "IPY_MODEL_d4937e9fef1040e2bab278835c34ef9f"
     }
    },
    "7be9a35b35e94b3e99619012dcc266d0": {
     "model_module": "@jupyter-widgets/controls",
     "model_module_version": "1.5.0",
     "model_name": "HTMLModel",
     "state": {
      "_dom_classes": [],
      "_model_module": "@jupyter-widgets/controls",
      "_model_module_version": "1.5.0",
      "_model_name": "HTMLModel",
      "_view_count": null,
      "_view_module": "@jupyter-widgets/controls",
      "_view_module_version": "1.5.0",
      "_view_name": "HTMLView",
      "description": "",
      "description_tooltip": null,
      "layout": "IPY_MODEL_9c991e6aaffd4c24a709d5c25b838ecf",
      "placeholder": "​",
      "style": "IPY_MODEL_5da6edf9b3eb456082f6d2480325fddc",
      "value": "split=val:   0%"
     }
    },
    "87d10fe9632a4cd0afba2d8d2f476014": {
     "model_module": "@jupyter-widgets/controls",
     "model_module_version": "1.5.0",
     "model_name": "HTMLModel",
     "state": {
      "_dom_classes": [],
      "_model_module": "@jupyter-widgets/controls",
      "_model_module_version": "1.5.0",
      "_model_name": "HTMLModel",
      "_view_count": null,
      "_view_module": "@jupyter-widgets/controls",
      "_view_module_version": "1.5.0",
      "_view_name": "HTMLView",
      "description": "",
      "description_tooltip": null,
      "layout": "IPY_MODEL_4dba1a6ff2744a698b69d019ac5e55fb",
      "placeholder": "​",
      "style": "IPY_MODEL_6aa6f8b6c9dc43fdbc9156cee4568e48",
      "value": " 1/100 [00:12&lt;07:10,  4.35s/it]"
     }
    },
    "8958a345e41f4ece9c01987fe22b7626": {
     "model_module": "@jupyter-widgets/base",
     "model_module_version": "1.2.0",
     "model_name": "LayoutModel",
     "state": {
      "_model_module": "@jupyter-widgets/base",
      "_model_module_version": "1.2.0",
      "_model_name": "LayoutModel",
      "_view_count": null,
      "_view_module": "@jupyter-widgets/base",
      "_view_module_version": "1.2.0",
      "_view_name": "LayoutView",
      "align_content": null,
      "align_items": null,
      "align_self": null,
      "border": null,
      "bottom": null,
      "display": null,
      "flex": null,
      "flex_flow": null,
      "grid_area": null,
      "grid_auto_columns": null,
      "grid_auto_flow": null,
      "grid_auto_rows": null,
      "grid_column": null,
      "grid_gap": null,
      "grid_row": null,
      "grid_template_areas": null,
      "grid_template_columns": null,
      "grid_template_rows": null,
      "height": null,
      "justify_content": null,
      "justify_items": null,
      "left": null,
      "margin": null,
      "max_height": null,
      "max_width": null,
      "min_height": null,
      "min_width": null,
      "object_fit": null,
      "object_position": null,
      "order": null,
      "overflow": null,
      "overflow_x": null,
      "overflow_y": null,
      "padding": null,
      "right": null,
      "top": null,
      "visibility": null,
      "width": null
     }
    },
    "8ef1282963f04d67930e57ae33711ed9": {
     "model_module": "@jupyter-widgets/base",
     "model_module_version": "1.2.0",
     "model_name": "LayoutModel",
     "state": {
      "_model_module": "@jupyter-widgets/base",
      "_model_module_version": "1.2.0",
      "_model_name": "LayoutModel",
      "_view_count": null,
      "_view_module": "@jupyter-widgets/base",
      "_view_module_version": "1.2.0",
      "_view_name": "LayoutView",
      "align_content": null,
      "align_items": null,
      "align_self": null,
      "border": null,
      "bottom": null,
      "display": null,
      "flex": null,
      "flex_flow": null,
      "grid_area": null,
      "grid_auto_columns": null,
      "grid_auto_flow": null,
      "grid_auto_rows": null,
      "grid_column": null,
      "grid_gap": null,
      "grid_row": null,
      "grid_template_areas": null,
      "grid_template_columns": null,
      "grid_template_rows": null,
      "height": null,
      "justify_content": null,
      "justify_items": null,
      "left": null,
      "margin": null,
      "max_height": null,
      "max_width": null,
      "min_height": null,
      "min_width": null,
      "object_fit": null,
      "object_position": null,
      "order": null,
      "overflow": null,
      "overflow_x": null,
      "overflow_y": null,
      "padding": null,
      "right": null,
      "top": null,
      "visibility": null,
      "width": null
     }
    },
    "915961b3911341749c3153f7f5189d40": {
     "model_module": "@jupyter-widgets/controls",
     "model_module_version": "1.5.0",
     "model_name": "DescriptionStyleModel",
     "state": {
      "_model_module": "@jupyter-widgets/controls",
      "_model_module_version": "1.5.0",
      "_model_name": "DescriptionStyleModel",
      "_view_count": null,
      "_view_module": "@jupyter-widgets/base",
      "_view_module_version": "1.2.0",
      "_view_name": "StyleView",
      "description_width": ""
     }
    },
    "9a5502dcc0934fb1a7d11215cf1c1b1a": {
     "model_module": "@jupyter-widgets/controls",
     "model_module_version": "1.5.0",
     "model_name": "DescriptionStyleModel",
     "state": {
      "_model_module": "@jupyter-widgets/controls",
      "_model_module_version": "1.5.0",
      "_model_name": "DescriptionStyleModel",
      "_view_count": null,
      "_view_module": "@jupyter-widgets/base",
      "_view_module_version": "1.2.0",
      "_view_name": "StyleView",
      "description_width": ""
     }
    },
    "9b11dce828034cf7986c0c3f6ffe6a38": {
     "model_module": "@jupyter-widgets/controls",
     "model_module_version": "1.5.0",
     "model_name": "HTMLModel",
     "state": {
      "_dom_classes": [],
      "_model_module": "@jupyter-widgets/controls",
      "_model_module_version": "1.5.0",
      "_model_name": "HTMLModel",
      "_view_count": null,
      "_view_module": "@jupyter-widgets/controls",
      "_view_module_version": "1.5.0",
      "_view_name": "HTMLView",
      "description": "",
      "description_tooltip": null,
      "layout": "IPY_MODEL_b93dd14694cc4b51a9740603ae2dd210",
      "placeholder": "​",
      "style": "IPY_MODEL_6265cb40f3124424ad156c20d13b93b2",
      "value": "split=val:   0%"
     }
    },
    "9c991e6aaffd4c24a709d5c25b838ecf": {
     "model_module": "@jupyter-widgets/base",
     "model_module_version": "1.2.0",
     "model_name": "LayoutModel",
     "state": {
      "_model_module": "@jupyter-widgets/base",
      "_model_module_version": "1.2.0",
      "_model_name": "LayoutModel",
      "_view_count": null,
      "_view_module": "@jupyter-widgets/base",
      "_view_module_version": "1.2.0",
      "_view_name": "LayoutView",
      "align_content": null,
      "align_items": null,
      "align_self": null,
      "border": null,
      "bottom": null,
      "display": null,
      "flex": null,
      "flex_flow": null,
      "grid_area": null,
      "grid_auto_columns": null,
      "grid_auto_flow": null,
      "grid_auto_rows": null,
      "grid_column": null,
      "grid_gap": null,
      "grid_row": null,
      "grid_template_areas": null,
      "grid_template_columns": null,
      "grid_template_rows": null,
      "height": null,
      "justify_content": null,
      "justify_items": null,
      "left": null,
      "margin": null,
      "max_height": null,
      "max_width": null,
      "min_height": null,
      "min_width": null,
      "object_fit": null,
      "object_position": null,
      "order": null,
      "overflow": null,
      "overflow_x": null,
      "overflow_y": null,
      "padding": null,
      "right": null,
      "top": null,
      "visibility": null,
      "width": null
     }
    },
    "a0b94c2a83e94f44a7f40fafc2d2e90d": {
     "model_module": "@jupyter-widgets/base",
     "model_module_version": "1.2.0",
     "model_name": "LayoutModel",
     "state": {
      "_model_module": "@jupyter-widgets/base",
      "_model_module_version": "1.2.0",
      "_model_name": "LayoutModel",
      "_view_count": null,
      "_view_module": "@jupyter-widgets/base",
      "_view_module_version": "1.2.0",
      "_view_name": "LayoutView",
      "align_content": null,
      "align_items": null,
      "align_self": null,
      "border": null,
      "bottom": null,
      "display": null,
      "flex": null,
      "flex_flow": null,
      "grid_area": null,
      "grid_auto_columns": null,
      "grid_auto_flow": null,
      "grid_auto_rows": null,
      "grid_column": null,
      "grid_gap": null,
      "grid_row": null,
      "grid_template_areas": null,
      "grid_template_columns": null,
      "grid_template_rows": null,
      "height": null,
      "justify_content": null,
      "justify_items": null,
      "left": null,
      "margin": null,
      "max_height": null,
      "max_width": null,
      "min_height": null,
      "min_width": null,
      "object_fit": null,
      "object_position": null,
      "order": null,
      "overflow": null,
      "overflow_x": null,
      "overflow_y": null,
      "padding": null,
      "right": null,
      "top": null,
      "visibility": null,
      "width": null
     }
    },
    "a19d7f2de9e94444b6dbd831507e8dc6": {
     "model_module": "@jupyter-widgets/controls",
     "model_module_version": "1.5.0",
     "model_name": "HTMLModel",
     "state": {
      "_dom_classes": [],
      "_model_module": "@jupyter-widgets/controls",
      "_model_module_version": "1.5.0",
      "_model_name": "HTMLModel",
      "_view_count": null,
      "_view_module": "@jupyter-widgets/controls",
      "_view_module_version": "1.5.0",
      "_view_name": "HTMLView",
      "description": "",
      "description_tooltip": null,
      "layout": "IPY_MODEL_3e5784ef4d49406bb27f2646cbf0f5e7",
      "placeholder": "​",
      "style": "IPY_MODEL_6bf9f0cf7dcc4dc29e21168c0d02c032",
      "value": "split=val:   0%"
     }
    },
    "a2de02eb6fbd40d1a2f697d15e67f54f": {
     "model_module": "@jupyter-widgets/base",
     "model_module_version": "1.2.0",
     "model_name": "LayoutModel",
     "state": {
      "_model_module": "@jupyter-widgets/base",
      "_model_module_version": "1.2.0",
      "_model_name": "LayoutModel",
      "_view_count": null,
      "_view_module": "@jupyter-widgets/base",
      "_view_module_version": "1.2.0",
      "_view_name": "LayoutView",
      "align_content": null,
      "align_items": null,
      "align_self": null,
      "border": null,
      "bottom": null,
      "display": null,
      "flex": null,
      "flex_flow": null,
      "grid_area": null,
      "grid_auto_columns": null,
      "grid_auto_flow": null,
      "grid_auto_rows": null,
      "grid_column": null,
      "grid_gap": null,
      "grid_row": null,
      "grid_template_areas": null,
      "grid_template_columns": null,
      "grid_template_rows": null,
      "height": null,
      "justify_content": null,
      "justify_items": null,
      "left": null,
      "margin": null,
      "max_height": null,
      "max_width": null,
      "min_height": null,
      "min_width": null,
      "object_fit": null,
      "object_position": null,
      "order": null,
      "overflow": null,
      "overflow_x": null,
      "overflow_y": null,
      "padding": null,
      "right": null,
      "top": null,
      "visibility": null,
      "width": null
     }
    },
    "a3c623e024594253be32952617caaee7": {
     "model_module": "@jupyter-widgets/controls",
     "model_module_version": "1.5.0",
     "model_name": "HBoxModel",
     "state": {
      "_dom_classes": [],
      "_model_module": "@jupyter-widgets/controls",
      "_model_module_version": "1.5.0",
      "_model_name": "HBoxModel",
      "_view_count": null,
      "_view_module": "@jupyter-widgets/controls",
      "_view_module_version": "1.5.0",
      "_view_name": "HBoxView",
      "box_style": "",
      "children": [
       "IPY_MODEL_b4016ce9d6a945a9835861442adb62fb",
       "IPY_MODEL_a759ec336a43450681f1cf7c0a86a9fb",
       "IPY_MODEL_68ea8c84c6e24e15b3c69c5857df1816"
      ],
      "layout": "IPY_MODEL_058bba68fc66437fa9171361e5006960"
     }
    },
    "a412230d5c004b0e81b54c31b13177dc": {
     "model_module": "@jupyter-widgets/base",
     "model_module_version": "1.2.0",
     "model_name": "LayoutModel",
     "state": {
      "_model_module": "@jupyter-widgets/base",
      "_model_module_version": "1.2.0",
      "_model_name": "LayoutModel",
      "_view_count": null,
      "_view_module": "@jupyter-widgets/base",
      "_view_module_version": "1.2.0",
      "_view_name": "LayoutView",
      "align_content": null,
      "align_items": null,
      "align_self": null,
      "border": null,
      "bottom": null,
      "display": null,
      "flex": null,
      "flex_flow": null,
      "grid_area": null,
      "grid_auto_columns": null,
      "grid_auto_flow": null,
      "grid_auto_rows": null,
      "grid_column": null,
      "grid_gap": null,
      "grid_row": null,
      "grid_template_areas": null,
      "grid_template_columns": null,
      "grid_template_rows": null,
      "height": null,
      "justify_content": null,
      "justify_items": null,
      "left": null,
      "margin": null,
      "max_height": null,
      "max_width": null,
      "min_height": null,
      "min_width": null,
      "object_fit": null,
      "object_position": null,
      "order": null,
      "overflow": null,
      "overflow_x": null,
      "overflow_y": null,
      "padding": null,
      "right": null,
      "top": null,
      "visibility": null,
      "width": null
     }
    },
    "a56d10014d2943e282280105f5cdc1d7": {
     "model_module": "@jupyter-widgets/base",
     "model_module_version": "1.2.0",
     "model_name": "LayoutModel",
     "state": {
      "_model_module": "@jupyter-widgets/base",
      "_model_module_version": "1.2.0",
      "_model_name": "LayoutModel",
      "_view_count": null,
      "_view_module": "@jupyter-widgets/base",
      "_view_module_version": "1.2.0",
      "_view_name": "LayoutView",
      "align_content": null,
      "align_items": null,
      "align_self": null,
      "border": null,
      "bottom": null,
      "display": null,
      "flex": null,
      "flex_flow": null,
      "grid_area": null,
      "grid_auto_columns": null,
      "grid_auto_flow": null,
      "grid_auto_rows": null,
      "grid_column": null,
      "grid_gap": null,
      "grid_row": null,
      "grid_template_areas": null,
      "grid_template_columns": null,
      "grid_template_rows": null,
      "height": null,
      "justify_content": null,
      "justify_items": null,
      "left": null,
      "margin": null,
      "max_height": null,
      "max_width": null,
      "min_height": null,
      "min_width": null,
      "object_fit": null,
      "object_position": null,
      "order": null,
      "overflow": null,
      "overflow_x": null,
      "overflow_y": null,
      "padding": null,
      "right": null,
      "top": null,
      "visibility": null,
      "width": null
     }
    },
    "a6d66faf0ac94ef493654714ba34890a": {
     "model_module": "@jupyter-widgets/base",
     "model_module_version": "1.2.0",
     "model_name": "LayoutModel",
     "state": {
      "_model_module": "@jupyter-widgets/base",
      "_model_module_version": "1.2.0",
      "_model_name": "LayoutModel",
      "_view_count": null,
      "_view_module": "@jupyter-widgets/base",
      "_view_module_version": "1.2.0",
      "_view_name": "LayoutView",
      "align_content": null,
      "align_items": null,
      "align_self": null,
      "border": null,
      "bottom": null,
      "display": null,
      "flex": null,
      "flex_flow": null,
      "grid_area": null,
      "grid_auto_columns": null,
      "grid_auto_flow": null,
      "grid_auto_rows": null,
      "grid_column": null,
      "grid_gap": null,
      "grid_row": null,
      "grid_template_areas": null,
      "grid_template_columns": null,
      "grid_template_rows": null,
      "height": null,
      "justify_content": null,
      "justify_items": null,
      "left": null,
      "margin": null,
      "max_height": null,
      "max_width": null,
      "min_height": null,
      "min_width": null,
      "object_fit": null,
      "object_position": null,
      "order": null,
      "overflow": null,
      "overflow_x": null,
      "overflow_y": null,
      "padding": null,
      "right": null,
      "top": null,
      "visibility": null,
      "width": null
     }
    },
    "a759ec336a43450681f1cf7c0a86a9fb": {
     "model_module": "@jupyter-widgets/controls",
     "model_module_version": "1.5.0",
     "model_name": "FloatProgressModel",
     "state": {
      "_dom_classes": [],
      "_model_module": "@jupyter-widgets/controls",
      "_model_module_version": "1.5.0",
      "_model_name": "FloatProgressModel",
      "_view_count": null,
      "_view_module": "@jupyter-widgets/controls",
      "_view_module_version": "1.5.0",
      "_view_name": "ProgressView",
      "bar_style": "danger",
      "description": "",
      "description_tooltip": null,
      "layout": "IPY_MODEL_e5f649ce7744435195d2ac2a49d1db40",
      "max": 162,
      "min": 0,
      "orientation": "horizontal",
      "style": "IPY_MODEL_d2621258e00d4b678a8f77aec2fb64a6",
      "value": 143
     }
    },
    "a90c8385d452429990d868b595fe7e6e": {
     "model_module": "@jupyter-widgets/controls",
     "model_module_version": "1.5.0",
     "model_name": "HTMLModel",
     "state": {
      "_dom_classes": [],
      "_model_module": "@jupyter-widgets/controls",
      "_model_module_version": "1.5.0",
      "_model_name": "HTMLModel",
      "_view_count": null,
      "_view_module": "@jupyter-widgets/controls",
      "_view_module_version": "1.5.0",
      "_view_name": "HTMLView",
      "description": "",
      "description_tooltip": null,
      "layout": "IPY_MODEL_273320a1ad2e4e0b8fe05f6d324dbcd9",
      "placeholder": "​",
      "style": "IPY_MODEL_16c70a97b4354fe99aa89bd97c8d62db",
      "value": "split=train:  39%"
     }
    },
    "af017a34be5540b9a6fd21fab2a744a0": {
     "model_module": "@jupyter-widgets/base",
     "model_module_version": "1.2.0",
     "model_name": "LayoutModel",
     "state": {
      "_model_module": "@jupyter-widgets/base",
      "_model_module_version": "1.2.0",
      "_model_name": "LayoutModel",
      "_view_count": null,
      "_view_module": "@jupyter-widgets/base",
      "_view_module_version": "1.2.0",
      "_view_name": "LayoutView",
      "align_content": null,
      "align_items": null,
      "align_self": null,
      "border": null,
      "bottom": null,
      "display": null,
      "flex": null,
      "flex_flow": null,
      "grid_area": null,
      "grid_auto_columns": null,
      "grid_auto_flow": null,
      "grid_auto_rows": null,
      "grid_column": null,
      "grid_gap": null,
      "grid_row": null,
      "grid_template_areas": null,
      "grid_template_columns": null,
      "grid_template_rows": null,
      "height": null,
      "justify_content": null,
      "justify_items": null,
      "left": null,
      "margin": null,
      "max_height": null,
      "max_width": null,
      "min_height": null,
      "min_width": null,
      "object_fit": null,
      "object_position": null,
      "order": null,
      "overflow": null,
      "overflow_x": null,
      "overflow_y": null,
      "padding": null,
      "right": null,
      "top": null,
      "visibility": null,
      "width": null
     }
    },
    "b1cb48d9966d459cb5c9308d9e22c134": {
     "model_module": "@jupyter-widgets/base",
     "model_module_version": "1.2.0",
     "model_name": "LayoutModel",
     "state": {
      "_model_module": "@jupyter-widgets/base",
      "_model_module_version": "1.2.0",
      "_model_name": "LayoutModel",
      "_view_count": null,
      "_view_module": "@jupyter-widgets/base",
      "_view_module_version": "1.2.0",
      "_view_name": "LayoutView",
      "align_content": null,
      "align_items": null,
      "align_self": null,
      "border": null,
      "bottom": null,
      "display": null,
      "flex": null,
      "flex_flow": null,
      "grid_area": null,
      "grid_auto_columns": null,
      "grid_auto_flow": null,
      "grid_auto_rows": null,
      "grid_column": null,
      "grid_gap": null,
      "grid_row": null,
      "grid_template_areas": null,
      "grid_template_columns": null,
      "grid_template_rows": null,
      "height": null,
      "justify_content": null,
      "justify_items": null,
      "left": null,
      "margin": null,
      "max_height": null,
      "max_width": null,
      "min_height": null,
      "min_width": null,
      "object_fit": null,
      "object_position": null,
      "order": null,
      "overflow": null,
      "overflow_x": null,
      "overflow_y": null,
      "padding": null,
      "right": null,
      "top": null,
      "visibility": null,
      "width": null
     }
    },
    "b22798a8c3ce409184d21cf6a2088e43": {
     "model_module": "@jupyter-widgets/controls",
     "model_module_version": "1.5.0",
     "model_name": "ProgressStyleModel",
     "state": {
      "_model_module": "@jupyter-widgets/controls",
      "_model_module_version": "1.5.0",
      "_model_name": "ProgressStyleModel",
      "_view_count": null,
      "_view_module": "@jupyter-widgets/base",
      "_view_module_version": "1.2.0",
      "_view_name": "StyleView",
      "bar_color": null,
      "description_width": ""
     }
    },
    "b26a5d4318804aa6a85be343ed1e6d69": {
     "model_module": "@jupyter-widgets/controls",
     "model_module_version": "1.5.0",
     "model_name": "ProgressStyleModel",
     "state": {
      "_model_module": "@jupyter-widgets/controls",
      "_model_module_version": "1.5.0",
      "_model_name": "ProgressStyleModel",
      "_view_count": null,
      "_view_module": "@jupyter-widgets/base",
      "_view_module_version": "1.2.0",
      "_view_name": "StyleView",
      "bar_color": null,
      "description_width": ""
     }
    },
    "b2772eea78ba4861aad8e746b230a2fa": {
     "model_module": "@jupyter-widgets/base",
     "model_module_version": "1.2.0",
     "model_name": "LayoutModel",
     "state": {
      "_model_module": "@jupyter-widgets/base",
      "_model_module_version": "1.2.0",
      "_model_name": "LayoutModel",
      "_view_count": null,
      "_view_module": "@jupyter-widgets/base",
      "_view_module_version": "1.2.0",
      "_view_name": "LayoutView",
      "align_content": null,
      "align_items": null,
      "align_self": null,
      "border": null,
      "bottom": null,
      "display": null,
      "flex": null,
      "flex_flow": null,
      "grid_area": null,
      "grid_auto_columns": null,
      "grid_auto_flow": null,
      "grid_auto_rows": null,
      "grid_column": null,
      "grid_gap": null,
      "grid_row": null,
      "grid_template_areas": null,
      "grid_template_columns": null,
      "grid_template_rows": null,
      "height": null,
      "justify_content": null,
      "justify_items": null,
      "left": null,
      "margin": null,
      "max_height": null,
      "max_width": null,
      "min_height": null,
      "min_width": null,
      "object_fit": null,
      "object_position": null,
      "order": null,
      "overflow": null,
      "overflow_x": null,
      "overflow_y": null,
      "padding": null,
      "right": null,
      "top": null,
      "visibility": null,
      "width": null
     }
    },
    "b3c6226d502345f9858c14f8454501b1": {
     "model_module": "@jupyter-widgets/base",
     "model_module_version": "1.2.0",
     "model_name": "LayoutModel",
     "state": {
      "_model_module": "@jupyter-widgets/base",
      "_model_module_version": "1.2.0",
      "_model_name": "LayoutModel",
      "_view_count": null,
      "_view_module": "@jupyter-widgets/base",
      "_view_module_version": "1.2.0",
      "_view_name": "LayoutView",
      "align_content": null,
      "align_items": null,
      "align_self": null,
      "border": null,
      "bottom": null,
      "display": null,
      "flex": null,
      "flex_flow": null,
      "grid_area": null,
      "grid_auto_columns": null,
      "grid_auto_flow": null,
      "grid_auto_rows": null,
      "grid_column": null,
      "grid_gap": null,
      "grid_row": null,
      "grid_template_areas": null,
      "grid_template_columns": null,
      "grid_template_rows": null,
      "height": null,
      "justify_content": null,
      "justify_items": null,
      "left": null,
      "margin": null,
      "max_height": null,
      "max_width": null,
      "min_height": null,
      "min_width": null,
      "object_fit": null,
      "object_position": null,
      "order": null,
      "overflow": null,
      "overflow_x": null,
      "overflow_y": null,
      "padding": null,
      "right": null,
      "top": null,
      "visibility": null,
      "width": null
     }
    },
    "b4016ce9d6a945a9835861442adb62fb": {
     "model_module": "@jupyter-widgets/controls",
     "model_module_version": "1.5.0",
     "model_name": "HTMLModel",
     "state": {
      "_dom_classes": [],
      "_model_module": "@jupyter-widgets/controls",
      "_model_module_version": "1.5.0",
      "_model_name": "HTMLModel",
      "_view_count": null,
      "_view_module": "@jupyter-widgets/controls",
      "_view_module_version": "1.5.0",
      "_view_name": "HTMLView",
      "description": "",
      "description_tooltip": null,
      "layout": "IPY_MODEL_ca2baab029ac4b0eb057a3056e0dde1c",
      "placeholder": "​",
      "style": "IPY_MODEL_cf5b55d019c34f0ca4ed2ef42122481a",
      "value": "split=train:  88%"
     }
    },
    "b5bb60d6c6bc43d79576d58b9ec2ae2b": {
     "model_module": "@jupyter-widgets/base",
     "model_module_version": "1.2.0",
     "model_name": "LayoutModel",
     "state": {
      "_model_module": "@jupyter-widgets/base",
      "_model_module_version": "1.2.0",
      "_model_name": "LayoutModel",
      "_view_count": null,
      "_view_module": "@jupyter-widgets/base",
      "_view_module_version": "1.2.0",
      "_view_name": "LayoutView",
      "align_content": null,
      "align_items": null,
      "align_self": null,
      "border": null,
      "bottom": null,
      "display": null,
      "flex": null,
      "flex_flow": null,
      "grid_area": null,
      "grid_auto_columns": null,
      "grid_auto_flow": null,
      "grid_auto_rows": null,
      "grid_column": null,
      "grid_gap": null,
      "grid_row": null,
      "grid_template_areas": null,
      "grid_template_columns": null,
      "grid_template_rows": null,
      "height": null,
      "justify_content": null,
      "justify_items": null,
      "left": null,
      "margin": null,
      "max_height": null,
      "max_width": null,
      "min_height": null,
      "min_width": null,
      "object_fit": null,
      "object_position": null,
      "order": null,
      "overflow": null,
      "overflow_x": null,
      "overflow_y": null,
      "padding": null,
      "right": null,
      "top": null,
      "visibility": null,
      "width": null
     }
    },
    "b93dd14694cc4b51a9740603ae2dd210": {
     "model_module": "@jupyter-widgets/base",
     "model_module_version": "1.2.0",
     "model_name": "LayoutModel",
     "state": {
      "_model_module": "@jupyter-widgets/base",
      "_model_module_version": "1.2.0",
      "_model_name": "LayoutModel",
      "_view_count": null,
      "_view_module": "@jupyter-widgets/base",
      "_view_module_version": "1.2.0",
      "_view_name": "LayoutView",
      "align_content": null,
      "align_items": null,
      "align_self": null,
      "border": null,
      "bottom": null,
      "display": null,
      "flex": null,
      "flex_flow": null,
      "grid_area": null,
      "grid_auto_columns": null,
      "grid_auto_flow": null,
      "grid_auto_rows": null,
      "grid_column": null,
      "grid_gap": null,
      "grid_row": null,
      "grid_template_areas": null,
      "grid_template_columns": null,
      "grid_template_rows": null,
      "height": null,
      "justify_content": null,
      "justify_items": null,
      "left": null,
      "margin": null,
      "max_height": null,
      "max_width": null,
      "min_height": null,
      "min_width": null,
      "object_fit": null,
      "object_position": null,
      "order": null,
      "overflow": null,
      "overflow_x": null,
      "overflow_y": null,
      "padding": null,
      "right": null,
      "top": null,
      "visibility": null,
      "width": null
     }
    },
    "bb3f9ae64d7445d98362a8e238378770": {
     "model_module": "@jupyter-widgets/controls",
     "model_module_version": "1.5.0",
     "model_name": "HBoxModel",
     "state": {
      "_dom_classes": [],
      "_model_module": "@jupyter-widgets/controls",
      "_model_module_version": "1.5.0",
      "_model_name": "HBoxModel",
      "_view_count": null,
      "_view_module": "@jupyter-widgets/controls",
      "_view_module_version": "1.5.0",
      "_view_name": "HBoxView",
      "box_style": "",
      "children": [
       "IPY_MODEL_567153ae24634430ac14f55828b80f48",
       "IPY_MODEL_1e931fd523aa4005a053b00c2f47bb6b",
       "IPY_MODEL_87d10fe9632a4cd0afba2d8d2f476014"
      ],
      "layout": "IPY_MODEL_0eb633f71bcb480d8688b2cad25a7145"
     }
    },
    "c08c89181d674806b75229131864d714": {
     "model_module": "@jupyter-widgets/controls",
     "model_module_version": "1.5.0",
     "model_name": "DescriptionStyleModel",
     "state": {
      "_model_module": "@jupyter-widgets/controls",
      "_model_module_version": "1.5.0",
      "_model_name": "DescriptionStyleModel",
      "_view_count": null,
      "_view_module": "@jupyter-widgets/base",
      "_view_module_version": "1.2.0",
      "_view_name": "StyleView",
      "description_width": ""
     }
    },
    "c5325df4c8d64fc38a2bbea22ba97429": {
     "model_module": "@jupyter-widgets/controls",
     "model_module_version": "1.5.0",
     "model_name": "DescriptionStyleModel",
     "state": {
      "_model_module": "@jupyter-widgets/controls",
      "_model_module_version": "1.5.0",
      "_model_name": "DescriptionStyleModel",
      "_view_count": null,
      "_view_module": "@jupyter-widgets/base",
      "_view_module_version": "1.2.0",
      "_view_name": "StyleView",
      "description_width": ""
     }
    },
    "c53777df505340b78a0c90d0f0d3e841": {
     "model_module": "@jupyter-widgets/controls",
     "model_module_version": "1.5.0",
     "model_name": "HBoxModel",
     "state": {
      "_dom_classes": [],
      "_model_module": "@jupyter-widgets/controls",
      "_model_module_version": "1.5.0",
      "_model_name": "HBoxModel",
      "_view_count": null,
      "_view_module": "@jupyter-widgets/controls",
      "_view_module_version": "1.5.0",
      "_view_name": "HBoxView",
      "box_style": "",
      "children": [
       "IPY_MODEL_ea589957eead4bd2b9ed7687213c575b",
       "IPY_MODEL_797f4fdddac04f9786c3a2779468a8a2",
       "IPY_MODEL_2d6566a454df45c8a7f701fe9920acf2"
      ],
      "layout": "IPY_MODEL_a56d10014d2943e282280105f5cdc1d7"
     }
    },
    "c7839db74ae741b486842c7034e9a7c3": {
     "model_module": "@jupyter-widgets/controls",
     "model_module_version": "1.5.0",
     "model_name": "DescriptionStyleModel",
     "state": {
      "_model_module": "@jupyter-widgets/controls",
      "_model_module_version": "1.5.0",
      "_model_name": "DescriptionStyleModel",
      "_view_count": null,
      "_view_module": "@jupyter-widgets/base",
      "_view_module_version": "1.2.0",
      "_view_name": "StyleView",
      "description_width": ""
     }
    },
    "c7e116e9cc5d4dc2a9ccaf629a960ca5": {
     "model_module": "@jupyter-widgets/base",
     "model_module_version": "1.2.0",
     "model_name": "LayoutModel",
     "state": {
      "_model_module": "@jupyter-widgets/base",
      "_model_module_version": "1.2.0",
      "_model_name": "LayoutModel",
      "_view_count": null,
      "_view_module": "@jupyter-widgets/base",
      "_view_module_version": "1.2.0",
      "_view_name": "LayoutView",
      "align_content": null,
      "align_items": null,
      "align_self": null,
      "border": null,
      "bottom": null,
      "display": null,
      "flex": null,
      "flex_flow": null,
      "grid_area": null,
      "grid_auto_columns": null,
      "grid_auto_flow": null,
      "grid_auto_rows": null,
      "grid_column": null,
      "grid_gap": null,
      "grid_row": null,
      "grid_template_areas": null,
      "grid_template_columns": null,
      "grid_template_rows": null,
      "height": null,
      "justify_content": null,
      "justify_items": null,
      "left": null,
      "margin": null,
      "max_height": null,
      "max_width": null,
      "min_height": null,
      "min_width": null,
      "object_fit": null,
      "object_position": null,
      "order": null,
      "overflow": null,
      "overflow_x": null,
      "overflow_y": null,
      "padding": null,
      "right": null,
      "top": null,
      "visibility": null,
      "width": null
     }
    },
    "ca2baab029ac4b0eb057a3056e0dde1c": {
     "model_module": "@jupyter-widgets/base",
     "model_module_version": "1.2.0",
     "model_name": "LayoutModel",
     "state": {
      "_model_module": "@jupyter-widgets/base",
      "_model_module_version": "1.2.0",
      "_model_name": "LayoutModel",
      "_view_count": null,
      "_view_module": "@jupyter-widgets/base",
      "_view_module_version": "1.2.0",
      "_view_name": "LayoutView",
      "align_content": null,
      "align_items": null,
      "align_self": null,
      "border": null,
      "bottom": null,
      "display": null,
      "flex": null,
      "flex_flow": null,
      "grid_area": null,
      "grid_auto_columns": null,
      "grid_auto_flow": null,
      "grid_auto_rows": null,
      "grid_column": null,
      "grid_gap": null,
      "grid_row": null,
      "grid_template_areas": null,
      "grid_template_columns": null,
      "grid_template_rows": null,
      "height": null,
      "justify_content": null,
      "justify_items": null,
      "left": null,
      "margin": null,
      "max_height": null,
      "max_width": null,
      "min_height": null,
      "min_width": null,
      "object_fit": null,
      "object_position": null,
      "order": null,
      "overflow": null,
      "overflow_x": null,
      "overflow_y": null,
      "padding": null,
      "right": null,
      "top": null,
      "visibility": null,
      "width": null
     }
    },
    "cbfe670132b049dda112e5259f09dfa9": {
     "model_module": "@jupyter-widgets/controls",
     "model_module_version": "1.5.0",
     "model_name": "ProgressStyleModel",
     "state": {
      "_model_module": "@jupyter-widgets/controls",
      "_model_module_version": "1.5.0",
      "_model_name": "ProgressStyleModel",
      "_view_count": null,
      "_view_module": "@jupyter-widgets/base",
      "_view_module_version": "1.2.0",
      "_view_name": "StyleView",
      "bar_color": null,
      "description_width": ""
     }
    },
    "cc33b6c3673346a88f2bc3ff9530d061": {
     "model_module": "@jupyter-widgets/controls",
     "model_module_version": "1.5.0",
     "model_name": "HBoxModel",
     "state": {
      "_dom_classes": [],
      "_model_module": "@jupyter-widgets/controls",
      "_model_module_version": "1.5.0",
      "_model_name": "HBoxModel",
      "_view_count": null,
      "_view_module": "@jupyter-widgets/controls",
      "_view_module_version": "1.5.0",
      "_view_name": "HBoxView",
      "box_style": "",
      "children": [
       "IPY_MODEL_f4a5e432a0304307802021601cf56d0a",
       "IPY_MODEL_e57e0ede419e4c0394c09de2b6030570",
       "IPY_MODEL_5d7de74b34cf46b9a2718bac909c310d"
      ],
      "layout": "IPY_MODEL_34e14b0b489244bf9a847221f443b408"
     }
    },
    "ce1badaf73264edbad7ba34c53898ac5": {
     "model_module": "@jupyter-widgets/controls",
     "model_module_version": "1.5.0",
     "model_name": "FloatProgressModel",
     "state": {
      "_dom_classes": [],
      "_model_module": "@jupyter-widgets/controls",
      "_model_module_version": "1.5.0",
      "_model_name": "FloatProgressModel",
      "_view_count": null,
      "_view_module": "@jupyter-widgets/controls",
      "_view_module_version": "1.5.0",
      "_view_name": "ProgressView",
      "bar_style": "danger",
      "description": "",
      "description_tooltip": null,
      "layout": "IPY_MODEL_62988d1c861945b491a13176e6b77e76",
      "max": 100,
      "min": 0,
      "orientation": "horizontal",
      "style": "IPY_MODEL_2fef1b6815a44b4fa6b76e2ccb06f807",
      "value": 13
     }
    },
    "cf5b55d019c34f0ca4ed2ef42122481a": {
     "model_module": "@jupyter-widgets/controls",
     "model_module_version": "1.5.0",
     "model_name": "DescriptionStyleModel",
     "state": {
      "_model_module": "@jupyter-widgets/controls",
      "_model_module_version": "1.5.0",
      "_model_name": "DescriptionStyleModel",
      "_view_count": null,
      "_view_module": "@jupyter-widgets/base",
      "_view_module_version": "1.2.0",
      "_view_name": "StyleView",
      "description_width": ""
     }
    },
    "cf9fe93349ec4f93b034308deaed2647": {
     "model_module": "@jupyter-widgets/base",
     "model_module_version": "1.2.0",
     "model_name": "LayoutModel",
     "state": {
      "_model_module": "@jupyter-widgets/base",
      "_model_module_version": "1.2.0",
      "_model_name": "LayoutModel",
      "_view_count": null,
      "_view_module": "@jupyter-widgets/base",
      "_view_module_version": "1.2.0",
      "_view_name": "LayoutView",
      "align_content": null,
      "align_items": null,
      "align_self": null,
      "border": null,
      "bottom": null,
      "display": null,
      "flex": null,
      "flex_flow": null,
      "grid_area": null,
      "grid_auto_columns": null,
      "grid_auto_flow": null,
      "grid_auto_rows": null,
      "grid_column": null,
      "grid_gap": null,
      "grid_row": null,
      "grid_template_areas": null,
      "grid_template_columns": null,
      "grid_template_rows": null,
      "height": null,
      "justify_content": null,
      "justify_items": null,
      "left": null,
      "margin": null,
      "max_height": null,
      "max_width": null,
      "min_height": null,
      "min_width": null,
      "object_fit": null,
      "object_position": null,
      "order": null,
      "overflow": null,
      "overflow_x": null,
      "overflow_y": null,
      "padding": null,
      "right": null,
      "top": null,
      "visibility": null,
      "width": null
     }
    },
    "d21ee7475e1b4782a366e4655ea0bafb": {
     "model_module": "@jupyter-widgets/controls",
     "model_module_version": "1.5.0",
     "model_name": "HTMLModel",
     "state": {
      "_dom_classes": [],
      "_model_module": "@jupyter-widgets/controls",
      "_model_module_version": "1.5.0",
      "_model_name": "HTMLModel",
      "_view_count": null,
      "_view_module": "@jupyter-widgets/controls",
      "_view_module_version": "1.5.0",
      "_view_name": "HTMLView",
      "description": "",
      "description_tooltip": null,
      "layout": "IPY_MODEL_6a4019c264a640c49d8326bab60bc9b2",
      "placeholder": "​",
      "style": "IPY_MODEL_c5325df4c8d64fc38a2bbea22ba97429",
      "value": "training routine:  13%"
     }
    },
    "d2621258e00d4b678a8f77aec2fb64a6": {
     "model_module": "@jupyter-widgets/controls",
     "model_module_version": "1.5.0",
     "model_name": "ProgressStyleModel",
     "state": {
      "_model_module": "@jupyter-widgets/controls",
      "_model_module_version": "1.5.0",
      "_model_name": "ProgressStyleModel",
      "_view_count": null,
      "_view_module": "@jupyter-widgets/base",
      "_view_module_version": "1.2.0",
      "_view_name": "StyleView",
      "bar_color": null,
      "description_width": ""
     }
    },
    "d4937e9fef1040e2bab278835c34ef9f": {
     "model_module": "@jupyter-widgets/base",
     "model_module_version": "1.2.0",
     "model_name": "LayoutModel",
     "state": {
      "_model_module": "@jupyter-widgets/base",
      "_model_module_version": "1.2.0",
      "_model_name": "LayoutModel",
      "_view_count": null,
      "_view_module": "@jupyter-widgets/base",
      "_view_module_version": "1.2.0",
      "_view_name": "LayoutView",
      "align_content": null,
      "align_items": null,
      "align_self": null,
      "border": null,
      "bottom": null,
      "display": null,
      "flex": null,
      "flex_flow": null,
      "grid_area": null,
      "grid_auto_columns": null,
      "grid_auto_flow": null,
      "grid_auto_rows": null,
      "grid_column": null,
      "grid_gap": null,
      "grid_row": null,
      "grid_template_areas": null,
      "grid_template_columns": null,
      "grid_template_rows": null,
      "height": null,
      "justify_content": null,
      "justify_items": null,
      "left": null,
      "margin": null,
      "max_height": null,
      "max_width": null,
      "min_height": null,
      "min_width": null,
      "object_fit": null,
      "object_position": null,
      "order": null,
      "overflow": null,
      "overflow_x": null,
      "overflow_y": null,
      "padding": null,
      "right": null,
      "top": null,
      "visibility": null,
      "width": null
     }
    },
    "d6737aca5d304de8aae55d2a5ac79f93": {
     "model_module": "@jupyter-widgets/controls",
     "model_module_version": "1.5.0",
     "model_name": "HBoxModel",
     "state": {
      "_dom_classes": [],
      "_model_module": "@jupyter-widgets/controls",
      "_model_module_version": "1.5.0",
      "_model_name": "HBoxModel",
      "_view_count": null,
      "_view_module": "@jupyter-widgets/controls",
      "_view_module_version": "1.5.0",
      "_view_name": "HBoxView",
      "box_style": "",
      "children": [
       "IPY_MODEL_7be9a35b35e94b3e99619012dcc266d0",
       "IPY_MODEL_38477ce2851c42da87d5e292b5929850",
       "IPY_MODEL_db589686c1db451eb5c9ae4316a21270"
      ],
      "layout": "IPY_MODEL_fdb1e7d0af85477c9accb1edf8aceb13"
     }
    },
    "d9b3ff298b164cbc8212a0eccf714863": {
     "model_module": "@jupyter-widgets/controls",
     "model_module_version": "1.5.0",
     "model_name": "HTMLModel",
     "state": {
      "_dom_classes": [],
      "_model_module": "@jupyter-widgets/controls",
      "_model_module_version": "1.5.0",
      "_model_name": "HTMLModel",
      "_view_count": null,
      "_view_module": "@jupyter-widgets/controls",
      "_view_module_version": "1.5.0",
      "_view_name": "HTMLView",
      "description": "",
      "description_tooltip": null,
      "layout": "IPY_MODEL_a412230d5c004b0e81b54c31b13177dc",
      "placeholder": "​",
      "style": "IPY_MODEL_61220c08d9c14d49b25eb70677e90d68",
      "value": " 0/23 [00:12&lt;00:02, 10.96it/s, acc=68.5, epoch=0, loss=0.585]"
     }
    },
    "db589686c1db451eb5c9ae4316a21270": {
     "model_module": "@jupyter-widgets/controls",
     "model_module_version": "1.5.0",
     "model_name": "HTMLModel",
     "state": {
      "_dom_classes": [],
      "_model_module": "@jupyter-widgets/controls",
      "_model_module_version": "1.5.0",
      "_model_name": "HTMLModel",
      "_view_count": null,
      "_view_module": "@jupyter-widgets/controls",
      "_view_module_version": "1.5.0",
      "_view_name": "HTMLView",
      "description": "",
      "description_tooltip": null,
      "layout": "IPY_MODEL_1073ebec8fcc4ee192e1c3da5d2944be",
      "placeholder": "​",
      "style": "IPY_MODEL_9a5502dcc0934fb1a7d11215cf1c1b1a",
      "value": " 0/23 [01:29&lt;01:35,  4.15s/it, acc=75.5, epoch=12, loss=0.512]"
     }
    },
    "e57e0ede419e4c0394c09de2b6030570": {
     "model_module": "@jupyter-widgets/controls",
     "model_module_version": "1.5.0",
     "model_name": "FloatProgressModel",
     "state": {
      "_dom_classes": [],
      "_model_module": "@jupyter-widgets/controls",
      "_model_module_version": "1.5.0",
      "_model_name": "FloatProgressModel",
      "_view_count": null,
      "_view_module": "@jupyter-widgets/controls",
      "_view_module_version": "1.5.0",
      "_view_name": "ProgressView",
      "bar_style": "",
      "description": "",
      "description_tooltip": null,
      "layout": "IPY_MODEL_a6d66faf0ac94ef493654714ba34890a",
      "max": 100,
      "min": 0,
      "orientation": "horizontal",
      "style": "IPY_MODEL_cbfe670132b049dda112e5259f09dfa9",
      "value": 0
     }
    },
    "e5f649ce7744435195d2ac2a49d1db40": {
     "model_module": "@jupyter-widgets/base",
     "model_module_version": "1.2.0",
     "model_name": "LayoutModel",
     "state": {
      "_model_module": "@jupyter-widgets/base",
      "_model_module_version": "1.2.0",
      "_model_name": "LayoutModel",
      "_view_count": null,
      "_view_module": "@jupyter-widgets/base",
      "_view_module_version": "1.2.0",
      "_view_name": "LayoutView",
      "align_content": null,
      "align_items": null,
      "align_self": null,
      "border": null,
      "bottom": null,
      "display": null,
      "flex": null,
      "flex_flow": null,
      "grid_area": null,
      "grid_auto_columns": null,
      "grid_auto_flow": null,
      "grid_auto_rows": null,
      "grid_column": null,
      "grid_gap": null,
      "grid_row": null,
      "grid_template_areas": null,
      "grid_template_columns": null,
      "grid_template_rows": null,
      "height": null,
      "justify_content": null,
      "justify_items": null,
      "left": null,
      "margin": null,
      "max_height": null,
      "max_width": null,
      "min_height": null,
      "min_width": null,
      "object_fit": null,
      "object_position": null,
      "order": null,
      "overflow": null,
      "overflow_x": null,
      "overflow_y": null,
      "padding": null,
      "right": null,
      "top": null,
      "visibility": null,
      "width": null
     }
    },
    "ea589957eead4bd2b9ed7687213c575b": {
     "model_module": "@jupyter-widgets/controls",
     "model_module_version": "1.5.0",
     "model_name": "HTMLModel",
     "state": {
      "_dom_classes": [],
      "_model_module": "@jupyter-widgets/controls",
      "_model_module_version": "1.5.0",
      "_model_name": "HTMLModel",
      "_view_count": null,
      "_view_module": "@jupyter-widgets/controls",
      "_view_module_version": "1.5.0",
      "_view_name": "HTMLView",
      "description": "",
      "description_tooltip": null,
      "layout": "IPY_MODEL_b2772eea78ba4861aad8e746b230a2fa",
      "placeholder": "​",
      "style": "IPY_MODEL_58b84cf41e0e4378bfa64c616cc1d070",
      "value": "split=train:  78%"
     }
    },
    "f15870f97abf46779b6983f22791ae60": {
     "model_module": "@jupyter-widgets/controls",
     "model_module_version": "1.5.0",
     "model_name": "HTMLModel",
     "state": {
      "_dom_classes": [],
      "_model_module": "@jupyter-widgets/controls",
      "_model_module_version": "1.5.0",
      "_model_name": "HTMLModel",
      "_view_count": null,
      "_view_module": "@jupyter-widgets/controls",
      "_view_module_version": "1.5.0",
      "_view_name": "HTMLView",
      "description": "",
      "description_tooltip": null,
      "layout": "IPY_MODEL_c7e116e9cc5d4dc2a9ccaf629a960ca5",
      "placeholder": "​",
      "style": "IPY_MODEL_c08c89181d674806b75229131864d714",
      "value": " 13/100 [01:29&lt;06:31,  4.50s/it]"
     }
    },
    "f329725dd7084c51a086cebdd772cd18": {
     "model_module": "@jupyter-widgets/controls",
     "model_module_version": "1.5.0",
     "model_name": "HBoxModel",
     "state": {
      "_dom_classes": [],
      "_model_module": "@jupyter-widgets/controls",
      "_model_module_version": "1.5.0",
      "_model_name": "HBoxModel",
      "_view_count": null,
      "_view_module": "@jupyter-widgets/controls",
      "_view_module_version": "1.5.0",
      "_view_name": "HBoxView",
      "box_style": "",
      "children": [
       "IPY_MODEL_a19d7f2de9e94444b6dbd831507e8dc6",
       "IPY_MODEL_11eb62020563456aa79e52ff437c0904",
       "IPY_MODEL_d9b3ff298b164cbc8212a0eccf714863"
      ],
      "layout": "IPY_MODEL_cf9fe93349ec4f93b034308deaed2647"
     }
    },
    "f4a5e432a0304307802021601cf56d0a": {
     "model_module": "@jupyter-widgets/controls",
     "model_module_version": "1.5.0",
     "model_name": "HTMLModel",
     "state": {
      "_dom_classes": [],
      "_model_module": "@jupyter-widgets/controls",
      "_model_module_version": "1.5.0",
      "_model_name": "HTMLModel",
      "_view_count": null,
      "_view_module": "@jupyter-widgets/controls",
      "_view_module_version": "1.5.0",
      "_view_name": "HTMLView",
      "description": "",
      "description_tooltip": null,
      "layout": "IPY_MODEL_a2de02eb6fbd40d1a2f697d15e67f54f",
      "placeholder": "​",
      "style": "IPY_MODEL_0a86931b801b4bd4bc4c3d606a00ba93",
      "value": "training routine:   0%"
     }
    },
    "f4ae71ebb5cf4baeb967711a2f1a4db5": {
     "model_module": "@jupyter-widgets/controls",
     "model_module_version": "1.5.0",
     "model_name": "ProgressStyleModel",
     "state": {
      "_model_module": "@jupyter-widgets/controls",
      "_model_module_version": "1.5.0",
      "_model_name": "ProgressStyleModel",
      "_view_count": null,
      "_view_module": "@jupyter-widgets/base",
      "_view_module_version": "1.2.0",
      "_view_name": "StyleView",
      "bar_color": null,
      "description_width": ""
     }
    },
    "fbb8786882144a749d1c02c0acfea60b": {
     "model_module": "@jupyter-widgets/base",
     "model_module_version": "1.2.0",
     "model_name": "LayoutModel",
     "state": {
      "_model_module": "@jupyter-widgets/base",
      "_model_module_version": "1.2.0",
      "_model_name": "LayoutModel",
      "_view_count": null,
      "_view_module": "@jupyter-widgets/base",
      "_view_module_version": "1.2.0",
      "_view_name": "LayoutView",
      "align_content": null,
      "align_items": null,
      "align_self": null,
      "border": null,
      "bottom": null,
      "display": null,
      "flex": null,
      "flex_flow": null,
      "grid_area": null,
      "grid_auto_columns": null,
      "grid_auto_flow": null,
      "grid_auto_rows": null,
      "grid_column": null,
      "grid_gap": null,
      "grid_row": null,
      "grid_template_areas": null,
      "grid_template_columns": null,
      "grid_template_rows": null,
      "height": null,
      "justify_content": null,
      "justify_items": null,
      "left": null,
      "margin": null,
      "max_height": null,
      "max_width": null,
      "min_height": null,
      "min_width": null,
      "object_fit": null,
      "object_position": null,
      "order": null,
      "overflow": null,
      "overflow_x": null,
      "overflow_y": null,
      "padding": null,
      "right": null,
      "top": null,
      "visibility": null,
      "width": null
     }
    },
    "fdb1e7d0af85477c9accb1edf8aceb13": {
     "model_module": "@jupyter-widgets/base",
     "model_module_version": "1.2.0",
     "model_name": "LayoutModel",
     "state": {
      "_model_module": "@jupyter-widgets/base",
      "_model_module_version": "1.2.0",
      "_model_name": "LayoutModel",
      "_view_count": null,
      "_view_module": "@jupyter-widgets/base",
      "_view_module_version": "1.2.0",
      "_view_name": "LayoutView",
      "align_content": null,
      "align_items": null,
      "align_self": null,
      "border": null,
      "bottom": null,
      "display": null,
      "flex": null,
      "flex_flow": null,
      "grid_area": null,
      "grid_auto_columns": null,
      "grid_auto_flow": null,
      "grid_auto_rows": null,
      "grid_column": null,
      "grid_gap": null,
      "grid_row": null,
      "grid_template_areas": null,
      "grid_template_columns": null,
      "grid_template_rows": null,
      "height": null,
      "justify_content": null,
      "justify_items": null,
      "left": null,
      "margin": null,
      "max_height": null,
      "max_width": null,
      "min_height": null,
      "min_width": null,
      "object_fit": null,
      "object_position": null,
      "order": null,
      "overflow": null,
      "overflow_x": null,
      "overflow_y": null,
      "padding": null,
      "right": null,
      "top": null,
      "visibility": null,
      "width": null
     }
    }
   }
  }
 },
 "nbformat": 4,
 "nbformat_minor": 1
}
