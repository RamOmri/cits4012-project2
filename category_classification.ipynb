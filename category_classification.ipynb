{
 "cells": [
  {
   "cell_type": "code",
   "execution_count": 3,
   "metadata": {
    "colab": {
     "base_uri": "https://localhost:8080/"
    },
    "executionInfo": {
     "elapsed": 25824,
     "status": "ok",
     "timestamp": 1653821493321,
     "user": {
      "displayName": "Sigar S",
      "userId": "03872150139872128972"
     },
     "user_tz": -480
    },
    "id": "cQK8KPzb-XX0",
    "outputId": "4de8663a-e13a-4fc4-e304-fe144fbbe1b2"
   },
   "outputs": [
    {
     "name": "stdout",
     "output_type": "stream",
     "text": [
      "Mounted at /content/drive\n",
      "/content/drive/My Drive/remote_proj did not exist but was created.\n",
      "\n",
      "Your working directory was changed to /content/drive/My Drive/remote_proj\n",
      "\n",
      "An empty text file was created there. You can also run !pwd to confirm the current working directory.\n"
     ]
    }
   ],
   "source": [
    "import os \n",
    "from google.colab import drive\n",
    "\n",
    "drive.mount('/content/drive', force_remount=True)\n",
    "\n",
    "# Set your working directory to a folder in your Google Drive. This way, if your notebook times out,\n",
    "# your files will be saved in your Google Drive!\n",
    "\n",
    "# the base Google Drive directory\n",
    "root_dir = \"/content/drive/My Drive/\"\n",
    "\n",
    "# choose where you want your project files to be saved\n",
    "project_folder = \"remote_proj\"\n",
    "\n",
    "def create_and_set_working_directory(project_folder):\n",
    "  # check if your project folder exists. if not, it will be created.\n",
    "  if os.path.isdir(root_dir + project_folder) == False:\n",
    "    os.mkdir(root_dir + project_folder)\n",
    "    print(root_dir + project_folder + ' did not exist but was created.')\n",
    "\n",
    "  # change the OS to use your project folder as the working directory\n",
    "  os.chdir(root_dir + project_folder)\n",
    "\n",
    "  # create a test file to make sure it shows up in the right place\n",
    "  !touch 'new_file_in_working_directory.txt'\n",
    "  print('\\nYour working directory was changed to ' + root_dir + project_folder + \\\n",
    "        \"\\n\\nAn empty text file was created there. You can also run !pwd to confirm the current working directory.\" )\n",
    "\n",
    "create_and_set_working_directory(project_folder)"
   ]
  },
  {
   "cell_type": "markdown",
   "metadata": {
    "id": "ZcTfBaS3-WjH"
   },
   "source": [
    "# Category classification with Elman RNN and GRU models\n",
    "22274048, 23191175"
   ]
  },
  {
   "cell_type": "markdown",
   "metadata": {
    "id": "LQu1JtHh-WjK"
   },
   "source": [
    "First import all necessary modules"
   ]
  },
  {
   "cell_type": "code",
   "execution_count": 1,
   "metadata": {
    "colab": {
     "base_uri": "https://localhost:8080/"
    },
    "executionInfo": {
     "elapsed": 202,
     "status": "ok",
     "timestamp": 1653820950020,
     "user": {
      "displayName": "Omri Ram",
      "userId": "07837710711281572278"
     },
     "user_tz": -120
    },
    "id": "mXTDoYva-WjK",
    "outputId": "b3a86591-798f-4f06-f72a-5b364e0108a1"
   },
   "outputs": [
    {
     "name": "stderr",
     "output_type": "stream",
     "text": [
      "[nltk_data] Downloading package stopwords to\n",
      "[nltk_data]     C:\\Users\\jcary\\AppData\\Roaming\\nltk_data...\n",
      "[nltk_data]   Package stopwords is already up-to-date!\n"
     ]
    }
   ],
   "source": [
    "import pandas as pd\n",
    "from torch.utils.data import Dataset, DataLoader\n",
    "import torch\n",
    "import numpy as np\n",
    "import pandas as pd\n",
    "import os\n",
    "from collections import Counter\n",
    "import string\n",
    "from argparse import Namespace\n",
    "import torch.nn as nn\n",
    "from torch.utils.data import Dataset\n",
    "import os\n",
    "import torch.optim as optim\n",
    "import json\n",
    "import torch.nn.functional as F\n",
    "import pandas as pd\n",
    "import numpy as np\n",
    "from gensim.models import Word2Vec\n",
    "from nltk.corpus import stopwords\n",
    "from tqdm.notebook import tqdm\n",
    "from nltk.corpus import stopwords\n",
    "from argparse import Namespace\n",
    "import nltk\n",
    "nltk.download('stopwords')\n",
    "stopwords = stopwords.words('english')"
   ]
  },
  {
   "cell_type": "markdown",
   "metadata": {
    "id": "XB9U3Zaq-WjM"
   },
   "source": [
    "Get the path to the root directory"
   ]
  },
  {
   "cell_type": "code",
   "execution_count": 2,
   "metadata": {
    "colab": {
     "base_uri": "https://localhost:8080/",
     "height": 35
    },
    "executionInfo": {
     "elapsed": 199,
     "status": "ok",
     "timestamp": 1653820953678,
     "user": {
      "displayName": "Omri Ram",
      "userId": "07837710711281572278"
     },
     "user_tz": -120
    },
    "id": "0gThOd_S-WjM",
    "outputId": "3e5aa1c4-a831-484e-9297-323adb84c5a4"
   },
   "outputs": [
    {
     "data": {
      "text/plain": [
       "'C:\\\\Users\\\\jcary\\\\Desktop\\\\cits4012-project2'"
      ]
     },
     "execution_count": 2,
     "metadata": {},
     "output_type": "execute_result"
    }
   ],
   "source": [
    "script_dir = os.path.dirname(os.path.realpath('__file__'))\n",
    "script_dir"
   ]
  },
  {
   "cell_type": "markdown",
   "metadata": {
    "id": "UPkVcluf-WjN"
   },
   "source": [
    "Set some non-model related global variables. "
   ]
  },
  {
   "cell_type": "code",
   "execution_count": 3,
   "metadata": {
    "id": "mQ1Y1Bx2-WjO"
   },
   "outputs": [],
   "source": [
    "args = Namespace(\n",
    "    processed_csv = os.path.join(script_dir, 'data/processed_seek.csv'), # path for where to save the processed dataset\n",
    "    word2vec_model_filepath = os.path.join(script_dir, 'model_storage/word2vec'), # Path for where to save the word2vec model\n",
    ")"
   ]
  },
  {
   "cell_type": "markdown",
   "metadata": {
    "id": "wAUVlDjK-WjP"
   },
   "source": [
    "Load the data that has already been processed. Only the job description column needs to be split back into tokens given that the short description column will not be used for this classification task. "
   ]
  },
  {
   "cell_type": "code",
   "execution_count": 29,
   "metadata": {
    "colab": {
     "base_uri": "https://localhost:8080/",
     "height": 424
    },
    "executionInfo": {
     "elapsed": 2000,
     "status": "ok",
     "timestamp": 1653820962019,
     "user": {
      "displayName": "Omri Ram",
      "userId": "07837710711281572278"
     },
     "user_tz": -120
    },
    "id": "Me-aqFYa-WjP",
    "outputId": "52a52b1b-1107-48ef-9e9d-50ef3b6d5127"
   },
   "outputs": [
    {
     "data": {
      "text/html": [
       "<div>\n",
       "<style scoped>\n",
       "    .dataframe tbody tr th:only-of-type {\n",
       "        vertical-align: middle;\n",
       "    }\n",
       "\n",
       "    .dataframe tbody tr th {\n",
       "        vertical-align: top;\n",
       "    }\n",
       "\n",
       "    .dataframe thead th {\n",
       "        text-align: right;\n",
       "    }\n",
       "</style>\n",
       "<table border=\"1\" class=\"dataframe\">\n",
       "  <thead>\n",
       "    <tr style=\"text-align: right;\">\n",
       "      <th></th>\n",
       "      <th>category</th>\n",
       "      <th>job_description</th>\n",
       "      <th>job_type_target</th>\n",
       "      <th>short_description</th>\n",
       "      <th>split</th>\n",
       "    </tr>\n",
       "  </thead>\n",
       "  <tbody>\n",
       "    <tr>\n",
       "      <th>0</th>\n",
       "      <td>Trades &amp; Services</td>\n",
       "      <td>[newcastle, location, car, license, required, ...</td>\n",
       "      <td>Other</td>\n",
       "      <td>advantage lawn regards strictly smoking common...</td>\n",
       "      <td>train</td>\n",
       "    </tr>\n",
       "    <tr>\n",
       "      <th>1</th>\n",
       "      <td>Manufacturing, Transport &amp; Logistics</td>\n",
       "      <td>[beak, johnston, are, industry, leaders, withi...</td>\n",
       "      <td>Full Time</td>\n",
       "      <td>beak within chilled food beak food manufacturi...</td>\n",
       "      <td>train</td>\n",
       "    </tr>\n",
       "    <tr>\n",
       "      <th>2</th>\n",
       "      <td>Community Services &amp; Development</td>\n",
       "      <td>[the, opportunity, do, you, enjoy, challenge, ...</td>\n",
       "      <td>Full Time</td>\n",
       "      <td>young people ymca territory youth community ym...</td>\n",
       "      <td>train</td>\n",
       "    </tr>\n",
       "    <tr>\n",
       "      <th>3</th>\n",
       "      <td>Real Estate &amp; Property</td>\n",
       "      <td>[work, on, one, of, the, best, property, portf...</td>\n",
       "      <td>Full Time</td>\n",
       "      <td>dexus communications funds communications inve...</td>\n",
       "      <td>train</td>\n",
       "    </tr>\n",
       "    <tr>\n",
       "      <th>4</th>\n",
       "      <td>Hospitality &amp; Tourism</td>\n",
       "      <td>[permanent, position, on, offer, for, junior, ...</td>\n",
       "      <td>Full Time</td>\n",
       "      <td>permanent junior sous chef popular tourist des...</td>\n",
       "      <td>train</td>\n",
       "    </tr>\n",
       "    <tr>\n",
       "      <th>...</th>\n",
       "      <td>...</td>\n",
       "      <td>...</td>\n",
       "      <td>...</td>\n",
       "      <td>...</td>\n",
       "      <td>...</td>\n",
       "    </tr>\n",
       "    <tr>\n",
       "      <th>29650</th>\n",
       "      <td>Information &amp; Communication Technology</td>\n",
       "      <td>[junior, net, developer, required, for, start,...</td>\n",
       "      <td>Other</td>\n",
       "      <td>net start start youa tmll net development deve...</td>\n",
       "      <td>test</td>\n",
       "    </tr>\n",
       "    <tr>\n",
       "      <th>29651</th>\n",
       "      <td>Trades &amp; Services</td>\n",
       "      <td>[we, are, seeking, general, labourers, hands, ...</td>\n",
       "      <td>Other</td>\n",
       "      <td>general labourers hands various assignments as...</td>\n",
       "      <td>test</td>\n",
       "    </tr>\n",
       "    <tr>\n",
       "      <th>29652</th>\n",
       "      <td>Sales</td>\n",
       "      <td>[no, industry, experience, no, worries, use, y...</td>\n",
       "      <td>Other</td>\n",
       "      <td>industry worries people face face industry you...</td>\n",
       "      <td>test</td>\n",
       "    </tr>\n",
       "    <tr>\n",
       "      <th>29653</th>\n",
       "      <td>Construction</td>\n",
       "      <td>[this, large, building, construction, firm, ar...</td>\n",
       "      <td>Full Time</td>\n",
       "      <td>sydeny cbd new builder developer yearsa needle...</td>\n",
       "      <td>test</td>\n",
       "    </tr>\n",
       "    <tr>\n",
       "      <th>29654</th>\n",
       "      <td>Education &amp; Training</td>\n",
       "      <td>[anzuk, is, an, education, services, company, ...</td>\n",
       "      <td>Other</td>\n",
       "      <td>anzuk melbourne melbourne teaching secondary j...</td>\n",
       "      <td>test</td>\n",
       "    </tr>\n",
       "  </tbody>\n",
       "</table>\n",
       "<p>29655 rows × 5 columns</p>\n",
       "</div>"
      ],
      "text/plain": [
       "                                     category  \\\n",
       "0                           Trades & Services   \n",
       "1        Manufacturing, Transport & Logistics   \n",
       "2            Community Services & Development   \n",
       "3                      Real Estate & Property   \n",
       "4                       Hospitality & Tourism   \n",
       "...                                       ...   \n",
       "29650  Information & Communication Technology   \n",
       "29651                       Trades & Services   \n",
       "29652                                   Sales   \n",
       "29653                            Construction   \n",
       "29654                    Education & Training   \n",
       "\n",
       "                                         job_description job_type_target  \\\n",
       "0      [newcastle, location, car, license, required, ...           Other   \n",
       "1      [beak, johnston, are, industry, leaders, withi...       Full Time   \n",
       "2      [the, opportunity, do, you, enjoy, challenge, ...       Full Time   \n",
       "3      [work, on, one, of, the, best, property, portf...       Full Time   \n",
       "4      [permanent, position, on, offer, for, junior, ...       Full Time   \n",
       "...                                                  ...             ...   \n",
       "29650  [junior, net, developer, required, for, start,...           Other   \n",
       "29651  [we, are, seeking, general, labourers, hands, ...           Other   \n",
       "29652  [no, industry, experience, no, worries, use, y...           Other   \n",
       "29653  [this, large, building, construction, firm, ar...       Full Time   \n",
       "29654  [anzuk, is, an, education, services, company, ...           Other   \n",
       "\n",
       "                                       short_description  split  \n",
       "0      advantage lawn regards strictly smoking common...  train  \n",
       "1      beak within chilled food beak food manufacturi...  train  \n",
       "2      young people ymca territory youth community ym...  train  \n",
       "3      dexus communications funds communications inve...  train  \n",
       "4      permanent junior sous chef popular tourist des...  train  \n",
       "...                                                  ...    ...  \n",
       "29650  net start start youa tmll net development deve...   test  \n",
       "29651  general labourers hands various assignments as...   test  \n",
       "29652  industry worries people face face industry you...   test  \n",
       "29653  sydeny cbd new builder developer yearsa needle...   test  \n",
       "29654  anzuk melbourne melbourne teaching secondary j...   test  \n",
       "\n",
       "[29655 rows x 5 columns]"
      ]
     },
     "execution_count": 29,
     "metadata": {},
     "output_type": "execute_result"
    }
   ],
   "source": [
    "df = pd.read_csv(args.processed_csv)\n",
    "df.job_description = df.job_description.apply(lambda x: x.split(' ')[:30])\n",
    "df"
   ]
  },
  {
   "cell_type": "markdown",
   "metadata": {
    "id": "rAbYrJHC-WjQ"
   },
   "source": [
    "### Defining some helper classes\n",
    "\n",
    "These classes are needed for preparing the vocabularhy and dataset to be fed as batches when training the models"
   ]
  },
  {
   "cell_type": "code",
   "execution_count": 30,
   "metadata": {
    "id": "GA656mus-WjQ"
   },
   "outputs": [],
   "source": [
    "class Vocabulary(object):\n",
    "    \"\"\"Class to process text and extract Vocabulary for mapping\"\"\"\n",
    "    def __init__(self, token_to_idx=None, add_unk=True, unk_token=\"<UNK>\"):\n",
    "        \"\"\"\n",
    "        Args:\n",
    "            token_to_idx (dict): a pre-existingmap of tokens to indices\n",
    "            add_unk (bool): a flag that indicates whether to add the UNK token\n",
    "            unk_token (str): the UNK token to add into the Vocabulary\n",
    "        \"\"\"\n",
    "        if token_to_idx is None:\n",
    "            token_to_idx = {}\n",
    "        self._token_to_idx = token_to_idx\n",
    "        self._idx_to_token = {idx: token \n",
    "                                for token, idx in self._token_to_idx.items()}\n",
    "        self._add_unk = add_unk\n",
    "        self._unk_token = unk_token\n",
    "        self.unk_index = 1\n",
    "        if add_unk:\n",
    "            self.unk_index = self.add_token(unk_token)\n",
    "    def to_serializable(self):\n",
    "        \"\"\" returns a dictionary that can be serialized \"\"\"\n",
    "        return {'token_to_idx': self._token_to_idx,\n",
    "                'add_unk': self._add_unk,\n",
    "                'unk_token': self._unk_token}\n",
    "    @classmethod\n",
    "    def from_serializable(cls, contents):\n",
    "        \"\"\" instantiates the Vocabulary from a serialized dictionary \"\"\"\n",
    "        return cls(**contents)\n",
    "    def add_token(self, token):\n",
    "        \"\"\"Update mapping dicts based on the token.\n",
    "        Args:\n",
    "            token (str): the item to add into the Vocabulary\n",
    "        Returns:\n",
    "            index (int): the integer corresponding to the token\n",
    "        \"\"\"\n",
    "        if token in self._token_to_idx:\n",
    "            index = self._token_to_idx[token]\n",
    "        else:\n",
    "            index = len(self._token_to_idx)\n",
    "            self._token_to_idx[token] = index\n",
    "            self._idx_to_token[index] = token\n",
    "        return index\n",
    "    \n",
    "    def add_many(self, tokens):\n",
    "        \"\"\"Add a list of tokens into the Vocabulary\n",
    "        \n",
    "        Args:\n",
    "            tokens (list): a list of string tokens\n",
    "        Returns:\n",
    "            indices (list): a list of indices corresponding to the tokens\n",
    "        \"\"\"\n",
    "        return [self.add_token(token) for token in tokens]\n",
    "    \n",
    "    def lookup_token(self, token):\n",
    "        \"\"\"Retrieve the index associated with the token\n",
    "        or the UNK index if token isn't present.\n",
    "        Args:\n",
    "            token (str): the token to look up\n",
    "        Returns:\n",
    "            index (int): the index corresponding to the token\n",
    "        Notes:\n",
    "            `unk_index` needs to be >=0 (having been added into the Vocabulary)\n",
    "            for the UNK functionality\n",
    "        \"\"\"\n",
    "        if self._add_unk:\n",
    "            return self._token_to_idx.get(token, self.unk_index)\n",
    "        else:\n",
    "            return self._token_to_idx[token]\n",
    "    def lookup_index(self, index):\n",
    "        \"\"\"Return the token associated with the index\n",
    "        Args:\n",
    "            index (int): the index to look up\n",
    "        Returns:\n",
    "            token (str): the token corresponding to the index\n",
    "        Raises:\n",
    "        KeyError: if the index is not in the Vocabulary\n",
    "        \"\"\"\n",
    "        if index not in self._idx_to_token:\n",
    "            raise KeyError(\"the index (%d) is not in the Vocabulary\" % index)\n",
    "        return self._idx_to_token[index]\n",
    "    def __str__(self):\n",
    "        return \"<Vocabulary(size=%d)>\" % len(self)\n",
    "    def __len__(self):\n",
    "        return len(self._token_to_idx)"
   ]
  },
  {
   "cell_type": "code",
   "execution_count": 31,
   "metadata": {
    "id": "Ar8WJmUs-WjS"
   },
   "outputs": [],
   "source": [
    "class SequenceVocabulary(Vocabulary):\n",
    "    def __init__(self, token_to_idx=None, unk_token=\"<UNK>\",\n",
    "                 mask_token=\"<MASK>\", begin_seq_token=\"<BEGIN>\",\n",
    "                 end_seq_token=\"<END>\"):\n",
    "\n",
    "        super(SequenceVocabulary, self).__init__(token_to_idx)\n",
    "\n",
    "        self._mask_token = mask_token\n",
    "        self._unk_token = unk_token\n",
    "        self._begin_seq_token = begin_seq_token\n",
    "        self._end_seq_token = end_seq_token\n",
    "\n",
    "        self.mask_index = self.add_token(self._mask_token)\n",
    "        self.unk_index = self.add_token(self._unk_token)\n",
    "        self.begin_seq_index = self.add_token(self._begin_seq_token)\n",
    "        self.end_seq_index = self.add_token(self._end_seq_token)\n",
    "\n",
    "    def to_serializable(self):\n",
    "        contents = super(SequenceVocabulary, self).to_serializable()\n",
    "        contents.update({'unk_token': self._unk_token,\n",
    "                         'mask_token': self._mask_token,\n",
    "                         'begin_seq_token': self._begin_seq_token,\n",
    "                         'end_seq_token': self._end_seq_token})\n",
    "        return contents\n",
    "\n",
    "    def lookup_token(self, token):\n",
    "        \"\"\"Retrieve the index associated with the token \n",
    "          or the UNK index if token isn't present.\n",
    "        \n",
    "        Args:\n",
    "            token (str): the token to look up \n",
    "        Returns:\n",
    "            index (int): the index corresponding to the token\n",
    "        Notes:\n",
    "            `unk_index` needs to be >=0 (having been added into the Vocabulary) \n",
    "              for the UNK functionality \n",
    "        \"\"\"\n",
    "        if self.unk_index >= 0:\n",
    "            return self._token_to_idx.get(token, self.unk_index)\n",
    "        else:\n",
    "            return self._token_to_idx[token]"
   ]
  },
  {
   "cell_type": "code",
   "execution_count": 32,
   "metadata": {
    "id": "PsmaDeIO-WjS"
   },
   "outputs": [],
   "source": [
    "class Vectorizer(object):\n",
    "    \"\"\" The Vectorizer which coordinates the Vocabularies and puts them to use\"\"\"    \n",
    "    def __init__(self, desc_vocab, target_vocab):\n",
    "        self.description_vocab = desc_vocab\n",
    "        self.target_vocab = target_vocab\n",
    "    def vectorize(self, description, vector_length=-1):\n",
    "        \"\"\"\n",
    "        Args:\n",
    "            description (list) : tokenized description \n",
    "            vector_length (int): an argument for forcing the length of index vector\n",
    "        Returns:\n",
    "            the vetorized description (numpy.array)\n",
    "        \"\"\"\n",
    "        indices = []\n",
    "        \n",
    "        \n",
    "        indices.extend(self.description_vocab.lookup_token(token) \n",
    "                       for token in description)\n",
    "        if vector_length < 0:\n",
    "            vector_length = len(indices)\n",
    "        \n",
    "        out_vector = np.zeros(vector_length, dtype=np.int64)\n",
    "     \n",
    "        out_vector[:len(indices)] = indices\n",
    "       \n",
    "\n",
    "        return out_vector\n",
    "    \n",
    "    def vectorize_one_hot(self, description):\n",
    "        \"\"\"Create a collapsed one hot vector for the job description\n",
    "        Args:\n",
    "            description_tokenized (list): the tokenized job description\n",
    "        Returns:\n",
    "            one_hot (np.ndarray): the collapsed onehot encoding\n",
    "        \"\"\"\n",
    "        one_hot = np.zeros(len(self.description_vocab), dtype=np.float32)\n",
    "        for token in description:\n",
    "            if token not in string.punctuation:\n",
    "                one_hot[self.description_vocab.lookup_token(token)] = 1\n",
    "        return one_hot\n",
    "    \n",
    "    @classmethod\n",
    "    def from_dataframe(cls, df, feature_column = 'short_description', target_cat = False, cutoff=10):\n",
    "        \"\"\"Instantiate the vectorizer from the dataset dataframe\n",
    "        Args:\n",
    "            description_df (pandas.DataFrame): the target dataset\n",
    "            cutoff (int): frequency threshold for including in Vocabulary \n",
    "        Returns:\n",
    "            an instance of the descriptionVectorizer\n",
    "        \"\"\"\n",
    "        target_vocab = Vocabulary(add_unk=False)\n",
    "        if target_cat:\n",
    "            for target in sorted(set(df.category)):\n",
    "                target_vocab.add_token(target)    \n",
    "        else:\n",
    "            for job_type in sorted(set(df.job_type_target)):\n",
    "                target_vocab.add_token(job_type)\n",
    "        \n",
    " \n",
    "        word_counts = Counter()\n",
    "        for desc in df[feature_column]:\n",
    "            desc = desc.split(' ') if type(desc) is not list else desc\n",
    "            for token in desc:\n",
    "                word_counts[token] += 1\n",
    "\n",
    "        desc_vocab = SequenceVocabulary()\n",
    "        for word, word_count in word_counts.items():\n",
    "            if word_count >= cutoff:\n",
    "                desc_vocab.add_token(word)\n",
    "        \n",
    "        return cls(desc_vocab, target_vocab)\n",
    "\n",
    "    @classmethod\n",
    "    def from_serializable(cls, contents):\n",
    "        description_vocab = \\\n",
    "            SequenceVocabulary.from_serializable(contents['description_vocab'])\n",
    "        target_vocab =  \\\n",
    "            Vocabulary.from_serializable(contents['target_vocab'])\n",
    "\n",
    "        return cls(description_vocab=description_vocab, target_vocab=target_vocab)\n",
    "\n",
    "    def to_serializable(self):\n",
    "        return {'description_vocab': self.description_vocab.to_serializable(),\n",
    "                'target_vocab': self.target_vocab.to_serializable()}"
   ]
  },
  {
   "cell_type": "code",
   "execution_count": 33,
   "metadata": {
    "id": "_RnqQXU9-WjT"
   },
   "outputs": [],
   "source": [
    "class Dataset(Dataset):\n",
    "    def __init__(self, df, vectorizer, short = True, job_type = True, one_hot = False):\n",
    "        \"\"\"\n",
    "        Args:\n",
    "            df (pandas.DataFrame): the dataset\n",
    "            vectorizer (GloveVectorizer): vectorizer instatiated from dataset\n",
    "        \"\"\"\n",
    "        self.one_hot = one_hot\n",
    "        self.df = df\n",
    "        self._vectorizer = vectorizer\n",
    "        self.short = short\n",
    "        self.job_type = job_type\n",
    "\n",
    "        # +1 if only using begin_seq, +2 if using both begin and end seq tokens\n",
    "        measure_len = lambda context: len(context)\n",
    "        if self.short:\n",
    "            self._max_seq_length = max(map(measure_len, df.short_description)) + 2\n",
    "        else:\n",
    "            self._max_seq_length = max(map(measure_len, df.job_description)) + 2\n",
    "        \n",
    "        self.train_df = self.df[self.df.split=='train']\n",
    "        self.train_size = len(self.train_df)\n",
    "\n",
    "        self.val_df = self.df[self.df.split=='val']\n",
    "        self.validation_size = len(self.val_df)\n",
    "\n",
    "        self.test_df = self.df[self.df.split=='test']\n",
    "        self.test_size = len(self.test_df)\n",
    "\n",
    "        self._lookup_dict = {'train': (self.train_df, self.train_size),\n",
    "                             'val': (self.val_df, self.validation_size),\n",
    "                             'test': (self.test_df, self.test_size)}\n",
    "\n",
    "        self.set_split('train')\n",
    "\n",
    "        # Class weights\n",
    "        if self.job_type:\n",
    "            class_counts = df.job_type_target.value_counts().to_dict()\n",
    "        else:\n",
    "            class_counts = df.category.value_counts().to_dict()\n",
    "        def sort_key(item):\n",
    "            return self._vectorizer.target_vocab.lookup_token(item[0])\n",
    "        \n",
    "\n",
    "        sorted_counts = sorted(class_counts.items(), key=sort_key)\n",
    "        frequencies = [count for _, count in sorted_counts]\n",
    "        self.class_weights = 1.0 / torch.tensor(frequencies, dtype=torch.float32)\n",
    "        \n",
    "        \n",
    "    @classmethod\n",
    "    def load_df_and_make_vectorizer(cls, df, short = True, one_hot = False, job_type =False):\n",
    "        \"\"\"Load dataset and make a  vectorizer from scratch\n",
    "        \n",
    "        Args:\n",
    "            csv (str): location of the dataset\n",
    "        Returns:\n",
    "            an instance of Dataset\n",
    "        \"\"\"\n",
    "        train_df = df[df.split=='train']\n",
    "        return cls(df, Vectorizer.from_dataframe(train_df, target_cat=not job_type), \n",
    "                   short = short, one_hot = one_hot, job_type = job_type)\n",
    "\n",
    "    @staticmethod\n",
    "    def load_vectorizer_only(vectorizer_filepath):\n",
    "        \"\"\"a static method for loading the vectorizer from file\n",
    "        \n",
    "        Args:\n",
    "            vectorizer_filepath (str): the location of the serialized vectorizer\n",
    "        Returns:\n",
    "            an instance of GloveVectorizer\n",
    "        \"\"\"\n",
    "        with open(vectorizer_filepath) as fp:\n",
    "            return Vectorizer.from_serializable(json.load(fp))\n",
    "\n",
    "    def save_vectorizer(self, vectorizer_filepath):\n",
    "        \"\"\"saves the vectorizer to disk using json\n",
    "        \n",
    "        Args:\n",
    "            vectorizer_filepath (str): the location to save the vectorizer\n",
    "        \"\"\"\n",
    "        with open(vectorizer_filepath, \"w\") as fp:\n",
    "            json.dump(self._vectorizer.to_serializable(), fp)\n",
    "\n",
    "    def get_vectorizer(self):\n",
    "        \"\"\" returns the vectorizer \"\"\"\n",
    "        return self._vectorizer\n",
    "\n",
    "    def set_split(self, split=\"train\"):\n",
    "        \"\"\" selects the splits in the dataset using a column in the dataframe \"\"\"\n",
    "        self._target_split = split\n",
    "        self._target_df, self._target_size = self._lookup_dict[split]\n",
    "\n",
    "    def __len__(self):\n",
    "        return self._target_size\n",
    "\n",
    "    def __getitem__(self, index):\n",
    "        \"\"\"the primary entry point method for PyTorch datasets\n",
    "        \n",
    "        Args:\n",
    "            index (int): the index to the data point \n",
    "        Returns:\n",
    "            a dictionary holding the data point's features (x_data) and label (y_target)\n",
    "        \"\"\"\n",
    "        row = self._target_df.iloc[index]\n",
    "        if self.one_hot:\n",
    "            if self.short:\n",
    "                description_vector = \\\n",
    "                    self._vectorizer.vectorize_one_hot(row.short_description)\n",
    "            else:\n",
    "                description_vector = \\\n",
    "                    self._vectorizer.vectorize_one_hot(row.job_description)\n",
    "\n",
    "        else:\n",
    "            if self.short:\n",
    "                description_vector = \\\n",
    "                    self._vectorizer.vectorize(row.short_description, self._max_seq_length)\n",
    "            else:\n",
    "                description_vector = \\\n",
    "                    self._vectorizer.vectorize(row.job_description, self._max_seq_length)\n",
    "\n",
    "        if self.job_type:\n",
    "            target_index = \\\n",
    "                self._vectorizer.target_vocab.lookup_token(row.job_type_target)\n",
    "        else:\n",
    "            target_index = \\\n",
    "                self._vectorizer.target_vocab.lookup_token(row.category)\n",
    "\n",
    "\n",
    "        return {'x_data': description_vector,\n",
    "                'y_target': target_index}\n",
    "\n",
    "    def get_num_batches(self, batch_size):\n",
    "        \"\"\"Given a batch size, return the number of batches in the dataset\n",
    "        \n",
    "        Args:\n",
    "            batch_size (int)\n",
    "        Returns:\n",
    "            number of batches in the dataset\n",
    "        \"\"\" \n",
    "        return len(self) // batch_size"
   ]
  },
  {
   "cell_type": "markdown",
   "metadata": {
    "id": "RaOxSnBk-WjV"
   },
   "source": [
    "### Defining some helper functions"
   ]
  },
  {
   "cell_type": "code",
   "execution_count": 34,
   "metadata": {
    "id": "xWV9RiUS-WjX"
   },
   "outputs": [],
   "source": [
    "def generate_batches(dataset, batch_size, shuffle=True,\n",
    "                     drop_last=True, device=\"cpu\"): \n",
    "    \"\"\"\n",
    "    A generator function which wraps the PyTorch DataLoader. It will \n",
    "      ensure each tensor is on the write device location.\n",
    "    \"\"\"\n",
    "    dataloader = DataLoader(dataset=dataset, batch_size=batch_size,\n",
    "                            shuffle=shuffle, drop_last=drop_last)\n",
    "\n",
    "    for data_dict in dataloader:\n",
    "        out_data_dict = {}\n",
    "        for name, tensor in data_dict.items():\n",
    "            out_data_dict[name] = data_dict[name].to(device)\n",
    "        yield out_data_dict\n",
    "\n",
    "def make_train_state(args):\n",
    "    return {'stop_early': False,\n",
    "            'early_stopping_step': 0,\n",
    "            'early_stopping_best_val': 1e8,\n",
    "            'learning_rate': args.learning_rate,\n",
    "            'epoch_index': 0,\n",
    "            'train_loss': [],\n",
    "            'train_acc': [],\n",
    "            'val_loss': [],\n",
    "            'val_acc': [],\n",
    "            'test_loss': -1,\n",
    "            'test_acc': -1,\n",
    "            'model_filename': args.model_state_file}\n",
    "\n",
    "def update_train_state(args, model, train_state):\n",
    "    \"\"\"Handle the training state updates.\n",
    "\n",
    "    Components:\n",
    "     - Early Stopping: Prevent overfitting.\n",
    "     - Model Checkpoint: Model is saved if the model is better\n",
    "\n",
    "    :param args: main arguments\n",
    "    :param model: model to train\n",
    "    :param train_state: a dictionary representing the training state values\n",
    "    :returns:\n",
    "        a new train_state\n",
    "    \"\"\"\n",
    "\n",
    "    # Save one model at least\n",
    "    if train_state['epoch_index'] == 0:\n",
    "        torch.save(model.state_dict(), train_state['model_filename'])\n",
    "        train_state['stop_early'] = False\n",
    "\n",
    "    # Save model if performance improved\n",
    "    elif train_state['epoch_index'] >= 1:\n",
    "        loss_tm1, loss_t = train_state['val_loss'][-2:]\n",
    "\n",
    "        # If loss worsened\n",
    "        if loss_t >= train_state['early_stopping_best_val']:\n",
    "            # Update step\n",
    "            train_state['early_stopping_step'] += 1\n",
    "        # Loss decreased\n",
    "        else:\n",
    "            # Save the best model\n",
    "            if loss_t < train_state['early_stopping_best_val']:\n",
    "                torch.save(model.state_dict(), train_state['model_filename'])\n",
    "\n",
    "            # Reset early stopping step\n",
    "            train_state['early_stopping_step'] = 0\n",
    "\n",
    "        # Stop early ?\n",
    "        train_state['stop_early'] = \\\n",
    "            train_state['early_stopping_step'] >= args.early_stopping_criteria\n",
    "\n",
    "    return train_state\n",
    "\n",
    "def compute_accuracy(y_pred, y_target):\n",
    "    _, y_pred_indices = y_pred.max(dim=1)\n",
    "    n_correct = torch.eq(y_pred_indices, y_target).sum().item()\n",
    "    return n_correct / len(y_pred_indices) * 100\n",
    "\n",
    "def compute_accuracy_BCE(y_pred, y_target):\n",
    "    y_target = y_target.cpu()\n",
    "    y_pred_indices = (torch.sigmoid(y_pred)>0.5).cpu().long()#.max(dim=1)[1]\n",
    "    n_correct = torch.eq(y_pred_indices, y_target).sum().item()\n",
    "    return n_correct / len(y_pred_indices) * 100"
   ]
  },
  {
   "cell_type": "code",
   "execution_count": 35,
   "metadata": {
    "id": "mDIudXMh-WjX"
   },
   "outputs": [],
   "source": [
    "def train_model(classifier, dataset, args,loss_func, BCE = False, one_hot = False):\n",
    "    \"\"\"\n",
    "    args:\n",
    "    classifier: the pytorch model that will be trained.\n",
    "    dataset: An object from the dataset class\n",
    "    returns:\n",
    "    the classifier and the final trainstate\n",
    "    \"\"\"\n",
    "    classifier = classifier.to(args.device)\n",
    "    dataset.class_weights = dataset.class_weights.to(args.device)\n",
    "    \n",
    "    \n",
    "    optimizer = optim.Adam(classifier.parameters(), lr = args.learning_rate)\n",
    "    scheduler = optim.lr_scheduler.ReduceLROnPlateau(optimizer=optimizer, mode = 'min', factor=0.5, patience=1)\n",
    "\n",
    "    train_state = make_train_state(args)\n",
    "\n",
    "    epoch_bar = tqdm(desc='training routine', \n",
    "                            total=args.num_epochs,\n",
    "                            position=0)\n",
    "\n",
    "    dataset.set_split('train')\n",
    "    train_bar = tqdm(desc='split=train',\n",
    "                            total=dataset.get_num_batches(args.batch_size), \n",
    "                            position=1, \n",
    "                            leave=True)\n",
    "    dataset.set_split('val')\n",
    "    val_bar = tqdm(desc='split=val',\n",
    "                          total=dataset.get_num_batches(args.batch_size), \n",
    "                          position=1, \n",
    "                          leave=True)\n",
    "\n",
    "\n",
    "    classifier.float() # sets classifier to receive in double precision format\n",
    "    try:\n",
    "        \n",
    "        for epoch in range(args.num_epochs):\n",
    "            train_state['epoch_index'] = epoch\n",
    "            dataset.set_split('train')\n",
    "            batch_generator = generate_batches(dataset, batch_size=args.batch_size, device=args.device)\n",
    "\n",
    "            running_loss = 0.0\n",
    "            running_acc = 0.0\n",
    "            classifier.train()\n",
    "\n",
    "            for batch_index, batch_dict in enumerate(batch_generator):\n",
    "                optimizer.zero_grad()\n",
    "                if BCE and one_hot:\n",
    "                    \n",
    "                    y_pred = classifier(batch_dict['x_data'].float())\n",
    "                    loss = loss_func(y_pred, batch_dict['y_target'].float())\n",
    "                if BCE and not one_hot:\n",
    "                    y_pred = classifier(batch_dict['x_data'])\n",
    "                    loss = loss_func(y_pred, batch_dict['y_target'].float())\n",
    "                else:\n",
    "                    y_pred = classifier(batch_dict['x_data'])\n",
    "                    loss = loss_func(y_pred, batch_dict['y_target'])\n",
    "                loss_t = loss.item()\n",
    "                running_loss += (loss_t - running_loss) / (batch_index + 1)\n",
    "                loss.backward()\n",
    "                optimizer.step()\n",
    "                if BCE:\n",
    "                    acc_t = compute_accuracy_BCE(y_pred, batch_dict['y_target'])\n",
    "                else:\n",
    "                    acc_t = compute_accuracy(y_pred, batch_dict['y_target'])\n",
    "                running_acc += (acc_t  - running_acc)/(batch_index+1)\n",
    "                #update bar\n",
    "                train_bar.set_postfix(loss=running_loss, acc=running_acc, \n",
    "                                      epoch=epoch)\n",
    "                train_bar.update()\n",
    "\n",
    "            train_state['train_loss'].append(running_loss)\n",
    "            train_state['train_acc'].append(running_acc)\n",
    "\n",
    "            dataset.set_split('val')\n",
    "            batch_generator = generate_batches(dataset, batch_size=args.batch_size, device=args.device)\n",
    "            running_loss = 0.\n",
    "            running_acc = 0.\n",
    "            classifier.eval()\n",
    "\n",
    "            for batch_index, batch_dict in enumerate(batch_generator):\n",
    "                \n",
    "                # step 3. compute the loss\n",
    "                if BCE and one_hot:\n",
    "                    \n",
    "                    y_pred = classifier(batch_dict['x_data'].float())\n",
    "                    loss = loss_func(y_pred, batch_dict['y_target'].float())\n",
    "                elif BCE and not one_hot:\n",
    "                    y_pred = classifier(batch_dict['x_data'])\n",
    "                    loss = loss_func(y_pred, batch_dict['y_target'].float())\n",
    "                else:\n",
    "                    y_pred = classifier(batch_dict['x_data'])\n",
    "                    loss = loss_func(y_pred, batch_dict['y_target'])\n",
    "               \n",
    "                loss_t = loss.item()\n",
    "                running_loss += (loss_t - running_loss) / (batch_index + 1)\n",
    "                if BCE:\n",
    "                     acc_t = compute_accuracy_BCE(y_pred, batch_dict['y_target'])\n",
    "                else:\n",
    "                    acc_t = compute_accuracy(y_pred, batch_dict['y_target'])\n",
    "                running_acc += (acc_t - running_acc) / (batch_index + 1)\n",
    "                val_bar.set_postfix(loss=running_loss, acc=running_acc, \n",
    "                                  epoch=epoch)\n",
    "                val_bar.update()\n",
    "            train_state['val_loss'].append(running_loss)\n",
    "            train_state['val_acc'].append(running_acc)\n",
    "\n",
    "            train_state = update_train_state(args=args, model=classifier,\n",
    "                                          train_state=train_state)\n",
    "\n",
    "            scheduler.step(train_state['val_loss'][-1])\n",
    "\n",
    "            if train_state['stop_early']:\n",
    "                break\n",
    "            train_bar.n = 0\n",
    "            val_bar.n = 0\n",
    "            epoch_bar.update()\n",
    "\n",
    "\n",
    "    except KeyboardInterrupt:\n",
    "        print(\"Exiting loop\")\n",
    "    return classifier, train_state\n",
    "\n",
    "def test_model( classifier, dataset, train_state, args,\n",
    "               loss_func, BCE=False, one_hot = False):\n",
    "    dataset.set_split('test')\n",
    "    batch_generator = generate_batches(dataset, \n",
    "                                       batch_size=args.batch_size, \n",
    "                                       device=args.device)\n",
    "    running_loss = 0.\n",
    "    running_acc = 0.\n",
    "    classifier.eval()\n",
    "\n",
    "    for batch_index, batch_dict in enumerate(batch_generator):\n",
    "        # compute the output\n",
    "        if BCE and one_hot:\n",
    "                    \n",
    "            y_pred = classifier(batch_dict['x_data'].float())\n",
    "            loss = loss_func(y_pred, batch_dict['y_target'].float())\n",
    "        elif BCE and not one_hot:\n",
    "            y_pred = classifier(batch_dict['x_data'])\n",
    "            loss = loss_func(y_pred, batch_dict['y_target'].float())\n",
    "        else:\n",
    "            y_pred = classifier(batch_dict['x_data'])\n",
    "            loss = loss_func(y_pred, batch_dict['y_target'])\n",
    "               \n",
    "        loss_t = loss.item()\n",
    "        running_loss += (loss_t - running_loss) / (batch_index + 1)\n",
    "\n",
    "    # compute the accuracy\n",
    "        if BCE:\n",
    "            acc_t = compute_accuracy_BCE(y_pred, batch_dict['y_target'])\n",
    "        else:\n",
    "            acc_t = compute_accuracy(y_pred, batch_dict['y_target'])\n",
    "        running_acc += (acc_t - running_acc) / (batch_index + 1)\n",
    "\n",
    "    train_state['test_loss'] = running_loss\n",
    "    train_state['test_acc'] = running_acc\n",
    "    print(\"Test loss: {};\".format(train_state['test_loss']))\n",
    "    print(\"Test Accuracy: {}\".format(train_state['test_acc']))"
   ]
  },
  {
   "cell_type": "code",
   "execution_count": 36,
   "metadata": {
    "id": "gDZ65Eax-WjY"
   },
   "outputs": [],
   "source": [
    "def make_embedding_matrix(embeddings, word_to_idx, words):\n",
    "    \"\"\"\n",
    "    Create embedding matrix for a specific set of words.\n",
    "    \n",
    "    Args:\n",
    "        glove_filepath (str): file path to the glove embeddigns\n",
    "        words (list): list of words in the dataset\n",
    "    \"\"\"\n",
    "    embedding_size = embeddings.shape[1]\n",
    "    \n",
    "    final_embeddings = np.zeros((len(words), embedding_size))\n",
    "\n",
    "    for i, word in enumerate(words):\n",
    "        if word in word_to_idx:\n",
    "            final_embeddings[i, :] = embeddings[word_to_idx[word]]\n",
    "        else:\n",
    "            embedding_i = torch.ones(1, embedding_size)\n",
    "            torch.nn.init.xavier_uniform_(embedding_i)\n",
    "            final_embeddings[i, :] = embedding_i\n",
    "\n",
    "    return final_embeddings"
   ]
  },
  {
   "cell_type": "code",
   "execution_count": 37,
   "metadata": {
    "id": "AdHv6voz-WjY"
   },
   "outputs": [],
   "source": [
    "def column_gather(y_out, x_lengths):\n",
    "    '''Get a specific vector from each batch datapoint in `y_out`.\n",
    "\n",
    "    More precisely, iterate over batch row indices, get the vector that's at\n",
    "    the position indicated by the corresponding value in `x_lengths` at the row\n",
    "    index.\n",
    "\n",
    "    Args:\n",
    "        y_out (torch.FloatTensor, torch.cuda.FloatTensor)\n",
    "            shape: (batch, sequence, feature)\n",
    "        x_lengths (torch.LongTensor, torch.cuda.LongTensor)\n",
    "            shape: (batch,)\n",
    "\n",
    "    Returns:\n",
    "        y_out (torch.FloatTensor, torch.cuda.FloatTensor)\n",
    "            shape: (batch, feature)\n",
    "    '''\n",
    "    x_lengths = x_lengths.long().detach().cpu().numpy() - 1\n",
    "\n",
    "    out = []\n",
    "    for batch_index, column_index in enumerate(x_lengths):\n",
    "        out.append(y_out[batch_index, column_index])\n",
    "\n",
    "    return torch.stack(out)"
   ]
  },
  {
   "cell_type": "markdown",
   "metadata": {
    "id": "GeC1Bnv1-WjZ"
   },
   "source": [
    "### Prepare the dataset, dataloader and the vectors"
   ]
  },
  {
   "cell_type": "markdown",
   "metadata": {
    "id": "89th0voZ-WjZ"
   },
   "source": [
    "Initializing some classes and deriving the vectorizer from the dataset"
   ]
  },
  {
   "cell_type": "code",
   "execution_count": 38,
   "metadata": {
    "id": "6a5uiyrY-WjZ"
   },
   "outputs": [],
   "source": [
    "dataset = Dataset.load_df_and_make_vectorizer(df, short=False, job_type=False)\n",
    "vectorizer = dataset.get_vectorizer()\n",
    "words = vectorizer.description_vocab._token_to_idx.keys()"
   ]
  },
  {
   "cell_type": "markdown",
   "metadata": {
    "id": "pUHxoJdx-WjZ"
   },
   "source": [
    "Load the domain specific word2vec and glove models then derive their respective embedding matrix. "
   ]
  },
  {
   "cell_type": "code",
   "execution_count": 18,
   "metadata": {
    "colab": {
     "base_uri": "https://localhost:8080/"
    },
    "executionInfo": {
     "elapsed": 79813,
     "status": "ok",
     "timestamp": 1653780333348,
     "user": {
      "displayName": "Omri Ram",
      "userId": "07837710711281572278"
     },
     "user_tz": -120
    },
    "id": "ByNRyXtc-WjZ",
    "outputId": "d47b8774-2386-4008-907e-ba5a5cd76ab8"
   },
   "outputs": [
    {
     "name": "stdout",
     "output_type": "stream",
     "text": [
      "The loaded object is of type <class 'gensim.models.keyedvectors.KeyedVectors'>\n"
     ]
    },
    {
     "data": {
      "text/plain": [
       "<gensim.models.keyedvectors.KeyedVectors at 0x168f3d80700>"
      ]
     },
     "execution_count": 18,
     "metadata": {},
     "output_type": "execute_result"
    }
   ],
   "source": [
    "def load_embedding_model():\n",
    "    \"\"\" Load GloVe Vectors\n",
    "        Return:\n",
    "            wv_from_bin: All 400000 embeddings, each lengh 200\n",
    "    \"\"\"\n",
    "    import gensim.downloader as api\n",
    "    wv_pretrained = api.load(\"glove-wiki-gigaword-100\")\n",
    "    print(\"The loaded object is of type %s\" % str(type(wv_pretrained)))\n",
    "    return wv_pretrained\n",
    "glove_model = load_embedding_model()\n",
    "glove_model = glove_model.wv\n",
    "glove_model"
   ]
  },
  {
   "cell_type": "code",
   "execution_count": 43,
   "metadata": {
    "colab": {
     "base_uri": "https://localhost:8080/"
    },
    "executionInfo": {
     "elapsed": 213,
     "status": "ok",
     "timestamp": 1653780459592,
     "user": {
      "displayName": "Omri Ram",
      "userId": "07837710711281572278"
     },
     "user_tz": -120
    },
    "id": "l_C0Gk8H-Wja",
    "outputId": "4b358a0f-03e2-49bb-cf71-4576c47299bf"
   },
   "outputs": [
    {
     "data": {
      "text/plain": [
       "array([[-0.16743128, -0.1604268 ,  0.19461337, ..., -0.18053567,\n",
       "        -0.17541122, -0.19833881],\n",
       "       [-0.23706976, -0.11258627, -0.01965223, ...,  0.02079871,\n",
       "        -0.15354437, -0.24302948],\n",
       "       [-0.07457276, -0.00825794, -0.00206882, ...,  0.02880144,\n",
       "        -0.06195338, -0.08519156],\n",
       "       ...,\n",
       "       [ 0.0221639 , -0.215947  , -0.16634697, ..., -0.11805595,\n",
       "         0.02776051, -0.21603082],\n",
       "       [-0.13008374,  0.15690514, -0.10831492, ...,  0.20461014,\n",
       "         0.17564356,  0.07839766],\n",
       "       [ 0.04568   ,  0.58192003, -0.10553   , ...,  0.44628   ,\n",
       "        -0.11492   , -0.38626   ]])"
      ]
     },
     "execution_count": 43,
     "metadata": {},
     "output_type": "execute_result"
    }
   ],
   "source": [
    "word2idx = {word: idx for idx, word in enumerate(glove_model.index_to_key)} # Might need to be index_to_keys\n",
    "glove_embeddings = make_embedding_matrix(\n",
    "    embeddings=glove_model.vectors,\n",
    "    word_to_idx=word2idx,\n",
    "    words = words\n",
    ")\n",
    "glove_embeddings"
   ]
  },
  {
   "cell_type": "code",
   "execution_count": 44,
   "metadata": {
    "colab": {
     "base_uri": "https://localhost:8080/"
    },
    "executionInfo": {
     "elapsed": 1201,
     "status": "ok",
     "timestamp": 1653780460991,
     "user": {
      "displayName": "Omri Ram",
      "userId": "07837710711281572278"
     },
     "user_tz": -120
    },
    "id": "47yS-FOu-Wja",
    "outputId": "75c3ebbd-3238-408f-b5e0-9b76efc070f8"
   },
   "outputs": [
    {
     "data": {
      "text/plain": [
       "<gensim.models.keyedvectors.KeyedVectors at 0x16882be1fa0>"
      ]
     },
     "execution_count": 44,
     "metadata": {},
     "output_type": "execute_result"
    }
   ],
   "source": [
    "word2vec_model = Word2Vec.load(args.word2vec_model_filepath).wv\n",
    "word2vec_model"
   ]
  },
  {
   "cell_type": "markdown",
   "metadata": {
    "id": "00KLm9zH-Wja"
   },
   "source": [
    "Now that the two vector models have been loaded their embedding matrix can be derived"
   ]
  },
  {
   "cell_type": "code",
   "execution_count": 45,
   "metadata": {
    "colab": {
     "base_uri": "https://localhost:8080/"
    },
    "executionInfo": {
     "elapsed": 203,
     "status": "ok",
     "timestamp": 1653780485561,
     "user": {
      "displayName": "Omri Ram",
      "userId": "07837710711281572278"
     },
     "user_tz": -120
    },
    "id": "jy1EpH7G-Wja",
    "outputId": "7bf32951-9147-44f6-8746-9ea0cd27e92b"
   },
   "outputs": [
    {
     "data": {
      "text/plain": [
       "array([[ 0.13224202, -0.0156429 ,  0.22297531, ..., -0.23367758,\n",
       "         0.01771238, -0.17256457],\n",
       "       [-0.24348353,  0.0229148 ,  0.08265927, ..., -0.07207069,\n",
       "         0.09174004, -0.04886022],\n",
       "       [-0.1209926 , -0.05640231, -0.05314699, ..., -0.16992509,\n",
       "         0.02596596,  0.13701528],\n",
       "       ...,\n",
       "       [ 2.15021205, -6.7816577 , -1.96817946, ..., -1.24320638,\n",
       "        -2.86503792, -2.08244395],\n",
       "       [-1.27098382,  0.59809715,  1.94900548, ..., -2.42886901,\n",
       "         2.58384299,  0.44639191],\n",
       "       [-0.90105385, -3.58310127, -1.63292301, ..., -1.35538149,\n",
       "        -2.43408036, -1.92034709]])"
      ]
     },
     "execution_count": 45,
     "metadata": {},
     "output_type": "execute_result"
    }
   ],
   "source": [
    "word2idx = {word: idx for idx, word in enumerate(word2vec_model.index_to_key)}\n",
    "word2vec_embeddings = make_embedding_matrix(embeddings=word2vec_model.vectors, word_to_idx=word2idx, words=words)\n",
    "word2vec_embeddings"
   ]
  },
  {
   "cell_type": "markdown",
   "metadata": {
    "id": "yokbsz1M-Wjb"
   },
   "source": [
    "### Vanilla RNN classifier"
   ]
  },
  {
   "cell_type": "markdown",
   "metadata": {
    "id": "T6JIzYMH-Wjb"
   },
   "source": [
    "Below RNN architecture taken from the unit's lab"
   ]
  },
  {
   "cell_type": "code",
   "execution_count": 15,
   "metadata": {
    "id": "HLVNw1Dg-Wjb"
   },
   "outputs": [],
   "source": [
    "class RNNLayer(nn.Module):\n",
    "    \"\"\" an Elman RNN built using the RNNCell \"\"\"\n",
    "    def __init__(self, input_size, hidden_size, batch_first=False, vanilla = True):\n",
    "        \"\"\"\n",
    "        Args:\n",
    "            input_size (int): size of the input vectors\n",
    "            hidden_size (int): size of the hidden state vectors\n",
    "            bathc_first (bool): whether the 0th dimension is batch\n",
    "        \"\"\"\n",
    "        super(RNNLayer, self).__init__()\n",
    "        \n",
    "        if vanilla:\n",
    "            self.rnn_cell = nn.RNNCell(input_size, hidden_size)\n",
    "        else:\n",
    "            self.rnn_cell = nn.GRUCell(input_size, hidden_size)\n",
    "        \n",
    "        self.batch_first = batch_first\n",
    "        self.hidden_size = hidden_size\n",
    "\n",
    "    def _initial_hidden(self, batch_size):\n",
    "        return torch.zeros((batch_size, self.hidden_size))\n",
    "\n",
    "    def forward(self, x_in, initial_hidden=None):\n",
    "        \"\"\"The forward pass of the ElmanRNN\n",
    "        \n",
    "        Args:\n",
    "            x_in (torch.Tensor): an input data tensor. \n",
    "                If self.batch_first: x_in.shape = (batch, seq_size, feat_size)\n",
    "                Else: x_in.shape = (seq_size, batch, feat_size)\n",
    "            initial_hidden (torch.Tensor): the initial hidden state for the RNN\n",
    "        Returns:\n",
    "            hiddens (torch.Tensor): The outputs of the RNN at each time step. \n",
    "                If self.batch_first: hiddens.shape = (batch, seq_size, hidden_size)\n",
    "                Else: hiddens.shape = (seq_size, batch, hidden_size)\n",
    "        \"\"\"\n",
    "        if self.batch_first:\n",
    "            batch_size, seq_size, feat_size = x_in.size()\n",
    "            x_in = x_in.permute(1, 0, 2)\n",
    "        else:\n",
    "            seq_size, batch_size, feat_size = x_in.size()\n",
    "    \n",
    "        hiddens = []\n",
    "\n",
    "        if initial_hidden is None:\n",
    "            initial_hidden = self._initial_hidden(batch_size)\n",
    "            initial_hidden = initial_hidden.to(x_in.device)\n",
    "\n",
    "        hidden_t = initial_hidden\n",
    "                    \n",
    "        for t in range(seq_size):\n",
    "            hidden_t = self.rnn_cell(x_in[t], hidden_t)\n",
    "            hiddens.append(hidden_t)\n",
    "            \n",
    "        hiddens = torch.stack(hiddens)\n",
    "\n",
    "        if self.batch_first:\n",
    "            hiddens = hiddens.permute(1, 0, 2)\n",
    "\n",
    "        return hiddens\n",
    "\n",
    "\n",
    "class rnnClassifier(nn.Module):\n",
    "    \"\"\" A Classifier with an RNN to extract features and an MLP to classify \"\"\"\n",
    "    def __init__(self, embedding_size, num_embeddings, num_classes,\n",
    "                 rnn_hidden_size, batch_first=True, padding_idx=0, pretrained_embeddings=None, vanilla = True):\n",
    "        \"\"\"\n",
    "        Args:\n",
    "            embedding_size (int): The size of the character embeddings\n",
    "            num_embeddings (int): The number of characters to embed\n",
    "            num_classes (int): The size of the prediction vector \n",
    "                Note: the number of nationalities\n",
    "            rnn_hidden_size (int): The size of the RNN's hidden state\n",
    "            batch_first (bool): Informs whether the input tensors will \n",
    "                have batch or the sequence on the 0th dimension\n",
    "            padding_idx (int): The index for the tensor padding; \n",
    "                see torch.nn.Embedding\n",
    "        \"\"\"\n",
    "        super(rnnClassifier, self).__init__()\n",
    "\n",
    "        if pretrained_embeddings is None:\n",
    "\n",
    "            self.emb = nn.Embedding(embedding_dim=embedding_size,\n",
    "                                    num_embeddings=num_embeddings\n",
    "                                    )        \n",
    "        else:\n",
    "            pretrained_embeddings = torch.from_numpy(pretrained_embeddings).float()\n",
    "            self.emb = nn.Embedding(embedding_dim=embedding_size,\n",
    "                                    num_embeddings=num_embeddings,\n",
    "                                    _weight=pretrained_embeddings)\n",
    "        self.rnn = RNNLayer(input_size=embedding_size,\n",
    "                             hidden_size=rnn_hidden_size,\n",
    "                             batch_first=batch_first, vanilla = vanilla)\n",
    "        self.fc1 = nn.Linear(in_features=rnn_hidden_size,\n",
    "                         out_features=rnn_hidden_size)\n",
    "        self.fc2 = nn.Linear(in_features=rnn_hidden_size,\n",
    "                          out_features=num_classes)\n",
    "\n",
    "    def forward(self, x_in, x_lengths=None, apply_softmax=False):\n",
    "        \"\"\"The forward pass of the classifier\n",
    "        \n",
    "        Args:\n",
    "            x_in (torch.Tensor): an input data tensor. \n",
    "                x_in.shape should be (batch, input_dim)\n",
    "            x_lengths (torch.Tensor): the lengths of each sequence in the batch.\n",
    "                They are used to find the final vector of each sequence\n",
    "            apply_softmax (bool): a flag for the softmax activation\n",
    "                should be false if used with the Cross Entropy losses\n",
    "        Returns:\n",
    "            the resulting tensor. tensor.shape should be (batch, output_dim)\n",
    "        \"\"\"\n",
    "        x_embedded = self.emb(x_in)\n",
    "        y_out = self.rnn(x_embedded)\n",
    "\n",
    "        if x_lengths is not None:\n",
    "            y_out = column_gather(y_out, x_lengths)\n",
    "        else:\n",
    "            y_out = y_out[:, -1, :]\n",
    "\n",
    "        y_out = F.relu(self.fc1(F.dropout(y_out, 0.5)))\n",
    "        y_out = self.fc2(F.dropout(y_out, 0.5))\n",
    "\n",
    "        if apply_softmax:\n",
    "            y_out = F.softmax(y_out, dim=1)\n",
    "\n",
    "        return y_out"
   ]
  },
  {
   "cell_type": "markdown",
   "metadata": {
    "id": "n_3GmiVY-Wjb"
   },
   "source": [
    "#### Classification using the domain specific embeddings"
   ]
  },
  {
   "cell_type": "code",
   "execution_count": 54,
   "metadata": {
    "colab": {
     "base_uri": "https://localhost:8080/"
    },
    "executionInfo": {
     "elapsed": 219,
     "status": "ok",
     "timestamp": 1653780587794,
     "user": {
      "displayName": "Omri Ram",
      "userId": "07837710711281572278"
     },
     "user_tz": -120
    },
    "id": "TnRotJ8g-Wjc",
    "outputId": "a3a1e82e-99b5-4ff9-e481-b62c033ee330"
   },
   "outputs": [
    {
     "name": "stdout",
     "output_type": "stream",
     "text": [
      "Using CUDA: True\n"
     ]
    }
   ],
   "source": [
    "rnn_args = Namespace(\n",
    "    # Model hyper parameters \n",
    "    hidden_dim=100, \n",
    "    embedding_dim = 100, # only relevant for glove and trained word2vec\n",
    "    num_classes = len(df['category'].unique()),\n",
    "    # Training hyper parameter\n",
    "    seed=1337, \n",
    "    learning_rate=0.001, \n",
    "    batch_size=128,\n",
    "    dropout_p=0.5, \n",
    "    num_epochs=100, \n",
    "    early_stopping_criteria=3, \n",
    "    # Runtime option\n",
    "    cuda=True, \n",
    "    catch_keyboard_interrupt=True, \n",
    "    expand_filepaths_to_save_dir=True,\n",
    "    save_dir= script_dir + '/model_storage/rnn/',\n",
    "    model_state_file=\"rnn_model.pth\",\n",
    ") \n",
    "# Check CUDA\n",
    "if not torch.cuda.is_available():\n",
    "    rnn_args.cuda = False\n",
    "    \n",
    "rnn_args.device = torch.device(\"cuda\" if rnn_args.cuda else \"cpu\")\n",
    "print(\"Using CUDA: {}\".format(rnn_args.cuda))"
   ]
  },
  {
   "cell_type": "code",
   "execution_count": 69,
   "metadata": {
    "id": "LoSfRvky-Wjd"
   },
   "outputs": [],
   "source": [
    "rnn_args.model_state_file = script_dir + '/model_storage/rnn/rnn_word2vec.pth'"
   ]
  },
  {
   "cell_type": "code",
   "execution_count": 75,
   "metadata": {
    "colab": {
     "base_uri": "https://localhost:8080/",
     "height": 252
    },
    "executionInfo": {
     "elapsed": 729978,
     "status": "ok",
     "timestamp": 1653781328263,
     "user": {
      "displayName": "Omri Ram",
      "userId": "07837710711281572278"
     },
     "user_tz": -120
    },
    "id": "1rTkVp-O-Wjc",
    "outputId": "244bc1bd-5198-4e03-84c2-3502fbf6987e"
   },
   "outputs": [
    {
     "data": {
      "application/vnd.jupyter.widget-view+json": {
       "model_id": "e724203196114d469b9489591595f907",
       "version_major": 2,
       "version_minor": 0
      },
      "text/plain": [
       "training routine:   0%|          | 0/100 [00:00<?, ?it/s]"
      ]
     },
     "metadata": {},
     "output_type": "display_data"
    },
    {
     "data": {
      "application/vnd.jupyter.widget-view+json": {
       "model_id": "e5564fceb6ec48e893845977ff718265",
       "version_major": 2,
       "version_minor": 0
      },
      "text/plain": [
       "split=train:   0%|          | 0/162 [00:00<?, ?it/s]"
      ]
     },
     "metadata": {},
     "output_type": "display_data"
    },
    {
     "data": {
      "application/vnd.jupyter.widget-view+json": {
       "model_id": "d7c77e5f932943fc8f1dbc3056377aea",
       "version_major": 2,
       "version_minor": 0
      },
      "text/plain": [
       "split=val:   0%|          | 0/23 [00:00<?, ?it/s]"
      ]
     },
     "metadata": {},
     "output_type": "display_data"
    },
    {
     "data": {
      "text/plain": [
       "rnnClassifier(\n",
       "  (emb): Embedding(6754, 100)\n",
       "  (rnn): RNNLayer(\n",
       "    (rnn_cell): RNNCell(100, 100)\n",
       "  )\n",
       "  (fc1): Linear(in_features=100, out_features=100, bias=True)\n",
       "  (fc2): Linear(in_features=100, out_features=30, bias=True)\n",
       ")"
      ]
     },
     "execution_count": 75,
     "metadata": {},
     "output_type": "execute_result"
    }
   ],
   "source": [
    "rnn_classifier_word2vec = rnnClassifier(embedding_size=rnn_args.embedding_dim, \n",
    "                            num_embeddings=len(vectorizer.description_vocab),\n",
    "                                        num_classes=rnn_args.num_classes,\n",
    "                            rnn_hidden_size=rnn_args.hidden_dim, \n",
    "                            pretrained_embeddings=word2vec_embeddings)\n",
    "rnn_classifier_word2vec, rnn_word2vec_train_state = train_model(classifier=rnn_classifier_word2vec,\n",
    "                                                      dataset=dataset, args = rnn_args,\n",
    "                                                     loss_func=nn.CrossEntropyLoss())\n",
    "rnn_classifier_word2vec"
   ]
  },
  {
   "cell_type": "code",
   "execution_count": null,
   "metadata": {
    "colab": {
     "base_uri": "https://localhost:8080/"
    },
    "executionInfo": {
     "elapsed": 1396,
     "status": "ok",
     "timestamp": 1653781329650,
     "user": {
      "displayName": "Omri Ram",
      "userId": "07837710711281572278"
     },
     "user_tz": -120
    },
    "id": "1yp7qGRq-Wjc",
    "outputId": "676c3178-d2e2-4b58-9e7f-488188f1362e"
   },
   "outputs": [
    {
     "name": "stdout",
     "output_type": "stream",
     "text": [
      "Test loss: 2.15195759223855;\n",
      "Test Accuracy: 39.419157608695656\n"
     ]
    }
   ],
   "source": [
    "test_model( rnn_classifier_word2vec, dataset,\n",
    "            rnn_word2vec_train_state, rnn_args,\n",
    "          nn.CrossEntropyLoss())"
   ]
  },
  {
   "cell_type": "markdown",
   "metadata": {
    "id": "1w4BYMqD-Wjc"
   },
   "source": [
    "#### Classification using the pretrained glove embeddings"
   ]
  },
  {
   "cell_type": "code",
   "execution_count": null,
   "metadata": {
    "id": "LoSfRvky-Wjd"
   },
   "outputs": [],
   "source": [
    "rnn_args.model_state_file = script_dir + '/model_storage/rnn/rnn_glove.pth'"
   ]
  },
  {
   "cell_type": "code",
   "execution_count": null,
   "metadata": {
    "colab": {
     "base_uri": "https://localhost:8080/",
     "height": 252
    },
    "executionInfo": {
     "elapsed": 723644,
     "status": "ok",
     "timestamp": 1653782200146,
     "user": {
      "displayName": "Omri Ram",
      "userId": "07837710711281572278"
     },
     "user_tz": -120
    },
    "id": "Agfbx7Dw-Wjd",
    "outputId": "984e573b-d803-4fd4-ebef-08ecbc14b69e"
   },
   "outputs": [
    {
     "data": {
      "application/vnd.jupyter.widget-view+json": {
       "model_id": "3b4c5b72d8764c5f8671b59753e3a2ae",
       "version_major": 2,
       "version_minor": 0
      },
      "text/plain": [
       "training routine:   0%|          | 0/100 [00:00<?, ?it/s]"
      ]
     },
     "metadata": {},
     "output_type": "display_data"
    },
    {
     "data": {
      "application/vnd.jupyter.widget-view+json": {
       "model_id": "ed46d8ddc5d2403790f843a1591eb951",
       "version_major": 2,
       "version_minor": 0
      },
      "text/plain": [
       "split=train:   0%|          | 0/162 [00:00<?, ?it/s]"
      ]
     },
     "metadata": {},
     "output_type": "display_data"
    },
    {
     "data": {
      "application/vnd.jupyter.widget-view+json": {
       "model_id": "7b85a23a67a14395b95ba383e061ff3d",
       "version_major": 2,
       "version_minor": 0
      },
      "text/plain": [
       "split=val:   0%|          | 0/23 [00:00<?, ?it/s]"
      ]
     },
     "metadata": {},
     "output_type": "display_data"
    },
    {
     "data": {
      "text/plain": [
       "rnnClassifier(\n",
       "  (emb): Embedding(6754, 100)\n",
       "  (rnn): RNNLayer(\n",
       "    (rnn_cell): RNNCell(100, 100)\n",
       "  )\n",
       "  (fc1): Linear(in_features=100, out_features=100, bias=True)\n",
       "  (fc2): Linear(in_features=100, out_features=30, bias=True)\n",
       ")"
      ]
     },
     "execution_count": 38,
     "metadata": {},
     "output_type": "execute_result"
    }
   ],
   "source": [
    "rnn_args.model_state_file = script_dir + '/model_storage/rnn/rnn_glove.pth'\n",
    "rnn_classifier_glove = rnnClassifier(embedding_size=rnn_args.embedding_dim, \n",
    "                            num_embeddings=len(vectorizer.description_vocab),\n",
    "                                        num_classes=rnn_args.num_classes,\n",
    "                            rnn_hidden_size=rnn_args.hidden_dim, \n",
    "                            pretrained_embeddings=word2vec_embeddings)\n",
    "rnn_classifier_glove, rnn_glove_train_state = train_model(classifier=rnn_classifier_glove,\n",
    "                                                      dataset=dataset, args = rnn_args,\n",
    "                                                     loss_func=nn.CrossEntropyLoss())\n",
    "rnn_classifier_glove"
   ]
  },
  {
   "cell_type": "code",
   "execution_count": null,
   "metadata": {
    "colab": {
     "base_uri": "https://localhost:8080/"
    },
    "executionInfo": {
     "elapsed": 1155,
     "status": "ok",
     "timestamp": 1653782201299,
     "user": {
      "displayName": "Omri Ram",
      "userId": "07837710711281572278"
     },
     "user_tz": -120
    },
    "id": "3sRxmz9V-Wjd",
    "outputId": "bd551f56-ab7c-4f63-c3d5-cf358a224395"
   },
   "outputs": [
    {
     "name": "stdout",
     "output_type": "stream",
     "text": [
      "Test loss: 2.5309572427169136;\n",
      "Test Accuracy: 27.34375\n"
     ]
    }
   ],
   "source": [
    "test_model( rnn_classifier_glove, dataset,\n",
    "            rnn_glove_train_state, rnn_args,\n",
    "          nn.CrossEntropyLoss())"
   ]
  },
  {
   "cell_type": "markdown",
   "metadata": {
    "id": "ZaNOedpj-Wjd"
   },
   "source": [
    "### GRU RNN model"
   ]
  },
  {
   "cell_type": "markdown",
   "metadata": {
    "id": "BxpdWeuH-Wjd"
   },
   "source": [
    "#### Gru classifier trained with domain specific word2vec embeddings"
   ]
  },
  {
   "cell_type": "code",
   "execution_count": null,
   "metadata": {
    "id": "7ZE_UPH4-Wje"
   },
   "outputs": [],
   "source": [
    "rnn_args.model_state_file = script_dir + '/model_storage/rnn/gru_word2vec.pth'"
   ]
  },
  {
   "cell_type": "code",
   "execution_count": null,
   "metadata": {
    "colab": {
     "base_uri": "https://localhost:8080/",
     "height": 252
    },
    "executionInfo": {
     "elapsed": 712425,
     "status": "ok",
     "timestamp": 1653782913717,
     "user": {
      "displayName": "Omri Ram",
      "userId": "07837710711281572278"
     },
     "user_tz": -120
    },
    "id": "8Kipo50Y-Wje",
    "outputId": "0cd6ba12-7619-40df-a57d-4e047dd228f7"
   },
   "outputs": [
    {
     "data": {
      "application/vnd.jupyter.widget-view+json": {
       "model_id": "788f98c0395841ef84d31975327f8c2c",
       "version_major": 2,
       "version_minor": 0
      },
      "text/plain": [
       "training routine:   0%|          | 0/100 [00:00<?, ?it/s]"
      ]
     },
     "metadata": {},
     "output_type": "display_data"
    },
    {
     "data": {
      "application/vnd.jupyter.widget-view+json": {
       "model_id": "3ba589118c444f65b5b34fd43d0574e5",
       "version_major": 2,
       "version_minor": 0
      },
      "text/plain": [
       "split=train:   0%|          | 0/162 [00:00<?, ?it/s]"
      ]
     },
     "metadata": {},
     "output_type": "display_data"
    },
    {
     "data": {
      "application/vnd.jupyter.widget-view+json": {
       "model_id": "196f4b9e1ac0449eacfac285f8190a98",
       "version_major": 2,
       "version_minor": 0
      },
      "text/plain": [
       "split=val:   0%|          | 0/23 [00:00<?, ?it/s]"
      ]
     },
     "metadata": {},
     "output_type": "display_data"
    },
    {
     "data": {
      "text/plain": [
       "rnnClassifier(\n",
       "  (emb): Embedding(6754, 100)\n",
       "  (rnn): RNNLayer(\n",
       "    (rnn_cell): GRUCell(100, 100)\n",
       "  )\n",
       "  (fc1): Linear(in_features=100, out_features=100, bias=True)\n",
       "  (fc2): Linear(in_features=100, out_features=30, bias=True)\n",
       ")"
      ]
     },
     "execution_count": 41,
     "metadata": {},
     "output_type": "execute_result"
    }
   ],
   "source": [
    "gru_classifier_word2vec = rnnClassifier(embedding_size=rnn_args.embedding_dim, \n",
    "                            num_embeddings=len(vectorizer.description_vocab),\n",
    "                                        num_classes=rnn_args.num_classes,\n",
    "                            rnn_hidden_size=rnn_args.hidden_dim, \n",
    "                            pretrained_embeddings=word2vec_embeddings, vanilla=False)\n",
    "gru_classifier_word2vec, gru_word2vec_train_state = train_model(classifier=gru_classifier_word2vec,\n",
    "                                                      dataset=dataset, args = rnn_args,\n",
    "                                                     loss_func=nn.CrossEntropyLoss())\n",
    "gru_classifier_word2vec"
   ]
  },
  {
   "cell_type": "code",
   "execution_count": null,
   "metadata": {
    "colab": {
     "base_uri": "https://localhost:8080/"
    },
    "executionInfo": {
     "elapsed": 1052,
     "status": "ok",
     "timestamp": 1653782914766,
     "user": {
      "displayName": "Omri Ram",
      "userId": "07837710711281572278"
     },
     "user_tz": -120
    },
    "id": "455PaJl1-Wje",
    "outputId": "6579a6c8-f75c-4373-85b1-b08a3a3d74de"
   },
   "outputs": [
    {
     "name": "stdout",
     "output_type": "stream",
     "text": [
      "Test loss: 1.9660471055818647;\n",
      "Test Accuracy: 57.167119565217384\n"
     ]
    }
   ],
   "source": [
    "test_model(gru_classifier_word2vec, dataset,\n",
    "            rnn_glove_train_state, rnn_args,\n",
    "          nn.CrossEntropyLoss())"
   ]
  },
  {
   "cell_type": "markdown",
   "metadata": {
    "id": "aZaoybMZ-Wje"
   },
   "source": [
    "#### Gru classifier trained with pretrained glove embeddings"
   ]
  },
  {
   "cell_type": "code",
   "execution_count": null,
   "metadata": {
    "id": "g7JuGNoY-Wje"
   },
   "outputs": [],
   "source": [
    "rnn_args.model_state_file = script_dir + '/model_storage/rnn/gru_glove.pth'"
   ]
  },
  {
   "cell_type": "code",
   "execution_count": null,
   "metadata": {
    "colab": {
     "background_save": true,
     "base_uri": "https://localhost:8080/",
     "height": 113,
     "referenced_widgets": [
      "a707308ad2684e77a13b4506b8b7f1bc",
      "9cc2ecf12175427d9ac7600cfd4d3ebc",
      "d1563cd43a0445c9b22c8217abb92798"
     ]
    },
    "id": "AnpgES9W-Wje",
    "outputId": "7f443f34-ec3c-4274-bc81-a7260c7a4550"
   },
   "outputs": [
    {
     "data": {
      "application/vnd.jupyter.widget-view+json": {
       "model_id": "a707308ad2684e77a13b4506b8b7f1bc",
       "version_major": 2,
       "version_minor": 0
      },
      "text/plain": [
       "training routine:   0%|          | 0/100 [00:00<?, ?it/s]"
      ]
     },
     "metadata": {},
     "output_type": "display_data"
    },
    {
     "data": {
      "application/vnd.jupyter.widget-view+json": {
       "model_id": "9cc2ecf12175427d9ac7600cfd4d3ebc",
       "version_major": 2,
       "version_minor": 0
      },
      "text/plain": [
       "split=train:   0%|          | 0/162 [00:00<?, ?it/s]"
      ]
     },
     "metadata": {},
     "output_type": "display_data"
    },
    {
     "data": {
      "application/vnd.jupyter.widget-view+json": {
       "model_id": "d1563cd43a0445c9b22c8217abb92798",
       "version_major": 2,
       "version_minor": 0
      },
      "text/plain": [
       "split=val:   0%|          | 0/23 [00:00<?, ?it/s]"
      ]
     },
     "metadata": {},
     "output_type": "display_data"
    },
    {
     "data": {
      "text/plain": [
       "rnnClassifier(\n",
       "  (emb): Embedding(6754, 100)\n",
       "  (rnn): RNNLayer(\n",
       "    (rnn_cell): GRUCell(100, 100)\n",
       "  )\n",
       "  (fc1): Linear(in_features=100, out_features=100, bias=True)\n",
       "  (fc2): Linear(in_features=100, out_features=30, bias=True)\n",
       ")"
      ]
     },
     "execution_count": null,
     "metadata": {},
     "output_type": "execute_result"
    }
   ],
   "source": [
    "rnn_args.model_state_file = script_dir + '/model_storage/rnn/gru_glove.pth'\n",
    "gru_classifier_glove = rnnClassifier(embedding_size=rnn_args.embedding_dim, \n",
    "                            num_embeddings=len(vectorizer.description_vocab),\n",
    "                                        num_classes=rnn_args.num_classes,\n",
    "                            rnn_hidden_size=rnn_args.hidden_dim, \n",
    "                            pretrained_embeddings=glove_embeddings, vanilla=False)\n",
    "gru_classifier_glove, gru_glove_train_state = train_model(classifier=gru_classifier_glove,\n",
    "                                                      dataset=dataset, args = rnn_args,\n",
    "                                                     loss_func=nn.CrossEntropyLoss())\n",
    "gru_classifier_glove"
   ]
  },
  {
   "cell_type": "code",
   "execution_count": null,
   "metadata": {
    "colab": {
     "background_save": true
    },
    "id": "QyXPJsOY-Wjf",
    "outputId": "f099ee15-0a2f-40c8-941e-a70b888cb8ff"
   },
   "outputs": [
    {
     "name": "stdout",
     "output_type": "stream",
     "text": [
      "Test loss: 2.1157757847205443;\n",
      "Test Accuracy: 53.82133152173914\n"
     ]
    }
   ],
   "source": [
    "test_model(gru_classifier_glove, dataset,\n",
    "           gru_glove_train_state, rnn_args,\n",
    "          nn.CrossEntropyLoss())"
   ]
  },
  {
   "cell_type": "markdown",
   "metadata": {
    "id": "XJIAdeOAaxOZ"
   },
   "source": [
    "## Model Evalution"
   ]
  },
  {
   "cell_type": "code",
   "execution_count": 152,
   "metadata": {
    "executionInfo": {
     "elapsed": 3,
     "status": "ok",
     "timestamp": 1653821373387,
     "user": {
      "displayName": "Sigar S",
      "userId": "03872150139872128972"
     },
     "user_tz": -480
    },
    "id": "FNgylcM9a4SE"
   },
   "outputs": [],
   "source": [
    "def evaluation( classifier, dataset, args,num_classes,\n",
    "                binary=False):\n",
    "    \"\"\"\n",
    "    args:\n",
    "        classifier to evaluate,\n",
    "        dataset: test data for evaluating the classifier,\n",
    "        train_state: the final train state after training the model,\n",
    "        BCE: whether to use binary cross entrop or cross entropy,\n",
    "    returns:\n",
    "        \n",
    "        \n",
    "    \"\"\"\n",
    "   \n",
    "    \n",
    "    from torchmetrics import ConfusionMatrix, F1Score,Precision,Accuracy,Recall\n",
    "    confmat = ConfusionMatrix(num_classes=num_classes)\n",
    "    \n",
    "    import numpy\n",
    "    fin_mat = numpy.zeros((num_classes,num_classes))\n",
    "    \n",
    "    dataset.set_split('test')\n",
    "    batch_generator = generate_batches(dataset, \n",
    "                                       batch_size=args.batch_size, device = rnn_args.device\n",
    "                                       )\n",
    "    y_pred = None\n",
    "    y_true = None\n",
    "    classifier.eval()\n",
    "\n",
    "    for batch_index, batch_dict in enumerate(batch_generator):\n",
    "        # compute the output\n",
    "        inputs, labels = batch_dict\n",
    "        if binary:\n",
    "                    \n",
    "            output = classifier(batch_dict['x_data'].float())\n",
    "            \n",
    "        else:\n",
    "            output = classifier(batch_dict['x_data'])\n",
    "\n",
    "        \n",
    "        if y_pred is None:\n",
    "            y_pred = output\n",
    "            y_true = batch_dict['y_target'].data\n",
    "        else:\n",
    "            y_pred = torch.cat((y_pred, output))\n",
    "            y_true = torch.cat((y_true, batch_dict['y_target']))\n",
    "        \n",
    "        fin_mat += confmat(output.data.cpu(), batch_dict['y_target'].data.cpu()).numpy()\n",
    "    if binary:\n",
    "        recall = Recall()\n",
    "        f1Score = F1Score()\n",
    "        accuracy = Accuracy()\n",
    "        precision = Precision()\n",
    "    else:\n",
    "        recall = Recall(num_classes=num_classes, average=\"weighted\")\n",
    "        f1Score = F1Score(num_classes=num_classes, average=\"weighted\")\n",
    "        accuracy = Accuracy(num_classes=num_classes, average=\"weighted\")\n",
    "        precision = Precision(num_classes=num_classes, average=\"weighted\")\n",
    "    classification_report = {\"Recall\": recall(y_pred.data.cpu(), y_true.data.cpu()).numpy(),\n",
    "                            \"F1Score\": f1Score(y_pred.data.cpu(), y_true.data.cpu()).numpy(),\n",
    "                             \"Accuracy\": accuracy(y_pred.data.cpu(), y_true.data.cpu()).numpy(),\n",
    "                             \"Precision\": precision(y_pred.data.cpu(), y_true.data.cpu()).numpy()\n",
    "                            }\n",
    "    return classification_report, fin_mat"
   ]
  },
  {
   "cell_type": "markdown",
   "metadata": {},
   "source": [
    "#### Load models"
   ]
  },
  {
   "cell_type": "code",
   "execution_count": null,
   "metadata": {
    "id": "FVl49W0FcIcs"
   },
   "outputs": [],
   "source": [
    "rnn_args.model_state_file = script_dir + '/model_storage/rnn/gru_glove.pth'\n",
    "gru_classifier_glove = rnnClassifier(embedding_size=rnn_args.embedding_dim, \n",
    "                            num_embeddings=len(vectorizer.description_vocab),\n",
    "                                        num_classes=rnn_args.num_classes,\n",
    "                            rnn_hidden_size=rnn_args.hidden_dim, \n",
    "                            pretrained_embeddings=glove_embeddings, vanilla=False)\n",
    "gru_classifier_glove.load_state_dict(torch.load(rnn_args.model_state_file))\n",
    "\n",
    "rnn_args.model_state_file = script_dir + '/model_storage/rnn/gru_word2vec.pth'\n",
    "gru_classifier_word2vec = rnnClassifier(embedding_size=rnn_args.embedding_dim, \n",
    "                            num_embeddings=len(vectorizer.description_vocab),\n",
    "                                        num_classes=rnn_args.num_classes,\n",
    "                            rnn_hidden_size=rnn_args.hidden_dim, \n",
    "                            pretrained_embeddings=word2vec_embeddings, vanilla=False)\n",
    "\n",
    "gru_classifier_word2vec.load_state_dict(torch.load(rnn_args.model_state_file))\n",
    "\n",
    "rnn_args.model_state_file = script_dir + '/model_storage/rnn/rnn_glove.pth'\n",
    "rnn_classifier_glove = rnnClassifier(embedding_size=rnn_args.embedding_dim, \n",
    "                            num_embeddings=len(vectorizer.description_vocab),\n",
    "                                        num_classes=rnn_args.num_classes,\n",
    "                            rnn_hidden_size=rnn_args.hidden_dim, \n",
    "                            pretrained_embeddings=word2vec_embeddings)\n",
    "\n",
    "rnn_classifier_glove.load_state_dict(torch.load(rnn_args.model_state_file))\n",
    "\n",
    "\n",
    "# rnn_args.model_state_file = script_dir + '/model_storage/rnn/rnn_word2vec.pth'\n",
    "# rnn_classifier_word2vec = rnnClassifier(embedding_size=rnn_args.embedding_dim, \n",
    "#                             num_embeddings=len(vectorizer.description_vocab),\n",
    "#                                         num_classes=rnn_args.num_classes,\n",
    "#                             rnn_hidden_size=rnn_args.hidden_dim, \n",
    "#                             pretrained_embeddings=word2vec_embeddings)\n",
    "# rnn_classifier_word2vec.load_state_dict(torch.load(rnn_args.model_state_file))"
   ]
  },
  {
   "cell_type": "code",
   "execution_count": 144,
   "metadata": {
    "colab": {
     "base_uri": "https://localhost:8080/",
     "height": 169
    },
    "executionInfo": {
     "elapsed": 8,
     "status": "error",
     "timestamp": 1653821431247,
     "user": {
      "displayName": "Sigar S",
      "userId": "03872150139872128972"
     },
     "user_tz": -480
    },
    "id": "ZX12ZnuPbKSL",
    "outputId": "93138981-2292-4382-8760-7941012b1581"
   },
   "outputs": [
    {
     "name": "stdout",
     "output_type": "stream",
     "text": [
      "tensor([22, 24, 15,  ...,  6, 29,  6])\n"
     ]
    }
   ],
   "source": [
    "gru_glove_report, gru_glove_conf_mat=evaluation( gru_classifier_glove, dataset, rnn_args,30,\n",
    "                binary=False)"
   ]
  },
  {
   "cell_type": "code",
   "execution_count": 145,
   "metadata": {},
   "outputs": [
    {
     "name": "stdout",
     "output_type": "stream",
     "text": [
      "tensor([11, 29,  6,  ..., 17,  6, 29])\n"
     ]
    }
   ],
   "source": [
    "gru_word2vec_report, gru_word2vec_conf_mat=evaluation( gru_classifier_word2vec, dataset, rnn_args,30,\n",
    "                binary=False)\n"
   ]
  },
  {
   "cell_type": "code",
   "execution_count": 146,
   "metadata": {},
   "outputs": [
    {
     "name": "stdout",
     "output_type": "stream",
     "text": [
      "tensor([22,  3,  9,  ..., 29, 11,  0])\n"
     ]
    }
   ],
   "source": [
    "rnn_glove_report, rnn_glove_conf_mat=evaluation( rnn_classifier_glove, dataset, rnn_args,30,\n",
    "                binary=False)"
   ]
  },
  {
   "cell_type": "code",
   "execution_count": 153,
   "metadata": {},
   "outputs": [],
   "source": [
    "rnn_word2vec_report, rnn_word2vec_conf_mat=evaluation( rnn_classifier_word2vec, dataset, rnn_args,30,\n",
    "                binary=False)"
   ]
  },
  {
   "cell_type": "code",
   "execution_count": 159,
   "metadata": {},
   "outputs": [
    {
     "name": "stdout",
     "output_type": "stream",
     "text": [
      "key        GRU GLOVE            GRU WORD2VEC         RNN GLOVE            RNN WORD2VEC        \n",
      "Recall 0.5419497489929199 0.5711616277694702 0.2729279696941376 0.31216034293174744\n",
      "F1Score 0.5289833545684814 0.5611239075660706 0.1849139779806137 0.22320306301116943\n",
      "Accuracy 0.5419497489929199 0.5711616277694702 0.2729279696941376 0.31216034293174744\n",
      "Precision 0.5233861804008484 0.5585449934005737 0.16576683521270752 0.20398427546024323\n"
     ]
    }
   ],
   "source": [
    "print(\"{:<10} {:<20} {:<20} {:<20} {:<20}\".format('key', 'GRU GLOVE', 'GRU WORD2VEC', 'RNN GLOVE', 'RNN WORD2VEC'))\n",
    "for key in gru_glove_report.keys():\n",
    "    \n",
    "    print (\"{:<5} {:<10} {:<10} {:<10} {:<10}\".format(key,gru_glove_report[key], gru_word2vec_report[key], \n",
    "                                               rnn_glove_report[key], rnn_word2vec_report[key]))"
   ]
  },
  {
   "cell_type": "markdown",
   "metadata": {},
   "source": [
    "On all accounts the GRU model using the domain specific word to vec embedding outperforms all other combinations. This is closely followed by the GRU model using glove embedding. Thus, Generally, the GRU model is better than the RNN model, this is an expected result since the GRU is more complex and has the property which allows it to keep information from it older hidden state and, hence draw out more semantic information for the classification.\n",
    "Additionally, the domain specific word to vec embedding outperforms the Pretrained  word embedding. This was also expected since domain spefic words tend to have altererd meanings and thus vectorisation when compared to genereic words."
   ]
  },
  {
   "cell_type": "code",
   "execution_count": 126,
   "metadata": {},
   "outputs": [],
   "source": [
    "classnames = []\n",
    "for i in range(30):\n",
    "    classnames.append( dataset._vectorizer.target_vocab.lookup_index(i))"
   ]
  },
  {
   "cell_type": "code",
   "execution_count": 127,
   "metadata": {},
   "outputs": [
    {
     "data": {
      "text/plain": [
       "<AxesSubplot:>"
      ]
     },
     "execution_count": 127,
     "metadata": {},
     "output_type": "execute_result"
    },
    {
     "data": {
      "image/png": "[encoded data removed]",
      "text/plain": [
       "<Figure size 1440x1440 with 2 Axes>"
      ]
     },
     "metadata": {
      "needs_background": "light"
     },
     "output_type": "display_data"
    }
   ],
   "source": [
    "import seaborn as sns\n",
    "import matplotlib.pyplot as plt\n",
    "fig, ax = plt.subplots(figsize=(20,20)) \n",
    "sns.heatmap(rnn_glove_conf_mat, annot= True, xticklabels=classnames, yticklabels=classnames )\n",
    "plt.title(\"RNN GLOVE\")"
   ]
  },
  {
   "cell_type": "code",
   "execution_count": 161,
   "metadata": {},
   "outputs": [
    {
     "data": {
      "text/plain": [
       "Text(0.5, 1.0, 'RNN word2vec')"
      ]
     },
     "execution_count": 161,
     "metadata": {},
     "output_type": "execute_result"
    },
    {
     "data": {
      "image/png": "[encoded data removed]",
      "text/plain": [
       "<Figure size 1440x1440 with 2 Axes>"
      ]
     },
     "metadata": {
      "needs_background": "light"
     },
     "output_type": "display_data"
    }
   ],
   "source": [
    "import seaborn as sns\n",
    "import matplotlib.pyplot as plt\n",
    "fig, ax = plt.subplots(figsize=(20,20)) \n",
    "sns.heatmap(rnn_word2vec_conf_mat, annot= True, xticklabels=classnames, yticklabels=classnames )\n",
    "plt.title(\"RNN word2vec\")"
   ]
  },
  {
   "cell_type": "markdown",
   "metadata": {},
   "source": [
    "Domain-specific RNN manages to identify at least 5 classes compared to pretrained RNN's 4, although the \"Trades and service\" and \"Accounting\" classes would have a low precission owing to the fact the the classes have a large portiong of the models' false positives. Meaning, even though it seems to identify these classes, the models tend to classifier most other classes as these two classes. Hence it is unrealiable."
   ]
  },
  {
   "cell_type": "code",
   "execution_count": null,
   "metadata": {},
   "outputs": [],
   "source": []
  }
 ],
 "metadata": {
  "accelerator": "GPU",
  "colab": {
   "name": "category_classification.ipynb",
   "provenance": []
  },
  "kernelspec": {
   "display_name": "Python 3",
   "language": "python",
   "name": "python3"
  },
  "language_info": {
   "codemirror_mode": {
    "name": "ipython",
    "version": 3
   },
   "file_extension": ".py",
   "mimetype": "text/x-python",
   "name": "python",
   "nbconvert_exporter": "python",
   "pygments_lexer": "ipython3",
   "version": "3.8.10"
  },
  "vscode": {
   "interpreter": {
    "hash": "c89f1b53f5cd444e3157448a8cfaf5cd042e20f991203c5786aa4f19ac50ffc0"
   }
  }
 },
 "nbformat": 4,
 "nbformat_minor": 1
}
