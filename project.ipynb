{
  "cells": [
    {
      "cell_type": "markdown",
      "metadata": {
        "id": "J0rXNLe5XQoh"
      },
      "source": [
        "# NLP Project 2, Seek dataset Category and Job Type Classification\n",
        "22274048, "
      ]
    },
    {
      "cell_type": "markdown",
      "metadata": {
        "id": "QW1YKI9_XQoi"
      },
      "source": [
        "First, import all required libraries and modules for the project and load the data into pandas"
      ]
    },
    {
      "cell_type": "code",
      "execution_count": null,
      "metadata": {
        "id": "ex-6BFMlXQok"
      },
      "outputs": [],
      "source": [
        "import pandas as pd\n",
        "from torch.utils.data import Dataset, DataLoader\n",
        "import torch\n",
        "import collections\n",
        "import numpy as np\n",
        "import pandas as pd\n",
        "import re\n",
        "import os\n",
        "from collections import Counter\n",
        "import string\n",
        "from argparse import Namespace\n",
        "import torch.nn as nn\n",
        "from torch.utils.data import Dataset\n",
        "import random\n",
        "import os\n",
        "import torch.optim as optim\n",
        "import json\n",
        "from tqdm import tqdm\n",
        "import torch.nn.functional as F\n",
        "import pandas as pd\n",
        "import unicodedata\n",
        "import ftfy\n",
        "from gensim.models import KeyedVectors\n",
        "import gensim\n",
        "from sklearn.model_selection import train_test_split\n",
        "from sklearn.manifold import TSNE\n",
        "import numpy as np\n",
        "import matplotlib.pyplot as plt\n",
        "from gensim.corpora import Dictionary\n",
        "from gensim.models import Word2Vec\n",
        "import seaborn as sns\n",
        "from time import time\n",
        "from bokeh.plotting import figure, show\n",
        "from bokeh.io import output_notebook\n",
        "from bokeh.models import ColumnDataSource, LabelSet\n",
        "from bokeh.plotting import figure, show\n",
        "from bokeh.io import output_notebook\n",
        "from bokeh.models import ColumnDataSource, LabelSet\n",
        "from nltk.corpus import stopwords\n",
        "from tqdm import tqdm_notebook as tqdm\n",
        "from nltk.corpus import stopwords\n",
        "stopwords = stopwords.words('english')"
      ]
    },
    {
      "cell_type": "code",
      "execution_count": null,
      "metadata": {
        "id": "8S1O13ZdXQom"
      },
      "outputs": [],
      "source": [
        "script_dir = os.path.dirname(os.path.realpath('__file__'))"
      ]
    },
    {
      "cell_type": "code",
      "execution_count": null,
      "metadata": {
        "id": "7DKaSDcWXQon"
      },
      "outputs": [],
      "source": [
        "df_args = Namespace(\n",
        "    unprocessed_csv  = os.path.join(script_dir, 'data/seek_australia.csv'),\n",
        "    processed_csv = os.path.join(script_dir, 'data/processed_seek.csv'),\n",
        "    train_proportion=0.7,\n",
        "    val_proportion=0.1,\n",
        "    test_proportion=0.2,\n",
        "    frac = 1, # change to 1 to use the full dataset\n",
        ")"
      ]
    },
    {
      "cell_type": "code",
      "execution_count": null,
      "metadata": {
        "id": "rwIy_xpvXQoo",
        "outputId": "329bf89e-d60e-4f47-827e-3d816239bb52"
      },
      "outputs": [
        {
          "data": {
            "text/html": [
              "<div>\n",
              "<style scoped>\n",
              "    .dataframe tbody tr th:only-of-type {\n",
              "        vertical-align: middle;\n",
              "    }\n",
              "\n",
              "    .dataframe tbody tr th {\n",
              "        vertical-align: top;\n",
              "    }\n",
              "\n",
              "    .dataframe thead th {\n",
              "        text-align: right;\n",
              "    }\n",
              "</style>\n",
              "<table border=\"1\" class=\"dataframe\">\n",
              "  <thead>\n",
              "    <tr style=\"text-align: right;\">\n",
              "      <th></th>\n",
              "      <th>category</th>\n",
              "      <th>city</th>\n",
              "      <th>company_name</th>\n",
              "      <th>geo</th>\n",
              "      <th>job_board</th>\n",
              "      <th>job_description</th>\n",
              "      <th>job_title</th>\n",
              "      <th>job_type</th>\n",
              "      <th>post_date</th>\n",
              "      <th>salary_offered</th>\n",
              "      <th>state</th>\n",
              "      <th>url</th>\n",
              "    </tr>\n",
              "  </thead>\n",
              "  <tbody>\n",
              "    <tr>\n",
              "      <th>0</th>\n",
              "      <td>Healthcare &amp; Medical</td>\n",
              "      <td>Brisbane</td>\n",
              "      <td>H1 Healthcare Pty</td>\n",
              "      <td>AU</td>\n",
              "      <td>seek</td>\n",
              "      <td>Are you a scrub nurse looking to escape the p...</td>\n",
              "      <td>Registered Nurse (RN)</td>\n",
              "      <td>Full Time</td>\n",
              "      <td>2018-04-12T05:05:22Z</td>\n",
              "      <td>$75k - $85k p.a. + more</td>\n",
              "      <td>NaN</td>\n",
              "      <td>https://www.seek.com.au/job/35969937</td>\n",
              "    </tr>\n",
              "    <tr>\n",
              "      <th>1</th>\n",
              "      <td>Trades &amp; Services</td>\n",
              "      <td>Bendigo, Goldfields &amp; Macedon Ranges</td>\n",
              "      <td>RedHill Designer Cabinetry</td>\n",
              "      <td>AU</td>\n",
              "      <td>seek</td>\n",
              "      <td>RedHill Designer Cabinetry is a Bendigo-based...</td>\n",
              "      <td>Cabinet Maker</td>\n",
              "      <td>Full Time</td>\n",
              "      <td>2018-04-14T04:34:11Z</td>\n",
              "      <td>Salary negotiable based on experience</td>\n",
              "      <td>NaN</td>\n",
              "      <td>https://www.seek.com.au/job/35986382</td>\n",
              "    </tr>\n",
              "    <tr>\n",
              "      <th>2</th>\n",
              "      <td>Administration &amp; Office Support</td>\n",
              "      <td>Sydney</td>\n",
              "      <td>Active Recruitment Pty Ltd</td>\n",
              "      <td>AU</td>\n",
              "      <td>seek</td>\n",
              "      <td>NaN</td>\n",
              "      <td>Administration/ Member Services Support Office...</td>\n",
              "      <td>Full Time</td>\n",
              "      <td>2018-04-13T03:00:20Z</td>\n",
              "      <td>NaN</td>\n",
              "      <td>Parramatta &amp; Western Suburbs</td>\n",
              "      <td>https://www.seek.com.au/job/35978573</td>\n",
              "    </tr>\n",
              "    <tr>\n",
              "      <th>3</th>\n",
              "      <td>Sport &amp; Recreation</td>\n",
              "      <td>Sydney</td>\n",
              "      <td>Orangetheory Fitness Concord</td>\n",
              "      <td>AU</td>\n",
              "      <td>seek</td>\n",
              "      <td>BURN FOR THE BEST / BURN WITH THE BEST About ...</td>\n",
              "      <td>Head Trainer</td>\n",
              "      <td>Full Time</td>\n",
              "      <td>2018-04-16T23:46:33Z</td>\n",
              "      <td>$55,000 - $70,000</td>\n",
              "      <td>CBD, Inner West &amp; Eastern Suburbs</td>\n",
              "      <td>https://www.seek.com.au/job/36001340</td>\n",
              "    </tr>\n",
              "    <tr>\n",
              "      <th>4</th>\n",
              "      <td>Trades &amp; Services</td>\n",
              "      <td>Sydney</td>\n",
              "      <td>Frontline HR Sydney</td>\n",
              "      <td>AU</td>\n",
              "      <td>seek</td>\n",
              "      <td>NaN</td>\n",
              "      <td>Heavy Diesel Mechanic</td>\n",
              "      <td>Casual/Vacation</td>\n",
              "      <td>2018-04-16T01:48:19Z</td>\n",
              "      <td>$35 - $44.99 per hour</td>\n",
              "      <td>Parramatta &amp; Western Suburbs</td>\n",
              "      <td>https://www.seek.com.au/job/35693245</td>\n",
              "    </tr>\n",
              "    <tr>\n",
              "      <th>...</th>\n",
              "      <td>...</td>\n",
              "      <td>...</td>\n",
              "      <td>...</td>\n",
              "      <td>...</td>\n",
              "      <td>...</td>\n",
              "      <td>...</td>\n",
              "      <td>...</td>\n",
              "      <td>...</td>\n",
              "      <td>...</td>\n",
              "      <td>...</td>\n",
              "      <td>...</td>\n",
              "      <td>...</td>\n",
              "    </tr>\n",
              "    <tr>\n",
              "      <th>29995</th>\n",
              "      <td>Healthcare &amp; Medical</td>\n",
              "      <td>Cairns &amp; Far North</td>\n",
              "      <td>Torres and Cape Hospital and Health Service</td>\n",
              "      <td>AU</td>\n",
              "      <td>seek</td>\n",
              "      <td>Remuneration value up to $74,438 p.a., compri...</td>\n",
              "      <td>Advanced Health Worker Men's &amp; Women's Health</td>\n",
              "      <td>Contract/Temp</td>\n",
              "      <td>2018-04-13T05:40:06Z</td>\n",
              "      <td>NaN</td>\n",
              "      <td>NaN</td>\n",
              "      <td>https://www.seek.com.au/job/35981838</td>\n",
              "    </tr>\n",
              "    <tr>\n",
              "      <th>29996</th>\n",
              "      <td>Trades &amp; Services</td>\n",
              "      <td>Brisbane</td>\n",
              "      <td>Nobul</td>\n",
              "      <td>AU</td>\n",
              "      <td>seek</td>\n",
              "      <td>Nobul are looking for experienced Cabinet Make...</td>\n",
              "      <td>Cabinet Maker</td>\n",
              "      <td>Full Time</td>\n",
              "      <td>2018-04-13T20:30:18Z</td>\n",
              "      <td>NaN</td>\n",
              "      <td>Northern Suburbs</td>\n",
              "      <td>https://www.seek.com.au/job/35985627</td>\n",
              "    </tr>\n",
              "    <tr>\n",
              "      <th>29997</th>\n",
              "      <td>Administration &amp; Office Support</td>\n",
              "      <td>Sydney</td>\n",
              "      <td>Hays Office Support</td>\n",
              "      <td>AU</td>\n",
              "      <td>seek</td>\n",
              "      <td>Leading Asian Bank, $75,000-$85,000 package. ...</td>\n",
              "      <td>Executive Team Assistant</td>\n",
              "      <td>Full Time</td>\n",
              "      <td>2018-04-16T07:43:51Z</td>\n",
              "      <td>NaN</td>\n",
              "      <td>CBD, Inner West &amp; Eastern Suburbs</td>\n",
              "      <td>https://www.seek.com.au/job/35998159</td>\n",
              "    </tr>\n",
              "    <tr>\n",
              "      <th>29998</th>\n",
              "      <td>CEO &amp; General Management</td>\n",
              "      <td>Cairns &amp; Far North</td>\n",
              "      <td>Enterprise Management Group</td>\n",
              "      <td>AU</td>\n",
              "      <td>seek</td>\n",
              "      <td>Your new company At My Pathway we believe eve...</td>\n",
              "      <td>Chief Operating Officer</td>\n",
              "      <td>Full Time</td>\n",
              "      <td>2018-04-13T02:13:34Z</td>\n",
              "      <td>NaN</td>\n",
              "      <td>NaN</td>\n",
              "      <td>https://www.seek.com.au/job/35977902</td>\n",
              "    </tr>\n",
              "    <tr>\n",
              "      <th>29999</th>\n",
              "      <td>Banking &amp; Financial Services</td>\n",
              "      <td>Melbourne</td>\n",
              "      <td>BTA SALES PTY LTD</td>\n",
              "      <td>AU</td>\n",
              "      <td>seek</td>\n",
              "      <td>Whatâ€™s in it for you? In addition to the am...</td>\n",
              "      <td>Account Manager</td>\n",
              "      <td>Full Time</td>\n",
              "      <td>2018-04-13T03:13:06Z</td>\n",
              "      <td>Up to $65k p.a. + + great commission</td>\n",
              "      <td>CBD &amp; Inner Suburbs</td>\n",
              "      <td>https://www.seek.com.au/job/35978771</td>\n",
              "    </tr>\n",
              "  </tbody>\n",
              "</table>\n",
              "<p>30000 rows × 12 columns</p>\n",
              "</div>"
            ],
            "text/plain": [
              "                              category                                  city  \\\n",
              "0                 Healthcare & Medical                              Brisbane   \n",
              "1                    Trades & Services  Bendigo, Goldfields & Macedon Ranges   \n",
              "2      Administration & Office Support                                Sydney   \n",
              "3                   Sport & Recreation                                Sydney   \n",
              "4                    Trades & Services                                Sydney   \n",
              "...                                ...                                   ...   \n",
              "29995             Healthcare & Medical                    Cairns & Far North   \n",
              "29996                Trades & Services                              Brisbane   \n",
              "29997  Administration & Office Support                                Sydney   \n",
              "29998         CEO & General Management                    Cairns & Far North   \n",
              "29999     Banking & Financial Services                             Melbourne   \n",
              "\n",
              "                                      company_name geo job_board  \\\n",
              "0                                H1 Healthcare Pty  AU      seek   \n",
              "1                       RedHill Designer Cabinetry  AU      seek   \n",
              "2                       Active Recruitment Pty Ltd  AU      seek   \n",
              "3                     Orangetheory Fitness Concord  AU      seek   \n",
              "4                              Frontline HR Sydney  AU      seek   \n",
              "...                                            ...  ..       ...   \n",
              "29995  Torres and Cape Hospital and Health Service  AU      seek   \n",
              "29996                                        Nobul  AU      seek   \n",
              "29997                          Hays Office Support  AU      seek   \n",
              "29998                  Enterprise Management Group  AU      seek   \n",
              "29999                            BTA SALES PTY LTD  AU      seek   \n",
              "\n",
              "                                         job_description  \\\n",
              "0       Are you a scrub nurse looking to escape the p...   \n",
              "1       RedHill Designer Cabinetry is a Bendigo-based...   \n",
              "2                                                    NaN   \n",
              "3       BURN FOR THE BEST / BURN WITH THE BEST About ...   \n",
              "4                                                    NaN   \n",
              "...                                                  ...   \n",
              "29995   Remuneration value up to $74,438 p.a., compri...   \n",
              "29996  Nobul are looking for experienced Cabinet Make...   \n",
              "29997   Leading Asian Bank, $75,000-$85,000 package. ...   \n",
              "29998   Your new company At My Pathway we believe eve...   \n",
              "29999   Whatâ€™s in it for you? In addition to the am...   \n",
              "\n",
              "                                               job_title         job_type  \\\n",
              "0                                  Registered Nurse (RN)        Full Time   \n",
              "1                                          Cabinet Maker        Full Time   \n",
              "2      Administration/ Member Services Support Office...        Full Time   \n",
              "3                                           Head Trainer        Full Time   \n",
              "4                                  Heavy Diesel Mechanic  Casual/Vacation   \n",
              "...                                                  ...              ...   \n",
              "29995      Advanced Health Worker Men's & Women's Health    Contract/Temp   \n",
              "29996                                      Cabinet Maker        Full Time   \n",
              "29997                           Executive Team Assistant        Full Time   \n",
              "29998                            Chief Operating Officer        Full Time   \n",
              "29999                                    Account Manager        Full Time   \n",
              "\n",
              "                  post_date                         salary_offered  \\\n",
              "0      2018-04-12T05:05:22Z                $75k - $85k p.a. + more   \n",
              "1      2018-04-14T04:34:11Z  Salary negotiable based on experience   \n",
              "2      2018-04-13T03:00:20Z                                    NaN   \n",
              "3      2018-04-16T23:46:33Z                      $55,000 - $70,000   \n",
              "4      2018-04-16T01:48:19Z                  $35 - $44.99 per hour   \n",
              "...                     ...                                    ...   \n",
              "29995  2018-04-13T05:40:06Z                                    NaN   \n",
              "29996  2018-04-13T20:30:18Z                                    NaN   \n",
              "29997  2018-04-16T07:43:51Z                                    NaN   \n",
              "29998  2018-04-13T02:13:34Z                                    NaN   \n",
              "29999  2018-04-13T03:13:06Z   Up to $65k p.a. + + great commission   \n",
              "\n",
              "                                   state                                   url  \n",
              "0                                    NaN  https://www.seek.com.au/job/35969937  \n",
              "1                                    NaN  https://www.seek.com.au/job/35986382  \n",
              "2           Parramatta & Western Suburbs  https://www.seek.com.au/job/35978573  \n",
              "3      CBD, Inner West & Eastern Suburbs  https://www.seek.com.au/job/36001340  \n",
              "4           Parramatta & Western Suburbs  https://www.seek.com.au/job/35693245  \n",
              "...                                  ...                                   ...  \n",
              "29995                                NaN  https://www.seek.com.au/job/35981838  \n",
              "29996                   Northern Suburbs  https://www.seek.com.au/job/35985627  \n",
              "29997  CBD, Inner West & Eastern Suburbs  https://www.seek.com.au/job/35998159  \n",
              "29998                                NaN  https://www.seek.com.au/job/35977902  \n",
              "29999                CBD & Inner Suburbs  https://www.seek.com.au/job/35978771  \n",
              "\n",
              "[30000 rows x 12 columns]"
            ]
          },
          "execution_count": 4,
          "metadata": {},
          "output_type": "execute_result"
        }
      ],
      "source": [
        "df = pd.read_csv (df_args.unprocessed_csv)\n",
        "df = df.sample(frac=df_args.frac, ignore_index=True, random_state=1) # this also shuffles the dataframe\n",
        "df"
      ]
    },
    {
      "cell_type": "markdown",
      "metadata": {
        "id": "f-GUWX99XQop"
      },
      "source": [
        "## Data preprocessing"
      ]
    },
    {
      "cell_type": "markdown",
      "metadata": {
        "id": "iHc8dXS9XQoq"
      },
      "source": [
        "#### Preparing the dataframe for classification"
      ]
    },
    {
      "cell_type": "markdown",
      "metadata": {
        "id": "d4aEKVfGXQor"
      },
      "source": [
        "Remove unnecessary columns"
      ]
    },
    {
      "cell_type": "code",
      "execution_count": null,
      "metadata": {
        "id": "oBGJLM48XQos"
      },
      "outputs": [],
      "source": [
        "features_to_delete = ['job_board','geo','url', 'city', 'post_date', 'salary_offered', 'state', \"company_name\", \"job_title\"] # get rid of unnecessary features (maybe add more columns)\n",
        "df = df.drop(features_to_delete, axis=1)"
      ]
    },
    {
      "cell_type": "markdown",
      "metadata": {
        "id": "3plq5df3XQot"
      },
      "source": [
        "Retrieve the number of null values in each column"
      ]
    },
    {
      "cell_type": "code",
      "execution_count": null,
      "metadata": {
        "id": "qHlATfcaXQot",
        "outputId": "1c485cf7-83ba-415f-a15b-7dddb659f42c"
      },
      "outputs": [
        {
          "data": {
            "text/plain": [
              "category             0\n",
              "company_name         0\n",
              "job_description    345\n",
              "job_title            0\n",
              "job_type             0\n",
              "dtype: int64"
            ]
          },
          "execution_count": 6,
          "metadata": {},
          "output_type": "execute_result"
        }
      ],
      "source": [
        "df.isna().sum()"
      ]
    },
    {
      "cell_type": "markdown",
      "metadata": {
        "id": "GezZHy1PXQou"
      },
      "source": [
        "Job description is the feature columns and will be used for all the classification tasks, thus all rows that are missing values for the column can be dropped"
      ]
    },
    {
      "cell_type": "code",
      "execution_count": null,
      "metadata": {
        "id": "rK8K2tR4XQou"
      },
      "outputs": [],
      "source": [
        "df.dropna(subset=['job_description'], inplace=True)"
      ]
    },
    {
      "cell_type": "markdown",
      "metadata": {
        "id": "06bGy2S7XQou"
      },
      "source": [
        "Decode the text in the job description column and use gensim for tokenization"
      ]
    },
    {
      "cell_type": "code",
      "execution_count": null,
      "metadata": {
        "id": "EaxrG2xiXQov"
      },
      "outputs": [],
      "source": [
        "for i in df[ \"job_description\"].index:\n",
        "    df.loc[i, \"job_description\"] = gensim.utils.simple_preprocess(\n",
        "        ftfy.fix_text(unicodedata.normalize(\"NFKD\",df.loc[i,\"job_description\"])), deacc=True)"
      ]
    },
    {
      "cell_type": "markdown",
      "metadata": {
        "id": "SNDUKvlxXQov"
      },
      "source": [
        "Create_tfidf function creates a dataframe with each row representing a document with corresponding tfidf scores and the columns showing the full corpus vocabulary. Thus the tfidf score for each word in each document can be looked up."
      ]
    },
    {
      "cell_type": "code",
      "execution_count": null,
      "metadata": {
        "id": "RBow0KzaXQov"
      },
      "outputs": [],
      "source": [
        "from sklearn.feature_extraction.text import TfidfVectorizer\n",
        "# Allows passing tokens to the vectorizer\n",
        "def dummy_fun(doc):\n",
        "    return doc\n",
        "\n",
        "def create_tfidf_df(tokens):  \n",
        "    \"\"\"\n",
        "    Returns a bag of words data frame to fetch the tfidf score for each document\n",
        "    tokens: the corpus as a list of tokens\n",
        "    \"\"\"\n",
        "   \n",
        "    from nltk.corpus import stopwords\n",
        "    stopwords = stopwords.words('english')\n",
        "    tfidf = TfidfVectorizer(\n",
        "    analyzer='word',\n",
        "    tokenizer=dummy_fun,\n",
        "    preprocessor=dummy_fun,\n",
        "    token_pattern=None,\n",
        "    stop_words=stopwords) \n",
        "\n",
        "    tdf = tfidf.fit_transform(tokens)\n",
        "    bow = pd.DataFrame(tdf.toarray(), columns = tfidf.get_feature_names_out())\n",
        "\n",
        "    return bow"
      ]
    },
    {
      "cell_type": "markdown",
      "metadata": {
        "id": "7ab4-KTBXQow"
      },
      "source": [
        "Top x tfidf accepts a list of tokenized documents and removes all words that do not have the top x tfidf scores. Removes all words that do not have the top 10 tfidf scores. Treats each category as its own corpus"
      ]
    },
    {
      "cell_type": "code",
      "execution_count": null,
      "metadata": {
        "id": "vyZLCs7hXQow",
        "outputId": "d319e6d4-4e03-4fb6-b35b-0c69ffb8ff72"
      },
      "outputs": [
        {
          "data": {
            "text/plain": [
              "0        [the, and, to, to, the, and, to, to, the, mark...\n",
              "1        [westpoint, ford, hoppers, crossing, mins, the...\n",
              "2        [linkforce, and, maintenance, shutdown, and, t...\n",
              "3        [who, for, who, to, the, and, the, for, to, cu...\n",
              "4        [central, qld, coal, mine, coal, and, mine, si...\n",
              "                               ...                        \n",
              "29995    [boilermaker, heavy, fabrication, trs, resourc...\n",
              "29996    [underground, diamond, drilling, underground, ...\n",
              "29997    [the, er, on, the, on, the, the, advising, on,...\n",
              "29998    [skycity, darwin, the, the, gaming, darwin, ga...\n",
              "29999    [burn, the, burn, the, orangetheory, fitness, ...\n",
              "Name: short_description, Length: 29655, dtype: object"
            ]
          },
          "execution_count": 10,
          "metadata": {},
          "output_type": "execute_result"
        }
      ],
      "source": [
        "df['short_description'] = [None for i in range(len(df))]\n",
        "def top_x_tfidf(df, x):\n",
        "    \"\"\"\n",
        "    df is the dataframe to modify, x represents the top x words to leave in each document. Returns a list of documents as tokens. \n",
        "    \"\"\"\n",
        "    for category in df.category.unique():\n",
        "        tfidf_df = create_tfidf_df(df[df.category == category]['job_description'])\n",
        "        col_names= set(tfidf_df.columns)\n",
        "        for i, (idx_row) in enumerate(df[df.category == category].iterrows()):\n",
        "            idx, row = idx_row\n",
        "            desc = row['job_description']\n",
        "            words = set(desc)        \n",
        "            if len(words) < x: \n",
        "                df.loc[idx]['short_description'] = words\n",
        "                continue\n",
        "            words = words.intersection(col_names)\n",
        "\n",
        "            # Create a dictionary of words and their tfidf values and then sort them in descending order\n",
        "            tfidf_words = {word: tfidf_df.iloc[i][word] for word in words}\n",
        "            tfidf_words = {k: v for k, v in sorted(tfidf_words.items(), key=lambda item: -item[1])}\n",
        "\n",
        "            for word in desc:\n",
        "                if word not in list(tfidf_words.keys())[:x]: # Remove all words who are not in the top ten tfidf scores\n",
        "                    desc = list(filter(lambda x: x != word, desc))\n",
        "            df.loc[idx]['short_description'] = desc\n",
        "    return df['short_description']\n",
        "df['short_description'] = top_x_tfidf(df, 10)\n",
        "df['short_description']"
      ]
    },
    {
      "cell_type": "markdown",
      "metadata": {
        "id": "CG4JkNuHXQox"
      },
      "source": [
        "Prepare the job type column for binary classification"
      ]
    },
    {
      "cell_type": "code",
      "execution_count": null,
      "metadata": {
        "id": "XkQHpYjsXQox"
      },
      "outputs": [],
      "source": [
        "df.rename(columns = {'job_type': 'job_type_target'}, inplace=True) # Specify the target column\n",
        "df.loc[df['job_type_target'] != 'Full Time', 'job_type_target'] = 'Other'"
      ]
    },
    {
      "cell_type": "markdown",
      "metadata": {
        "id": "x8p7Yh_wXQox"
      },
      "source": [
        "Observe the distribution of classes in the target column"
      ]
    },
    {
      "cell_type": "code",
      "execution_count": null,
      "metadata": {
        "id": "o88L0cRnXQox",
        "outputId": "3250d532-4869-4844-d532-0d94fc576623"
      },
      "outputs": [
        {
          "data": {
            "text/plain": [
              "<AxesSubplot:>"
            ]
          },
          "execution_count": 12,
          "metadata": {},
          "output_type": "execute_result"
        },
        {
          "data": {
            "image/png": "[encoded data removed]",
            "text/plain": [
              "<Figure size 432x288 with 1 Axes>"
            ]
          },
          "metadata": {
            "needs_background": "light"
          },
          "output_type": "display_data"
        }
      ],
      "source": [
        "df['job_type_target'].hist()"
      ]
    },
    {
      "cell_type": "code",
      "execution_count": null,
      "metadata": {
        "id": "v9lYImLCXQoy",
        "outputId": "a195b8db-c14e-474c-8510-0296b3ea5b45"
      },
      "outputs": [
        {
          "data": {
            "text/plain": [
              "Full Time    19952\n",
              "Other         9703\n",
              "Name: job_type_target, dtype: int64"
            ]
          },
          "execution_count": 13,
          "metadata": {},
          "output_type": "execute_result"
        }
      ],
      "source": [
        "df['job_type_target'].value_counts()"
      ]
    },
    {
      "cell_type": "markdown",
      "metadata": {
        "id": "40c7X_XwXQoz"
      },
      "source": [
        "Now we can define the baseline accuracy for the models as below: "
      ]
    },
    {
      "cell_type": "code",
      "execution_count": null,
      "metadata": {
        "id": "EQm1t6LOXQoz",
        "outputId": "309c5a9d-7e52-40f9-b975-f707176c0566"
      },
      "outputs": [
        {
          "data": {
            "text/plain": [
              "0.06643061878266734"
            ]
          },
          "execution_count": 14,
          "metadata": {},
          "output_type": "execute_result"
        }
      ],
      "source": [
        "1970/len(df)"
      ]
    },
    {
      "cell_type": "markdown",
      "metadata": {
        "id": "-z3Tcn4wXQoz"
      },
      "source": [
        "Now split the data frame into train, test and validation then write the dataframe into a csv."
      ]
    },
    {
      "cell_type": "code",
      "execution_count": null,
      "metadata": {
        "id": "64TkP3Y6XQo0",
        "outputId": "fd161f7a-32fe-420b-e63b-3af07dad7376"
      },
      "outputs": [
        {
          "data": {
            "text/plain": [
              "train    20758\n",
              "test      5932\n",
              "val       2965\n",
              "Name: split, dtype: int64"
            ]
          },
          "execution_count": 15,
          "metadata": {},
          "output_type": "execute_result"
        }
      ],
      "source": [
        "n = len(df)\n",
        "n_train = int(df_args.train_proportion*n)\n",
        "n_val = int(df_args.val_proportion*n)\n",
        "n_test = int(df_args.test_proportion*n)\n",
        "\n",
        "df['split'] = ['nil' for i in range(len(df))]\n",
        "\n",
        "for idx, _ in df[:n_train].iterrows():\n",
        "    df.loc[idx]['split'] = 'train'\n",
        "for idx, _ in df[n_train:n_train+n_val].iterrows():\n",
        "    df.loc[idx]['split'] = 'val'\n",
        "for idx, _ in df[n_train+n_val:].iterrows():\n",
        "    df.loc[idx]['split'] = 'test' \n",
        "df['split'].value_counts()"
      ]
    },
    {
      "cell_type": "code",
      "execution_count": null,
      "metadata": {
        "id": "d_HHzOZEXQo0",
        "outputId": "d3f41cd3-7638-4f5e-807c-94bcc5e4efe7"
      },
      "outputs": [
        {
          "data": {
            "text/html": [
              "<div>\n",
              "<style scoped>\n",
              "    .dataframe tbody tr th:only-of-type {\n",
              "        vertical-align: middle;\n",
              "    }\n",
              "\n",
              "    .dataframe tbody tr th {\n",
              "        vertical-align: top;\n",
              "    }\n",
              "\n",
              "    .dataframe thead th {\n",
              "        text-align: right;\n",
              "    }\n",
              "</style>\n",
              "<table border=\"1\" class=\"dataframe\">\n",
              "  <thead>\n",
              "    <tr style=\"text-align: right;\">\n",
              "      <th></th>\n",
              "      <th>category</th>\n",
              "      <th>company_name</th>\n",
              "      <th>job_description</th>\n",
              "      <th>job_title</th>\n",
              "      <th>job_type_target</th>\n",
              "      <th>short_description</th>\n",
              "      <th>split</th>\n",
              "    </tr>\n",
              "  </thead>\n",
              "  <tbody>\n",
              "    <tr>\n",
              "      <th>0</th>\n",
              "      <td>Marketing &amp; Communications</td>\n",
              "      <td>Kelly Services</td>\n",
              "      <td>the company an enterprise cloud computing lead...</td>\n",
              "      <td>Marketing Associate</td>\n",
              "      <td>Full Time</td>\n",
              "      <td>the and to to the and to to the marketing and ...</td>\n",
              "      <td>train</td>\n",
              "    </tr>\n",
              "    <tr>\n",
              "      <th>1</th>\n",
              "      <td>Sales</td>\n",
              "      <td>Westpoint Ford</td>\n",
              "      <td>westpoint ford is located in hoppers crossing ...</td>\n",
              "      <td>Car Salesperson New and Used</td>\n",
              "      <td>Full Time</td>\n",
              "      <td>westpoint ford hoppers crossing mins the westg...</td>\n",
              "      <td>train</td>\n",
              "    </tr>\n",
              "    <tr>\n",
              "      <th>2</th>\n",
              "      <td>Mining, Resources &amp; Energy</td>\n",
              "      <td>Linkforce Engineering</td>\n",
              "      <td>linkforce engineering is an australian owned a...</td>\n",
              "      <td>Port Hedland Trades Persons, Scaffolders &amp; TAs</td>\n",
              "      <td>Other</td>\n",
              "      <td>linkforce and maintenance shutdown and to and ...</td>\n",
              "      <td>train</td>\n",
              "    </tr>\n",
              "    <tr>\n",
              "      <th>3</th>\n",
              "      <td>Call Centre &amp; Customer Service</td>\n",
              "      <td>Recruit2You</td>\n",
              "      <td>our client is sales company based in bondi jun...</td>\n",
              "      <td>Call Centre Staff - Looking for a New Challeng...</td>\n",
              "      <td>Other</td>\n",
              "      <td>who for who to the and the for to customer ser...</td>\n",
              "      <td>train</td>\n",
              "    </tr>\n",
              "    <tr>\n",
              "      <th>4</th>\n",
              "      <td>Accounting</td>\n",
              "      <td>Beilby Consulting</td>\n",
              "      <td>our client is the operating owner of central q...</td>\n",
              "      <td>Mine Site Accountant</td>\n",
              "      <td>Full Time</td>\n",
              "      <td>central qld coal mine coal and mine site centr...</td>\n",
              "      <td>train</td>\n",
              "    </tr>\n",
              "    <tr>\n",
              "      <th>...</th>\n",
              "      <td>...</td>\n",
              "      <td>...</td>\n",
              "      <td>...</td>\n",
              "      <td>...</td>\n",
              "      <td>...</td>\n",
              "      <td>...</td>\n",
              "      <td>...</td>\n",
              "    </tr>\n",
              "    <tr>\n",
              "      <th>29995</th>\n",
              "      <td>Trades &amp; Services</td>\n",
              "      <td>TRS Resourcing</td>\n",
              "      <td>boilermaker heavy fabrication day shift per ho...</td>\n",
              "      <td>Boilermaker - Heavy Fabrication (Day Shift $40...</td>\n",
              "      <td>Other</td>\n",
              "      <td>boilermaker heavy fabrication trs resourcing t...</td>\n",
              "      <td>test</td>\n",
              "    </tr>\n",
              "    <tr>\n",
              "      <th>29996</th>\n",
              "      <td>Mining, Resources &amp; Energy</td>\n",
              "      <td>Crest Personnel Pty Ltd</td>\n",
              "      <td>underground diamond driller our client an inte...</td>\n",
              "      <td>Underground Diamond Drillers - Immediate Start!</td>\n",
              "      <td>Full Time</td>\n",
              "      <td>underground diamond drilling underground diamo...</td>\n",
              "      <td>test</td>\n",
              "    </tr>\n",
              "    <tr>\n",
              "      <th>29997</th>\n",
              "      <td>Human Resources &amp; Recruitment</td>\n",
              "      <td>Peoplecorp</td>\n",
              "      <td>the organisation our client is well known orga...</td>\n",
              "      <td>ER Specialist</td>\n",
              "      <td>Full Time</td>\n",
              "      <td>the er on the on the the advising on standards...</td>\n",
              "      <td>test</td>\n",
              "    </tr>\n",
              "    <tr>\n",
              "      <th>29998</th>\n",
              "      <td>Hospitality &amp; Tourism</td>\n",
              "      <td>SKYCITY Darwin</td>\n",
              "      <td>skycity darwin is the ultimate entertainment d...</td>\n",
              "      <td>Full time Surveillance Operator - SKYCITY Darwin</td>\n",
              "      <td>Full Time</td>\n",
              "      <td>skycity darwin the the gaming darwin gaming an...</td>\n",
              "      <td>test</td>\n",
              "    </tr>\n",
              "    <tr>\n",
              "      <th>29999</th>\n",
              "      <td>Sales</td>\n",
              "      <td>Collective Wellness Group</td>\n",
              "      <td>melbourne cbd burn for the best burn with the ...</td>\n",
              "      <td>SALES ASSOCIATE</td>\n",
              "      <td>Full Time</td>\n",
              "      <td>burn the burn the orangetheory fitness oranget...</td>\n",
              "      <td>test</td>\n",
              "    </tr>\n",
              "  </tbody>\n",
              "</table>\n",
              "<p>29655 rows × 7 columns</p>\n",
              "</div>"
            ],
            "text/plain": [
              "                             category               company_name  \\\n",
              "0          Marketing & Communications             Kelly Services   \n",
              "1                               Sales             Westpoint Ford   \n",
              "2          Mining, Resources & Energy      Linkforce Engineering   \n",
              "3      Call Centre & Customer Service                Recruit2You   \n",
              "4                          Accounting          Beilby Consulting   \n",
              "...                               ...                        ...   \n",
              "29995               Trades & Services             TRS Resourcing   \n",
              "29996      Mining, Resources & Energy    Crest Personnel Pty Ltd   \n",
              "29997   Human Resources & Recruitment                 Peoplecorp   \n",
              "29998           Hospitality & Tourism             SKYCITY Darwin   \n",
              "29999                           Sales  Collective Wellness Group   \n",
              "\n",
              "                                         job_description  \\\n",
              "0      the company an enterprise cloud computing lead...   \n",
              "1      westpoint ford is located in hoppers crossing ...   \n",
              "2      linkforce engineering is an australian owned a...   \n",
              "3      our client is sales company based in bondi jun...   \n",
              "4      our client is the operating owner of central q...   \n",
              "...                                                  ...   \n",
              "29995  boilermaker heavy fabrication day shift per ho...   \n",
              "29996  underground diamond driller our client an inte...   \n",
              "29997  the organisation our client is well known orga...   \n",
              "29998  skycity darwin is the ultimate entertainment d...   \n",
              "29999  melbourne cbd burn for the best burn with the ...   \n",
              "\n",
              "                                               job_title job_type_target  \\\n",
              "0                                    Marketing Associate       Full Time   \n",
              "1                           Car Salesperson New and Used       Full Time   \n",
              "2        Port Hedland Trades Persons, Scaffolders & TAs            Other   \n",
              "3      Call Centre Staff - Looking for a New Challeng...           Other   \n",
              "4                                   Mine Site Accountant       Full Time   \n",
              "...                                                  ...             ...   \n",
              "29995  Boilermaker - Heavy Fabrication (Day Shift $40...           Other   \n",
              "29996    Underground Diamond Drillers - Immediate Start!       Full Time   \n",
              "29997                                      ER Specialist       Full Time   \n",
              "29998   Full time Surveillance Operator - SKYCITY Darwin       Full Time   \n",
              "29999                                    SALES ASSOCIATE       Full Time   \n",
              "\n",
              "                                       short_description  split  \n",
              "0      the and to to the and to to the marketing and ...  train  \n",
              "1      westpoint ford hoppers crossing mins the westg...  train  \n",
              "2      linkforce and maintenance shutdown and to and ...  train  \n",
              "3      who for who to the and the for to customer ser...  train  \n",
              "4      central qld coal mine coal and mine site centr...  train  \n",
              "...                                                  ...    ...  \n",
              "29995  boilermaker heavy fabrication trs resourcing t...   test  \n",
              "29996  underground diamond drilling underground diamo...   test  \n",
              "29997  the er on the on the the advising on standards...   test  \n",
              "29998  skycity darwin the the gaming darwin gaming an...   test  \n",
              "29999  burn the burn the orangetheory fitness oranget...   test  \n",
              "\n",
              "[29655 rows x 7 columns]"
            ]
          },
          "execution_count": 16,
          "metadata": {},
          "output_type": "execute_result"
        }
      ],
      "source": [
        "df.job_description = df.job_description.apply(lambda x: ' '.join(x))\n",
        "df.short_description = df.short_description.apply(lambda x: ' '.join(x)) # lists cannot be stored in csv\n",
        "df.to_csv(df_args.processed_csv, index=False)\n",
        "df"
      ]
    },
    {
      "cell_type": "markdown",
      "metadata": {
        "id": "WriMN4kmXQo0"
      },
      "source": [
        "Load the dataframe if already saved"
      ]
    },
    {
      "cell_type": "code",
      "execution_count": null,
      "metadata": {
        "id": "GX7soKjsXQo1"
      },
      "outputs": [],
      "source": [
        "df = pd.read_csv(df_args.processed_csv)\n",
        "df.short_description = df.short_description.apply(lambda x: x.split(' '))\n",
        "df.job_description = df.job_description.apply(lambda x: x.split(' '))"
      ]
    },
    {
      "cell_type": "markdown",
      "metadata": {
        "id": "jdhzoqkCXQo1"
      },
      "source": [
        "## Vectorization"
      ]
    },
    {
      "cell_type": "code",
      "execution_count": null,
      "metadata": {
        "id": "JYjXZtleXQo1"
      },
      "outputs": [],
      "source": [
        "vectorizer_args = Namespace(\n",
        "    load_word2vec = True,\n",
        "    word2vec_model_filepath = os.path.join(script_dir, 'model_storage/word2vec'),\n",
        ")"
      ]
    },
    {
      "cell_type": "markdown",
      "metadata": {
        "id": "xshIheHAXQo1"
      },
      "source": [
        "#### Loading the pretrained glove model"
      ]
    },
    {
      "cell_type": "code",
      "execution_count": null,
      "metadata": {
        "id": "3uqtbHJ5XQo2",
        "outputId": "41185e9d-1ccc-497d-ed2c-0625c4da7942"
      },
      "outputs": [
        {
          "name": "stdout",
          "output_type": "stream",
          "text": [
            "Loaded vocab size 400000\n",
            "The loaded object is of type <class 'gensim.models.keyedvectors.KeyedVectors'>\n"
          ]
        }
      ],
      "source": [
        "def load_embedding_model():\n",
        "    \"\"\" Load GloVe Vectors\n",
        "        Return:\n",
        "            wv_from_bin: All 400000 embeddings, each lengh 200\n",
        "    \"\"\"\n",
        "    import gensim.downloader as api\n",
        "    wv_pretrained = api.load(\"glove-wiki-gigaword-100\")\n",
        "    print(\"Loaded vocab size %i\" % len(wv_pretrained))\n",
        "    print(\"The loaded object is of type %s\" % str(type(wv_pretrained)))\n",
        "    return wv_pretrained\n",
        "glove_model = load_embedding_model()"
      ]
    },
    {
      "cell_type": "markdown",
      "metadata": {
        "id": "NQWOCnC2XQo2"
      },
      "source": [
        "### Word embedding visualization with tsne and word2vec"
      ]
    },
    {
      "cell_type": "markdown",
      "metadata": {
        "id": "OJMCJDS6XQo2"
      },
      "source": [
        "First train or load a domain specific word2vec model"
      ]
    },
    {
      "cell_type": "code",
      "execution_count": null,
      "metadata": {
        "id": "f5-Liv3jXQo2"
      },
      "outputs": [],
      "source": [
        "if vectorizer_args.load_word2vec:\n",
        "    word2vec_model = model = Word2Vec.load(vectorizer_args.word2vec_model_filepath)\n",
        "\n",
        "else:\n",
        "    # Configuration was taken from labs\n",
        "    word2vec_model = Word2Vec(min_count=1,\n",
        "                        window=2, # We are trying to find \"Full time\"\n",
        "                        vector_size=100,\n",
        "                        sample=6e-5, \n",
        "                        alpha=0.03, \n",
        "                        min_alpha=0.0007, \n",
        "                        negative=20,\n",
        "                        workers=15)\n",
        "\n",
        "    t = time()\n",
        "\n",
        "    word2vec_model.build_vocab(df['job_description'], progress_per=10)\n",
        "\n",
        "    print('Time to build vocab: {} mins'.format(round((time() - t) / 60, 2)))\n",
        "    t = time()\n",
        "\n",
        "    word2vec_model.train(df['job_description'], total_examples=word2vec_model.corpus_count, epochs=1000, report_delay=1)\n",
        "    word2vec_model.save('./model_storage/word2vec')\n",
        "    print('Time to train the model: {} mins'.format(round((time() - t) / 60, 2)))"
      ]
    },
    {
      "cell_type": "markdown",
      "metadata": {
        "id": "KvwT2O15XQo3"
      },
      "source": [
        "Define some functions to help with plotting the words"
      ]
    },
    {
      "cell_type": "code",
      "execution_count": null,
      "metadata": {
        "id": "0_IxBRtuXQo3"
      },
      "outputs": [],
      "source": [
        "def interactive_tsne(text_labels, tsne_array):\n",
        "    '''makes an interactive scatter plot with text labels for each point'''\n",
        "\n",
        "    # Define a dataframe to be used by bokeh context\n",
        "    bokeh_df = pd.DataFrame(tsne_array, text_labels, columns=['x','y'])\n",
        "    bokeh_df['text_labels'] = bokeh_df.index\n",
        "\n",
        "    # interactive controls to include to the plot\n",
        "    TOOLS=\"hover, zoom_in, zoom_out, box_zoom, undo, redo, reset, box_select\"\n",
        "\n",
        "    p = figure(tools=TOOLS, plot_width=700, plot_height=700)\n",
        "\n",
        "    # define data source for the plot\n",
        "    source = ColumnDataSource(bokeh_df)\n",
        "\n",
        "    # scatter plot\n",
        "    p.scatter('x', 'y', source=source, fill_alpha=0.6,\n",
        "              fill_color=\"#8724B5\",\n",
        "              line_color=None)\n",
        "\n",
        "    # text labels\n",
        "    labels = LabelSet(x='x', y='y', text='text_labels', y_offset=8,\n",
        "                      text_font_size=\"8pt\", text_color=\"#555555\",\n",
        "                      source=source, text_align='center')\n",
        "\n",
        "    p.add_layout(labels)\n",
        "\n",
        "    # show plot inline\n",
        "    output_notebook()\n",
        "    show(p)"
      ]
    },
    {
      "cell_type": "code",
      "execution_count": null,
      "metadata": {
        "id": "JMZIzJvDXQo3"
      },
      "outputs": [],
      "source": [
        "def display_closestwords_tsnescatterplot(model, word, vec_length):\n",
        "    \n",
        "    arr = np.empty((0,vec_length), dtype='f')\n",
        "    word_labels = [word]\n",
        "\n",
        "    # get close words\n",
        "    close_words = model.similar_by_word(word)\n",
        "    \n",
        "    # add the vector for each of the closest words to the array\n",
        "    arr = np.append(arr, np.array([model[word]]), axis=0)\n",
        "    for wrd_score in close_words:\n",
        "        wrd_vector = model[wrd_score[0]]\n",
        "        word_labels.append(wrd_score[0])\n",
        "        arr = np.append(arr, np.array([wrd_vector]), axis=0)\n",
        "        \n",
        "    # find tsne coords for 2 dimensions\n",
        "    tsne = TSNE(n_components=2, random_state=0)\n",
        "    np.set_printoptions(suppress=True)\n",
        "    Y = tsne.fit_transform(arr)\n",
        "\n",
        "    x_coords = Y[:, 0]\n",
        "    y_coords = Y[:, 1]\n",
        "    # display scatter plot\n",
        "    plt.scatter(x_coords, y_coords)\n",
        "\n",
        "    for label, x, y in zip(word_labels, x_coords, y_coords):\n",
        "        plt.annotate(label, xy=(x, y), xytext=(0, 0), textcoords='offset points')\n",
        "    plt.xlim(x_coords.min()+0.00005, x_coords.max()+0.00005)\n",
        "    plt.ylim(y_coords.min()+0.00005, y_coords.max()+0.00005)\n",
        "    plt.title(f'Words closest to: {word}')\n",
        "    plt.show()"
      ]
    },
    {
      "cell_type": "markdown",
      "metadata": {
        "id": "E-kj0YtXXQo3"
      },
      "source": [
        "Below plot shows the distribution of some example words of the domain specific word2vec that was trained previously"
      ]
    },
    {
      "cell_type": "code",
      "execution_count": null,
      "metadata": {
        "id": "Z3Cb8ayPXQo4",
        "outputId": "ed7f5d96-f2e9-44a1-d585-ea5f933ee26e"
      },
      "outputs": [
        {
          "name": "stderr",
          "output_type": "stream",
          "text": [
            "/Users/omriram/Desktop/U/Cits4012/cits4012_environment/lib/python3.9/site-packages/sklearn/manifold/_t_sne.py:780: FutureWarning: The default initialization in TSNE will change from 'random' to 'pca' in 1.2.\n",
            "  warnings.warn(\n",
            "/Users/omriram/Desktop/U/Cits4012/cits4012_environment/lib/python3.9/site-packages/sklearn/manifold/_t_sne.py:790: FutureWarning: The default learning rate in TSNE will change from 200.0 to 'auto' in 1.2.\n",
            "  warnings.warn(\n"
          ]
        },
        {
          "data": {
            "text/html": [
              "\n",
              "    <div class=\"bk-root\">\n",
              "        <a href=\"https://bokeh.org\" target=\"_blank\" class=\"bk-logo bk-logo-small bk-logo-notebook\"></a>\n",
              "        <span id=\"1047\">Loading BokehJS ...</span>\n",
              "    </div>"
            ]
          },
          "metadata": {},
          "output_type": "display_data"
        },
        {
          "data": {
            "application/javascript": "\n(function(root) {\n  function now() {\n    return new Date();\n  }\n\n  const force = true;\n\n  if (typeof root._bokeh_onload_callbacks === \"undefined\" || force === true) {\n    root._bokeh_onload_callbacks = [];\n    root._bokeh_is_loading = undefined;\n  }\n\n  const JS_MIME_TYPE = 'application/javascript';\n  const HTML_MIME_TYPE = 'text/html';\n  const EXEC_MIME_TYPE = 'application/vnd.bokehjs_exec.v0+json';\n  const CLASS_NAME = 'output_bokeh rendered_html';\n\n  /**\n   * Render data to the DOM node\n   */\n  function render(props, node) {\n    const script = document.createElement(\"script\");\n    node.appendChild(script);\n  }\n\n  /**\n   * Handle when an output is cleared or removed\n   */\n  function handleClearOutput(event, handle) {\n    const cell = handle.cell;\n\n    const id = cell.output_area._bokeh_element_id;\n    const server_id = cell.output_area._bokeh_server_id;\n    // Clean up Bokeh references\n    if (id != null && id in Bokeh.index) {\n      Bokeh.index[id].model.document.clear();\n      delete Bokeh.index[id];\n    }\n\n    if (server_id !== undefined) {\n      // Clean up Bokeh references\n      const cmd_clean = \"from bokeh.io.state import curstate; print(curstate().uuid_to_server['\" + server_id + \"'].get_sessions()[0].document.roots[0]._id)\";\n      cell.notebook.kernel.execute(cmd_clean, {\n        iopub: {\n          output: function(msg) {\n            const id = msg.content.text.trim();\n            if (id in Bokeh.index) {\n              Bokeh.index[id].model.document.clear();\n              delete Bokeh.index[id];\n            }\n          }\n        }\n      });\n      // Destroy server and session\n      const cmd_destroy = \"import bokeh.io.notebook as ion; ion.destroy_server('\" + server_id + \"')\";\n      cell.notebook.kernel.execute(cmd_destroy);\n    }\n  }\n\n  /**\n   * Handle when a new output is added\n   */\n  function handleAddOutput(event, handle) {\n    const output_area = handle.output_area;\n    const output = handle.output;\n\n    // limit handleAddOutput to display_data with EXEC_MIME_TYPE content only\n    if ((output.output_type != \"display_data\") || (!Object.prototype.hasOwnProperty.call(output.data, EXEC_MIME_TYPE))) {\n      return\n    }\n\n    const toinsert = output_area.element.find(\".\" + CLASS_NAME.split(' ')[0]);\n\n    if (output.metadata[EXEC_MIME_TYPE][\"id\"] !== undefined) {\n      toinsert[toinsert.length - 1].firstChild.textContent = output.data[JS_MIME_TYPE];\n      // store reference to embed id on output_area\n      output_area._bokeh_element_id = output.metadata[EXEC_MIME_TYPE][\"id\"];\n    }\n    if (output.metadata[EXEC_MIME_TYPE][\"server_id\"] !== undefined) {\n      const bk_div = document.createElement(\"div\");\n      bk_div.innerHTML = output.data[HTML_MIME_TYPE];\n      const script_attrs = bk_div.children[0].attributes;\n      for (let i = 0; i < script_attrs.length; i++) {\n        toinsert[toinsert.length - 1].firstChild.setAttribute(script_attrs[i].name, script_attrs[i].value);\n        toinsert[toinsert.length - 1].firstChild.textContent = bk_div.children[0].textContent\n      }\n      // store reference to server id on output_area\n      output_area._bokeh_server_id = output.metadata[EXEC_MIME_TYPE][\"server_id\"];\n    }\n  }\n\n  function register_renderer(events, OutputArea) {\n\n    function append_mime(data, metadata, element) {\n      // create a DOM node to render to\n      const toinsert = this.create_output_subarea(\n        metadata,\n        CLASS_NAME,\n        EXEC_MIME_TYPE\n      );\n      this.keyboard_manager.register_events(toinsert);\n      // Render to node\n      const props = {data: data, metadata: metadata[EXEC_MIME_TYPE]};\n      render(props, toinsert[toinsert.length - 1]);\n      element.append(toinsert);\n      return toinsert\n    }\n\n    /* Handle when an output is cleared or removed */\n    events.on('clear_output.CodeCell', handleClearOutput);\n    events.on('delete.Cell', handleClearOutput);\n\n    /* Handle when a new output is added */\n    events.on('output_added.OutputArea', handleAddOutput);\n\n    /**\n     * Register the mime type and append_mime function with output_area\n     */\n    OutputArea.prototype.register_mime_type(EXEC_MIME_TYPE, append_mime, {\n      /* Is output safe? */\n      safe: true,\n      /* Index of renderer in `output_area.display_order` */\n      index: 0\n    });\n  }\n\n  // register the mime type if in Jupyter Notebook environment and previously unregistered\n  if (root.Jupyter !== undefined) {\n    const events = require('base/js/events');\n    const OutputArea = require('notebook/js/outputarea').OutputArea;\n\n    if (OutputArea.prototype.mime_types().indexOf(EXEC_MIME_TYPE) == -1) {\n      register_renderer(events, OutputArea);\n    }\n  }\n\n  \n  if (typeof (root._bokeh_timeout) === \"undefined\" || force === true) {\n    root._bokeh_timeout = Date.now() + 5000;\n    root._bokeh_failed_load = false;\n  }\n\n  const NB_LOAD_WARNING = {'data': {'text/html':\n     \"<div style='background-color: #fdd'>\\n\"+\n     \"<p>\\n\"+\n     \"BokehJS does not appear to have successfully loaded. If loading BokehJS from CDN, this \\n\"+\n     \"may be due to a slow or bad network connection. Possible fixes:\\n\"+\n     \"</p>\\n\"+\n     \"<ul>\\n\"+\n     \"<li>re-rerun `output_notebook()` to attempt to load from CDN again, or</li>\\n\"+\n     \"<li>use INLINE resources instead, as so:</li>\\n\"+\n     \"</ul>\\n\"+\n     \"<code>\\n\"+\n     \"from bokeh.resources import INLINE\\n\"+\n     \"output_notebook(resources=INLINE)\\n\"+\n     \"</code>\\n\"+\n     \"</div>\"}};\n\n  function display_loaded() {\n    const el = document.getElementById(\"1047\");\n    if (el != null) {\n      el.textContent = \"BokehJS is loading...\";\n    }\n    if (root.Bokeh !== undefined) {\n      if (el != null) {\n        el.textContent = \"BokehJS \" + root.Bokeh.version + \" successfully loaded.\";\n      }\n    } else if (Date.now() < root._bokeh_timeout) {\n      setTimeout(display_loaded, 100)\n    }\n  }\n\n\n  function run_callbacks() {\n    try {\n      root._bokeh_onload_callbacks.forEach(function(callback) {\n        if (callback != null)\n          callback();\n      });\n    } finally {\n      delete root._bokeh_onload_callbacks\n    }\n    console.debug(\"Bokeh: all callbacks have finished\");\n  }\n\n  function load_libs(css_urls, js_urls, callback) {\n    if (css_urls == null) css_urls = [];\n    if (js_urls == null) js_urls = [];\n\n    root._bokeh_onload_callbacks.push(callback);\n    if (root._bokeh_is_loading > 0) {\n      console.debug(\"Bokeh: BokehJS is being loaded, scheduling callback at\", now());\n      return null;\n    }\n    if (js_urls == null || js_urls.length === 0) {\n      run_callbacks();\n      return null;\n    }\n    console.debug(\"Bokeh: BokehJS not loaded, scheduling load and callback at\", now());\n    root._bokeh_is_loading = css_urls.length + js_urls.length;\n\n    function on_load() {\n      root._bokeh_is_loading--;\n      if (root._bokeh_is_loading === 0) {\n        console.debug(\"Bokeh: all BokehJS libraries/stylesheets loaded\");\n        run_callbacks()\n      }\n    }\n\n    function on_error(url) {\n      console.error(\"failed to load \" + url);\n    }\n\n    for (let i = 0; i < css_urls.length; i++) {\n      const url = css_urls[i];\n      const element = document.createElement(\"link\");\n      element.onload = on_load;\n      element.onerror = on_error.bind(null, url);\n      element.rel = \"stylesheet\";\n      element.type = \"text/css\";\n      element.href = url;\n      console.debug(\"Bokeh: injecting link tag for BokehJS stylesheet: \", url);\n      document.body.appendChild(element);\n    }\n\n    for (let i = 0; i < js_urls.length; i++) {\n      const url = js_urls[i];\n      const element = document.createElement('script');\n      element.onload = on_load;\n      element.onerror = on_error.bind(null, url);\n      element.async = false;\n      element.src = url;\n      console.debug(\"Bokeh: injecting script tag for BokehJS library: \", url);\n      document.head.appendChild(element);\n    }\n  };\n\n  function inject_raw_css(css) {\n    const element = document.createElement(\"style\");\n    element.appendChild(document.createTextNode(css));\n    document.body.appendChild(element);\n  }\n\n  \n  const js_urls = [\"https://cdn.bokeh.org/bokeh/release/bokeh-2.4.2.min.js\", \"https://cdn.bokeh.org/bokeh/release/bokeh-gl-2.4.2.min.js\", \"https://cdn.bokeh.org/bokeh/release/bokeh-widgets-2.4.2.min.js\", \"https://cdn.bokeh.org/bokeh/release/bokeh-tables-2.4.2.min.js\", \"https://cdn.bokeh.org/bokeh/release/bokeh-mathjax-2.4.2.min.js\"];\n  const css_urls = [];\n  \n\n  const inline_js = [\n    function(Bokeh) {\n      Bokeh.set_log_level(\"info\");\n    },\n    function(Bokeh) {\n    \n    \n    }\n  ];\n\n  function run_inline_js() {\n    \n    if (root.Bokeh !== undefined || force === true) {\n      \n    for (let i = 0; i < inline_js.length; i++) {\n      inline_js[i].call(root, root.Bokeh);\n    }\n    if (force === true) {\n        display_loaded();\n      }} else if (Date.now() < root._bokeh_timeout) {\n      setTimeout(run_inline_js, 100);\n    } else if (!root._bokeh_failed_load) {\n      console.log(\"Bokeh: BokehJS failed to load within specified timeout.\");\n      root._bokeh_failed_load = true;\n    } else if (force !== true) {\n      const cell = $(document.getElementById(\"1047\")).parents('.cell').data().cell;\n      cell.output_area.append_execute_result(NB_LOAD_WARNING)\n    }\n\n  }\n\n  if (root._bokeh_is_loading === 0) {\n    console.debug(\"Bokeh: BokehJS loaded, going straight to plotting\");\n    run_inline_js();\n  } else {\n    load_libs(css_urls, js_urls, function() {\n      console.debug(\"Bokeh: BokehJS plotting callback run at\", now());\n      run_inline_js();\n    });\n  }\n}(window));",
            "application/vnd.bokehjs_load.v0+json": ""
          },
          "metadata": {},
          "output_type": "display_data"
        },
        {
          "data": {
            "text/html": [
              "\n",
              "\n",
              "\n",
              "\n",
              "\n",
              "\n",
              "  <div class=\"bk-root\" id=\"55fb80da-6b44-496c-8856-dad4840b5f48\" data-root-id=\"1002\"></div>\n"
            ]
          },
          "metadata": {},
          "output_type": "display_data"
        },
        {
          "data": {
            "application/javascript": "(function(root) {\n  function embed_document(root) {\n    \n  const docs_json = {\"8001f2e1-acd1-448d-bdee-10611b8dbb07\":{\"defs\":[],\"roots\":{\"references\":[{\"attributes\":{\"below\":[{\"id\":\"1011\"}],\"center\":[{\"id\":\"1014\"},{\"id\":\"1018\"},{\"id\":\"1045\"}],\"height\":700,\"left\":[{\"id\":\"1015\"}],\"renderers\":[{\"id\":\"1043\"}],\"title\":{\"id\":\"1048\"},\"toolbar\":{\"id\":\"1029\"},\"width\":700,\"x_range\":{\"id\":\"1003\"},\"x_scale\":{\"id\":\"1007\"},\"y_range\":{\"id\":\"1005\"},\"y_scale\":{\"id\":\"1009\"}},\"id\":\"1002\",\"subtype\":\"Figure\",\"type\":\"Plot\"},{\"attributes\":{},\"id\":\"1024\",\"type\":\"RedoTool\"},{\"attributes\":{},\"id\":\"1056\",\"type\":\"UnionRenderers\"},{\"attributes\":{\"bottom_units\":\"screen\",\"coordinates\":null,\"fill_alpha\":0.5,\"fill_color\":\"lightgrey\",\"group\":null,\"left_units\":\"screen\",\"level\":\"overlay\",\"line_alpha\":1.0,\"line_color\":\"black\",\"line_dash\":[4,4],\"line_width\":2,\"right_units\":\"screen\",\"syncable\":false,\"top_units\":\"screen\"},\"id\":\"1027\",\"type\":\"BoxAnnotation\"},{\"attributes\":{\"tools\":[{\"id\":\"1019\"},{\"id\":\"1020\"},{\"id\":\"1021\"},{\"id\":\"1022\"},{\"id\":\"1023\"},{\"id\":\"1024\"},{\"id\":\"1025\"},{\"id\":\"1026\"}]},\"id\":\"1029\",\"type\":\"Toolbar\"},{\"attributes\":{\"coordinates\":null,\"formatter\":{\"id\":\"1054\"},\"group\":null,\"major_label_policy\":{\"id\":\"1055\"},\"ticker\":{\"id\":\"1012\"}},\"id\":\"1011\",\"type\":\"LinearAxis\"},{\"attributes\":{\"bottom_units\":\"screen\",\"coordinates\":null,\"fill_alpha\":0.5,\"fill_color\":\"lightgrey\",\"group\":null,\"left_units\":\"screen\",\"level\":\"overlay\",\"line_alpha\":1.0,\"line_color\":\"black\",\"line_dash\":[4,4],\"line_width\":2,\"right_units\":\"screen\",\"syncable\":false,\"top_units\":\"screen\"},\"id\":\"1028\",\"type\":\"BoxAnnotation\"},{\"attributes\":{\"coordinates\":null,\"formatter\":{\"id\":\"1051\"},\"group\":null,\"major_label_policy\":{\"id\":\"1052\"},\"ticker\":{\"id\":\"1016\"}},\"id\":\"1015\",\"type\":\"LinearAxis\"},{\"attributes\":{},\"id\":\"1003\",\"type\":\"DataRange1d\"},{\"attributes\":{},\"id\":\"1005\",\"type\":\"DataRange1d\"},{\"attributes\":{},\"id\":\"1055\",\"type\":\"AllLabels\"},{\"attributes\":{},\"id\":\"1052\",\"type\":\"AllLabels\"},{\"attributes\":{},\"id\":\"1023\",\"type\":\"UndoTool\"},{\"attributes\":{\"coordinates\":null,\"group\":null},\"id\":\"1048\",\"type\":\"Title\"},{\"attributes\":{\"callback\":null},\"id\":\"1019\",\"type\":\"HoverTool\"},{\"attributes\":{\"fill_alpha\":{\"value\":0.6},\"fill_color\":{\"value\":\"#8724B5\"},\"line_color\":{\"value\":null},\"x\":{\"field\":\"x\"},\"y\":{\"field\":\"y\"}},\"id\":\"1040\",\"type\":\"Scatter\"},{\"attributes\":{},\"id\":\"1016\",\"type\":\"BasicTicker\"},{\"attributes\":{\"axis\":{\"id\":\"1015\"},\"coordinates\":null,\"dimension\":1,\"group\":null,\"ticker\":null},\"id\":\"1018\",\"type\":\"Grid\"},{\"attributes\":{},\"id\":\"1009\",\"type\":\"LinearScale\"},{\"attributes\":{},\"id\":\"1051\",\"type\":\"BasicTickFormatter\"},{\"attributes\":{},\"id\":\"1012\",\"type\":\"BasicTicker\"},{\"attributes\":{},\"id\":\"1054\",\"type\":\"BasicTickFormatter\"},{\"attributes\":{},\"id\":\"1021\",\"type\":\"ZoomOutTool\"},{\"attributes\":{\"overlay\":{\"id\":\"1027\"}},\"id\":\"1026\",\"type\":\"BoxSelectTool\"},{\"attributes\":{\"data\":{\"index\":[\"care\",\"time\",\"based\",\"customer\",\"ability\",\"services\",\"apply\",\"successful\",\"including\",\"key\",\"looking\",\"across\",\"au\",\"high\",\"required\",\"please\",\"service\",\"new\",\"ensure\",\"opportunities\",\"development\",\"information\",\"strong\",\"people\",\"must\",\"skills\",\"project\",\"career\",\"business\",\"experience\",\"sales\",\"manager\",\"work\",\"working\",\"management\",\"support\",\"australia\",\"industry\",\"excellent\",\"tms\",\"part\",\"experienced\",\"client\",\"opportunity\",\"training\",\"environment\",\"provide\",\"professional\",\"within\",\"well\",\"role\",\"join\",\"knowledge\",\"clients\",\"company\",\"communication\",\"team\",\"position\",\"staff\",\"years\",\"quality\",\"health\"],\"text_labels\":[\"care\",\"time\",\"based\",\"customer\",\"ability\",\"services\",\"apply\",\"successful\",\"including\",\"key\",\"looking\",\"across\",\"au\",\"high\",\"required\",\"please\",\"service\",\"new\",\"ensure\",\"opportunities\",\"development\",\"information\",\"strong\",\"people\",\"must\",\"skills\",\"project\",\"career\",\"business\",\"experience\",\"sales\",\"manager\",\"work\",\"working\",\"management\",\"support\",\"australia\",\"industry\",\"excellent\",\"tms\",\"part\",\"experienced\",\"client\",\"opportunity\",\"training\",\"environment\",\"provide\",\"professional\",\"within\",\"well\",\"role\",\"join\",\"knowledge\",\"clients\",\"company\",\"communication\",\"team\",\"position\",\"staff\",\"years\",\"quality\",\"health\"],\"x\":{\"__ndarray__\":\"UNKBQodJPMByfvU9DzgCQmerU8L7TCRCm9qtQUzHwkHrmorCKVIWwmHV6cFfJw5BM3UVQoxvUEKh/ARCrqgAQlFsEUI57n7BiqFVQtZsAEGl6ArCA6s3Qpw1E8KfuixAFA8bQh6RZcLHuTnC8LMlwJfJ6sGd8HjChCm/QWYia8IlmDu/BFbwwHZeW8LSWuhBdpZzwcchA8LMXP/B+EiDwng3k8HzdiDC1aEoQRKiJMFfFBrCicRQwdi1HEKexU5Bn8CnwRR5crwHhzdByb3gwSUMR8Lc2YNBx0QAwQRcOsI5nUjB2jp8QT2gpUE8ApzCva9bQvCXbUI=\",\"dtype\":\"float32\",\"order\":\"little\",\"shape\":[62]},\"y\":{\"__ndarray__\":\"j9vIvyMHf8JIJATCAx8sQvoeR8IjXurAn2+lwgF8GML8yXDAkK4BwSC0j0LV+6HBa4+6wmW6PUIJN0nCtZScwnhX+0FWptfBR+xyQbpYhEI7bqdB8AuQwn9rScKe/9hBx9MYwooqeMIsnpdAUA2WQmygfEDyffDBLedTwQKIl0GtSIPAYsFJwRhaQsGNVMlAz9AvwilGz8GoSXzC3gUsQgYB5kEeJoJCZwsuQlj3c0IS0AhCPmEmQH4QQkFbbpRAqds2wVhbLUF3FEfCa5FZQoNU+sHe1P9BQ4QlQpMQisJoMYBBC/hzwuITj0Hj2AHCRK/wQRwFa8E=\",\"dtype\":\"float32\",\"order\":\"little\",\"shape\":[62]}},\"selected\":{\"id\":\"1057\"},\"selection_policy\":{\"id\":\"1056\"}},\"id\":\"1038\",\"type\":\"ColumnDataSource\"},{\"attributes\":{\"coordinates\":null,\"data_source\":{\"id\":\"1038\"},\"glyph\":{\"id\":\"1040\"},\"group\":null,\"hover_glyph\":null,\"muted_glyph\":{\"id\":\"1042\"},\"nonselection_glyph\":{\"id\":\"1041\"},\"view\":{\"id\":\"1044\"}},\"id\":\"1043\",\"type\":\"GlyphRenderer\"},{\"attributes\":{},\"id\":\"1025\",\"type\":\"ResetTool\"},{\"attributes\":{\"axis\":{\"id\":\"1011\"},\"coordinates\":null,\"group\":null,\"ticker\":null},\"id\":\"1014\",\"type\":\"Grid\"},{\"attributes\":{\"fill_alpha\":{\"value\":0.2},\"fill_color\":{\"value\":\"#8724B5\"},\"hatch_alpha\":{\"value\":0.2},\"line_alpha\":{\"value\":0.2},\"line_color\":{\"value\":null},\"x\":{\"field\":\"x\"},\"y\":{\"field\":\"y\"}},\"id\":\"1042\",\"type\":\"Scatter\"},{\"attributes\":{},\"id\":\"1057\",\"type\":\"Selection\"},{\"attributes\":{\"fill_alpha\":{\"value\":0.1},\"fill_color\":{\"value\":\"#8724B5\"},\"hatch_alpha\":{\"value\":0.1},\"line_alpha\":{\"value\":0.1},\"line_color\":{\"value\":null},\"x\":{\"field\":\"x\"},\"y\":{\"field\":\"y\"}},\"id\":\"1041\",\"type\":\"Scatter\"},{\"attributes\":{},\"id\":\"1020\",\"type\":\"ZoomInTool\"},{\"attributes\":{\"coordinates\":null,\"group\":null,\"source\":{\"id\":\"1038\"},\"text\":{\"field\":\"text_labels\"},\"text_align\":{\"value\":\"center\"},\"text_color\":{\"value\":\"#555555\"},\"text_font_size\":{\"value\":\"8pt\"},\"x\":{\"field\":\"x\"},\"y\":{\"field\":\"y\"},\"y_offset\":{\"value\":8}},\"id\":\"1045\",\"type\":\"LabelSet\"},{\"attributes\":{\"source\":{\"id\":\"1038\"}},\"id\":\"1044\",\"type\":\"CDSView\"},{\"attributes\":{},\"id\":\"1007\",\"type\":\"LinearScale\"},{\"attributes\":{\"overlay\":{\"id\":\"1028\"}},\"id\":\"1022\",\"type\":\"BoxZoomTool\"}],\"root_ids\":[\"1002\"]},\"title\":\"Bokeh Application\",\"version\":\"2.4.2\"}};\n  const render_items = [{\"docid\":\"8001f2e1-acd1-448d-bdee-10611b8dbb07\",\"root_ids\":[\"1002\"],\"roots\":{\"1002\":\"55fb80da-6b44-496c-8856-dad4840b5f48\"}}];\n  root.Bokeh.embed.embed_items_notebook(docs_json, render_items);\n\n  }\n  if (root.Bokeh !== undefined) {\n    embed_document(root);\n  } else {\n    let attempts = 0;\n    const timer = setInterval(function(root) {\n      if (root.Bokeh !== undefined) {\n        clearInterval(timer);\n        embed_document(root);\n      } else {\n        attempts++;\n        if (attempts > 100) {\n          clearInterval(timer);\n          console.log(\"Bokeh: ERROR: Unable to run BokehJS code because BokehJS library is missing\");\n        }\n      }\n    }, 10, root)\n  }\n})(window);",
            "application/vnd.bokehjs_exec.v0+json": ""
          },
          "metadata": {
            "application/vnd.bokehjs_exec.v0+json": {
              "id": "1002"
            }
          },
          "output_type": "display_data"
        }
      ],
      "source": [
        "vocab  = list(word2vec_model.wv.key_to_index.keys())[:100]\n",
        "random.shuffle(vocab)\n",
        "vocab = [word for word in vocab if word not in stopwords]\n",
        "X = word2vec_model.wv[vocab]\n",
        "tsne = TSNE(n_components=2, random_state=0)\n",
        "X_tsne = tsne.fit_transform(X)\n",
        "interactive_tsne(list(vocab), X_tsne)"
      ]
    },
    {
      "cell_type": "markdown",
      "metadata": {
        "id": "cT60-IoJXQo4"
      },
      "source": [
        "Now plot the same words but on the pretrained glove model"
      ]
    },
    {
      "cell_type": "code",
      "execution_count": null,
      "metadata": {
        "id": "cccvTMGnXQo4",
        "outputId": "119928e3-4103-4f2e-fa95-ea1a8d60e1bb"
      },
      "outputs": [
        {
          "name": "stderr",
          "output_type": "stream",
          "text": [
            "/Users/omriram/Desktop/U/Cits4012/cits4012_environment/lib/python3.9/site-packages/sklearn/manifold/_t_sne.py:780: FutureWarning: The default initialization in TSNE will change from 'random' to 'pca' in 1.2.\n",
            "  warnings.warn(\n",
            "/Users/omriram/Desktop/U/Cits4012/cits4012_environment/lib/python3.9/site-packages/sklearn/manifold/_t_sne.py:790: FutureWarning: The default learning rate in TSNE will change from 200.0 to 'auto' in 1.2.\n",
            "  warnings.warn(\n"
          ]
        },
        {
          "data": {
            "text/html": [
              "\n",
              "    <div class=\"bk-root\">\n",
              "        <a href=\"https://bokeh.org\" target=\"_blank\" class=\"bk-logo bk-logo-small bk-logo-notebook\"></a>\n",
              "        <span id=\"1165\">Loading BokehJS ...</span>\n",
              "    </div>"
            ]
          },
          "metadata": {},
          "output_type": "display_data"
        },
        {
          "data": {
            "application/javascript": "\n(function(root) {\n  function now() {\n    return new Date();\n  }\n\n  const force = true;\n\n  if (typeof root._bokeh_onload_callbacks === \"undefined\" || force === true) {\n    root._bokeh_onload_callbacks = [];\n    root._bokeh_is_loading = undefined;\n  }\n\n  const JS_MIME_TYPE = 'application/javascript';\n  const HTML_MIME_TYPE = 'text/html';\n  const EXEC_MIME_TYPE = 'application/vnd.bokehjs_exec.v0+json';\n  const CLASS_NAME = 'output_bokeh rendered_html';\n\n  /**\n   * Render data to the DOM node\n   */\n  function render(props, node) {\n    const script = document.createElement(\"script\");\n    node.appendChild(script);\n  }\n\n  /**\n   * Handle when an output is cleared or removed\n   */\n  function handleClearOutput(event, handle) {\n    const cell = handle.cell;\n\n    const id = cell.output_area._bokeh_element_id;\n    const server_id = cell.output_area._bokeh_server_id;\n    // Clean up Bokeh references\n    if (id != null && id in Bokeh.index) {\n      Bokeh.index[id].model.document.clear();\n      delete Bokeh.index[id];\n    }\n\n    if (server_id !== undefined) {\n      // Clean up Bokeh references\n      const cmd_clean = \"from bokeh.io.state import curstate; print(curstate().uuid_to_server['\" + server_id + \"'].get_sessions()[0].document.roots[0]._id)\";\n      cell.notebook.kernel.execute(cmd_clean, {\n        iopub: {\n          output: function(msg) {\n            const id = msg.content.text.trim();\n            if (id in Bokeh.index) {\n              Bokeh.index[id].model.document.clear();\n              delete Bokeh.index[id];\n            }\n          }\n        }\n      });\n      // Destroy server and session\n      const cmd_destroy = \"import bokeh.io.notebook as ion; ion.destroy_server('\" + server_id + \"')\";\n      cell.notebook.kernel.execute(cmd_destroy);\n    }\n  }\n\n  /**\n   * Handle when a new output is added\n   */\n  function handleAddOutput(event, handle) {\n    const output_area = handle.output_area;\n    const output = handle.output;\n\n    // limit handleAddOutput to display_data with EXEC_MIME_TYPE content only\n    if ((output.output_type != \"display_data\") || (!Object.prototype.hasOwnProperty.call(output.data, EXEC_MIME_TYPE))) {\n      return\n    }\n\n    const toinsert = output_area.element.find(\".\" + CLASS_NAME.split(' ')[0]);\n\n    if (output.metadata[EXEC_MIME_TYPE][\"id\"] !== undefined) {\n      toinsert[toinsert.length - 1].firstChild.textContent = output.data[JS_MIME_TYPE];\n      // store reference to embed id on output_area\n      output_area._bokeh_element_id = output.metadata[EXEC_MIME_TYPE][\"id\"];\n    }\n    if (output.metadata[EXEC_MIME_TYPE][\"server_id\"] !== undefined) {\n      const bk_div = document.createElement(\"div\");\n      bk_div.innerHTML = output.data[HTML_MIME_TYPE];\n      const script_attrs = bk_div.children[0].attributes;\n      for (let i = 0; i < script_attrs.length; i++) {\n        toinsert[toinsert.length - 1].firstChild.setAttribute(script_attrs[i].name, script_attrs[i].value);\n        toinsert[toinsert.length - 1].firstChild.textContent = bk_div.children[0].textContent\n      }\n      // store reference to server id on output_area\n      output_area._bokeh_server_id = output.metadata[EXEC_MIME_TYPE][\"server_id\"];\n    }\n  }\n\n  function register_renderer(events, OutputArea) {\n\n    function append_mime(data, metadata, element) {\n      // create a DOM node to render to\n      const toinsert = this.create_output_subarea(\n        metadata,\n        CLASS_NAME,\n        EXEC_MIME_TYPE\n      );\n      this.keyboard_manager.register_events(toinsert);\n      // Render to node\n      const props = {data: data, metadata: metadata[EXEC_MIME_TYPE]};\n      render(props, toinsert[toinsert.length - 1]);\n      element.append(toinsert);\n      return toinsert\n    }\n\n    /* Handle when an output is cleared or removed */\n    events.on('clear_output.CodeCell', handleClearOutput);\n    events.on('delete.Cell', handleClearOutput);\n\n    /* Handle when a new output is added */\n    events.on('output_added.OutputArea', handleAddOutput);\n\n    /**\n     * Register the mime type and append_mime function with output_area\n     */\n    OutputArea.prototype.register_mime_type(EXEC_MIME_TYPE, append_mime, {\n      /* Is output safe? */\n      safe: true,\n      /* Index of renderer in `output_area.display_order` */\n      index: 0\n    });\n  }\n\n  // register the mime type if in Jupyter Notebook environment and previously unregistered\n  if (root.Jupyter !== undefined) {\n    const events = require('base/js/events');\n    const OutputArea = require('notebook/js/outputarea').OutputArea;\n\n    if (OutputArea.prototype.mime_types().indexOf(EXEC_MIME_TYPE) == -1) {\n      register_renderer(events, OutputArea);\n    }\n  }\n\n  \n  if (typeof (root._bokeh_timeout) === \"undefined\" || force === true) {\n    root._bokeh_timeout = Date.now() + 5000;\n    root._bokeh_failed_load = false;\n  }\n\n  const NB_LOAD_WARNING = {'data': {'text/html':\n     \"<div style='background-color: #fdd'>\\n\"+\n     \"<p>\\n\"+\n     \"BokehJS does not appear to have successfully loaded. If loading BokehJS from CDN, this \\n\"+\n     \"may be due to a slow or bad network connection. Possible fixes:\\n\"+\n     \"</p>\\n\"+\n     \"<ul>\\n\"+\n     \"<li>re-rerun `output_notebook()` to attempt to load from CDN again, or</li>\\n\"+\n     \"<li>use INLINE resources instead, as so:</li>\\n\"+\n     \"</ul>\\n\"+\n     \"<code>\\n\"+\n     \"from bokeh.resources import INLINE\\n\"+\n     \"output_notebook(resources=INLINE)\\n\"+\n     \"</code>\\n\"+\n     \"</div>\"}};\n\n  function display_loaded() {\n    const el = document.getElementById(\"1165\");\n    if (el != null) {\n      el.textContent = \"BokehJS is loading...\";\n    }\n    if (root.Bokeh !== undefined) {\n      if (el != null) {\n        el.textContent = \"BokehJS \" + root.Bokeh.version + \" successfully loaded.\";\n      }\n    } else if (Date.now() < root._bokeh_timeout) {\n      setTimeout(display_loaded, 100)\n    }\n  }\n\n\n  function run_callbacks() {\n    try {\n      root._bokeh_onload_callbacks.forEach(function(callback) {\n        if (callback != null)\n          callback();\n      });\n    } finally {\n      delete root._bokeh_onload_callbacks\n    }\n    console.debug(\"Bokeh: all callbacks have finished\");\n  }\n\n  function load_libs(css_urls, js_urls, callback) {\n    if (css_urls == null) css_urls = [];\n    if (js_urls == null) js_urls = [];\n\n    root._bokeh_onload_callbacks.push(callback);\n    if (root._bokeh_is_loading > 0) {\n      console.debug(\"Bokeh: BokehJS is being loaded, scheduling callback at\", now());\n      return null;\n    }\n    if (js_urls == null || js_urls.length === 0) {\n      run_callbacks();\n      return null;\n    }\n    console.debug(\"Bokeh: BokehJS not loaded, scheduling load and callback at\", now());\n    root._bokeh_is_loading = css_urls.length + js_urls.length;\n\n    function on_load() {\n      root._bokeh_is_loading--;\n      if (root._bokeh_is_loading === 0) {\n        console.debug(\"Bokeh: all BokehJS libraries/stylesheets loaded\");\n        run_callbacks()\n      }\n    }\n\n    function on_error(url) {\n      console.error(\"failed to load \" + url);\n    }\n\n    for (let i = 0; i < css_urls.length; i++) {\n      const url = css_urls[i];\n      const element = document.createElement(\"link\");\n      element.onload = on_load;\n      element.onerror = on_error.bind(null, url);\n      element.rel = \"stylesheet\";\n      element.type = \"text/css\";\n      element.href = url;\n      console.debug(\"Bokeh: injecting link tag for BokehJS stylesheet: \", url);\n      document.body.appendChild(element);\n    }\n\n    for (let i = 0; i < js_urls.length; i++) {\n      const url = js_urls[i];\n      const element = document.createElement('script');\n      element.onload = on_load;\n      element.onerror = on_error.bind(null, url);\n      element.async = false;\n      element.src = url;\n      console.debug(\"Bokeh: injecting script tag for BokehJS library: \", url);\n      document.head.appendChild(element);\n    }\n  };\n\n  function inject_raw_css(css) {\n    const element = document.createElement(\"style\");\n    element.appendChild(document.createTextNode(css));\n    document.body.appendChild(element);\n  }\n\n  \n  const js_urls = [\"https://cdn.bokeh.org/bokeh/release/bokeh-2.4.2.min.js\", \"https://cdn.bokeh.org/bokeh/release/bokeh-gl-2.4.2.min.js\", \"https://cdn.bokeh.org/bokeh/release/bokeh-widgets-2.4.2.min.js\", \"https://cdn.bokeh.org/bokeh/release/bokeh-tables-2.4.2.min.js\", \"https://cdn.bokeh.org/bokeh/release/bokeh-mathjax-2.4.2.min.js\"];\n  const css_urls = [];\n  \n\n  const inline_js = [\n    function(Bokeh) {\n      Bokeh.set_log_level(\"info\");\n    },\n    function(Bokeh) {\n    \n    \n    }\n  ];\n\n  function run_inline_js() {\n    \n    if (root.Bokeh !== undefined || force === true) {\n      \n    for (let i = 0; i < inline_js.length; i++) {\n      inline_js[i].call(root, root.Bokeh);\n    }\n    if (force === true) {\n        display_loaded();\n      }} else if (Date.now() < root._bokeh_timeout) {\n      setTimeout(run_inline_js, 100);\n    } else if (!root._bokeh_failed_load) {\n      console.log(\"Bokeh: BokehJS failed to load within specified timeout.\");\n      root._bokeh_failed_load = true;\n    } else if (force !== true) {\n      const cell = $(document.getElementById(\"1165\")).parents('.cell').data().cell;\n      cell.output_area.append_execute_result(NB_LOAD_WARNING)\n    }\n\n  }\n\n  if (root._bokeh_is_loading === 0) {\n    console.debug(\"Bokeh: BokehJS loaded, going straight to plotting\");\n    run_inline_js();\n  } else {\n    load_libs(css_urls, js_urls, function() {\n      console.debug(\"Bokeh: BokehJS plotting callback run at\", now());\n      run_inline_js();\n    });\n  }\n}(window));",
            "application/vnd.bokehjs_load.v0+json": ""
          },
          "metadata": {},
          "output_type": "display_data"
        },
        {
          "data": {
            "text/html": [
              "\n",
              "\n",
              "\n",
              "\n",
              "\n",
              "\n",
              "  <div class=\"bk-root\" id=\"4638bd5d-1c0e-4c3a-a6a7-ecb97f004767\" data-root-id=\"1120\"></div>\n"
            ]
          },
          "metadata": {},
          "output_type": "display_data"
        },
        {
          "data": {
            "application/javascript": "(function(root) {\n  function embed_document(root) {\n    \n  const docs_json = {\"4258584a-d4b4-4927-811c-8b6760a1afd5\":{\"defs\":[],\"roots\":{\"references\":[{\"attributes\":{\"below\":[{\"id\":\"1129\"}],\"center\":[{\"id\":\"1132\"},{\"id\":\"1136\"},{\"id\":\"1163\"}],\"height\":700,\"left\":[{\"id\":\"1133\"}],\"renderers\":[{\"id\":\"1161\"}],\"title\":{\"id\":\"1178\"},\"toolbar\":{\"id\":\"1147\"},\"width\":700,\"x_range\":{\"id\":\"1121\"},\"x_scale\":{\"id\":\"1125\"},\"y_range\":{\"id\":\"1123\"},\"y_scale\":{\"id\":\"1127\"}},\"id\":\"1120\",\"subtype\":\"Figure\",\"type\":\"Plot\"},{\"attributes\":{\"coordinates\":null,\"formatter\":{\"id\":\"1181\"},\"group\":null,\"major_label_policy\":{\"id\":\"1182\"},\"ticker\":{\"id\":\"1134\"}},\"id\":\"1133\",\"type\":\"LinearAxis\"},{\"attributes\":{},\"id\":\"1184\",\"type\":\"BasicTickFormatter\"},{\"attributes\":{\"coordinates\":null,\"group\":null},\"id\":\"1178\",\"type\":\"Title\"},{\"attributes\":{\"fill_alpha\":{\"value\":0.2},\"fill_color\":{\"value\":\"#8724B5\"},\"hatch_alpha\":{\"value\":0.2},\"line_alpha\":{\"value\":0.2},\"line_color\":{\"value\":null},\"x\":{\"field\":\"x\"},\"y\":{\"field\":\"y\"}},\"id\":\"1160\",\"type\":\"Scatter\"},{\"attributes\":{\"fill_alpha\":{\"value\":0.1},\"fill_color\":{\"value\":\"#8724B5\"},\"hatch_alpha\":{\"value\":0.1},\"line_alpha\":{\"value\":0.1},\"line_color\":{\"value\":null},\"x\":{\"field\":\"x\"},\"y\":{\"field\":\"y\"}},\"id\":\"1159\",\"type\":\"Scatter\"},{\"attributes\":{\"source\":{\"id\":\"1156\"}},\"id\":\"1162\",\"type\":\"CDSView\"},{\"attributes\":{\"overlay\":{\"id\":\"1146\"}},\"id\":\"1140\",\"type\":\"BoxZoomTool\"},{\"attributes\":{},\"id\":\"1138\",\"type\":\"ZoomInTool\"},{\"attributes\":{},\"id\":\"1187\",\"type\":\"Selection\"},{\"attributes\":{\"fill_alpha\":{\"value\":0.6},\"fill_color\":{\"value\":\"#8724B5\"},\"line_color\":{\"value\":null},\"x\":{\"field\":\"x\"},\"y\":{\"field\":\"y\"}},\"id\":\"1158\",\"type\":\"Scatter\"},{\"attributes\":{\"data\":{\"index\":[\"care\",\"time\",\"based\",\"customer\",\"ability\",\"services\",\"apply\",\"successful\",\"including\",\"key\",\"looking\",\"across\",\"au\",\"high\",\"required\",\"please\",\"service\",\"new\",\"ensure\",\"opportunities\",\"development\",\"information\",\"strong\",\"people\",\"must\",\"skills\",\"project\",\"career\",\"business\",\"experience\",\"sales\",\"manager\",\"work\",\"working\",\"management\",\"support\",\"australia\",\"industry\",\"excellent\",\"tms\",\"part\",\"experienced\",\"client\",\"opportunity\",\"training\",\"environment\",\"provide\",\"professional\",\"within\",\"well\",\"role\",\"join\",\"knowledge\",\"clients\",\"company\",\"communication\",\"team\",\"position\",\"staff\",\"years\",\"quality\",\"health\"],\"text_labels\":[\"care\",\"time\",\"based\",\"customer\",\"ability\",\"services\",\"apply\",\"successful\",\"including\",\"key\",\"looking\",\"across\",\"au\",\"high\",\"required\",\"please\",\"service\",\"new\",\"ensure\",\"opportunities\",\"development\",\"information\",\"strong\",\"people\",\"must\",\"skills\",\"project\",\"career\",\"business\",\"experience\",\"sales\",\"manager\",\"work\",\"working\",\"management\",\"support\",\"australia\",\"industry\",\"excellent\",\"tms\",\"part\",\"experienced\",\"client\",\"opportunity\",\"training\",\"environment\",\"provide\",\"professional\",\"within\",\"well\",\"role\",\"join\",\"knowledge\",\"clients\",\"company\",\"communication\",\"team\",\"position\",\"staff\",\"years\",\"quality\",\"health\"],\"x\":{\"__ndarray__\":\"h1e+QgoFi0Gyu4RBLmHeQMlUXMKTnMRBPk9PwvK43L/ecZPBZfKMweFuwMHvrmTCHJkjQlFphMItGC7ClOzwwdjP/UEWe4xBNpXHwd8YEMEkSHFCpGZswtcG8b8l4VrCMXIDwvD1JsKR8ldCOhokwvQhMUIxMMzB87jgQbG1j0LB5S1BzRCZQEhFc0JF22dBlfpZQjENNUKybjPC0V6nQg9UskCCG0TBJVfWQJrSSsFcEEBCRTKWQtbSDsLnrL/BRgAbwnHW1sD61A1CTxTJQXNB+cHkCKTAFlAJQmKdBsDDQbbAwrUEQo6IWUIYY9pBSf1nwl+dv0I=\",\"dtype\":\"float32\",\"order\":\"little\",\"shape\":[62]},\"y\":{\"__ndarray__\":\"tLjQwQy6yEEsZdDBUVCFwglalMHYLUzCp/CHwq5jOUJHBxVCNSFdQnjemkFEN19CwhHIQqU98UGuFlvCpIe4wuJIdcIUVS9CSihQws3XwsGVrPVAm24ewpeNg0KXkKBC6euHwlD8JcFrY7BBWGgPQj8sosGFI8i/iVI+wQc6KMIKSxJAXA9NQSo+z8G+4YRCm5CJQh+I38BOTDFBXeUpQmYsBkL5DOBAf0KswuAkRsGZs6XCofiuP+ECIsIt5Z9CIZ9kQqaK0EHsexVCpzCjQloit8Gqw5/C0JL8wQY+MMIwZLtCl99fQphSZMJotnVB+yNnQGrfWcE=\",\"dtype\":\"float32\",\"order\":\"little\",\"shape\":[62]}},\"selected\":{\"id\":\"1187\"},\"selection_policy\":{\"id\":\"1186\"}},\"id\":\"1156\",\"type\":\"ColumnDataSource\"},{\"attributes\":{},\"id\":\"1139\",\"type\":\"ZoomOutTool\"},{\"attributes\":{\"coordinates\":null,\"group\":null,\"source\":{\"id\":\"1156\"},\"text\":{\"field\":\"text_labels\"},\"text_align\":{\"value\":\"center\"},\"text_color\":{\"value\":\"#555555\"},\"text_font_size\":{\"value\":\"8pt\"},\"x\":{\"field\":\"x\"},\"y\":{\"field\":\"y\"},\"y_offset\":{\"value\":8}},\"id\":\"1163\",\"type\":\"LabelSet\"},{\"attributes\":{\"bottom_units\":\"screen\",\"coordinates\":null,\"fill_alpha\":0.5,\"fill_color\":\"lightgrey\",\"group\":null,\"left_units\":\"screen\",\"level\":\"overlay\",\"line_alpha\":1.0,\"line_color\":\"black\",\"line_dash\":[4,4],\"line_width\":2,\"right_units\":\"screen\",\"syncable\":false,\"top_units\":\"screen\"},\"id\":\"1146\",\"type\":\"BoxAnnotation\"},{\"attributes\":{},\"id\":\"1142\",\"type\":\"RedoTool\"},{\"attributes\":{},\"id\":\"1141\",\"type\":\"UndoTool\"},{\"attributes\":{},\"id\":\"1130\",\"type\":\"BasicTicker\"},{\"attributes\":{\"overlay\":{\"id\":\"1145\"}},\"id\":\"1144\",\"type\":\"BoxSelectTool\"},{\"attributes\":{},\"id\":\"1134\",\"type\":\"BasicTicker\"},{\"attributes\":{},\"id\":\"1121\",\"type\":\"DataRange1d\"},{\"attributes\":{},\"id\":\"1123\",\"type\":\"DataRange1d\"},{\"attributes\":{},\"id\":\"1186\",\"type\":\"UnionRenderers\"},{\"attributes\":{\"bottom_units\":\"screen\",\"coordinates\":null,\"fill_alpha\":0.5,\"fill_color\":\"lightgrey\",\"group\":null,\"left_units\":\"screen\",\"level\":\"overlay\",\"line_alpha\":1.0,\"line_color\":\"black\",\"line_dash\":[4,4],\"line_width\":2,\"right_units\":\"screen\",\"syncable\":false,\"top_units\":\"screen\"},\"id\":\"1145\",\"type\":\"BoxAnnotation\"},{\"attributes\":{},\"id\":\"1181\",\"type\":\"BasicTickFormatter\"},{\"attributes\":{\"coordinates\":null,\"formatter\":{\"id\":\"1184\"},\"group\":null,\"major_label_policy\":{\"id\":\"1185\"},\"ticker\":{\"id\":\"1130\"}},\"id\":\"1129\",\"type\":\"LinearAxis\"},{\"attributes\":{\"tools\":[{\"id\":\"1137\"},{\"id\":\"1138\"},{\"id\":\"1139\"},{\"id\":\"1140\"},{\"id\":\"1141\"},{\"id\":\"1142\"},{\"id\":\"1143\"},{\"id\":\"1144\"}]},\"id\":\"1147\",\"type\":\"Toolbar\"},{\"attributes\":{},\"id\":\"1125\",\"type\":\"LinearScale\"},{\"attributes\":{},\"id\":\"1182\",\"type\":\"AllLabels\"},{\"attributes\":{\"callback\":null},\"id\":\"1137\",\"type\":\"HoverTool\"},{\"attributes\":{},\"id\":\"1143\",\"type\":\"ResetTool\"},{\"attributes\":{},\"id\":\"1185\",\"type\":\"AllLabels\"},{\"attributes\":{\"axis\":{\"id\":\"1133\"},\"coordinates\":null,\"dimension\":1,\"group\":null,\"ticker\":null},\"id\":\"1136\",\"type\":\"Grid\"},{\"attributes\":{\"axis\":{\"id\":\"1129\"},\"coordinates\":null,\"group\":null,\"ticker\":null},\"id\":\"1132\",\"type\":\"Grid\"},{\"attributes\":{\"coordinates\":null,\"data_source\":{\"id\":\"1156\"},\"glyph\":{\"id\":\"1158\"},\"group\":null,\"hover_glyph\":null,\"muted_glyph\":{\"id\":\"1160\"},\"nonselection_glyph\":{\"id\":\"1159\"},\"view\":{\"id\":\"1162\"}},\"id\":\"1161\",\"type\":\"GlyphRenderer\"},{\"attributes\":{},\"id\":\"1127\",\"type\":\"LinearScale\"}],\"root_ids\":[\"1120\"]},\"title\":\"Bokeh Application\",\"version\":\"2.4.2\"}};\n  const render_items = [{\"docid\":\"4258584a-d4b4-4927-811c-8b6760a1afd5\",\"root_ids\":[\"1120\"],\"roots\":{\"1120\":\"4638bd5d-1c0e-4c3a-a6a7-ecb97f004767\"}}];\n  root.Bokeh.embed.embed_items_notebook(docs_json, render_items);\n\n  }\n  if (root.Bokeh !== undefined) {\n    embed_document(root);\n  } else {\n    let attempts = 0;\n    const timer = setInterval(function(root) {\n      if (root.Bokeh !== undefined) {\n        clearInterval(timer);\n        embed_document(root);\n      } else {\n        attempts++;\n        if (attempts > 100) {\n          clearInterval(timer);\n          console.log(\"Bokeh: ERROR: Unable to run BokehJS code because BokehJS library is missing\");\n        }\n      }\n    }, 10, root)\n  }\n})(window);",
            "application/vnd.bokehjs_exec.v0+json": ""
          },
          "metadata": {
            "application/vnd.bokehjs_exec.v0+json": {
              "id": "1120"
            }
          },
          "output_type": "display_data"
        }
      ],
      "source": [
        "vocab = [word for word in vocab if word in list(glove_model.key_to_index.keys())]\n",
        "X = glove_model[vocab]\n",
        "tsne = TSNE(n_components=2, random_state=0)\n",
        "X_tsne = tsne.fit_transform(X)\n",
        "interactive_tsne(list(vocab), X_tsne)"
      ]
    },
    {
      "cell_type": "markdown",
      "metadata": {
        "id": "JgbSMs4lXQo5"
      },
      "source": [
        "#### Closest words comparison"
      ]
    },
    {
      "cell_type": "markdown",
      "metadata": {
        "id": "fX4s3V4bXQo5"
      },
      "source": [
        "A better indication for the differences between the two embedding models would be a plot of a common word with their closest neighbours"
      ]
    },
    {
      "cell_type": "code",
      "execution_count": null,
      "metadata": {
        "id": "TAoeqF05XQo5",
        "outputId": "98d5aae1-9106-4793-98c9-50c81339a41c"
      },
      "outputs": [
        {
          "name": "stderr",
          "output_type": "stream",
          "text": [
            "/Users/omriram/Desktop/U/Cits4012/cits4012_environment/lib/python3.9/site-packages/sklearn/manifold/_t_sne.py:780: FutureWarning: The default initialization in TSNE will change from 'random' to 'pca' in 1.2.\n",
            "  warnings.warn(\n",
            "/Users/omriram/Desktop/U/Cits4012/cits4012_environment/lib/python3.9/site-packages/sklearn/manifold/_t_sne.py:790: FutureWarning: The default learning rate in TSNE will change from 200.0 to 'auto' in 1.2.\n",
            "  warnings.warn(\n"
          ]
        },
        {
          "data": {
            "image/png": "[encoded data removed]",
            "text/plain": [
              "<Figure size 432x288 with 1 Axes>"
            ]
          },
          "metadata": {
            "needs_background": "light"
          },
          "output_type": "display_data"
        }
      ],
      "source": [
        "display_closestwords_tsnescatterplot(glove_model, 'fifo', 100)"
      ]
    },
    {
      "cell_type": "code",
      "execution_count": null,
      "metadata": {
        "id": "8-7prrP7XQo5",
        "outputId": "01cd1dd6-b470-4a41-da4b-d24d405b2950"
      },
      "outputs": [
        {
          "name": "stderr",
          "output_type": "stream",
          "text": [
            "/Users/omriram/Desktop/U/Cits4012/cits4012_environment/lib/python3.9/site-packages/sklearn/manifold/_t_sne.py:780: FutureWarning: The default initialization in TSNE will change from 'random' to 'pca' in 1.2.\n",
            "  warnings.warn(\n",
            "/Users/omriram/Desktop/U/Cits4012/cits4012_environment/lib/python3.9/site-packages/sklearn/manifold/_t_sne.py:790: FutureWarning: The default learning rate in TSNE will change from 200.0 to 'auto' in 1.2.\n",
            "  warnings.warn(\n"
          ]
        },
        {
          "data": {
            "image/png": "[encoded data removed]",
            "text/plain": [
              "<Figure size 432x288 with 1 Axes>"
            ]
          },
          "metadata": {
            "needs_background": "light"
          },
          "output_type": "display_data"
        }
      ],
      "source": [
        "display_closestwords_tsnescatterplot(word2vec_model.wv, 'fifo', 100)"
      ]
    },
    {
      "cell_type": "markdown",
      "metadata": {
        "id": "-osunttlXQo6"
      },
      "source": [
        "The above plots better communicate how the closest words are highly dependent on the source of the dataset that the embeddings were derived from. For example perth is a close word to fifo in the word2vec model but not in the pretrained glove model."
      ]
    },
    {
      "cell_type": "markdown",
      "metadata": {
        "id": "lnSo6lmxXQo6"
      },
      "source": [
        "### One hot encoding vector"
      ]
    },
    {
      "cell_type": "markdown",
      "metadata": {
        "id": "O5wsHIyMXQo6"
      },
      "source": [
        "Create the vocabulary class and one hot vectorizer class to one hot encode the feature column"
      ]
    },
    {
      "cell_type": "code",
      "execution_count": null,
      "metadata": {
        "id": "yKzY9DvoXQo7"
      },
      "outputs": [],
      "source": [
        "class Vocabulary(object):\n",
        "    \"\"\"Class to process text and extract Vocabulary for mapping\"\"\"\n",
        "    def __init__(self, token_to_idx=None, add_unk=True, unk_token=\"<UNK>\"):\n",
        "        \"\"\"\n",
        "        Args:\n",
        "            token_to_idx (dict): a pre-existingmap of tokens to indices\n",
        "            add_unk (bool): a flag that indicates whether to add the UNK token\n",
        "            unk_token (str): the UNK token to add into the Vocabulary\n",
        "        \"\"\"\n",
        "        if token_to_idx is None:\n",
        "            token_to_idx = {}\n",
        "        self._token_to_idx = token_to_idx\n",
        "        self._idx_to_token = {idx: token \n",
        "                                for token, idx in self._token_to_idx.items()}\n",
        "        self._add_unk = add_unk\n",
        "        self._unk_token = unk_token\n",
        "        self.unk_index = 1\n",
        "        if add_unk:\n",
        "            self.unk_index = self.add_token(unk_token)\n",
        "    def to_serializable(self):\n",
        "        \"\"\" returns a dictionary that can be serialized \"\"\"\n",
        "        return {'token_to_idx': self._token_to_idx,\n",
        "                'add_unk': self._add_unk,\n",
        "                'unk_token': self._unk_token}\n",
        "    @classmethod\n",
        "    def from_serializable(cls, contents):\n",
        "        \"\"\" instantiates the Vocabulary from a serialized dictionary \"\"\"\n",
        "        return cls(**contents)\n",
        "    def add_token(self, token):\n",
        "        \"\"\"Update mapping dicts based on the token.\n",
        "        Args:\n",
        "            token (str): the item to add into the Vocabulary\n",
        "        Returns:\n",
        "            index (int): the integer corresponding to the token\n",
        "        \"\"\"\n",
        "        if token in self._token_to_idx:\n",
        "            index = self._token_to_idx[token]\n",
        "        else:\n",
        "            index = len(self._token_to_idx)\n",
        "            self._token_to_idx[token] = index\n",
        "            self._idx_to_token[index] = token\n",
        "        return index\n",
        "    \n",
        "    def add_many(self, tokens):\n",
        "        \"\"\"Add a list of tokens into the Vocabulary\n",
        "        \n",
        "        Args:\n",
        "            tokens (list): a list of string tokens\n",
        "        Returns:\n",
        "            indices (list): a list of indices corresponding to the tokens\n",
        "        \"\"\"\n",
        "        return [self.add_token(token) for token in tokens]\n",
        "    \n",
        "    def lookup_token(self, token):\n",
        "        \"\"\"Retrieve the index associated with the token\n",
        "        or the UNK index if token isn't present.\n",
        "        Args:\n",
        "            token (str): the token to look up\n",
        "        Returns:\n",
        "            index (int): the index corresponding to the token\n",
        "        Notes:\n",
        "            `unk_index` needs to be >=0 (having been added into the Vocabulary)\n",
        "            for the UNK functionality\n",
        "        \"\"\"\n",
        "        if self._add_unk:\n",
        "            return self._token_to_idx.get(token, self.unk_index)\n",
        "        else:\n",
        "            return self._token_to_idx[token]\n",
        "    def lookup_index(self, index):\n",
        "        \"\"\"Return the token associated with the index\n",
        "        Args:\n",
        "            index (int): the index to look up\n",
        "        Returns:\n",
        "            token (str): the token corresponding to the index\n",
        "        Raises:\n",
        "        KeyError: if the index is not in the Vocabulary\n",
        "        \"\"\"\n",
        "        if index not in self._idx_to_token:\n",
        "            raise KeyError(\"the index (%d) is not in the Vocabulary\" % index)\n",
        "        return self._idx_to_token[index]\n",
        "    def __str__(self):\n",
        "        return \"<Vocabulary(size=%d)>\" % len(self)\n",
        "    def __len__(self):\n",
        "        return len(self._token_to_idx)"
      ]
    },
    {
      "cell_type": "code",
      "execution_count": null,
      "metadata": {
        "id": "1F3C812-XQo7"
      },
      "outputs": [],
      "source": [
        "class One_hot_Vectorizer(object):\n",
        "    \"\"\" The Vectorizer which coordinates the Vocabularies and puts them to use\"\"\"\n",
        "    def __init__(self, description_vocab, target_vocab):\n",
        "        \"\"\"\n",
        "        Args:\n",
        "            description_vocab (Vocabulary): maps words to integers\n",
        "            target_vocab (Vocabulary): maps class labels to integers\n",
        "        \"\"\"\n",
        "        self.description_vocab = description_vocab\n",
        "        self.target_vocab = target_vocab\n",
        "    def vectorize(self, description_tokenized):\n",
        "        \"\"\"Create a collapsed one hot vector for the job description\n",
        "        Args:\n",
        "            description_tokenized (list): the tokenized job description\n",
        "        Returns:\n",
        "            one_hot (np.ndarray): the collapsed onehot encoding\n",
        "        \"\"\"\n",
        "        one_hot = np.zeros(len(self.description_vocab), dtype=np.float32)\n",
        "        for token in description_tokenized:\n",
        "            if token not in string.punctuation:\n",
        "                one_hot[self.description_vocab.lookup_token(token)] = 1\n",
        "        return one_hot\n",
        "    @classmethod\n",
        "    def from_dataframe(cls, description_df, target_cat = True, cutoff=25):\n",
        "        \"\"\"Instantiate the vectorizer from the dataset dataframe\n",
        "        Args:\n",
        "            description_df (pandas.DataFrame): the description dataset\n",
        "            cutoff (int): the parameter for frequency based filtering\n",
        "        Returns:\n",
        "            an instance of the descriptionVectorizer\n",
        "        \"\"\"\n",
        "        description_vocab = Vocabulary(add_unk=True)\n",
        "        target_vocab = Vocabulary(add_unk=False)\n",
        "        # adding category or Job_type\n",
        "        if target_cat:\n",
        "            for category in sorted(set(description_df.category)):\n",
        "                target_vocab.add_token(category)\n",
        "        \n",
        "        else:\n",
        "            \n",
        "            for job_type in  sorted(set(description_df.job_type_target)):\n",
        "                target_vocab.add_token(job_type)\n",
        "        # Add top words if count > provided count\n",
        "        word_counts = Counter()\n",
        "        for description in description_df.job_description:\n",
        "            for word in description:\n",
        "                if word not in string.punctuation:\n",
        "                    word_counts[word] += 1\n",
        "        for word, count in word_counts.items():\n",
        "            if count > cutoff:\n",
        "                description_vocab.add_token(word)\n",
        "        return cls(description_vocab, target_vocab)\n",
        "    @classmethod\n",
        "    def from_serializable(cls, contents):\n",
        "        \"\"\"Intantiate a descriptionVectorizer from a serializable dictionary\n",
        "        Args:\n",
        "            contents (dict): the serializable dictionary\n",
        "        Returns:\n",
        "            an instance of the descriptionVectorizer class\n",
        "        \"\"\"\n",
        "        description_vocab = Vocabulary.from_serializable(contents['description_vocab'])\n",
        "        target_vocab = Vocabulary.from_serializable(contents['target_vocab'])\n",
        "        return cls(description_vocab=description_vocab, target_vocab=target_vocab)\n",
        "    def to_serializable(self):\n",
        "        \"\"\"Create the serializable dictionary for caching\n",
        "        Returns:\n",
        "            contents (dict): the serializable dictionary\n",
        "        \"\"\"\n",
        "        return {'description_vocab': self.description_vocab.to_serializable(),\n",
        "                'target_vocab': self.target_vocab.to_serializable()}"
      ]
    },
    {
      "cell_type": "code",
      "execution_count": null,
      "metadata": {
        "id": "YQzSXeKxXQo7",
        "outputId": "e083917c-6ca4-498c-e755-9a5985871e94"
      },
      "outputs": [
        {
          "data": {
            "text/plain": [
              "<__main__.One_hot_Vectorizer at 0x187a9c730>"
            ]
          },
          "execution_count": 29,
          "metadata": {},
          "output_type": "execute_result"
        }
      ],
      "source": [
        "one_hot_encoder_job_type = One_hot_Vectorizer.from_dataframe(df, target_cat = False)\n",
        "one_hot_encoder_job_type"
      ]
    },
    {
      "cell_type": "markdown",
      "metadata": {
        "id": "ebLGMf-hXQo8"
      },
      "source": [
        "## Comparing neural network models on binary and multiclass classification tasks"
      ]
    },
    {
      "cell_type": "markdown",
      "metadata": {
        "id": "5K3k0hMDXQo8"
      },
      "source": [
        "Define some classes to help train the classification model"
      ]
    },
    {
      "cell_type": "code",
      "execution_count": null,
      "metadata": {
        "id": "nSA5SwKoXQo8"
      },
      "outputs": [],
      "source": [
        "class SequenceVocabulary(Vocabulary):\n",
        "    def __init__(self, token_to_idx=None, unk_token=\"<UNK>\",\n",
        "                 mask_token=\"<MASK>\", begin_seq_token=\"<BEGIN>\",\n",
        "                 end_seq_token=\"<END>\"):\n",
        "\n",
        "        super(SequenceVocabulary, self).__init__(token_to_idx)\n",
        "\n",
        "        self._mask_token = mask_token\n",
        "        self._unk_token = unk_token\n",
        "        self._begin_seq_token = begin_seq_token\n",
        "        self._end_seq_token = end_seq_token\n",
        "\n",
        "        self.mask_index = self.add_token(self._mask_token)\n",
        "        self.unk_index = self.add_token(self._unk_token)\n",
        "        self.begin_seq_index = self.add_token(self._begin_seq_token)\n",
        "        self.end_seq_index = self.add_token(self._end_seq_token)\n",
        "\n",
        "    def to_serializable(self):\n",
        "        contents = super(SequenceVocabulary, self).to_serializable()\n",
        "        contents.update({'unk_token': self._unk_token,\n",
        "                         'mask_token': self._mask_token,\n",
        "                         'begin_seq_token': self._begin_seq_token,\n",
        "                         'end_seq_token': self._end_seq_token})\n",
        "        return contents\n",
        "\n",
        "    def lookup_token(self, token):\n",
        "        \"\"\"Retrieve the index associated with the token \n",
        "          or the UNK index if token isn't present.\n",
        "        \n",
        "        Args:\n",
        "            token (str): the token to look up \n",
        "        Returns:\n",
        "            index (int): the index corresponding to the token\n",
        "        Notes:\n",
        "            `unk_index` needs to be >=0 (having been added into the Vocabulary) \n",
        "              for the UNK functionality \n",
        "        \"\"\"\n",
        "        if self.unk_index >= 0:\n",
        "            return self._token_to_idx.get(token, self.unk_index)\n",
        "        else:\n",
        "            return self._token_to_idx[token]"
      ]
    },
    {
      "cell_type": "code",
      "execution_count": null,
      "metadata": {
        "id": "qozmelTZXQo9"
      },
      "outputs": [],
      "source": [
        "class emb_Vectorizer(object):\n",
        "    \"\"\" The Vectorizer which coordinates the Vocabularies and puts them to use\"\"\"    \n",
        "    def __init__(self, desc_vocab, target_vocab):\n",
        "        self.description_vocab = desc_vocab\n",
        "        self.target_vocab = target_vocab\n",
        "    def vectorize(self, description, vector_length=-1):\n",
        "        \"\"\"\n",
        "        Args:\n",
        "            description (list) : tokenized description \n",
        "            vector_length (int): an argument for forcing the length of index vector\n",
        "        Returns:\n",
        "            the vetorized description (numpy.array)\n",
        "        \"\"\"\n",
        "        indices = []\n",
        "        \n",
        "        \n",
        "        indices.extend(self.description_vocab.lookup_token(token) \n",
        "                       for token in description)\n",
        "        if vector_length < 0:\n",
        "            vector_length = len(indices)\n",
        "        \n",
        "        out_vector = np.zeros(vector_length, dtype=np.int64)\n",
        "     \n",
        "        out_vector[:len(indices)] = indices\n",
        "       \n",
        "\n",
        "        return out_vector\n",
        "\n",
        "    @classmethod\n",
        "    def from_dataframe(cls, df, feature_column = 'short_description', target_cat = False, cutoff=10):\n",
        "        \"\"\"Instantiate the vectorizer from the dataset dataframe\n",
        "        Args:\n",
        "            description_df (pandas.DataFrame): the target dataset\n",
        "            cutoff (int): frequency threshold for including in Vocabulary \n",
        "        Returns:\n",
        "            an instance of the descriptionVectorizer\n",
        "        \"\"\"\n",
        "        target_vocab = Vocabulary(add_unk=False)\n",
        "        if target_cat:\n",
        "            for target in sorted(set(df.category)):\n",
        "                target_vocab.add_token(target)    \n",
        "        else:\n",
        "            for job_type in sorted(set(df.job_type_target)):\n",
        "                target_vocab.add_token(job_type)\n",
        "        \n",
        " \n",
        "        word_counts = Counter()\n",
        "        for desc in df[feature_column]:\n",
        "            desc = desc.split(' ') if type(desc) is not list else desc\n",
        "            for token in desc:\n",
        "                word_counts[token] += 1\n",
        "\n",
        "        desc_vocab = SequenceVocabulary()\n",
        "        for word, word_count in word_counts.items():\n",
        "            if word_count >= cutoff:\n",
        "                desc_vocab.add_token(word)\n",
        "        \n",
        "        return cls(desc_vocab, target_vocab)\n",
        "\n",
        "    @classmethod\n",
        "    def from_serializable(cls, contents):\n",
        "        description_vocab = \\\n",
        "            SequenceVocabulary.from_serializable(contents['description_vocab'])\n",
        "        target_vocab =  \\\n",
        "            Vocabulary.from_serializable(contents['target_vocab'])\n",
        "\n",
        "        return cls(description_vocab=description_vocab, target_vocab=target_vocab)\n",
        "\n",
        "    def to_serializable(self):\n",
        "        return {'description_vocab': self.description_vocab.to_serializable(),\n",
        "                'target_vocab': self.target_vocab.to_serializable()}"
      ]
    },
    {
      "cell_type": "code",
      "execution_count": null,
      "metadata": {
        "id": "O2JbMaSNXQo9"
      },
      "outputs": [],
      "source": [
        "class Dataset_embedding(Dataset):\n",
        "    def __init__(self, df, vectorizer, short = True, job_type = True):\n",
        "        \"\"\"\n",
        "        Args:\n",
        "            df (pandas.DataFrame): the dataset\n",
        "            vectorizer (GloveVectorizer): vectorizer instatiated from dataset\n",
        "        \"\"\"\n",
        "        self.df = df\n",
        "        self._vectorizer = vectorizer\n",
        "        self.short = short\n",
        "        self.job_type = job_type\n",
        "\n",
        "        # +1 if only using begin_seq, +2 if using both begin and end seq tokens\n",
        "        measure_len = lambda context: len(context)\n",
        "        if self.short:\n",
        "            self._max_seq_length = max(map(measure_len, df.short_description)) + 2\n",
        "        else:\n",
        "            self._max_seq_length = max(map(measure_len, df.job_description)) + 2\n",
        "        \n",
        "        self.train_df = self.df[self.df.split=='train']\n",
        "        self.train_size = len(self.train_df)\n",
        "\n",
        "        self.val_df = self.df[self.df.split=='val']\n",
        "        self.validation_size = len(self.val_df)\n",
        "\n",
        "        self.test_df = self.df[self.df.split=='test']\n",
        "        self.test_size = len(self.test_df)\n",
        "\n",
        "        self._lookup_dict = {'train': (self.train_df, self.train_size),\n",
        "                             'val': (self.val_df, self.validation_size),\n",
        "                             'test': (self.test_df, self.test_size)}\n",
        "\n",
        "        self.set_split('train')\n",
        "\n",
        "        # Class weights\n",
        "        if self.job_type:\n",
        "            class_counts = df.job_type_target.value_counts().to_dict()\n",
        "        else:\n",
        "            class_counts = df.category.value_counts().to_dict()\n",
        "        def sort_key(item):\n",
        "            return self._vectorizer.target_vocab.lookup_token(item[0])\n",
        "        \n",
        "\n",
        "        sorted_counts = sorted(class_counts.items(), key=sort_key)\n",
        "        frequencies = [count for _, count in sorted_counts]\n",
        "        self.class_weights = 1.0 / torch.tensor(frequencies, dtype=torch.float32)\n",
        "        \n",
        "        \n",
        "    @classmethod\n",
        "    def load_df_and_make_vectorizer(cls, df):\n",
        "        \"\"\"Load dataset and make a  vectorizer from scratch\n",
        "        \n",
        "        Args:\n",
        "            csv (str): location of the dataset\n",
        "        Returns:\n",
        "            an instance of Dataset\n",
        "        \"\"\"\n",
        "        train_df = df[df.split=='train']\n",
        "        return cls(df, emb_Vectorizer.from_dataframe(train_df))\n",
        "\n",
        "    @staticmethod\n",
        "    def load_vectorizer_only(vectorizer_filepath):\n",
        "        \"\"\"a static method for loading the vectorizer from file\n",
        "        \n",
        "        Args:\n",
        "            vectorizer_filepath (str): the location of the serialized vectorizer\n",
        "        Returns:\n",
        "            an instance of GloveVectorizer\n",
        "        \"\"\"\n",
        "        with open(vectorizer_filepath) as fp:\n",
        "            return emb_Vectorizer.from_serializable(json.load(fp))\n",
        "\n",
        "    def save_vectorizer(self, vectorizer_filepath):\n",
        "        \"\"\"saves the vectorizer to disk using json\n",
        "        \n",
        "        Args:\n",
        "            vectorizer_filepath (str): the location to save the vectorizer\n",
        "        \"\"\"\n",
        "        with open(vectorizer_filepath, \"w\") as fp:\n",
        "            json.dump(self._vectorizer.to_serializable(), fp)\n",
        "\n",
        "    def get_vectorizer(self):\n",
        "        \"\"\" returns the vectorizer \"\"\"\n",
        "        return self._vectorizer\n",
        "\n",
        "    def set_split(self, split=\"train\"):\n",
        "        \"\"\" selects the splits in the dataset using a column in the dataframe \"\"\"\n",
        "        self._target_split = split\n",
        "        self._target_df, self._target_size = self._lookup_dict[split]\n",
        "\n",
        "    def __len__(self):\n",
        "        return self._target_size\n",
        "\n",
        "    def __getitem__(self, index):\n",
        "        \"\"\"the primary entry point method for PyTorch datasets\n",
        "        \n",
        "        Args:\n",
        "            index (int): the index to the data point \n",
        "        Returns:\n",
        "            a dictionary holding the data point's features (x_data) and label (y_target)\n",
        "        \"\"\"\n",
        "        row = self._target_df.iloc[index]\n",
        "\n",
        "        if self.short:\n",
        "            description_vector = \\\n",
        "                self._vectorizer.vectorize(row.short_description, self._max_seq_length)\n",
        "        else:\n",
        "            description_vector = \\\n",
        "                self._vectorizer.vectorize(row.job_description, self._max_seq_length)\n",
        "\n",
        "        if self.job_type:\n",
        "            target_index = \\\n",
        "                self._vectorizer.target_vocab.lookup_token(row.job_type_target)\n",
        "        else:\n",
        "            target_index = \\\n",
        "                self._vectorizer.target_vocab.lookup_token(row.category)\n",
        "\n",
        "\n",
        "        return {'x_data': description_vector,\n",
        "                'y_target': target_index}\n",
        "\n",
        "    def get_num_batches(self, batch_size):\n",
        "        \"\"\"Given a batch size, return the number of batches in the dataset\n",
        "        \n",
        "        Args:\n",
        "            batch_size (int)\n",
        "        Returns:\n",
        "            number of batches in the dataset\n",
        "        \"\"\" \n",
        "        return len(self) // batch_size"
      ]
    },
    {
      "cell_type": "markdown",
      "metadata": {
        "id": "6EgE6ASlXQo-"
      },
      "source": [
        "Some helper functions for the training loop"
      ]
    },
    {
      "cell_type": "code",
      "execution_count": null,
      "metadata": {
        "id": "Xz1HRM8hXQo-"
      },
      "outputs": [],
      "source": [
        "def generate_batches(dataset, batch_size, shuffle=True,\n",
        "                     drop_last=True, device=\"cpu\"): \n",
        "    \"\"\"\n",
        "    A generator function which wraps the PyTorch DataLoader. It will \n",
        "      ensure each tensor is on the write device location.\n",
        "    \"\"\"\n",
        "    dataloader = DataLoader(dataset=dataset, batch_size=batch_size,\n",
        "                            shuffle=shuffle, drop_last=drop_last)\n",
        "\n",
        "    for data_dict in dataloader:\n",
        "        out_data_dict = {}\n",
        "        for name, tensor in data_dict.items():\n",
        "            out_data_dict[name] = data_dict[name].to(device)\n",
        "        yield out_data_dict\n",
        "\n",
        "def make_train_state(args):\n",
        "    return {'stop_early': False,\n",
        "            'early_stopping_step': 0,\n",
        "            'early_stopping_best_val': 1e8,\n",
        "            'learning_rate': args.learning_rate,\n",
        "            'epoch_index': 0,\n",
        "            'train_loss': [],\n",
        "            'train_acc': [],\n",
        "            'val_loss': [],\n",
        "            'val_acc': [],\n",
        "            'test_loss': -1,\n",
        "            'test_acc': -1,\n",
        "            'model_filename': args.model_state_file}\n",
        "\n",
        "def update_train_state(args, model, train_state):\n",
        "    \"\"\"Handle the training state updates.\n",
        "\n",
        "    Components:\n",
        "     - Early Stopping: Prevent overfitting.\n",
        "     - Model Checkpoint: Model is saved if the model is better\n",
        "\n",
        "    :param args: main arguments\n",
        "    :param model: model to train\n",
        "    :param train_state: a dictionary representing the training state values\n",
        "    :returns:\n",
        "        a new train_state\n",
        "    \"\"\"\n",
        "\n",
        "    # Save one model at least\n",
        "    if train_state['epoch_index'] == 0:\n",
        "        torch.save(model.state_dict(), train_state['model_filename'])\n",
        "        train_state['stop_early'] = False\n",
        "\n",
        "    # Save model if performance improved\n",
        "    elif train_state['epoch_index'] >= 1:\n",
        "        loss_tm1, loss_t = train_state['val_loss'][-2:]\n",
        "\n",
        "        # If loss worsened\n",
        "        if loss_t >= train_state['early_stopping_best_val']:\n",
        "            # Update step\n",
        "            train_state['early_stopping_step'] += 1\n",
        "        # Loss decreased\n",
        "        else:\n",
        "            # Save the best model\n",
        "            if loss_t < train_state['early_stopping_best_val']:\n",
        "                torch.save(model.state_dict(), train_state['model_filename'])\n",
        "\n",
        "            # Reset early stopping step\n",
        "            train_state['early_stopping_step'] = 0\n",
        "\n",
        "        # Stop early ?\n",
        "        train_state['stop_early'] = \\\n",
        "            train_state['early_stopping_step'] >= args.early_stopping_criteria\n",
        "\n",
        "    return train_state\n",
        "\n",
        "def compute_accuracy(y_pred, y_target):\n",
        "    _, y_pred_indices = y_pred.max(dim=1)\n",
        "    n_correct = torch.eq(y_pred_indices, y_target).sum().item()\n",
        "    return n_correct / len(y_pred_indices) * 100"
      ]
    },
    {
      "cell_type": "markdown",
      "metadata": {
        "id": "Q0noYTuZXQo-"
      },
      "source": [
        "The make embedding function uses a word to index dictionary for creating the embedding matrix which can be passed to the classifier"
      ]
    },
    {
      "cell_type": "code",
      "execution_count": null,
      "metadata": {
        "id": "ppt_2IPrXQo_",
        "outputId": "94a41cd9-6ad2-49ef-b71e-29a388854992"
      },
      "outputs": [
        {
          "data": {
            "text/plain": [
              "array([[-0.038194, -0.24487 ,  0.72812 , ..., -0.1459  ,  0.8278  ,\n",
              "         0.27062 ],\n",
              "       [-0.10767 ,  0.11053 ,  0.59812 , ..., -0.83155 ,  0.45293 ,\n",
              "         0.082577],\n",
              "       [-0.33979 ,  0.20941 ,  0.46348 , ..., -0.23394 ,  0.47298 ,\n",
              "        -0.028803],\n",
              "       ...,\n",
              "       [ 0.36088 , -0.16919 , -0.32704 , ...,  0.27139 , -0.29188 ,\n",
              "         0.16109 ],\n",
              "       [-0.10461 , -0.5047  , -0.49331 , ...,  0.42527 , -0.5125  ,\n",
              "        -0.17054 ],\n",
              "       [ 0.28365 , -0.6263  , -0.44351 , ...,  0.43678 , -0.82607 ,\n",
              "        -0.15701 ]], dtype=float32)"
            ]
          },
          "execution_count": 34,
          "metadata": {},
          "output_type": "execute_result"
        }
      ],
      "source": [
        "glove_model.vectors"
      ]
    },
    {
      "cell_type": "code",
      "execution_count": null,
      "metadata": {
        "id": "AedlDW_vXQo_"
      },
      "outputs": [],
      "source": [
        "def make_embedding_matrix(glove_model, words):\n",
        "    \"\"\"\n",
        "    Create embedding matrix for a specific set of words.\n",
        "    \n",
        "    Args:\n",
        "        glove_filepath (str): file path to the glove embeddigns\n",
        "        words (list): list of words in the dataset\n",
        "    \"\"\"\n",
        "    word_to_idx = glove_model.key_to_index \n",
        "    glove_embeddings = glove_model.vectors\n",
        "\n",
        "    embedding_size = glove_embeddings.shape[1]\n",
        "    \n",
        "    final_embeddings = np.zeros((len(words), embedding_size))\n",
        "\n",
        "    for i, word in enumerate(words):\n",
        "        if word in word_to_idx:\n",
        "            final_embeddings[i, :] = glove_embeddings[word_to_idx[word]]\n",
        "        else:\n",
        "            embedding_i = torch.ones(1, embedding_size)\n",
        "            torch.nn.init.xavier_uniform_(embedding_i)\n",
        "            final_embeddings[i, :] = embedding_i\n",
        "\n",
        "    return final_embeddings"
      ]
    },
    {
      "cell_type": "markdown",
      "metadata": {
        "id": "Jx3IOXytXQo_"
      },
      "source": [
        "### CNN for Binary classification"
      ]
    },
    {
      "cell_type": "code",
      "execution_count": null,
      "metadata": {
        "id": "lHksBBZqXQo_",
        "outputId": "71bc1070-f021-4bca-d206-8090a64f4583"
      },
      "outputs": [
        {
          "name": "stdout",
          "output_type": "stream",
          "text": [
            "Using CUDA: False\n",
            "Expanded filepaths: \n",
            "\t/Users/omriram/Desktop/U/cits4012/cits4012_project2/model_storage/cnn/cnn_model.pth\n"
          ]
        }
      ],
      "source": [
        "cnn_args = Namespace(\n",
        "    num_epochs=100, \n",
        "    early_stopping_criteria=5,\n",
        "    learning_rate=0.001, \n",
        "    dropout_p=0.5, \n",
        "    batch_size=50, \n",
        "    cuda=True, \n",
        "    catch_keyboard_interrupt=True, \n",
        "    reload_from_files=False,\n",
        "    expand_filepaths_to_save_dir=True,\n",
        "    save_dir=os.path.join(script_dir, \"model_storage/cnn\"),\n",
        "    model_state_file=\"cnn_model.pth\",\n",
        "    embedding_size = 100,\n",
        ")\n",
        "# Check CUDA\n",
        "if not torch.cuda.is_available():\n",
        "    cnn_args.cuda = False\n",
        "    \n",
        "cnn_args.device = torch.device(\"cuda\" if cnn_args.cuda else \"cpu\")\n",
        "print(\"Using CUDA: {}\".format(cnn_args.cuda))\n",
        "if cnn_args.expand_filepaths_to_save_dir:\n",
        "\n",
        "    cnn_args.model_state_file = os.path.join(cnn_args.save_dir,\n",
        "                                         cnn_args.model_state_file)\n",
        "    \n",
        "    print(\"Expanded filepaths: \")\n",
        "    print(\"\\t{}\".format(cnn_args.model_state_file))"
      ]
    },
    {
      "cell_type": "markdown",
      "metadata": {
        "id": "-fLnwg7GXQpA"
      },
      "source": [
        "Defining the CNN classifier"
      ]
    },
    {
      "cell_type": "code",
      "execution_count": null,
      "metadata": {
        "id": "4vQnd1JTXQpA"
      },
      "outputs": [],
      "source": [
        "class CNNClassifier(nn.Module):\n",
        "    def __init__(self, embedding_size, num_embeddings, num_channels, hidden_dim,\n",
        "     num_classes, dropout_p, pretrained_embeddings = None, padding_idx = 0):\n",
        "        \"\"\"\n",
        "        Args:\n",
        "            embedding_size (int): size of the embedding vectors\n",
        "            num_embeddings (int): number of embedding vectors\n",
        "            filter_width (int): width of the convolutional kernels\n",
        "            num_channels (int): number of convolutional kernels per layer\n",
        "            hidden_dim (int): the size of the hidden dimension\n",
        "            num_classes (int): the number of classes in classification\n",
        "            dropout_p (float): a dropout parameter \n",
        "            pretrained_embeddings (numpy.array): previously trained word embeddings\n",
        "                default is None. If provided, \n",
        "            padding_idx (int): an index representing a null position\n",
        "        \"\"\"\n",
        "        super(CNNClassifier, self).__init__()\n",
        "\n",
        "        if pretrained_embeddings is None:\n",
        "            self.emb = nn.Embedding(embedding_dim = embedding_size, num_embeddings=num_embeddings, padding_idx=padding_idx)\n",
        "        else:\n",
        "            pretrained_embeddings = torch.from_numpy(pretrained_embeddings)\n",
        "            self.emb = nn.Embedding(embedding_dim=embedding_size,\n",
        "                                    num_embeddings=num_embeddings,\n",
        "                                    padding_idx=padding_idx,\n",
        "                                    _weight=pretrained_embeddings)\n",
        "        self.convnet = nn.Sequential(nn.Conv1d(in_channels=embedding_size, \n",
        "                   out_channels=num_channels, kernel_size=3),\n",
        "            nn.ELU(),\n",
        "            nn.Conv1d(in_channels=num_channels, out_channels=num_channels, \n",
        "                   kernel_size=3, stride=1),\n",
        "            nn.ELU(),\n",
        "            nn.Conv1d(in_channels=num_channels, out_channels=num_channels, \n",
        "                   kernel_size=3, stride=2),\n",
        "            nn.ELU())\n",
        "        self._dropout_p = dropout_p\n",
        "        self.fc1 = nn.Linear(num_channels, hidden_dim)\n",
        "        self.fc2 = nn.Linear(hidden_dim, num_classes)\n",
        "    def forward(self, x_in, apply_softmax=False):\n",
        "        \"\"\"The forward pass of the classifier\n",
        "        \n",
        "        Args:\n",
        "            x_in (torch.Tensor): an input data tensor. \n",
        "                x_in.shape should be (batch, dataset._max_seq_length)\n",
        "            apply_softmax (bool): a flag for the softmax activation\n",
        "                should be false if used with the Cross Entropy losses\n",
        "        Returns:\n",
        "            the resulting tensor. tensor.shape should be (batch, num_classes)\n",
        "        \"\"\"\n",
        "        \n",
        "        # embed and permute so features are channels\n",
        "        x_embedded = self.emb(x_in).permute(0, 2, 1)\n",
        "\n",
        "        features = self.convnet(x_embedded)\n",
        "\n",
        "        # average and remove the extra dimension\n",
        "        remaining_size = features.size(dim=2)\n",
        "        features = F.avg_pool1d(features, remaining_size).squeeze(dim=2)\n",
        "        features = F.dropout(features, p=self._dropout_p)\n",
        "        \n",
        "        # mlp classifier\n",
        "        intermediate_vector = F.relu(F.dropout(self.fc1(features), p=self._dropout_p))\n",
        "        prediction_vector = self.fc2(intermediate_vector)\n",
        "\n",
        "        if apply_softmax:\n",
        "            prediction_vector = F.softmax(prediction_vector, dim=1)\n",
        "\n",
        "        return prediction_vector"
      ]
    },
    {
      "cell_type": "code",
      "execution_count": null,
      "metadata": {
        "id": "Cx_XpNjAXQpA"
      },
      "outputs": [],
      "source": [
        "dataset = Dataset_embedding.load_df_and_make_vectorizer(df)\n",
        "dataloader = DataLoader(dataset=dataset, batch_size=2,\n",
        "                            shuffle=True, drop_last=True)"
      ]
    },
    {
      "cell_type": "code",
      "execution_count": null,
      "metadata": {
        "id": "t4ILe-pkXQpB",
        "outputId": "91846e80-fa89-4263-8a3c-215359d8f75c"
      },
      "outputs": [
        {
          "data": {
            "text/plain": [
              "array([[-0.02438249,  0.2326507 ,  0.20026919, ..., -0.16094236,\n",
              "         0.11661521,  0.02024487],\n",
              "       [ 0.23450515,  0.15719301, -0.11602981, ...,  0.0267947 ,\n",
              "         0.13061547, -0.02480437],\n",
              "       [ 0.01274723,  0.06277257,  0.10135254, ..., -0.02471936,\n",
              "         0.07446384,  0.15874678],\n",
              "       ...,\n",
              "       [-1.13010001, -0.20182   ,  1.18970001, ..., -0.73589998,\n",
              "        -0.042457  ,  0.30197001],\n",
              "       [-0.00964008, -0.14158785, -0.21094804, ...,  0.17482507,\n",
              "         0.09706613,  0.04792544],\n",
              "       [ 0.33535999,  0.12483   , -0.19909   , ...,  0.88338   ,\n",
              "        -0.031039  ,  0.21794   ]])"
            ]
          },
          "execution_count": 39,
          "metadata": {},
          "output_type": "execute_result"
        }
      ],
      "source": [
        "vectorizer = dataset.get_vectorizer()\n",
        "words = vectorizer.description_vocab._token_to_idx.keys()\n",
        "embeddings = make_embedding_matrix(glove_model=glove_model, \n",
        "                                       words=words)\n",
        "embeddings"
      ]
    },
    {
      "cell_type": "code",
      "execution_count": null,
      "metadata": {
        "id": "SgZKC4l5XQpB",
        "outputId": "db133e7c-9004-4f2c-bcb7-456c27ffd8e7"
      },
      "outputs": [
        {
          "name": "stdout",
          "output_type": "stream",
          "text": [
            "train loss 0.6814553614122326\n",
            "val loss 0.6591310996120258\n",
            "train loss 0.6320010361901247\n",
            "val loss 0.6164613835892435\n",
            "train loss 0.5701480355607459\n",
            "val loss 0.5902536976135381\n",
            "train loss 0.528542978576866\n",
            "val loss 0.5870290731979628\n",
            "train loss 0.4915754569582191\n",
            "val loss 0.6067969561633417\n",
            "train loss 0.46547114181231297\n",
            "val loss 0.6079118994332975\n",
            "train loss 0.4313836886940232\n",
            "val loss 0.6585455395407596\n",
            "train loss 0.4197310002453356\n",
            "val loss 0.6335551763995222\n",
            "train loss 0.40373903042580733\n",
            "val loss 0.6340325090844753\n",
            "train loss 0.39874829104147774\n",
            "val loss 0.6466611593456593\n",
            "train loss 0.3906368951122442\n",
            "val loss 0.6460661135487636\n",
            "train loss 0.38674014013215746\n",
            "val loss 0.6526923922158904\n",
            "train loss 0.380602460955999\n",
            "val loss 0.6728675122988426\n",
            "train loss 0.3800877320838259\n",
            "val loss 0.6572022331973253\n",
            "train loss 0.37868101047464126\n",
            "val loss 0.671422709347838\n",
            "train loss 0.37599487502172785\n",
            "val loss 0.6631639892772093\n",
            "train loss 0.37856965661048897\n",
            "val loss 0.6661481079408679\n",
            "train loss 0.375955261523465\n",
            "val loss 0.6645926161337706\n",
            "train loss 0.37450706247823823\n",
            "val loss 0.665467577970634\n",
            "train loss 0.3756649219487087\n",
            "Exiting loop\n"
          ]
        }
      ],
      "source": [
        "vectorizer = dataset.get_vectorizer()\n",
        "classifier = CNNClassifier(embedding_size=100, \n",
        "                            num_embeddings=len(vectorizer.description_vocab),\n",
        "                            num_channels=50,\n",
        "                            hidden_dim=100, \n",
        "                            num_classes=2, \n",
        "                            dropout_p=cnn_args.dropout_p,\n",
        "                            pretrained_embeddings=embeddings,\n",
        "                            padding_idx=0)\n",
        "\n",
        "classifier = classifier.to(cnn_args.device)\n",
        "dataset.class_weights = dataset.class_weights.to(cnn_args.device)\n",
        "\n",
        "loss_func = nn.CrossEntropyLoss(dataset.class_weights)\n",
        "optimizer = optim.Adam(classifier.parameters(), lr = cnn_args.learning_rate)\n",
        "scheduler = optim.lr_scheduler.ReduceLROnPlateau(optimizer=optimizer, mode = 'min', factor=0.5, patience=1)\n",
        "\n",
        "train_state = make_train_state(cnn_args)\n",
        "\n",
        "dataset.set_split('train')\n",
        "\n",
        "classifier.float() # sets classifier to receive in double precision format\n",
        "try: \n",
        "    for epoch in range(cnn_args.num_epochs):\n",
        "        train_state['epoch_index'] = epoch\n",
        "        dataset.set_split('train')\n",
        "        batch_generator = generate_batches(dataset, batch_size=cnn_args.batch_size, device=cnn_args.device)\n",
        "\n",
        "        running_loss = 0.0\n",
        "        running_acc = 0.0\n",
        "        classifier.train()\n",
        "\n",
        "        for batch_index, batch_dict in enumerate(batch_generator):\n",
        "            optimizer.zero_grad()\n",
        "            y_pred = classifier(batch_dict['x_data'])\n",
        "            loss = loss_func(y_pred, batch_dict['y_target'])\n",
        "            loss_t = loss.item()\n",
        "            running_loss += (loss_t - running_loss) / (batch_index + 1)\n",
        "            loss.backward()\n",
        "            optimizer.step()\n",
        "            acc_t = compute_accuracy(y_pred, batch_dict['y_target'])\n",
        "            running_acc += (acc_t  - running_acc)/(batch_index+1)\n",
        "        print('train loss',running_loss)\n",
        "        train_state['train_loss'].append(running_loss)\n",
        "        train_state['train_acc'].append(running_acc)\n",
        "\n",
        "        dataset.set_split('val')\n",
        "        batch_generator = generate_batches(dataset, batch_size=cnn_args.batch_size, device=cnn_args.device)\n",
        "        running_loss = 0.\n",
        "        running_acc = 0.\n",
        "        classifier.eval()\n",
        "\n",
        "        for batch_index, batch_dict in enumerate(batch_generator):\n",
        "            y_pred = classifier(batch_dict['x_data'])\n",
        "            # step 3. compute the loss\n",
        "            loss = loss_func(y_pred, batch_dict['y_target'])\n",
        "            loss_t = loss.item()\n",
        "            running_loss += (loss_t - running_loss) / (batch_index + 1)\n",
        "            acc_t = compute_accuracy(y_pred, batch_dict['y_target'])\n",
        "            running_acc += (acc_t - running_acc) / (batch_index + 1)\n",
        "        print('val loss', running_loss)\n",
        "        train_state['val_loss'].append(running_loss)\n",
        "        train_state['val_acc'].append(running_acc)\n",
        "\n",
        "        train_state = update_train_state(args=cnn_args, model=classifier,\n",
        "                                         train_state=train_state)\n",
        "\n",
        "        scheduler.step(train_state['val_loss'][-1])\n",
        "\n",
        "        if train_state['stop_early']:\n",
        "            break\n",
        "\n",
        "\n",
        "\n",
        "except KeyboardInterrupt:\n",
        "    print(\"Exiting loop\")\n",
        "    "
      ]
    },
    {
      "cell_type": "code",
      "execution_count": null,
      "metadata": {
        "id": "mGhA6sQyXQpC",
        "outputId": "c0153ee8-d9ef-47ab-d93d-a791d8afad04"
      },
      "outputs": [
        {
          "name": "stdout",
          "output_type": "stream",
          "text": [
            "Test loss: 0.6620351765620508;\n",
            "Test Accuracy: 70.96610169491524\n"
          ]
        }
      ],
      "source": [
        "# compute the loss & accuracy on the test set using the best available model\n",
        "\n",
        "classifier.load_state_dict(torch.load(train_state['model_filename']))\n",
        "\n",
        "classifier = classifier.to(cnn_args.device)\n",
        "dataset.class_weights = dataset.class_weights.to(cnn_args.device)\n",
        "loss_func = nn.CrossEntropyLoss(dataset.class_weights)\n",
        "\n",
        "dataset.set_split('test')\n",
        "batch_generator = generate_batches(dataset, \n",
        "                                   batch_size=cnn_args.batch_size, \n",
        "                                   device=cnn_args.device)\n",
        "running_loss = 0.\n",
        "running_acc = 0.\n",
        "classifier.eval()\n",
        "\n",
        "for batch_index, batch_dict in enumerate(batch_generator):\n",
        "    # compute the output\n",
        "    y_pred =  classifier(batch_dict['x_data'])\n",
        "    \n",
        "    # compute the loss\n",
        "    loss = loss_func(y_pred, batch_dict['y_target'])\n",
        "    loss_t = loss.item()\n",
        "    running_loss += (loss_t - running_loss) / (batch_index + 1)\n",
        "\n",
        "    # compute the accuracy\n",
        "    acc_t = compute_accuracy(y_pred, batch_dict['y_target'])\n",
        "    running_acc += (acc_t - running_acc) / (batch_index + 1)\n",
        "\n",
        "train_state['test_loss'] = running_loss\n",
        "train_state['test_acc'] = running_acc\n",
        "print(\"Test loss: {};\".format(train_state['test_loss']))\n",
        "print(\"Test Accuracy: {}\".format(train_state['test_acc']))"
      ]
    }
  ],
  "metadata": {
    "kernelspec": {
      "display_name": "Python 3.9.10",
      "language": "python",
      "name": "python3"
    },
    "language_info": {
      "codemirror_mode": {
        "name": "ipython",
        "version": 3
      },
      "file_extension": ".py",
      "mimetype": "text/x-python",
      "name": "python",
      "nbconvert_exporter": "python",
      "pygments_lexer": "ipython3",
      "version": "3.9.10"
    },
    "orig_nbformat": 4,
    "vscode": {
      "interpreter": {
        "hash": "3931f8ce93702ec92af21f632a7247673a82decd980a4ceb2171679cfa65979b"
      }
    },
    "colab": {
      "name": "project.ipynb",
      "provenance": [],
      "toc_visible": true
    }
  },
  "nbformat": 4,
  "nbformat_minor": 0
}