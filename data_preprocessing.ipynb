{
 "cells": [
  {
   "cell_type": "code",
   "execution_count": null,
   "id": "fb912ee8",
   "metadata": {},
   "outputs": [],
   "source": [
    "import pandas as pd\n",
    "import unicodedata\n",
    "import ftfy\n",
    "import gensim\n",
    "import gensim.downloader as api\n",
    "from gensim.models import TfidfModel\n",
    "from gensim.corpora import Dictionary"
   ]
  },
  {
   "cell_type": "code",
   "execution_count": null,
   "id": "7aa03ab6",
   "metadata": {},
   "outputs": [],
   "source": [
    "df_original = pd.read_csv ('./data/seek_australia.csv')\n",
    "df_original"
   ]
  },
  {
   "cell_type": "markdown",
   "id": "9b5d2b13",
   "metadata": {},
   "source": [
    "# Data pre-processing"
   ]
  },
  {
   "cell_type": "code",
   "execution_count": null,
   "id": "07686710",
   "metadata": {},
   "outputs": [],
   "source": [
    "features_to_delete = ['job_board','geo','url'] # get rid of unnecessary features\n",
    "df = df_original.drop(features_to_delete, axis=1)"
   ]
  },
  {
   "cell_type": "code",
   "execution_count": null,
   "id": "237fa708",
   "metadata": {},
   "outputs": [],
   "source": [
    "print(df_original['job_description'].isna().sum())\n",
    "df_original.dropna(subset=['job_description'], inplace=True)"
   ]
  },
  {
   "cell_type": "code",
   "execution_count": null,
   "id": "f449f487",
   "metadata": {},
   "outputs": [],
   "source": [
    "for i in df_original[ \"job_description\"].index:\n",
    "    df_original.loc[i, \"job_description\"] = gensim.utils.simple_preprocess(\n",
    "        ftfy.fix_text(unicodedata.normalize(\"NFKD\",df_original.loc[i,\"job_description\"])), deacc=True)"
   ]
  },
  {
   "cell_type": "code",
   "execution_count": null,
   "id": "8024e60f",
   "metadata": {},
   "outputs": [],
   "source": [
    "df_original"
   ]
  },
  {
   "cell_type": "markdown",
   "id": "c3504360",
   "metadata": {},
   "source": [
    "# Task 1"
   ]
  },
  {
   "cell_type": "markdown",
   "id": "6a8805ea",
   "metadata": {},
   "source": [
    "Derive target variable"
   ]
  },
  {
   "cell_type": "code",
   "execution_count": null,
   "id": "cea8cb7d",
   "metadata": {},
   "outputs": [],
   "source": [
    "df['job_type_target'] = df['job_type']"
   ]
  },
  {
   "cell_type": "code",
   "execution_count": null,
   "id": "ab6844c3",
   "metadata": {},
   "outputs": [],
   "source": [
    "df.loc[df['job_type_target'] != 'Full Time', 'job_type_target'] = 'Other'"
   ]
  },
  {
   "cell_type": "markdown",
   "id": "3f574dac",
   "metadata": {},
   "source": [
    "Analyse class distribution"
   ]
  },
  {
   "cell_type": "code",
   "execution_count": null,
   "id": "d25c60fb",
   "metadata": {},
   "outputs": [],
   "source": [
    "df['job_type_target'].hist()"
   ]
  },
  {
   "cell_type": "code",
   "execution_count": null,
   "id": "aa01ed50",
   "metadata": {},
   "outputs": [],
   "source": [
    "# Class 'Full Time' is twice as large as 'Other'. Verify based on literature if such a distribution is too\n",
    "# imbalanced for this learning task "
   ]
  },
  {
   "cell_type": "markdown",
   "id": "2ba58b9f",
   "metadata": {},
   "source": [
    "# Task 2"
   ]
  },
  {
   "cell_type": "code",
   "execution_count": null,
   "id": "c4543322",
   "metadata": {},
   "outputs": [],
   "source": []
  }
 ],
 "metadata": {
  "kernelspec": {
   "display_name": "Python 3.9.10",
   "language": "python",
   "name": "python3"
  },
  "language_info": {
   "codemirror_mode": {
    "name": "ipython",
    "version": 3
   },
   "file_extension": ".py",
   "mimetype": "text/x-python",
   "name": "python",
   "nbconvert_exporter": "python",
   "pygments_lexer": "ipython3",
   "version": "3.9.10"
  },
  "vscode": {
   "interpreter": {
    "hash": "3931f8ce93702ec92af21f632a7247673a82decd980a4ceb2171679cfa65979b"
   }
  }
 },
 "nbformat": 4,
 "nbformat_minor": 5
}
