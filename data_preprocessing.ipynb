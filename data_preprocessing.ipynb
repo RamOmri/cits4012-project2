{
 "cells": [
  {
   "cell_type": "code",
   "execution_count": 3,
   "id": "fb912ee8",
   "metadata": {},
   "outputs": [],
   "source": [
    "import pandas as pd\n",
    "import unicodedata\n",
    "import ftfy\n",
    "import gensim\n",
    "from sklearn.model_selection import train_test_split\n",
    "from sklearn.manifold import TSNE\n",
    "import numpy as np\n",
    "import matplotlib.pyplot as plt\n",
    "from gensim.corpora import Dictionary"
   ]
  },
  {
   "cell_type": "code",
   "execution_count": 4,
   "id": "7aa03ab6",
   "metadata": {},
   "outputs": [
    {
     "data": {
      "text/html": [
       "<div>\n",
       "<style scoped>\n",
       "    .dataframe tbody tr th:only-of-type {\n",
       "        vertical-align: middle;\n",
       "    }\n",
       "\n",
       "    .dataframe tbody tr th {\n",
       "        vertical-align: top;\n",
       "    }\n",
       "\n",
       "    .dataframe thead th {\n",
       "        text-align: right;\n",
       "    }\n",
       "</style>\n",
       "<table border=\"1\" class=\"dataframe\">\n",
       "  <thead>\n",
       "    <tr style=\"text-align: right;\">\n",
       "      <th></th>\n",
       "      <th>category</th>\n",
       "      <th>city</th>\n",
       "      <th>company_name</th>\n",
       "      <th>geo</th>\n",
       "      <th>job_board</th>\n",
       "      <th>job_description</th>\n",
       "      <th>job_title</th>\n",
       "      <th>job_type</th>\n",
       "      <th>post_date</th>\n",
       "      <th>salary_offered</th>\n",
       "      <th>state</th>\n",
       "      <th>url</th>\n",
       "    </tr>\n",
       "  </thead>\n",
       "  <tbody>\n",
       "    <tr>\n",
       "      <th>2308</th>\n",
       "      <td>Consulting &amp; Strategy</td>\n",
       "      <td>Brisbane</td>\n",
       "      <td>RACQ</td>\n",
       "      <td>AU</td>\n",
       "      <td>seek</td>\n",
       "      <td>Â  Lead and develop team of Pricing Analysts ...</td>\n",
       "      <td>Manager Pricing</td>\n",
       "      <td>Full Time</td>\n",
       "      <td>2018-04-16T02:48:56Z</td>\n",
       "      <td>NaN</td>\n",
       "      <td>Southern Suburbs &amp; Logan</td>\n",
       "      <td>https://www.seek.com.au/job/35992845</td>\n",
       "    </tr>\n",
       "    <tr>\n",
       "      <th>22404</th>\n",
       "      <td>Trades &amp; Services</td>\n",
       "      <td>Adelaide</td>\n",
       "      <td>Extrastaff</td>\n",
       "      <td>AU</td>\n",
       "      <td>seek</td>\n",
       "      <td>Backed by the Australian Chamber movement,Â E...</td>\n",
       "      <td>Experienced Bakers</td>\n",
       "      <td>Casual/Vacation</td>\n",
       "      <td>2018-04-12T02:23:53Z</td>\n",
       "      <td>NaN</td>\n",
       "      <td>NaN</td>\n",
       "      <td>https://www.seek.com.au/job/35967419</td>\n",
       "    </tr>\n",
       "    <tr>\n",
       "      <th>23397</th>\n",
       "      <td>Accounting</td>\n",
       "      <td>Brisbane</td>\n",
       "      <td>Boeing Defence Australia</td>\n",
       "      <td>AU</td>\n",
       "      <td>seek</td>\n",
       "      <td>Boeing Defence Australia Ltd, a wholly owned ...</td>\n",
       "      <td>Contracts Manager</td>\n",
       "      <td>Full Time</td>\n",
       "      <td>2018-04-12T03:45:02Z</td>\n",
       "      <td>NaN</td>\n",
       "      <td>CBD &amp; Inner Suburbs</td>\n",
       "      <td>https://www.seek.com.au/job/35968503</td>\n",
       "    </tr>\n",
       "    <tr>\n",
       "      <th>25058</th>\n",
       "      <td>Hospitality &amp; Tourism</td>\n",
       "      <td>Gold Coast</td>\n",
       "      <td>Jora Local</td>\n",
       "      <td>AU</td>\n",
       "      <td>seek</td>\n",
       "      <td>A restaurant in Runaway Bay is seeking a casu...</td>\n",
       "      <td>Casual Cook in Runaway Bay</td>\n",
       "      <td>Casual/Vacation</td>\n",
       "      <td>2018-04-12T07:35:02Z</td>\n",
       "      <td>NaN</td>\n",
       "      <td>NaN</td>\n",
       "      <td>https://www.seek.com.au/job/35972652</td>\n",
       "    </tr>\n",
       "    <tr>\n",
       "      <th>2664</th>\n",
       "      <td>Community Services &amp; Development</td>\n",
       "      <td>Adelaide</td>\n",
       "      <td>Advanced Personnel Management</td>\n",
       "      <td>AU</td>\n",
       "      <td>seek</td>\n",
       "      <td>About the Company: APM is an Australian owned...</td>\n",
       "      <td>Employment Consultant - Disability Employment ...</td>\n",
       "      <td>Full Time</td>\n",
       "      <td>2018-04-16T03:48:14Z</td>\n",
       "      <td>Competitive Salary + Performance Incentives</td>\n",
       "      <td>NaN</td>\n",
       "      <td>https://www.seek.com.au/job/35993764</td>\n",
       "    </tr>\n",
       "    <tr>\n",
       "      <th>...</th>\n",
       "      <td>...</td>\n",
       "      <td>...</td>\n",
       "      <td>...</td>\n",
       "      <td>...</td>\n",
       "      <td>...</td>\n",
       "      <td>...</td>\n",
       "      <td>...</td>\n",
       "      <td>...</td>\n",
       "      <td>...</td>\n",
       "      <td>...</td>\n",
       "      <td>...</td>\n",
       "      <td>...</td>\n",
       "    </tr>\n",
       "    <tr>\n",
       "      <th>21481</th>\n",
       "      <td>Banking &amp; Financial Services</td>\n",
       "      <td>Brisbane</td>\n",
       "      <td>Davidson Corporate</td>\n",
       "      <td>AU</td>\n",
       "      <td>seek</td>\n",
       "      <td>About the Company Our client has a track reco...</td>\n",
       "      <td>Desk Assistant</td>\n",
       "      <td>Full Time</td>\n",
       "      <td>2018-04-12T03:31:03Z</td>\n",
       "      <td>NaN</td>\n",
       "      <td>CBD &amp; Inner Suburbs</td>\n",
       "      <td>https://www.seek.com.au/job/35968345</td>\n",
       "    </tr>\n",
       "    <tr>\n",
       "      <th>26178</th>\n",
       "      <td>Information &amp; Communication Technology</td>\n",
       "      <td>Melbourne</td>\n",
       "      <td>Finite IT Recruitment Solutions</td>\n",
       "      <td>AU</td>\n",
       "      <td>seek</td>\n",
       "      <td>Data Centre Support Engineer - 6 month contra...</td>\n",
       "      <td>Data Centre Support Engineer</td>\n",
       "      <td>Contract/Temp</td>\n",
       "      <td>2018-04-12T23:34:30Z</td>\n",
       "      <td>NaN</td>\n",
       "      <td>CBD &amp; Inner Suburbs</td>\n",
       "      <td>https://www.seek.com.au/job/35975087</td>\n",
       "    </tr>\n",
       "    <tr>\n",
       "      <th>27445</th>\n",
       "      <td>Hospitality &amp; Tourism</td>\n",
       "      <td>Newcastle, Maitland &amp; Hunter</td>\n",
       "      <td>Muswellbrook Motors</td>\n",
       "      <td>AU</td>\n",
       "      <td>seek</td>\n",
       "      <td>New business freshly renovated On-Par Steak H...</td>\n",
       "      <td>Chef or 4th Year Apprentice</td>\n",
       "      <td>Full Time</td>\n",
       "      <td>2018-04-12T23:08:02Z</td>\n",
       "      <td>NaN</td>\n",
       "      <td>NaN</td>\n",
       "      <td>https://www.seek.com.au/job/35974716</td>\n",
       "    </tr>\n",
       "    <tr>\n",
       "      <th>1723</th>\n",
       "      <td>Trades &amp; Services</td>\n",
       "      <td>Cairns &amp; Far North</td>\n",
       "      <td>Downer EDI Limited</td>\n",
       "      <td>AU</td>\n",
       "      <td>seek</td>\n",
       "      <td>Downer's construction business has recently b...</td>\n",
       "      <td>Trades and Non Trades - Far North Queensland</td>\n",
       "      <td>Full Time</td>\n",
       "      <td>2018-04-16T01:41:53Z</td>\n",
       "      <td>NaN</td>\n",
       "      <td>NaN</td>\n",
       "      <td>https://www.seek.com.au/job/35991886</td>\n",
       "    </tr>\n",
       "    <tr>\n",
       "      <th>8485</th>\n",
       "      <td>Call Centre &amp; Customer Service</td>\n",
       "      <td>Melbourne</td>\n",
       "      <td>Prism Group</td>\n",
       "      <td>AU</td>\n",
       "      <td>seek</td>\n",
       "      <td>Cash This is a position offeringÂ FULL TIME s...</td>\n",
       "      <td>CUSTOMER SERVICE - $750 - $1300 A WEEK OTE!</td>\n",
       "      <td>Full Time</td>\n",
       "      <td>2018-04-15T07:13:14Z</td>\n",
       "      <td>$40,000 - $59,999</td>\n",
       "      <td>NaN</td>\n",
       "      <td>https://www.seek.com.au/job/35987610</td>\n",
       "    </tr>\n",
       "  </tbody>\n",
       "</table>\n",
       "<p>3000 rows × 12 columns</p>\n",
       "</div>"
      ],
      "text/plain": [
       "                                     category                          city  \\\n",
       "2308                    Consulting & Strategy                      Brisbane   \n",
       "22404                       Trades & Services                      Adelaide   \n",
       "23397                              Accounting                      Brisbane   \n",
       "25058                   Hospitality & Tourism                    Gold Coast   \n",
       "2664         Community Services & Development                      Adelaide   \n",
       "...                                       ...                           ...   \n",
       "21481            Banking & Financial Services                      Brisbane   \n",
       "26178  Information & Communication Technology                     Melbourne   \n",
       "27445                   Hospitality & Tourism  Newcastle, Maitland & Hunter   \n",
       "1723                        Trades & Services            Cairns & Far North   \n",
       "8485           Call Centre & Customer Service                     Melbourne   \n",
       "\n",
       "                          company_name geo job_board  \\\n",
       "2308                              RACQ  AU      seek   \n",
       "22404                       Extrastaff  AU      seek   \n",
       "23397         Boeing Defence Australia  AU      seek   \n",
       "25058                       Jora Local  AU      seek   \n",
       "2664     Advanced Personnel Management  AU      seek   \n",
       "...                                ...  ..       ...   \n",
       "21481               Davidson Corporate  AU      seek   \n",
       "26178  Finite IT Recruitment Solutions  AU      seek   \n",
       "27445              Muswellbrook Motors  AU      seek   \n",
       "1723                Downer EDI Limited  AU      seek   \n",
       "8485                       Prism Group  AU      seek   \n",
       "\n",
       "                                         job_description  \\\n",
       "2308    Â  Lead and develop team of Pricing Analysts ...   \n",
       "22404   Backed by the Australian Chamber movement,Â E...   \n",
       "23397   Boeing Defence Australia Ltd, a wholly owned ...   \n",
       "25058   A restaurant in Runaway Bay is seeking a casu...   \n",
       "2664    About the Company: APM is an Australian owned...   \n",
       "...                                                  ...   \n",
       "21481   About the Company Our client has a track reco...   \n",
       "26178   Data Centre Support Engineer - 6 month contra...   \n",
       "27445   New business freshly renovated On-Par Steak H...   \n",
       "1723    Downer's construction business has recently b...   \n",
       "8485    Cash This is a position offeringÂ FULL TIME s...   \n",
       "\n",
       "                                               job_title         job_type  \\\n",
       "2308                                     Manager Pricing        Full Time   \n",
       "22404                                 Experienced Bakers  Casual/Vacation   \n",
       "23397                                  Contracts Manager        Full Time   \n",
       "25058                         Casual Cook in Runaway Bay  Casual/Vacation   \n",
       "2664   Employment Consultant - Disability Employment ...        Full Time   \n",
       "...                                                  ...              ...   \n",
       "21481                                     Desk Assistant        Full Time   \n",
       "26178                       Data Centre Support Engineer    Contract/Temp   \n",
       "27445                        Chef or 4th Year Apprentice        Full Time   \n",
       "1723        Trades and Non Trades - Far North Queensland        Full Time   \n",
       "8485         CUSTOMER SERVICE - $750 - $1300 A WEEK OTE!        Full Time   \n",
       "\n",
       "                  post_date                               salary_offered  \\\n",
       "2308   2018-04-16T02:48:56Z                                          NaN   \n",
       "22404  2018-04-12T02:23:53Z                                          NaN   \n",
       "23397  2018-04-12T03:45:02Z                                          NaN   \n",
       "25058  2018-04-12T07:35:02Z                                          NaN   \n",
       "2664   2018-04-16T03:48:14Z  Competitive Salary + Performance Incentives   \n",
       "...                     ...                                          ...   \n",
       "21481  2018-04-12T03:31:03Z                                          NaN   \n",
       "26178  2018-04-12T23:34:30Z                                          NaN   \n",
       "27445  2018-04-12T23:08:02Z                                          NaN   \n",
       "1723   2018-04-16T01:41:53Z                                          NaN   \n",
       "8485   2018-04-15T07:13:14Z                            $40,000 - $59,999   \n",
       "\n",
       "                          state                                   url  \n",
       "2308   Southern Suburbs & Logan  https://www.seek.com.au/job/35992845  \n",
       "22404                       NaN  https://www.seek.com.au/job/35967419  \n",
       "23397       CBD & Inner Suburbs  https://www.seek.com.au/job/35968503  \n",
       "25058                       NaN  https://www.seek.com.au/job/35972652  \n",
       "2664                        NaN  https://www.seek.com.au/job/35993764  \n",
       "...                         ...                                   ...  \n",
       "21481       CBD & Inner Suburbs  https://www.seek.com.au/job/35968345  \n",
       "26178       CBD & Inner Suburbs  https://www.seek.com.au/job/35975087  \n",
       "27445                       NaN  https://www.seek.com.au/job/35974716  \n",
       "1723                        NaN  https://www.seek.com.au/job/35991886  \n",
       "8485                        NaN  https://www.seek.com.au/job/35987610  \n",
       "\n",
       "[3000 rows x 12 columns]"
      ]
     },
     "execution_count": 4,
     "metadata": {},
     "output_type": "execute_result"
    }
   ],
   "source": [
    "df = pd.read_csv ('./data/seek_australia.csv')\n",
    "df = df.sample(frac = 0.1, random_state=42)\n",
    "df"
   ]
  },
  {
   "cell_type": "markdown",
   "id": "9b5d2b13",
   "metadata": {},
   "source": [
    "# Data pre-processing"
   ]
  },
  {
   "cell_type": "code",
   "execution_count": 5,
   "id": "07686710",
   "metadata": {},
   "outputs": [],
   "source": [
    "features_to_delete = ['job_board','geo','url', 'city', 'post_date', 'salary_offered', 'state'] # get rid of unnecessary features (maybe add more columns)\n",
    "df = df.drop(features_to_delete, axis=1)"
   ]
  },
  {
   "cell_type": "markdown",
   "id": "80f9fd59",
   "metadata": {},
   "source": [
    "Job description is necessary for all the tasks in this assignment, so it makes sense to drop rows that are missing these values"
   ]
  },
  {
   "cell_type": "code",
   "execution_count": 6,
   "id": "237fa708",
   "metadata": {},
   "outputs": [
    {
     "name": "stdout",
     "output_type": "stream",
     "text": [
      "37\n"
     ]
    }
   ],
   "source": [
    "print(df['job_description'].isna().sum())\n",
    "df.dropna(subset=['job_description'], inplace=True)"
   ]
  },
  {
   "cell_type": "markdown",
   "id": "e430cc0c",
   "metadata": {},
   "source": [
    "Tokenize each row and decode the text"
   ]
  },
  {
   "cell_type": "code",
   "execution_count": 7,
   "id": "f449f487",
   "metadata": {},
   "outputs": [],
   "source": [
    "for i in df[ \"job_description\"].index:\n",
    "    df.loc[i, \"job_description\"] = gensim.utils.simple_preprocess(\n",
    "        ftfy.fix_text(unicodedata.normalize(\"NFKD\",df.loc[i,\"job_description\"])), deacc=True)"
   ]
  },
  {
   "cell_type": "markdown",
   "id": "9a3ca610",
   "metadata": {},
   "source": [
    "### Word2vec"
   ]
  },
  {
   "cell_type": "markdown",
   "id": "8e40fc91",
   "metadata": {},
   "source": [
    "Train a word2vec model on the tokenized data"
   ]
  },
  {
   "cell_type": "code",
   "execution_count": 8,
   "id": "561cc346",
   "metadata": {},
   "outputs": [
    {
     "name": "stdout",
     "output_type": "stream",
     "text": [
      "Time to build vocab: 0.01 mins\n"
     ]
    }
   ],
   "source": [
    "from time import time\n",
    "from gensim.models import Word2Vec\n",
    "\n",
    "cores = 16\n",
    "# Code taken from the tutorial\n",
    "model = Word2Vec(min_count=1,\n",
    "                     window=2,\n",
    "                     vector_size=100,\n",
    "                     sample=6e-5, \n",
    "                     alpha=0.03, \n",
    "                     min_alpha=0.0007, \n",
    "                     negative=20,\n",
    "                     workers=cores-1)\n",
    "\n",
    "t = time()\n",
    "\n",
    "model.build_vocab(df['job_description'], progress_per=10)\n",
    "\n",
    "print('Time to build vocab: {} mins'.format(round((time() - t) / 60, 2)))"
   ]
  },
  {
   "cell_type": "code",
   "execution_count": 17,
   "id": "339e345b",
   "metadata": {},
   "outputs": [
    {
     "name": "stdout",
     "output_type": "stream",
     "text": [
      "Time to train the model: 10.13 mins\n"
     ]
    }
   ],
   "source": [
    "t = time()\n",
    "\n",
    "model.train(df['job_description'], total_examples=model.corpus_count, epochs=1000, report_delay=1)\n",
    "\n",
    "print('Time to train the model: {} mins'.format(round((time() - t) / 60, 2)))"
   ]
  },
  {
   "cell_type": "markdown",
   "id": "59f2f7fb",
   "metadata": {},
   "source": [
    "Define a function that can create an interactive plot with tsne"
   ]
  },
  {
   "cell_type": "code",
   "execution_count": 18,
   "id": "c05ac3e9",
   "metadata": {},
   "outputs": [],
   "source": [
    "from bokeh.plotting import figure, show\n",
    "from bokeh.io import output_notebook\n",
    "from bokeh.models import ColumnDataSource, LabelSet\n",
    "from bokeh.plotting import figure, show\n",
    "from bokeh.io import output_notebook\n",
    "from bokeh.models import ColumnDataSource, LabelSet\n",
    "\n",
    "def interactive_tsne(text_labels, tsne_array):\n",
    "    '''makes an interactive scatter plot with text labels for each point'''\n",
    "\n",
    "    # Define a dataframe to be used by bokeh context\n",
    "    bokeh_df = pd.DataFrame(tsne_array, text_labels, columns=['x','y'])\n",
    "    bokeh_df['text_labels'] = bokeh_df.index\n",
    "\n",
    "    # interactive controls to include to the plot\n",
    "    TOOLS=\"hover, zoom_in, zoom_out, box_zoom, undo, redo, reset, box_select\"\n",
    "\n",
    "    p = figure(tools=TOOLS, plot_width=700, plot_height=700)\n",
    "\n",
    "    # define data source for the plot\n",
    "    source = ColumnDataSource(bokeh_df)\n",
    "\n",
    "    # scatter plot\n",
    "    p.scatter('x', 'y', source=source, fill_alpha=0.6,\n",
    "              fill_color=\"#8724B5\",\n",
    "              line_color=None)\n",
    "\n",
    "    # text labels\n",
    "    labels = LabelSet(x='x', y='y', text='text_labels', y_offset=8,\n",
    "                      text_font_size=\"8pt\", text_color=\"#555555\",\n",
    "                      source=source, text_align='center')\n",
    "\n",
    "    p.add_layout(labels)\n",
    "\n",
    "    # show plot inline\n",
    "    output_notebook()\n",
    "    show(p)"
   ]
  },
  {
   "cell_type": "markdown",
   "id": "6302894f",
   "metadata": {},
   "source": [
    "Visualize the vocabulary using the tsne function previously defined"
   ]
  },
  {
   "cell_type": "code",
   "execution_count": 38,
   "id": "8a859eff",
   "metadata": {},
   "outputs": [
    {
     "name": "stderr",
     "output_type": "stream",
     "text": [
      "/Users/omriram/Desktop/U/Cits4012/cits4012_environment/lib/python3.9/site-packages/sklearn/manifold/_t_sne.py:780: FutureWarning: The default initialization in TSNE will change from 'random' to 'pca' in 1.2.\n",
      "  warnings.warn(\n",
      "/Users/omriram/Desktop/U/Cits4012/cits4012_environment/lib/python3.9/site-packages/sklearn/manifold/_t_sne.py:790: FutureWarning: The default learning rate in TSNE will change from 200.0 to 'auto' in 1.2.\n",
      "  warnings.warn(\n"
     ]
    },
    {
     "data": {
      "text/html": [
       "\n",
       "    <div class=\"bk-root\">\n",
       "        <a href=\"https://bokeh.org\" target=\"_blank\" class=\"bk-logo bk-logo-small bk-logo-notebook\"></a>\n",
       "        <span id=\"3005\">Loading BokehJS ...</span>\n",
       "    </div>"
      ]
     },
     "metadata": {},
     "output_type": "display_data"
    },
    {
     "data": {
      "application/javascript": "\n(function(root) {\n  function now() {\n    return new Date();\n  }\n\n  const force = true;\n\n  if (typeof root._bokeh_onload_callbacks === \"undefined\" || force === true) {\n    root._bokeh_onload_callbacks = [];\n    root._bokeh_is_loading = undefined;\n  }\n\n  const JS_MIME_TYPE = 'application/javascript';\n  const HTML_MIME_TYPE = 'text/html';\n  const EXEC_MIME_TYPE = 'application/vnd.bokehjs_exec.v0+json';\n  const CLASS_NAME = 'output_bokeh rendered_html';\n\n  /**\n   * Render data to the DOM node\n   */\n  function render(props, node) {\n    const script = document.createElement(\"script\");\n    node.appendChild(script);\n  }\n\n  /**\n   * Handle when an output is cleared or removed\n   */\n  function handleClearOutput(event, handle) {\n    const cell = handle.cell;\n\n    const id = cell.output_area._bokeh_element_id;\n    const server_id = cell.output_area._bokeh_server_id;\n    // Clean up Bokeh references\n    if (id != null && id in Bokeh.index) {\n      Bokeh.index[id].model.document.clear();\n      delete Bokeh.index[id];\n    }\n\n    if (server_id !== undefined) {\n      // Clean up Bokeh references\n      const cmd_clean = \"from bokeh.io.state import curstate; print(curstate().uuid_to_server['\" + server_id + \"'].get_sessions()[0].document.roots[0]._id)\";\n      cell.notebook.kernel.execute(cmd_clean, {\n        iopub: {\n          output: function(msg) {\n            const id = msg.content.text.trim();\n            if (id in Bokeh.index) {\n              Bokeh.index[id].model.document.clear();\n              delete Bokeh.index[id];\n            }\n          }\n        }\n      });\n      // Destroy server and session\n      const cmd_destroy = \"import bokeh.io.notebook as ion; ion.destroy_server('\" + server_id + \"')\";\n      cell.notebook.kernel.execute(cmd_destroy);\n    }\n  }\n\n  /**\n   * Handle when a new output is added\n   */\n  function handleAddOutput(event, handle) {\n    const output_area = handle.output_area;\n    const output = handle.output;\n\n    // limit handleAddOutput to display_data with EXEC_MIME_TYPE content only\n    if ((output.output_type != \"display_data\") || (!Object.prototype.hasOwnProperty.call(output.data, EXEC_MIME_TYPE))) {\n      return\n    }\n\n    const toinsert = output_area.element.find(\".\" + CLASS_NAME.split(' ')[0]);\n\n    if (output.metadata[EXEC_MIME_TYPE][\"id\"] !== undefined) {\n      toinsert[toinsert.length - 1].firstChild.textContent = output.data[JS_MIME_TYPE];\n      // store reference to embed id on output_area\n      output_area._bokeh_element_id = output.metadata[EXEC_MIME_TYPE][\"id\"];\n    }\n    if (output.metadata[EXEC_MIME_TYPE][\"server_id\"] !== undefined) {\n      const bk_div = document.createElement(\"div\");\n      bk_div.innerHTML = output.data[HTML_MIME_TYPE];\n      const script_attrs = bk_div.children[0].attributes;\n      for (let i = 0; i < script_attrs.length; i++) {\n        toinsert[toinsert.length - 1].firstChild.setAttribute(script_attrs[i].name, script_attrs[i].value);\n        toinsert[toinsert.length - 1].firstChild.textContent = bk_div.children[0].textContent\n      }\n      // store reference to server id on output_area\n      output_area._bokeh_server_id = output.metadata[EXEC_MIME_TYPE][\"server_id\"];\n    }\n  }\n\n  function register_renderer(events, OutputArea) {\n\n    function append_mime(data, metadata, element) {\n      // create a DOM node to render to\n      const toinsert = this.create_output_subarea(\n        metadata,\n        CLASS_NAME,\n        EXEC_MIME_TYPE\n      );\n      this.keyboard_manager.register_events(toinsert);\n      // Render to node\n      const props = {data: data, metadata: metadata[EXEC_MIME_TYPE]};\n      render(props, toinsert[toinsert.length - 1]);\n      element.append(toinsert);\n      return toinsert\n    }\n\n    /* Handle when an output is cleared or removed */\n    events.on('clear_output.CodeCell', handleClearOutput);\n    events.on('delete.Cell', handleClearOutput);\n\n    /* Handle when a new output is added */\n    events.on('output_added.OutputArea', handleAddOutput);\n\n    /**\n     * Register the mime type and append_mime function with output_area\n     */\n    OutputArea.prototype.register_mime_type(EXEC_MIME_TYPE, append_mime, {\n      /* Is output safe? */\n      safe: true,\n      /* Index of renderer in `output_area.display_order` */\n      index: 0\n    });\n  }\n\n  // register the mime type if in Jupyter Notebook environment and previously unregistered\n  if (root.Jupyter !== undefined) {\n    const events = require('base/js/events');\n    const OutputArea = require('notebook/js/outputarea').OutputArea;\n\n    if (OutputArea.prototype.mime_types().indexOf(EXEC_MIME_TYPE) == -1) {\n      register_renderer(events, OutputArea);\n    }\n  }\n\n  \n  if (typeof (root._bokeh_timeout) === \"undefined\" || force === true) {\n    root._bokeh_timeout = Date.now() + 5000;\n    root._bokeh_failed_load = false;\n  }\n\n  const NB_LOAD_WARNING = {'data': {'text/html':\n     \"<div style='background-color: #fdd'>\\n\"+\n     \"<p>\\n\"+\n     \"BokehJS does not appear to have successfully loaded. If loading BokehJS from CDN, this \\n\"+\n     \"may be due to a slow or bad network connection. Possible fixes:\\n\"+\n     \"</p>\\n\"+\n     \"<ul>\\n\"+\n     \"<li>re-rerun `output_notebook()` to attempt to load from CDN again, or</li>\\n\"+\n     \"<li>use INLINE resources instead, as so:</li>\\n\"+\n     \"</ul>\\n\"+\n     \"<code>\\n\"+\n     \"from bokeh.resources import INLINE\\n\"+\n     \"output_notebook(resources=INLINE)\\n\"+\n     \"</code>\\n\"+\n     \"</div>\"}};\n\n  function display_loaded() {\n    const el = document.getElementById(\"3005\");\n    if (el != null) {\n      el.textContent = \"BokehJS is loading...\";\n    }\n    if (root.Bokeh !== undefined) {\n      if (el != null) {\n        el.textContent = \"BokehJS \" + root.Bokeh.version + \" successfully loaded.\";\n      }\n    } else if (Date.now() < root._bokeh_timeout) {\n      setTimeout(display_loaded, 100)\n    }\n  }\n\n\n  function run_callbacks() {\n    try {\n      root._bokeh_onload_callbacks.forEach(function(callback) {\n        if (callback != null)\n          callback();\n      });\n    } finally {\n      delete root._bokeh_onload_callbacks\n    }\n    console.debug(\"Bokeh: all callbacks have finished\");\n  }\n\n  function load_libs(css_urls, js_urls, callback) {\n    if (css_urls == null) css_urls = [];\n    if (js_urls == null) js_urls = [];\n\n    root._bokeh_onload_callbacks.push(callback);\n    if (root._bokeh_is_loading > 0) {\n      console.debug(\"Bokeh: BokehJS is being loaded, scheduling callback at\", now());\n      return null;\n    }\n    if (js_urls == null || js_urls.length === 0) {\n      run_callbacks();\n      return null;\n    }\n    console.debug(\"Bokeh: BokehJS not loaded, scheduling load and callback at\", now());\n    root._bokeh_is_loading = css_urls.length + js_urls.length;\n\n    function on_load() {\n      root._bokeh_is_loading--;\n      if (root._bokeh_is_loading === 0) {\n        console.debug(\"Bokeh: all BokehJS libraries/stylesheets loaded\");\n        run_callbacks()\n      }\n    }\n\n    function on_error(url) {\n      console.error(\"failed to load \" + url);\n    }\n\n    for (let i = 0; i < css_urls.length; i++) {\n      const url = css_urls[i];\n      const element = document.createElement(\"link\");\n      element.onload = on_load;\n      element.onerror = on_error.bind(null, url);\n      element.rel = \"stylesheet\";\n      element.type = \"text/css\";\n      element.href = url;\n      console.debug(\"Bokeh: injecting link tag for BokehJS stylesheet: \", url);\n      document.body.appendChild(element);\n    }\n\n    for (let i = 0; i < js_urls.length; i++) {\n      const url = js_urls[i];\n      const element = document.createElement('script');\n      element.onload = on_load;\n      element.onerror = on_error.bind(null, url);\n      element.async = false;\n      element.src = url;\n      console.debug(\"Bokeh: injecting script tag for BokehJS library: \", url);\n      document.head.appendChild(element);\n    }\n  };\n\n  function inject_raw_css(css) {\n    const element = document.createElement(\"style\");\n    element.appendChild(document.createTextNode(css));\n    document.body.appendChild(element);\n  }\n\n  \n  const js_urls = [\"https://cdn.bokeh.org/bokeh/release/bokeh-2.4.2.min.js\", \"https://cdn.bokeh.org/bokeh/release/bokeh-gl-2.4.2.min.js\", \"https://cdn.bokeh.org/bokeh/release/bokeh-widgets-2.4.2.min.js\", \"https://cdn.bokeh.org/bokeh/release/bokeh-tables-2.4.2.min.js\", \"https://cdn.bokeh.org/bokeh/release/bokeh-mathjax-2.4.2.min.js\"];\n  const css_urls = [];\n  \n\n  const inline_js = [\n    function(Bokeh) {\n      Bokeh.set_log_level(\"info\");\n    },\n    function(Bokeh) {\n    \n    \n    }\n  ];\n\n  function run_inline_js() {\n    \n    if (root.Bokeh !== undefined || force === true) {\n      \n    for (let i = 0; i < inline_js.length; i++) {\n      inline_js[i].call(root, root.Bokeh);\n    }\n    if (force === true) {\n        display_loaded();\n      }} else if (Date.now() < root._bokeh_timeout) {\n      setTimeout(run_inline_js, 100);\n    } else if (!root._bokeh_failed_load) {\n      console.log(\"Bokeh: BokehJS failed to load within specified timeout.\");\n      root._bokeh_failed_load = true;\n    } else if (force !== true) {\n      const cell = $(document.getElementById(\"3005\")).parents('.cell').data().cell;\n      cell.output_area.append_execute_result(NB_LOAD_WARNING)\n    }\n\n  }\n\n  if (root._bokeh_is_loading === 0) {\n    console.debug(\"Bokeh: BokehJS loaded, going straight to plotting\");\n    run_inline_js();\n  } else {\n    load_libs(css_urls, js_urls, function() {\n      console.debug(\"Bokeh: BokehJS plotting callback run at\", now());\n      run_inline_js();\n    });\n  }\n}(window));",
      "application/vnd.bokehjs_load.v0+json": ""
     },
     "metadata": {},
     "output_type": "display_data"
    },
    {
     "data": {
      "text/html": [
       "\n",
       "\n",
       "\n",
       "\n",
       "\n",
       "\n",
       "  <div class=\"bk-root\" id=\"62db289f-c330-4deb-896c-d9845d438a61\" data-root-id=\"2960\"></div>\n"
      ]
     },
     "metadata": {},
     "output_type": "display_data"
    },
    {
     "data": {
      "application/javascript": "(function(root) {\n  function embed_document(root) {\n    \n  const docs_json = {\"085e29b9-b1be-4aa8-9d68-307d2220484f\":{\"defs\":[],\"roots\":{\"references\":[{\"attributes\":{\"below\":[{\"id\":\"2969\"}],\"center\":[{\"id\":\"2972\"},{\"id\":\"2976\"},{\"id\":\"3003\"}],\"height\":700,\"left\":[{\"id\":\"2973\"}],\"renderers\":[{\"id\":\"3001\"}],\"title\":{\"id\":\"3138\"},\"toolbar\":{\"id\":\"2987\"},\"width\":700,\"x_range\":{\"id\":\"2961\"},\"x_scale\":{\"id\":\"2965\"},\"y_range\":{\"id\":\"2963\"},\"y_scale\":{\"id\":\"2967\"}},\"id\":\"2960\",\"subtype\":\"Figure\",\"type\":\"Plot\"},{\"attributes\":{},\"id\":\"2983\",\"type\":\"ResetTool\"},{\"attributes\":{},\"id\":\"2982\",\"type\":\"RedoTool\"},{\"attributes\":{},\"id\":\"3145\",\"type\":\"AllLabels\"},{\"attributes\":{\"fill_alpha\":{\"value\":0.1},\"fill_color\":{\"value\":\"#8724B5\"},\"hatch_alpha\":{\"value\":0.1},\"line_alpha\":{\"value\":0.1},\"line_color\":{\"value\":null},\"x\":{\"field\":\"x\"},\"y\":{\"field\":\"y\"}},\"id\":\"2999\",\"type\":\"Scatter\"},{\"attributes\":{\"source\":{\"id\":\"2996\"}},\"id\":\"3002\",\"type\":\"CDSView\"},{\"attributes\":{\"fill_alpha\":{\"value\":0.2},\"fill_color\":{\"value\":\"#8724B5\"},\"hatch_alpha\":{\"value\":0.2},\"line_alpha\":{\"value\":0.2},\"line_color\":{\"value\":null},\"x\":{\"field\":\"x\"},\"y\":{\"field\":\"y\"}},\"id\":\"3000\",\"type\":\"Scatter\"},{\"attributes\":{},\"id\":\"2961\",\"type\":\"DataRange1d\"},{\"attributes\":{\"bottom_units\":\"screen\",\"coordinates\":null,\"fill_alpha\":0.5,\"fill_color\":\"lightgrey\",\"group\":null,\"left_units\":\"screen\",\"level\":\"overlay\",\"line_alpha\":1.0,\"line_color\":\"black\",\"line_dash\":[4,4],\"line_width\":2,\"right_units\":\"screen\",\"syncable\":false,\"top_units\":\"screen\"},\"id\":\"2985\",\"type\":\"BoxAnnotation\"},{\"attributes\":{},\"id\":\"3144\",\"type\":\"BasicTickFormatter\"},{\"attributes\":{\"fill_alpha\":{\"value\":0.6},\"fill_color\":{\"value\":\"#8724B5\"},\"line_color\":{\"value\":null},\"x\":{\"field\":\"x\"},\"y\":{\"field\":\"y\"}},\"id\":\"2998\",\"type\":\"Scatter\"},{\"attributes\":{},\"id\":\"3141\",\"type\":\"BasicTickFormatter\"},{\"attributes\":{},\"id\":\"3142\",\"type\":\"AllLabels\"},{\"attributes\":{},\"id\":\"3147\",\"type\":\"Selection\"},{\"attributes\":{\"overlay\":{\"id\":\"2985\"}},\"id\":\"2984\",\"type\":\"BoxSelectTool\"},{\"attributes\":{\"data\":{\"index\":[\"experience\",\"job\",\"salary\",\"exciting\",\"opportunity\",\"skilled\",\"fast\",\"paced\",\"fun\",\"fifo\",\"develop\",\"perth\"],\"text_labels\":[\"experience\",\"job\",\"salary\",\"exciting\",\"opportunity\",\"skilled\",\"fast\",\"paced\",\"fun\",\"fifo\",\"develop\",\"perth\"],\"x\":{\"__ndarray__\":\"2u+pQP5NCEOQYcpCVabVwop2McJPiS9CHTDkQkx078KlEkbCUfANwxrtGkIEHC/B\",\"dtype\":\"float32\",\"order\":\"little\",\"shape\":[12]},\"y\":{\"__ndarray__\":\"tgwrQ1RovkFr+KnCfNcUQ/RDnUKz8pJC2+4HQ4QnkMKQ4BnBiTggQpNqbMH+YtbC\",\"dtype\":\"float32\",\"order\":\"little\",\"shape\":[12]}},\"selected\":{\"id\":\"3147\"},\"selection_policy\":{\"id\":\"3146\"}},\"id\":\"2996\",\"type\":\"ColumnDataSource\"},{\"attributes\":{},\"id\":\"2965\",\"type\":\"LinearScale\"},{\"attributes\":{\"axis\":{\"id\":\"2969\"},\"coordinates\":null,\"group\":null,\"ticker\":null},\"id\":\"2972\",\"type\":\"Grid\"},{\"attributes\":{},\"id\":\"3146\",\"type\":\"UnionRenderers\"},{\"attributes\":{},\"id\":\"2970\",\"type\":\"BasicTicker\"},{\"attributes\":{\"coordinates\":null,\"data_source\":{\"id\":\"2996\"},\"glyph\":{\"id\":\"2998\"},\"group\":null,\"hover_glyph\":null,\"muted_glyph\":{\"id\":\"3000\"},\"nonselection_glyph\":{\"id\":\"2999\"},\"view\":{\"id\":\"3002\"}},\"id\":\"3001\",\"type\":\"GlyphRenderer\"},{\"attributes\":{\"coordinates\":null,\"formatter\":{\"id\":\"3141\"},\"group\":null,\"major_label_policy\":{\"id\":\"3142\"},\"ticker\":{\"id\":\"2974\"}},\"id\":\"2973\",\"type\":\"LinearAxis\"},{\"attributes\":{\"overlay\":{\"id\":\"2986\"}},\"id\":\"2980\",\"type\":\"BoxZoomTool\"},{\"attributes\":{},\"id\":\"2967\",\"type\":\"LinearScale\"},{\"attributes\":{},\"id\":\"2979\",\"type\":\"ZoomOutTool\"},{\"attributes\":{\"coordinates\":null,\"formatter\":{\"id\":\"3144\"},\"group\":null,\"major_label_policy\":{\"id\":\"3145\"},\"ticker\":{\"id\":\"2970\"}},\"id\":\"2969\",\"type\":\"LinearAxis\"},{\"attributes\":{\"callback\":null},\"id\":\"2977\",\"type\":\"HoverTool\"},{\"attributes\":{\"coordinates\":null,\"group\":null},\"id\":\"3138\",\"type\":\"Title\"},{\"attributes\":{},\"id\":\"2978\",\"type\":\"ZoomInTool\"},{\"attributes\":{\"coordinates\":null,\"group\":null,\"source\":{\"id\":\"2996\"},\"text\":{\"field\":\"text_labels\"},\"text_align\":{\"value\":\"center\"},\"text_color\":{\"value\":\"#555555\"},\"text_font_size\":{\"value\":\"8pt\"},\"x\":{\"field\":\"x\"},\"y\":{\"field\":\"y\"},\"y_offset\":{\"value\":8}},\"id\":\"3003\",\"type\":\"LabelSet\"},{\"attributes\":{},\"id\":\"2963\",\"type\":\"DataRange1d\"},{\"attributes\":{},\"id\":\"2981\",\"type\":\"UndoTool\"},{\"attributes\":{\"bottom_units\":\"screen\",\"coordinates\":null,\"fill_alpha\":0.5,\"fill_color\":\"lightgrey\",\"group\":null,\"left_units\":\"screen\",\"level\":\"overlay\",\"line_alpha\":1.0,\"line_color\":\"black\",\"line_dash\":[4,4],\"line_width\":2,\"right_units\":\"screen\",\"syncable\":false,\"top_units\":\"screen\"},\"id\":\"2986\",\"type\":\"BoxAnnotation\"},{\"attributes\":{\"tools\":[{\"id\":\"2977\"},{\"id\":\"2978\"},{\"id\":\"2979\"},{\"id\":\"2980\"},{\"id\":\"2981\"},{\"id\":\"2982\"},{\"id\":\"2983\"},{\"id\":\"2984\"}]},\"id\":\"2987\",\"type\":\"Toolbar\"},{\"attributes\":{},\"id\":\"2974\",\"type\":\"BasicTicker\"},{\"attributes\":{\"axis\":{\"id\":\"2973\"},\"coordinates\":null,\"dimension\":1,\"group\":null,\"ticker\":null},\"id\":\"2976\",\"type\":\"Grid\"}],\"root_ids\":[\"2960\"]},\"title\":\"Bokeh Application\",\"version\":\"2.4.2\"}};\n  const render_items = [{\"docid\":\"085e29b9-b1be-4aa8-9d68-307d2220484f\",\"root_ids\":[\"2960\"],\"roots\":{\"2960\":\"62db289f-c330-4deb-896c-d9845d438a61\"}}];\n  root.Bokeh.embed.embed_items_notebook(docs_json, render_items);\n\n  }\n  if (root.Bokeh !== undefined) {\n    embed_document(root);\n  } else {\n    let attempts = 0;\n    const timer = setInterval(function(root) {\n      if (root.Bokeh !== undefined) {\n        clearInterval(timer);\n        embed_document(root);\n      } else {\n        attempts++;\n        if (attempts > 100) {\n          clearInterval(timer);\n          console.log(\"Bokeh: ERROR: Unable to run BokehJS code because BokehJS library is missing\");\n        }\n      }\n    }, 10, root)\n  }\n})(window);",
      "application/vnd.bokehjs_exec.v0+json": ""
     },
     "metadata": {
      "application/vnd.bokehjs_exec.v0+json": {
       "id": "2960"
      }
     },
     "output_type": "display_data"
    }
   ],
   "source": [
    "from nltk.corpus import stopwords\n",
    "stopwords = stopwords.words('english')\n",
    "\n",
    "dictionary = Dictionary()\n",
    "BoW_corpus = dictionary.from_documents(df['job_description'])\n",
    "\n",
    "vocab = ['experience', 'job', 'salary', 'exciting', 'opportunity', 'skilled', 'fast', 'paced', 'fun', 'fifo', 'develop', 'perth']\n",
    "\n",
    "input_vocab =  [word for word in vocab if word in model.wv.key_to_index.keys() and word not in stopwords]\n",
    "points = len(input_vocab)\n",
    "X = model.wv[input_vocab]\n",
    "tsne = TSNE(n_components=2, random_state=0)\n",
    "X_tsne = tsne.fit_transform(X[:points])\n",
    "interactive_tsne(list(input_vocab)[:points], X_tsne)"
   ]
  },
  {
   "cell_type": "code",
   "execution_count": 44,
   "id": "578c4cc0",
   "metadata": {},
   "outputs": [
    {
     "name": "stdout",
     "output_type": "stream",
     "text": [
      "Loaded vocab size 400000\n",
      "The loaded object is of type <class 'gensim.models.keyedvectors.KeyedVectors'>\n"
     ]
    }
   ],
   "source": [
    "def load_embedding_model():\n",
    "    \"\"\" Load GloVe Vectors\n",
    "        Return:\n",
    "            wv_from_bin: All 400000 embeddings, each lengh 200\n",
    "    \"\"\"\n",
    "    import gensim.downloader as api\n",
    "    wv_pretrained = api.load(\"glove-wiki-gigaword-200\")\n",
    "    print(\"Loaded vocab size %i\" % len(wv_pretrained))\n",
    "    print(\"The loaded object is of type %s\" % str(type(wv_pretrained)))\n",
    "    return wv_pretrained\n",
    "pretrained_wv = load_embedding_model()"
   ]
  },
  {
   "cell_type": "code",
   "execution_count": 45,
   "id": "b509dd88",
   "metadata": {},
   "outputs": [
    {
     "name": "stderr",
     "output_type": "stream",
     "text": [
      "/Users/omriram/Desktop/U/Cits4012/cits4012_environment/lib/python3.9/site-packages/sklearn/manifold/_t_sne.py:780: FutureWarning: The default initialization in TSNE will change from 'random' to 'pca' in 1.2.\n",
      "  warnings.warn(\n",
      "/Users/omriram/Desktop/U/Cits4012/cits4012_environment/lib/python3.9/site-packages/sklearn/manifold/_t_sne.py:790: FutureWarning: The default learning rate in TSNE will change from 200.0 to 'auto' in 1.2.\n",
      "  warnings.warn(\n"
     ]
    },
    {
     "data": {
      "text/html": [
       "\n",
       "    <div class=\"bk-root\">\n",
       "        <a href=\"https://bokeh.org\" target=\"_blank\" class=\"bk-logo bk-logo-small bk-logo-notebook\"></a>\n",
       "        <span id=\"3255\">Loading BokehJS ...</span>\n",
       "    </div>"
      ]
     },
     "metadata": {},
     "output_type": "display_data"
    },
    {
     "data": {
      "application/javascript": "\n(function(root) {\n  function now() {\n    return new Date();\n  }\n\n  const force = true;\n\n  if (typeof root._bokeh_onload_callbacks === \"undefined\" || force === true) {\n    root._bokeh_onload_callbacks = [];\n    root._bokeh_is_loading = undefined;\n  }\n\n  const JS_MIME_TYPE = 'application/javascript';\n  const HTML_MIME_TYPE = 'text/html';\n  const EXEC_MIME_TYPE = 'application/vnd.bokehjs_exec.v0+json';\n  const CLASS_NAME = 'output_bokeh rendered_html';\n\n  /**\n   * Render data to the DOM node\n   */\n  function render(props, node) {\n    const script = document.createElement(\"script\");\n    node.appendChild(script);\n  }\n\n  /**\n   * Handle when an output is cleared or removed\n   */\n  function handleClearOutput(event, handle) {\n    const cell = handle.cell;\n\n    const id = cell.output_area._bokeh_element_id;\n    const server_id = cell.output_area._bokeh_server_id;\n    // Clean up Bokeh references\n    if (id != null && id in Bokeh.index) {\n      Bokeh.index[id].model.document.clear();\n      delete Bokeh.index[id];\n    }\n\n    if (server_id !== undefined) {\n      // Clean up Bokeh references\n      const cmd_clean = \"from bokeh.io.state import curstate; print(curstate().uuid_to_server['\" + server_id + \"'].get_sessions()[0].document.roots[0]._id)\";\n      cell.notebook.kernel.execute(cmd_clean, {\n        iopub: {\n          output: function(msg) {\n            const id = msg.content.text.trim();\n            if (id in Bokeh.index) {\n              Bokeh.index[id].model.document.clear();\n              delete Bokeh.index[id];\n            }\n          }\n        }\n      });\n      // Destroy server and session\n      const cmd_destroy = \"import bokeh.io.notebook as ion; ion.destroy_server('\" + server_id + \"')\";\n      cell.notebook.kernel.execute(cmd_destroy);\n    }\n  }\n\n  /**\n   * Handle when a new output is added\n   */\n  function handleAddOutput(event, handle) {\n    const output_area = handle.output_area;\n    const output = handle.output;\n\n    // limit handleAddOutput to display_data with EXEC_MIME_TYPE content only\n    if ((output.output_type != \"display_data\") || (!Object.prototype.hasOwnProperty.call(output.data, EXEC_MIME_TYPE))) {\n      return\n    }\n\n    const toinsert = output_area.element.find(\".\" + CLASS_NAME.split(' ')[0]);\n\n    if (output.metadata[EXEC_MIME_TYPE][\"id\"] !== undefined) {\n      toinsert[toinsert.length - 1].firstChild.textContent = output.data[JS_MIME_TYPE];\n      // store reference to embed id on output_area\n      output_area._bokeh_element_id = output.metadata[EXEC_MIME_TYPE][\"id\"];\n    }\n    if (output.metadata[EXEC_MIME_TYPE][\"server_id\"] !== undefined) {\n      const bk_div = document.createElement(\"div\");\n      bk_div.innerHTML = output.data[HTML_MIME_TYPE];\n      const script_attrs = bk_div.children[0].attributes;\n      for (let i = 0; i < script_attrs.length; i++) {\n        toinsert[toinsert.length - 1].firstChild.setAttribute(script_attrs[i].name, script_attrs[i].value);\n        toinsert[toinsert.length - 1].firstChild.textContent = bk_div.children[0].textContent\n      }\n      // store reference to server id on output_area\n      output_area._bokeh_server_id = output.metadata[EXEC_MIME_TYPE][\"server_id\"];\n    }\n  }\n\n  function register_renderer(events, OutputArea) {\n\n    function append_mime(data, metadata, element) {\n      // create a DOM node to render to\n      const toinsert = this.create_output_subarea(\n        metadata,\n        CLASS_NAME,\n        EXEC_MIME_TYPE\n      );\n      this.keyboard_manager.register_events(toinsert);\n      // Render to node\n      const props = {data: data, metadata: metadata[EXEC_MIME_TYPE]};\n      render(props, toinsert[toinsert.length - 1]);\n      element.append(toinsert);\n      return toinsert\n    }\n\n    /* Handle when an output is cleared or removed */\n    events.on('clear_output.CodeCell', handleClearOutput);\n    events.on('delete.Cell', handleClearOutput);\n\n    /* Handle when a new output is added */\n    events.on('output_added.OutputArea', handleAddOutput);\n\n    /**\n     * Register the mime type and append_mime function with output_area\n     */\n    OutputArea.prototype.register_mime_type(EXEC_MIME_TYPE, append_mime, {\n      /* Is output safe? */\n      safe: true,\n      /* Index of renderer in `output_area.display_order` */\n      index: 0\n    });\n  }\n\n  // register the mime type if in Jupyter Notebook environment and previously unregistered\n  if (root.Jupyter !== undefined) {\n    const events = require('base/js/events');\n    const OutputArea = require('notebook/js/outputarea').OutputArea;\n\n    if (OutputArea.prototype.mime_types().indexOf(EXEC_MIME_TYPE) == -1) {\n      register_renderer(events, OutputArea);\n    }\n  }\n\n  \n  if (typeof (root._bokeh_timeout) === \"undefined\" || force === true) {\n    root._bokeh_timeout = Date.now() + 5000;\n    root._bokeh_failed_load = false;\n  }\n\n  const NB_LOAD_WARNING = {'data': {'text/html':\n     \"<div style='background-color: #fdd'>\\n\"+\n     \"<p>\\n\"+\n     \"BokehJS does not appear to have successfully loaded. If loading BokehJS from CDN, this \\n\"+\n     \"may be due to a slow or bad network connection. Possible fixes:\\n\"+\n     \"</p>\\n\"+\n     \"<ul>\\n\"+\n     \"<li>re-rerun `output_notebook()` to attempt to load from CDN again, or</li>\\n\"+\n     \"<li>use INLINE resources instead, as so:</li>\\n\"+\n     \"</ul>\\n\"+\n     \"<code>\\n\"+\n     \"from bokeh.resources import INLINE\\n\"+\n     \"output_notebook(resources=INLINE)\\n\"+\n     \"</code>\\n\"+\n     \"</div>\"}};\n\n  function display_loaded() {\n    const el = document.getElementById(\"3255\");\n    if (el != null) {\n      el.textContent = \"BokehJS is loading...\";\n    }\n    if (root.Bokeh !== undefined) {\n      if (el != null) {\n        el.textContent = \"BokehJS \" + root.Bokeh.version + \" successfully loaded.\";\n      }\n    } else if (Date.now() < root._bokeh_timeout) {\n      setTimeout(display_loaded, 100)\n    }\n  }\n\n\n  function run_callbacks() {\n    try {\n      root._bokeh_onload_callbacks.forEach(function(callback) {\n        if (callback != null)\n          callback();\n      });\n    } finally {\n      delete root._bokeh_onload_callbacks\n    }\n    console.debug(\"Bokeh: all callbacks have finished\");\n  }\n\n  function load_libs(css_urls, js_urls, callback) {\n    if (css_urls == null) css_urls = [];\n    if (js_urls == null) js_urls = [];\n\n    root._bokeh_onload_callbacks.push(callback);\n    if (root._bokeh_is_loading > 0) {\n      console.debug(\"Bokeh: BokehJS is being loaded, scheduling callback at\", now());\n      return null;\n    }\n    if (js_urls == null || js_urls.length === 0) {\n      run_callbacks();\n      return null;\n    }\n    console.debug(\"Bokeh: BokehJS not loaded, scheduling load and callback at\", now());\n    root._bokeh_is_loading = css_urls.length + js_urls.length;\n\n    function on_load() {\n      root._bokeh_is_loading--;\n      if (root._bokeh_is_loading === 0) {\n        console.debug(\"Bokeh: all BokehJS libraries/stylesheets loaded\");\n        run_callbacks()\n      }\n    }\n\n    function on_error(url) {\n      console.error(\"failed to load \" + url);\n    }\n\n    for (let i = 0; i < css_urls.length; i++) {\n      const url = css_urls[i];\n      const element = document.createElement(\"link\");\n      element.onload = on_load;\n      element.onerror = on_error.bind(null, url);\n      element.rel = \"stylesheet\";\n      element.type = \"text/css\";\n      element.href = url;\n      console.debug(\"Bokeh: injecting link tag for BokehJS stylesheet: \", url);\n      document.body.appendChild(element);\n    }\n\n    for (let i = 0; i < js_urls.length; i++) {\n      const url = js_urls[i];\n      const element = document.createElement('script');\n      element.onload = on_load;\n      element.onerror = on_error.bind(null, url);\n      element.async = false;\n      element.src = url;\n      console.debug(\"Bokeh: injecting script tag for BokehJS library: \", url);\n      document.head.appendChild(element);\n    }\n  };\n\n  function inject_raw_css(css) {\n    const element = document.createElement(\"style\");\n    element.appendChild(document.createTextNode(css));\n    document.body.appendChild(element);\n  }\n\n  \n  const js_urls = [\"https://cdn.bokeh.org/bokeh/release/bokeh-2.4.2.min.js\", \"https://cdn.bokeh.org/bokeh/release/bokeh-gl-2.4.2.min.js\", \"https://cdn.bokeh.org/bokeh/release/bokeh-widgets-2.4.2.min.js\", \"https://cdn.bokeh.org/bokeh/release/bokeh-tables-2.4.2.min.js\", \"https://cdn.bokeh.org/bokeh/release/bokeh-mathjax-2.4.2.min.js\"];\n  const css_urls = [];\n  \n\n  const inline_js = [\n    function(Bokeh) {\n      Bokeh.set_log_level(\"info\");\n    },\n    function(Bokeh) {\n    \n    \n    }\n  ];\n\n  function run_inline_js() {\n    \n    if (root.Bokeh !== undefined || force === true) {\n      \n    for (let i = 0; i < inline_js.length; i++) {\n      inline_js[i].call(root, root.Bokeh);\n    }\n    if (force === true) {\n        display_loaded();\n      }} else if (Date.now() < root._bokeh_timeout) {\n      setTimeout(run_inline_js, 100);\n    } else if (!root._bokeh_failed_load) {\n      console.log(\"Bokeh: BokehJS failed to load within specified timeout.\");\n      root._bokeh_failed_load = true;\n    } else if (force !== true) {\n      const cell = $(document.getElementById(\"3255\")).parents('.cell').data().cell;\n      cell.output_area.append_execute_result(NB_LOAD_WARNING)\n    }\n\n  }\n\n  if (root._bokeh_is_loading === 0) {\n    console.debug(\"Bokeh: BokehJS loaded, going straight to plotting\");\n    run_inline_js();\n  } else {\n    load_libs(css_urls, js_urls, function() {\n      console.debug(\"Bokeh: BokehJS plotting callback run at\", now());\n      run_inline_js();\n    });\n  }\n}(window));",
      "application/vnd.bokehjs_load.v0+json": ""
     },
     "metadata": {},
     "output_type": "display_data"
    },
    {
     "data": {
      "text/html": [
       "\n",
       "\n",
       "\n",
       "\n",
       "\n",
       "\n",
       "  <div class=\"bk-root\" id=\"d0576d32-7b52-4f21-a2ad-6999ce334e2b\" data-root-id=\"3210\"></div>\n"
      ]
     },
     "metadata": {},
     "output_type": "display_data"
    },
    {
     "data": {
      "application/javascript": "(function(root) {\n  function embed_document(root) {\n    \n  const docs_json = {\"c4724d1a-66db-4566-bb7c-fd187cf3df98\":{\"defs\":[],\"roots\":{\"references\":[{\"attributes\":{\"below\":[{\"id\":\"3219\"}],\"center\":[{\"id\":\"3222\"},{\"id\":\"3226\"},{\"id\":\"3253\"}],\"height\":700,\"left\":[{\"id\":\"3223\"}],\"renderers\":[{\"id\":\"3251\"}],\"title\":{\"id\":\"3400\"},\"toolbar\":{\"id\":\"3237\"},\"width\":700,\"x_range\":{\"id\":\"3211\"},\"x_scale\":{\"id\":\"3215\"},\"y_range\":{\"id\":\"3213\"},\"y_scale\":{\"id\":\"3217\"}},\"id\":\"3210\",\"subtype\":\"Figure\",\"type\":\"Plot\"},{\"attributes\":{},\"id\":\"3407\",\"type\":\"AllLabels\"},{\"attributes\":{\"overlay\":{\"id\":\"3236\"}},\"id\":\"3230\",\"type\":\"BoxZoomTool\"},{\"attributes\":{},\"id\":\"3408\",\"type\":\"UnionRenderers\"},{\"attributes\":{},\"id\":\"3217\",\"type\":\"LinearScale\"},{\"attributes\":{\"axis\":{\"id\":\"3223\"},\"coordinates\":null,\"dimension\":1,\"group\":null,\"ticker\":null},\"id\":\"3226\",\"type\":\"Grid\"},{\"attributes\":{},\"id\":\"3409\",\"type\":\"Selection\"},{\"attributes\":{\"callback\":null},\"id\":\"3227\",\"type\":\"HoverTool\"},{\"attributes\":{\"coordinates\":null,\"formatter\":{\"id\":\"3403\"},\"group\":null,\"major_label_policy\":{\"id\":\"3404\"},\"ticker\":{\"id\":\"3224\"}},\"id\":\"3223\",\"type\":\"LinearAxis\"},{\"attributes\":{\"axis\":{\"id\":\"3219\"},\"coordinates\":null,\"group\":null,\"ticker\":null},\"id\":\"3222\",\"type\":\"Grid\"},{\"attributes\":{},\"id\":\"3404\",\"type\":\"AllLabels\"},{\"attributes\":{},\"id\":\"3229\",\"type\":\"ZoomOutTool\"},{\"attributes\":{\"data\":{\"index\":[\"experience\",\"job\",\"salary\",\"exciting\",\"opportunity\",\"skilled\",\"fast\",\"paced\",\"fun\",\"fifo\",\"develop\",\"perth\"],\"text_labels\":[\"experience\",\"job\",\"salary\",\"exciting\",\"opportunity\",\"skilled\",\"fast\",\"paced\",\"fun\",\"fifo\",\"develop\",\"perth\"],\"x\":{\"__ndarray__\":\"2u+pQP5NCEOQYcpCVabVwop2McJPiS9CHTDkQkx078KlEkbCUfANwxrtGkIEHC/B\",\"dtype\":\"float32\",\"order\":\"little\",\"shape\":[12]},\"y\":{\"__ndarray__\":\"tgwrQ1RovkFr+KnCfNcUQ/RDnUKz8pJC2+4HQ4QnkMKQ4BnBiTggQpNqbMH+YtbC\",\"dtype\":\"float32\",\"order\":\"little\",\"shape\":[12]}},\"selected\":{\"id\":\"3409\"},\"selection_policy\":{\"id\":\"3408\"}},\"id\":\"3246\",\"type\":\"ColumnDataSource\"},{\"attributes\":{},\"id\":\"3228\",\"type\":\"ZoomInTool\"},{\"attributes\":{\"coordinates\":null,\"group\":null},\"id\":\"3400\",\"type\":\"Title\"},{\"attributes\":{},\"id\":\"3224\",\"type\":\"BasicTicker\"},{\"attributes\":{\"overlay\":{\"id\":\"3235\"}},\"id\":\"3234\",\"type\":\"BoxSelectTool\"},{\"attributes\":{\"coordinates\":null,\"data_source\":{\"id\":\"3246\"},\"glyph\":{\"id\":\"3248\"},\"group\":null,\"hover_glyph\":null,\"muted_glyph\":{\"id\":\"3250\"},\"nonselection_glyph\":{\"id\":\"3249\"},\"view\":{\"id\":\"3252\"}},\"id\":\"3251\",\"type\":\"GlyphRenderer\"},{\"attributes\":{\"bottom_units\":\"screen\",\"coordinates\":null,\"fill_alpha\":0.5,\"fill_color\":\"lightgrey\",\"group\":null,\"left_units\":\"screen\",\"level\":\"overlay\",\"line_alpha\":1.0,\"line_color\":\"black\",\"line_dash\":[4,4],\"line_width\":2,\"right_units\":\"screen\",\"syncable\":false,\"top_units\":\"screen\"},\"id\":\"3235\",\"type\":\"BoxAnnotation\"},{\"attributes\":{\"tools\":[{\"id\":\"3227\"},{\"id\":\"3228\"},{\"id\":\"3229\"},{\"id\":\"3230\"},{\"id\":\"3231\"},{\"id\":\"3232\"},{\"id\":\"3233\"},{\"id\":\"3234\"}]},\"id\":\"3237\",\"type\":\"Toolbar\"},{\"attributes\":{},\"id\":\"3403\",\"type\":\"BasicTickFormatter\"},{\"attributes\":{},\"id\":\"3211\",\"type\":\"DataRange1d\"},{\"attributes\":{},\"id\":\"3215\",\"type\":\"LinearScale\"},{\"attributes\":{\"bottom_units\":\"screen\",\"coordinates\":null,\"fill_alpha\":0.5,\"fill_color\":\"lightgrey\",\"group\":null,\"left_units\":\"screen\",\"level\":\"overlay\",\"line_alpha\":1.0,\"line_color\":\"black\",\"line_dash\":[4,4],\"line_width\":2,\"right_units\":\"screen\",\"syncable\":false,\"top_units\":\"screen\"},\"id\":\"3236\",\"type\":\"BoxAnnotation\"},{\"attributes\":{\"coordinates\":null,\"formatter\":{\"id\":\"3406\"},\"group\":null,\"major_label_policy\":{\"id\":\"3407\"},\"ticker\":{\"id\":\"3220\"}},\"id\":\"3219\",\"type\":\"LinearAxis\"},{\"attributes\":{},\"id\":\"3233\",\"type\":\"ResetTool\"},{\"attributes\":{\"fill_alpha\":{\"value\":0.1},\"fill_color\":{\"value\":\"#8724B5\"},\"hatch_alpha\":{\"value\":0.1},\"line_alpha\":{\"value\":0.1},\"line_color\":{\"value\":null},\"x\":{\"field\":\"x\"},\"y\":{\"field\":\"y\"}},\"id\":\"3249\",\"type\":\"Scatter\"},{\"attributes\":{\"source\":{\"id\":\"3246\"}},\"id\":\"3252\",\"type\":\"CDSView\"},{\"attributes\":{},\"id\":\"3231\",\"type\":\"UndoTool\"},{\"attributes\":{},\"id\":\"3406\",\"type\":\"BasicTickFormatter\"},{\"attributes\":{},\"id\":\"3232\",\"type\":\"RedoTool\"},{\"attributes\":{\"fill_alpha\":{\"value\":0.6},\"fill_color\":{\"value\":\"#8724B5\"},\"line_color\":{\"value\":null},\"x\":{\"field\":\"x\"},\"y\":{\"field\":\"y\"}},\"id\":\"3248\",\"type\":\"Scatter\"},{\"attributes\":{\"fill_alpha\":{\"value\":0.2},\"fill_color\":{\"value\":\"#8724B5\"},\"hatch_alpha\":{\"value\":0.2},\"line_alpha\":{\"value\":0.2},\"line_color\":{\"value\":null},\"x\":{\"field\":\"x\"},\"y\":{\"field\":\"y\"}},\"id\":\"3250\",\"type\":\"Scatter\"},{\"attributes\":{},\"id\":\"3213\",\"type\":\"DataRange1d\"},{\"attributes\":{\"coordinates\":null,\"group\":null,\"source\":{\"id\":\"3246\"},\"text\":{\"field\":\"text_labels\"},\"text_align\":{\"value\":\"center\"},\"text_color\":{\"value\":\"#555555\"},\"text_font_size\":{\"value\":\"8pt\"},\"x\":{\"field\":\"x\"},\"y\":{\"field\":\"y\"},\"y_offset\":{\"value\":8}},\"id\":\"3253\",\"type\":\"LabelSet\"},{\"attributes\":{},\"id\":\"3220\",\"type\":\"BasicTicker\"}],\"root_ids\":[\"3210\"]},\"title\":\"Bokeh Application\",\"version\":\"2.4.2\"}};\n  const render_items = [{\"docid\":\"c4724d1a-66db-4566-bb7c-fd187cf3df98\",\"root_ids\":[\"3210\"],\"roots\":{\"3210\":\"d0576d32-7b52-4f21-a2ad-6999ce334e2b\"}}];\n  root.Bokeh.embed.embed_items_notebook(docs_json, render_items);\n\n  }\n  if (root.Bokeh !== undefined) {\n    embed_document(root);\n  } else {\n    let attempts = 0;\n    const timer = setInterval(function(root) {\n      if (root.Bokeh !== undefined) {\n        clearInterval(timer);\n        embed_document(root);\n      } else {\n        attempts++;\n        if (attempts > 100) {\n          clearInterval(timer);\n          console.log(\"Bokeh: ERROR: Unable to run BokehJS code because BokehJS library is missing\");\n        }\n      }\n    }, 10, root)\n  }\n})(window);",
      "application/vnd.bokehjs_exec.v0+json": ""
     },
     "metadata": {
      "application/vnd.bokehjs_exec.v0+json": {
       "id": "3210"
      }
     },
     "output_type": "display_data"
    }
   ],
   "source": [
    "X = pretrained_wv[input_vocab]\n",
    "tsne = TSNE(n_components=2, random_state=0)\n",
    "X_tsne = tsne.fit_transform(X[:points])\n",
    "interactive_tsne(list(input_vocab)[:points], X_tsne)"
   ]
  },
  {
   "cell_type": "code",
   "execution_count": 60,
   "id": "e2abe4fd",
   "metadata": {},
   "outputs": [],
   "source": [
    "def display_closestwords_tsnescatterplot(model, word, vec_length):\n",
    "    \n",
    "    arr = np.empty((0,vec_length), dtype='f')\n",
    "    word_labels = [word]\n",
    "\n",
    "    # get close words\n",
    "    close_words = model.similar_by_word(word)\n",
    "    \n",
    "    # add the vector for each of the closest words to the array\n",
    "    arr = np.append(arr, np.array([model[word]]), axis=0)\n",
    "    for wrd_score in close_words:\n",
    "        wrd_vector = model[wrd_score[0]]\n",
    "        word_labels.append(wrd_score[0])\n",
    "        arr = np.append(arr, np.array([wrd_vector]), axis=0)\n",
    "        \n",
    "    # find tsne coords for 2 dimensions\n",
    "    tsne = TSNE(n_components=2, random_state=0)\n",
    "    np.set_printoptions(suppress=True)\n",
    "    Y = tsne.fit_transform(arr)\n",
    "\n",
    "    x_coords = Y[:, 0]\n",
    "    y_coords = Y[:, 1]\n",
    "    # display scatter plot\n",
    "    plt.scatter(x_coords, y_coords)\n",
    "\n",
    "    for label, x, y in zip(word_labels, x_coords, y_coords):\n",
    "        plt.annotate(label, xy=(x, y), xytext=(0, 0), textcoords='offset points')\n",
    "    plt.xlim(x_coords.min()+0.00005, x_coords.max()+0.00005)\n",
    "    plt.ylim(y_coords.min()+0.00005, y_coords.max()+0.00005)\n",
    "    plt.title(f'Words closest to: {word}')\n",
    "    plt.show()"
   ]
  },
  {
   "cell_type": "code",
   "execution_count": 48,
   "id": "39e32e51",
   "metadata": {},
   "outputs": [
    {
     "name": "stdout",
     "output_type": "stream",
     "text": [
      "[==========================------------------------] 52.5% 873.3/1662.8MB downloaded"
     ]
    },
    {
     "ename": "KeyboardInterrupt",
     "evalue": "",
     "output_type": "error",
     "traceback": [
      "\u001b[0;31m---------------------------------------------------------------------------\u001b[0m",
      "\u001b[0;31mKeyboardInterrupt\u001b[0m                         Traceback (most recent call last)",
      "\u001b[1;32m/Users/omriram/Desktop/U/cits4012/cits4012_project2/data_preprocessing.ipynb Cell 20'\u001b[0m in \u001b[0;36m<cell line: 2>\u001b[0;34m()\u001b[0m\n\u001b[1;32m      <a href='vscode-notebook-cell:/Users/omriram/Desktop/U/cits4012/cits4012_project2/data_preprocessing.ipynb#ch0000044?line=0'>1</a>\u001b[0m \u001b[39mimport\u001b[39;00m \u001b[39mgensim\u001b[39;00m\u001b[39m.\u001b[39;00m\u001b[39mdownloader\u001b[39;00m \u001b[39mas\u001b[39;00m \u001b[39mapi\u001b[39;00m\n\u001b[0;32m----> <a href='vscode-notebook-cell:/Users/omriram/Desktop/U/cits4012/cits4012_project2/data_preprocessing.ipynb#ch0000044?line=1'>2</a>\u001b[0m wv \u001b[39m=\u001b[39m api\u001b[39m.\u001b[39;49mload(\u001b[39m'\u001b[39;49m\u001b[39mword2vec-google-news-300\u001b[39;49m\u001b[39m'\u001b[39;49m)\n",
      "File \u001b[0;32m~/Desktop/U/Cits4012/cits4012_environment/lib/python3.9/site-packages/gensim/downloader.py:496\u001b[0m, in \u001b[0;36mload\u001b[0;34m(name, return_path)\u001b[0m\n\u001b[1;32m    <a href='file:///Users/omriram/Desktop/U/Cits4012/cits4012_environment/lib/python3.9/site-packages/gensim/downloader.py?line=493'>494</a>\u001b[0m path \u001b[39m=\u001b[39m os\u001b[39m.\u001b[39mpath\u001b[39m.\u001b[39mjoin(folder_dir, file_name)\n\u001b[1;32m    <a href='file:///Users/omriram/Desktop/U/Cits4012/cits4012_environment/lib/python3.9/site-packages/gensim/downloader.py?line=494'>495</a>\u001b[0m \u001b[39mif\u001b[39;00m \u001b[39mnot\u001b[39;00m os\u001b[39m.\u001b[39mpath\u001b[39m.\u001b[39mexists(folder_dir):\n\u001b[0;32m--> <a href='file:///Users/omriram/Desktop/U/Cits4012/cits4012_environment/lib/python3.9/site-packages/gensim/downloader.py?line=495'>496</a>\u001b[0m     _download(name)\n\u001b[1;32m    <a href='file:///Users/omriram/Desktop/U/Cits4012/cits4012_environment/lib/python3.9/site-packages/gensim/downloader.py?line=497'>498</a>\u001b[0m \u001b[39mif\u001b[39;00m return_path:\n\u001b[1;32m    <a href='file:///Users/omriram/Desktop/U/Cits4012/cits4012_environment/lib/python3.9/site-packages/gensim/downloader.py?line=498'>499</a>\u001b[0m     \u001b[39mreturn\u001b[39;00m path\n",
      "File \u001b[0;32m~/Desktop/U/Cits4012/cits4012_environment/lib/python3.9/site-packages/gensim/downloader.py:396\u001b[0m, in \u001b[0;36m_download\u001b[0;34m(name)\u001b[0m\n\u001b[1;32m    <a href='file:///Users/omriram/Desktop/U/Cits4012/cits4012_environment/lib/python3.9/site-packages/gensim/downloader.py?line=393'>394</a>\u001b[0m fname \u001b[39m=\u001b[39m \u001b[39m\"\u001b[39m\u001b[39m{fname}\u001b[39;00m\u001b[39m.gz\u001b[39m\u001b[39m\"\u001b[39m\u001b[39m.\u001b[39mformat(fname\u001b[39m=\u001b[39mname)\n\u001b[1;32m    <a href='file:///Users/omriram/Desktop/U/Cits4012/cits4012_environment/lib/python3.9/site-packages/gensim/downloader.py?line=394'>395</a>\u001b[0m dst_path \u001b[39m=\u001b[39m os\u001b[39m.\u001b[39mpath\u001b[39m.\u001b[39mjoin(tmp_dir, fname)\n\u001b[0;32m--> <a href='file:///Users/omriram/Desktop/U/Cits4012/cits4012_environment/lib/python3.9/site-packages/gensim/downloader.py?line=395'>396</a>\u001b[0m urllib\u001b[39m.\u001b[39;49murlretrieve(url_data, dst_path, reporthook\u001b[39m=\u001b[39;49m_progress)\n\u001b[1;32m    <a href='file:///Users/omriram/Desktop/U/Cits4012/cits4012_environment/lib/python3.9/site-packages/gensim/downloader.py?line=396'>397</a>\u001b[0m \u001b[39mif\u001b[39;00m _calculate_md5_checksum(dst_path) \u001b[39m==\u001b[39m _get_checksum(name):\n\u001b[1;32m    <a href='file:///Users/omriram/Desktop/U/Cits4012/cits4012_environment/lib/python3.9/site-packages/gensim/downloader.py?line=397'>398</a>\u001b[0m     sys\u001b[39m.\u001b[39mstdout\u001b[39m.\u001b[39mwrite(\u001b[39m\"\u001b[39m\u001b[39m\\n\u001b[39;00m\u001b[39m\"\u001b[39m)\n",
      "File \u001b[0;32m~/Desktop/U/Cits4012/cits4012_environment/lib/python3.9/urllib/request.py:275\u001b[0m, in \u001b[0;36murlretrieve\u001b[0;34m(url, filename, reporthook, data)\u001b[0m\n\u001b[1;32m    <a href='file:///Users/omriram/Desktop/U/Cits4012/cits4012_environment/lib/python3.9/urllib/request.py?line=272'>273</a>\u001b[0m             blocknum \u001b[39m+\u001b[39m\u001b[39m=\u001b[39m \u001b[39m1\u001b[39m\n\u001b[1;32m    <a href='file:///Users/omriram/Desktop/U/Cits4012/cits4012_environment/lib/python3.9/urllib/request.py?line=273'>274</a>\u001b[0m             \u001b[39mif\u001b[39;00m reporthook:\n\u001b[0;32m--> <a href='file:///Users/omriram/Desktop/U/Cits4012/cits4012_environment/lib/python3.9/urllib/request.py?line=274'>275</a>\u001b[0m                 reporthook(blocknum, bs, size)\n\u001b[1;32m    <a href='file:///Users/omriram/Desktop/U/Cits4012/cits4012_environment/lib/python3.9/urllib/request.py?line=276'>277</a>\u001b[0m \u001b[39mif\u001b[39;00m size \u001b[39m>\u001b[39m\u001b[39m=\u001b[39m \u001b[39m0\u001b[39m \u001b[39mand\u001b[39;00m read \u001b[39m<\u001b[39m size:\n\u001b[1;32m    <a href='file:///Users/omriram/Desktop/U/Cits4012/cits4012_environment/lib/python3.9/urllib/request.py?line=277'>278</a>\u001b[0m     \u001b[39mraise\u001b[39;00m ContentTooShortError(\n\u001b[1;32m    <a href='file:///Users/omriram/Desktop/U/Cits4012/cits4012_environment/lib/python3.9/urllib/request.py?line=278'>279</a>\u001b[0m         \u001b[39m\"\u001b[39m\u001b[39mretrieval incomplete: got only \u001b[39m\u001b[39m%i\u001b[39;00m\u001b[39m out of \u001b[39m\u001b[39m%i\u001b[39;00m\u001b[39m bytes\u001b[39m\u001b[39m\"\u001b[39m\n\u001b[1;32m    <a href='file:///Users/omriram/Desktop/U/Cits4012/cits4012_environment/lib/python3.9/urllib/request.py?line=279'>280</a>\u001b[0m         \u001b[39m%\u001b[39m (read, size), result)\n",
      "File \u001b[0;32m~/Desktop/U/Cits4012/cits4012_environment/lib/python3.9/site-packages/gensim/downloader.py:129\u001b[0m, in \u001b[0;36m_progress\u001b[0;34m(chunks_downloaded, chunk_size, total_size, part, total_parts)\u001b[0m\n\u001b[1;32m    <a href='file:///Users/omriram/Desktop/U/Cits4012/cits4012_environment/lib/python3.9/site-packages/gensim/downloader.py?line=121'>122</a>\u001b[0m \u001b[39mif\u001b[39;00m total_parts \u001b[39m==\u001b[39m \u001b[39m1\u001b[39m:\n\u001b[1;32m    <a href='file:///Users/omriram/Desktop/U/Cits4012/cits4012_environment/lib/python3.9/site-packages/gensim/downloader.py?line=122'>123</a>\u001b[0m     sys\u001b[39m.\u001b[39mstdout\u001b[39m.\u001b[39mwrite(\n\u001b[1;32m    <a href='file:///Users/omriram/Desktop/U/Cits4012/cits4012_environment/lib/python3.9/site-packages/gensim/downloader.py?line=123'>124</a>\u001b[0m         \u001b[39m'\u001b[39m\u001b[39m\\r\u001b[39;00m\u001b[39m[\u001b[39m\u001b[39m%s\u001b[39;00m\u001b[39m] \u001b[39m\u001b[39m%s\u001b[39;00m\u001b[39m%s\u001b[39;00m\u001b[39m \u001b[39m\u001b[39m%s\u001b[39;00m\u001b[39m/\u001b[39m\u001b[39m%s\u001b[39;00m\u001b[39mMB downloaded\u001b[39m\u001b[39m'\u001b[39m \u001b[39m%\u001b[39m (\n\u001b[1;32m    <a href='file:///Users/omriram/Desktop/U/Cits4012/cits4012_environment/lib/python3.9/site-packages/gensim/downloader.py?line=124'>125</a>\u001b[0m             bar, percent_downloaded, \u001b[39m\"\u001b[39m\u001b[39m%\u001b[39m\u001b[39m\"\u001b[39m,\n\u001b[1;32m    <a href='file:///Users/omriram/Desktop/U/Cits4012/cits4012_environment/lib/python3.9/site-packages/gensim/downloader.py?line=125'>126</a>\u001b[0m             \u001b[39mround\u001b[39m(size_downloaded \u001b[39m/\u001b[39m (\u001b[39m1024\u001b[39m \u001b[39m*\u001b[39m \u001b[39m1024\u001b[39m), \u001b[39m1\u001b[39m),\n\u001b[1;32m    <a href='file:///Users/omriram/Desktop/U/Cits4012/cits4012_environment/lib/python3.9/site-packages/gensim/downloader.py?line=126'>127</a>\u001b[0m             \u001b[39mround\u001b[39m(\u001b[39mfloat\u001b[39m(total_size) \u001b[39m/\u001b[39m (\u001b[39m1024\u001b[39m \u001b[39m*\u001b[39m \u001b[39m1024\u001b[39m), \u001b[39m1\u001b[39m))\n\u001b[1;32m    <a href='file:///Users/omriram/Desktop/U/Cits4012/cits4012_environment/lib/python3.9/site-packages/gensim/downloader.py?line=127'>128</a>\u001b[0m     )\n\u001b[0;32m--> <a href='file:///Users/omriram/Desktop/U/Cits4012/cits4012_environment/lib/python3.9/site-packages/gensim/downloader.py?line=128'>129</a>\u001b[0m     sys\u001b[39m.\u001b[39;49mstdout\u001b[39m.\u001b[39;49mflush()\n\u001b[1;32m    <a href='file:///Users/omriram/Desktop/U/Cits4012/cits4012_environment/lib/python3.9/site-packages/gensim/downloader.py?line=129'>130</a>\u001b[0m \u001b[39melse\u001b[39;00m:\n\u001b[1;32m    <a href='file:///Users/omriram/Desktop/U/Cits4012/cits4012_environment/lib/python3.9/site-packages/gensim/downloader.py?line=130'>131</a>\u001b[0m     sys\u001b[39m.\u001b[39mstdout\u001b[39m.\u001b[39mwrite(\n\u001b[1;32m    <a href='file:///Users/omriram/Desktop/U/Cits4012/cits4012_environment/lib/python3.9/site-packages/gensim/downloader.py?line=131'>132</a>\u001b[0m         \u001b[39m'\u001b[39m\u001b[39m\\r\u001b[39;00m\u001b[39m Part \u001b[39m\u001b[39m%s\u001b[39;00m\u001b[39m/\u001b[39m\u001b[39m%s\u001b[39;00m\u001b[39m [\u001b[39m\u001b[39m%s\u001b[39;00m\u001b[39m] \u001b[39m\u001b[39m%s\u001b[39;00m\u001b[39m%s\u001b[39;00m\u001b[39m \u001b[39m\u001b[39m%s\u001b[39;00m\u001b[39m/\u001b[39m\u001b[39m%s\u001b[39;00m\u001b[39mMB downloaded\u001b[39m\u001b[39m'\u001b[39m \u001b[39m%\u001b[39m (\n\u001b[1;32m    <a href='file:///Users/omriram/Desktop/U/Cits4012/cits4012_environment/lib/python3.9/site-packages/gensim/downloader.py?line=132'>133</a>\u001b[0m             part \u001b[39m+\u001b[39m \u001b[39m1\u001b[39m, total_parts, bar, percent_downloaded, \u001b[39m\"\u001b[39m\u001b[39m%\u001b[39m\u001b[39m\"\u001b[39m,\n\u001b[1;32m    <a href='file:///Users/omriram/Desktop/U/Cits4012/cits4012_environment/lib/python3.9/site-packages/gensim/downloader.py?line=133'>134</a>\u001b[0m             \u001b[39mround\u001b[39m(size_downloaded \u001b[39m/\u001b[39m (\u001b[39m1024\u001b[39m \u001b[39m*\u001b[39m \u001b[39m1024\u001b[39m), \u001b[39m1\u001b[39m),\n\u001b[1;32m    <a href='file:///Users/omriram/Desktop/U/Cits4012/cits4012_environment/lib/python3.9/site-packages/gensim/downloader.py?line=134'>135</a>\u001b[0m             \u001b[39mround\u001b[39m(\u001b[39mfloat\u001b[39m(total_size) \u001b[39m/\u001b[39m (\u001b[39m1024\u001b[39m \u001b[39m*\u001b[39m \u001b[39m1024\u001b[39m), \u001b[39m1\u001b[39m))\n\u001b[1;32m    <a href='file:///Users/omriram/Desktop/U/Cits4012/cits4012_environment/lib/python3.9/site-packages/gensim/downloader.py?line=135'>136</a>\u001b[0m     )\n",
      "File \u001b[0;32m~/Desktop/U/Cits4012/cits4012_environment/lib/python3.9/site-packages/ipykernel/iostream.py:466\u001b[0m, in \u001b[0;36mOutStream.flush\u001b[0;34m(self)\u001b[0m\n\u001b[1;32m    <a href='file:///Users/omriram/Desktop/U/Cits4012/cits4012_environment/lib/python3.9/site-packages/ipykernel/iostream.py?line=463'>464</a>\u001b[0m \u001b[39mif\u001b[39;00m \u001b[39mnot\u001b[39;00m import_lock_held():\n\u001b[1;32m    <a href='file:///Users/omriram/Desktop/U/Cits4012/cits4012_environment/lib/python3.9/site-packages/ipykernel/iostream.py?line=464'>465</a>\u001b[0m     evt \u001b[39m=\u001b[39m threading\u001b[39m.\u001b[39mEvent()\n\u001b[0;32m--> <a href='file:///Users/omriram/Desktop/U/Cits4012/cits4012_environment/lib/python3.9/site-packages/ipykernel/iostream.py?line=465'>466</a>\u001b[0m     \u001b[39mself\u001b[39;49m\u001b[39m.\u001b[39;49mpub_thread\u001b[39m.\u001b[39;49mschedule(evt\u001b[39m.\u001b[39;49mset)\n\u001b[1;32m    <a href='file:///Users/omriram/Desktop/U/Cits4012/cits4012_environment/lib/python3.9/site-packages/ipykernel/iostream.py?line=466'>467</a>\u001b[0m     \u001b[39m# and give a timeout to avoid\u001b[39;00m\n\u001b[1;32m    <a href='file:///Users/omriram/Desktop/U/Cits4012/cits4012_environment/lib/python3.9/site-packages/ipykernel/iostream.py?line=467'>468</a>\u001b[0m     \u001b[39mif\u001b[39;00m \u001b[39mnot\u001b[39;00m evt\u001b[39m.\u001b[39mwait(\u001b[39mself\u001b[39m\u001b[39m.\u001b[39mflush_timeout):\n\u001b[1;32m    <a href='file:///Users/omriram/Desktop/U/Cits4012/cits4012_environment/lib/python3.9/site-packages/ipykernel/iostream.py?line=468'>469</a>\u001b[0m         \u001b[39m# write directly to __stderr__ instead of warning because\u001b[39;00m\n\u001b[1;32m    <a href='file:///Users/omriram/Desktop/U/Cits4012/cits4012_environment/lib/python3.9/site-packages/ipykernel/iostream.py?line=469'>470</a>\u001b[0m         \u001b[39m# if this is happening sys.stderr may be the problem.\u001b[39;00m\n",
      "File \u001b[0;32m~/Desktop/U/Cits4012/cits4012_environment/lib/python3.9/site-packages/ipykernel/iostream.py:216\u001b[0m, in \u001b[0;36mIOPubThread.schedule\u001b[0;34m(self, f)\u001b[0m\n\u001b[1;32m    <a href='file:///Users/omriram/Desktop/U/Cits4012/cits4012_environment/lib/python3.9/site-packages/ipykernel/iostream.py?line=213'>214</a>\u001b[0m     \u001b[39mself\u001b[39m\u001b[39m.\u001b[39m_events\u001b[39m.\u001b[39mappend(f)\n\u001b[1;32m    <a href='file:///Users/omriram/Desktop/U/Cits4012/cits4012_environment/lib/python3.9/site-packages/ipykernel/iostream.py?line=214'>215</a>\u001b[0m     \u001b[39m# wake event thread (message content is ignored)\u001b[39;00m\n\u001b[0;32m--> <a href='file:///Users/omriram/Desktop/U/Cits4012/cits4012_environment/lib/python3.9/site-packages/ipykernel/iostream.py?line=215'>216</a>\u001b[0m     \u001b[39mself\u001b[39;49m\u001b[39m.\u001b[39;49m_event_pipe\u001b[39m.\u001b[39;49msend(\u001b[39mb\u001b[39;49m\u001b[39m'\u001b[39;49m\u001b[39m'\u001b[39;49m)\n\u001b[1;32m    <a href='file:///Users/omriram/Desktop/U/Cits4012/cits4012_environment/lib/python3.9/site-packages/ipykernel/iostream.py?line=216'>217</a>\u001b[0m \u001b[39melse\u001b[39;00m:\n\u001b[1;32m    <a href='file:///Users/omriram/Desktop/U/Cits4012/cits4012_environment/lib/python3.9/site-packages/ipykernel/iostream.py?line=217'>218</a>\u001b[0m     f()\n",
      "File \u001b[0;32m~/Desktop/U/Cits4012/cits4012_environment/lib/python3.9/site-packages/zmq/sugar/socket.py:547\u001b[0m, in \u001b[0;36mSocket.send\u001b[0;34m(self, data, flags, copy, track, routing_id, group)\u001b[0m\n\u001b[1;32m    <a href='file:///Users/omriram/Desktop/U/Cits4012/cits4012_environment/lib/python3.9/site-packages/zmq/sugar/socket.py?line=539'>540</a>\u001b[0m         data \u001b[39m=\u001b[39m zmq\u001b[39m.\u001b[39mFrame(\n\u001b[1;32m    <a href='file:///Users/omriram/Desktop/U/Cits4012/cits4012_environment/lib/python3.9/site-packages/zmq/sugar/socket.py?line=540'>541</a>\u001b[0m             data,\n\u001b[1;32m    <a href='file:///Users/omriram/Desktop/U/Cits4012/cits4012_environment/lib/python3.9/site-packages/zmq/sugar/socket.py?line=541'>542</a>\u001b[0m             track\u001b[39m=\u001b[39mtrack,\n\u001b[1;32m    <a href='file:///Users/omriram/Desktop/U/Cits4012/cits4012_environment/lib/python3.9/site-packages/zmq/sugar/socket.py?line=542'>543</a>\u001b[0m             copy\u001b[39m=\u001b[39mcopy \u001b[39mor\u001b[39;00m \u001b[39mNone\u001b[39;00m,\n\u001b[1;32m    <a href='file:///Users/omriram/Desktop/U/Cits4012/cits4012_environment/lib/python3.9/site-packages/zmq/sugar/socket.py?line=543'>544</a>\u001b[0m             copy_threshold\u001b[39m=\u001b[39m\u001b[39mself\u001b[39m\u001b[39m.\u001b[39mcopy_threshold,\n\u001b[1;32m    <a href='file:///Users/omriram/Desktop/U/Cits4012/cits4012_environment/lib/python3.9/site-packages/zmq/sugar/socket.py?line=544'>545</a>\u001b[0m         )\n\u001b[1;32m    <a href='file:///Users/omriram/Desktop/U/Cits4012/cits4012_environment/lib/python3.9/site-packages/zmq/sugar/socket.py?line=545'>546</a>\u001b[0m     data\u001b[39m.\u001b[39mgroup \u001b[39m=\u001b[39m group\n\u001b[0;32m--> <a href='file:///Users/omriram/Desktop/U/Cits4012/cits4012_environment/lib/python3.9/site-packages/zmq/sugar/socket.py?line=546'>547</a>\u001b[0m \u001b[39mreturn\u001b[39;00m \u001b[39msuper\u001b[39;49m(Socket, \u001b[39mself\u001b[39;49m)\u001b[39m.\u001b[39;49msend(data, flags\u001b[39m=\u001b[39;49mflags, copy\u001b[39m=\u001b[39;49mcopy, track\u001b[39m=\u001b[39;49mtrack)\n",
      "File \u001b[0;32mzmq/backend/cython/socket.pyx:718\u001b[0m, in \u001b[0;36mzmq.backend.cython.socket.Socket.send\u001b[0;34m()\u001b[0m\n",
      "File \u001b[0;32mzmq/backend/cython/socket.pyx:765\u001b[0m, in \u001b[0;36mzmq.backend.cython.socket.Socket.send\u001b[0;34m()\u001b[0m\n",
      "File \u001b[0;32mzmq/backend/cython/socket.pyx:242\u001b[0m, in \u001b[0;36mzmq.backend.cython.socket._send_copy\u001b[0;34m()\u001b[0m\n",
      "File \u001b[0;32m~/Desktop/U/Cits4012/cits4012_environment/lib/python3.9/site-packages/zmq/backend/cython/checkrc.pxd:13\u001b[0m, in \u001b[0;36mzmq.backend.cython.checkrc._check_rc\u001b[0;34m()\u001b[0m\n",
      "\u001b[0;31mKeyboardInterrupt\u001b[0m: "
     ]
    }
   ],
   "source": [
    "import gensim.downloader as api\n",
    "wv = api.load('word2vec-google-news-300')"
   ]
  },
  {
   "cell_type": "code",
   "execution_count": 61,
   "id": "ebd8d7c4",
   "metadata": {},
   "outputs": [
    {
     "name": "stderr",
     "output_type": "stream",
     "text": [
      "/Users/omriram/Desktop/U/Cits4012/cits4012_environment/lib/python3.9/site-packages/sklearn/manifold/_t_sne.py:780: FutureWarning: The default initialization in TSNE will change from 'random' to 'pca' in 1.2.\n",
      "  warnings.warn(\n",
      "/Users/omriram/Desktop/U/Cits4012/cits4012_environment/lib/python3.9/site-packages/sklearn/manifold/_t_sne.py:790: FutureWarning: The default learning rate in TSNE will change from 200.0 to 'auto' in 1.2.\n",
      "  warnings.warn(\n"
     ]
    },
    {
     "data": {
      "image/png": "[encoded data removed]",
      "text/plain": [
       "<Figure size 432x288 with 1 Axes>"
      ]
     },
     "metadata": {
      "needs_background": "light"
     },
     "output_type": "display_data"
    }
   ],
   "source": [
    "display_closestwords_tsnescatterplot(model.wv, 'fifo', 100)"
   ]
  },
  {
   "cell_type": "code",
   "execution_count": 62,
   "id": "a2f1858d",
   "metadata": {},
   "outputs": [
    {
     "name": "stderr",
     "output_type": "stream",
     "text": [
      "/Users/omriram/Desktop/U/Cits4012/cits4012_environment/lib/python3.9/site-packages/sklearn/manifold/_t_sne.py:780: FutureWarning: The default initialization in TSNE will change from 'random' to 'pca' in 1.2.\n",
      "  warnings.warn(\n",
      "/Users/omriram/Desktop/U/Cits4012/cits4012_environment/lib/python3.9/site-packages/sklearn/manifold/_t_sne.py:790: FutureWarning: The default learning rate in TSNE will change from 200.0 to 'auto' in 1.2.\n",
      "  warnings.warn(\n"
     ]
    },
    {
     "data": {
      "image/png": "[encoded data removed]",
      "text/plain": [
       "<Figure size 432x288 with 1 Axes>"
      ]
     },
     "metadata": {
      "needs_background": "light"
     },
     "output_type": "display_data"
    }
   ],
   "source": [
    "display_closestwords_tsnescatterplot(pretrained_wv, 'fifo', 200)"
   ]
  },
  {
   "cell_type": "markdown",
   "id": "12fa966b",
   "metadata": {},
   "source": [
    "### Finding the top 10 words by tfidf score in each document and treating each category as its own corpus"
   ]
  },
  {
   "cell_type": "markdown",
   "id": "c3e32dd4",
   "metadata": {},
   "source": [
    "Create_tfidf function creates a dataframe with each row representing a document with corresponding tfidf scores and the columns showing the full corpus vocabulary. Thus the tfidf score for each word in each document can be looked up."
   ]
  },
  {
   "cell_type": "code",
   "execution_count": 13,
   "id": "8024e60f",
   "metadata": {},
   "outputs": [],
   "source": [
    "from sklearn.feature_extraction.text import TfidfVectorizer\n",
    "# Allows passing tokens to the vectorizer\n",
    "def dummy_fun(doc):\n",
    "    return doc\n",
    "\n",
    "def create_tfidf_df(tokens):  \n",
    "    tfidf = TfidfVectorizer(\n",
    "    analyzer='word',\n",
    "    tokenizer=dummy_fun,\n",
    "    preprocessor=dummy_fun,\n",
    "    token_pattern=None) \n",
    "\n",
    "    tdf = tfidf.fit_transform(tokens)\n",
    "    bow = pd.DataFrame(tdf.toarray(), columns = tfidf.get_feature_names_out())\n",
    "\n",
    "    return bow"
   ]
  },
  {
   "cell_type": "markdown",
   "id": "ea528389",
   "metadata": {},
   "source": [
    "Top x tfidf accepts a list of tokenized documents and removes all words that do not have the top x tfidf scores"
   ]
  },
  {
   "cell_type": "markdown",
   "id": "6c79debb",
   "metadata": {},
   "source": [
    "Removes all words that do not have the top 10 tfidf scores. Treats each category as its own corpus"
   ]
  },
  {
   "cell_type": "code",
   "execution_count": 14,
   "id": "b7a3c345",
   "metadata": {},
   "outputs": [],
   "source": [
    "df['short_description'] = [None for i in range(len(df))]\n",
    "def top_x_tfidf(df, x):\n",
    "    for category in df.category.unique():\n",
    "        tfidf_df = create_tfidf_df(df[df.category == category]['job_description'])\n",
    "        for i, (idx_row) in enumerate(df[df.category == category].iterrows()):\n",
    "            idx, row = idx_row\n",
    "            desc = row['job_description']\n",
    "            words = set(desc)        \n",
    "            if len(words) < x: \n",
    "                df.loc[idx]['short_description'] = desc\n",
    "                continue\n",
    "\n",
    "            # Create a dictionary of words and their tfidf values and then sort them in descending order\n",
    "            tfidf_words = {word: tfidf_df.iloc[i][word] for word in words}\n",
    "            tfidf_words = {k: v for k, v in sorted(tfidf_words.items(), key=lambda item: -item[1])}\n",
    "\n",
    "            for word in desc:\n",
    "                if word not in list(tfidf_words.keys())[:x]: # Remove all words who are not in the top ten tfidf scores\n",
    "                    desc = list(filter(lambda x: x != word, desc))\n",
    "            df.loc[idx]['short_description'] = desc\n",
    "    return df['short_description']\n"
   ]
  },
  {
   "cell_type": "code",
   "execution_count": null,
   "id": "8731f423",
   "metadata": {},
   "outputs": [],
   "source": [
    "top_x_tfidf(df, 10)"
   ]
  },
  {
   "cell_type": "markdown",
   "id": "0e5e3048",
   "metadata": {},
   "source": [
    "Split the dataframe into training, testing and validation"
   ]
  },
  {
   "cell_type": "code",
   "execution_count": 1,
   "id": "5053122f",
   "metadata": {},
   "outputs": [
    {
     "ename": "NameError",
     "evalue": "name 'df' is not defined",
     "output_type": "error",
     "traceback": [
      "\u001b[0;31m---------------------------------------------------------------------------\u001b[0m",
      "\u001b[0;31mNameError\u001b[0m                                 Traceback (most recent call last)",
      "\u001b[1;32m/Users/omriram/Desktop/U/cits4012/cits4012_project2/data_preprocessing.ipynb Cell 26'\u001b[0m in \u001b[0;36m<cell line: 1>\u001b[0;34m()\u001b[0m\n\u001b[0;32m----> <a href='vscode-notebook-cell:/Users/omriram/Desktop/U/cits4012/cits4012_project2/data_preprocessing.ipynb#ch0000035?line=0'>1</a>\u001b[0m df\n",
      "\u001b[0;31mNameError\u001b[0m: name 'df' is not defined"
     ]
    }
   ],
   "source": [
    "df"
   ]
  },
  {
   "cell_type": "code",
   "execution_count": null,
   "id": "ccb29901",
   "metadata": {},
   "outputs": [],
   "source": [
    "train, test_val = train_test_split(df, test_size=0.3)\n",
    "\n",
    "test, val = train_test_split(test_val, test_size = float(1/3))"
   ]
  },
  {
   "cell_type": "markdown",
   "id": "c3504360",
   "metadata": {},
   "source": [
    "# Task 1"
   ]
  },
  {
   "cell_type": "markdown",
   "id": "6a8805ea",
   "metadata": {},
   "source": [
    "Derive target variable"
   ]
  },
  {
   "cell_type": "code",
   "execution_count": null,
   "id": "cea8cb7d",
   "metadata": {},
   "outputs": [],
   "source": [
    "df['job_type_target'] = df['job_type']"
   ]
  },
  {
   "cell_type": "code",
   "execution_count": null,
   "id": "ab6844c3",
   "metadata": {},
   "outputs": [],
   "source": [
    "df.loc[df['job_type_target'] != 'Full Time', 'job_type_target'] = 'Other'"
   ]
  },
  {
   "cell_type": "markdown",
   "id": "3f574dac",
   "metadata": {},
   "source": [
    "Analyse class distribution"
   ]
  },
  {
   "cell_type": "code",
   "execution_count": null,
   "id": "d25c60fb",
   "metadata": {},
   "outputs": [],
   "source": [
    "df['job_type_target'].hist()"
   ]
  },
  {
   "cell_type": "code",
   "execution_count": null,
   "id": "aa01ed50",
   "metadata": {},
   "outputs": [],
   "source": [
    "# Class 'Full Time' is twice as large as 'Other'. Verify based on literature if such a distribution is too\n",
    "# imbalanced for this learning task "
   ]
  },
  {
   "cell_type": "markdown",
   "id": "2ba58b9f",
   "metadata": {},
   "source": [
    "# Task 2"
   ]
  },
  {
   "cell_type": "code",
   "execution_count": null,
   "id": "c4543322",
   "metadata": {},
   "outputs": [],
   "source": []
  }
 ],
 "metadata": {
  "kernelspec": {
   "display_name": "Python 3.9.10",
   "language": "python",
   "name": "python3"
  },
  "language_info": {
   "codemirror_mode": {
    "name": "ipython",
    "version": 3
   },
   "file_extension": ".py",
   "mimetype": "text/x-python",
   "name": "python",
   "nbconvert_exporter": "python",
   "pygments_lexer": "ipython3",
   "version": "3.9.10"
  },
  "vscode": {
   "interpreter": {
    "hash": "3931f8ce93702ec92af21f632a7247673a82decd980a4ceb2171679cfa65979b"
   }
  }
 },
 "nbformat": 4,
 "nbformat_minor": 5
}
