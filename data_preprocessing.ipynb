{
 "cells": [
  {
   "cell_type": "code",
   "execution_count": 1,
   "id": "fb912ee8",
   "metadata": {},
   "outputs": [],
   "source": [
    "import pandas as pd\n",
    "import unicodedata\n",
    "import ftfy\n",
    "import gensim\n",
    "from sklearn.model_selection import train_test_split\n",
    "from sklearn.manifold import TSNE\n",
    "import numpy as np\n",
    "import matplotlib.pyplot as plt"
   ]
  },
  {
   "cell_type": "code",
   "execution_count": 2,
   "id": "7aa03ab6",
   "metadata": {},
   "outputs": [
    {
     "data": {
      "text/html": [
       "<div>\n",
       "<style scoped>\n",
       "    .dataframe tbody tr th:only-of-type {\n",
       "        vertical-align: middle;\n",
       "    }\n",
       "\n",
       "    .dataframe tbody tr th {\n",
       "        vertical-align: top;\n",
       "    }\n",
       "\n",
       "    .dataframe thead th {\n",
       "        text-align: right;\n",
       "    }\n",
       "</style>\n",
       "<table border=\"1\" class=\"dataframe\">\n",
       "  <thead>\n",
       "    <tr style=\"text-align: right;\">\n",
       "      <th></th>\n",
       "      <th>category</th>\n",
       "      <th>city</th>\n",
       "      <th>company_name</th>\n",
       "      <th>geo</th>\n",
       "      <th>job_board</th>\n",
       "      <th>job_description</th>\n",
       "      <th>job_title</th>\n",
       "      <th>job_type</th>\n",
       "      <th>post_date</th>\n",
       "      <th>salary_offered</th>\n",
       "      <th>state</th>\n",
       "      <th>url</th>\n",
       "    </tr>\n",
       "  </thead>\n",
       "  <tbody>\n",
       "    <tr>\n",
       "      <th>2308</th>\n",
       "      <td>Consulting &amp; Strategy</td>\n",
       "      <td>Brisbane</td>\n",
       "      <td>RACQ</td>\n",
       "      <td>AU</td>\n",
       "      <td>seek</td>\n",
       "      <td>Â  Lead and develop team of Pricing Analysts ...</td>\n",
       "      <td>Manager Pricing</td>\n",
       "      <td>Full Time</td>\n",
       "      <td>2018-04-16T02:48:56Z</td>\n",
       "      <td>NaN</td>\n",
       "      <td>Southern Suburbs &amp; Logan</td>\n",
       "      <td>https://www.seek.com.au/job/35992845</td>\n",
       "    </tr>\n",
       "    <tr>\n",
       "      <th>22404</th>\n",
       "      <td>Trades &amp; Services</td>\n",
       "      <td>Adelaide</td>\n",
       "      <td>Extrastaff</td>\n",
       "      <td>AU</td>\n",
       "      <td>seek</td>\n",
       "      <td>Backed by the Australian Chamber movement,Â E...</td>\n",
       "      <td>Experienced Bakers</td>\n",
       "      <td>Casual/Vacation</td>\n",
       "      <td>2018-04-12T02:23:53Z</td>\n",
       "      <td>NaN</td>\n",
       "      <td>NaN</td>\n",
       "      <td>https://www.seek.com.au/job/35967419</td>\n",
       "    </tr>\n",
       "    <tr>\n",
       "      <th>23397</th>\n",
       "      <td>Accounting</td>\n",
       "      <td>Brisbane</td>\n",
       "      <td>Boeing Defence Australia</td>\n",
       "      <td>AU</td>\n",
       "      <td>seek</td>\n",
       "      <td>Boeing Defence Australia Ltd, a wholly owned ...</td>\n",
       "      <td>Contracts Manager</td>\n",
       "      <td>Full Time</td>\n",
       "      <td>2018-04-12T03:45:02Z</td>\n",
       "      <td>NaN</td>\n",
       "      <td>CBD &amp; Inner Suburbs</td>\n",
       "      <td>https://www.seek.com.au/job/35968503</td>\n",
       "    </tr>\n",
       "    <tr>\n",
       "      <th>25058</th>\n",
       "      <td>Hospitality &amp; Tourism</td>\n",
       "      <td>Gold Coast</td>\n",
       "      <td>Jora Local</td>\n",
       "      <td>AU</td>\n",
       "      <td>seek</td>\n",
       "      <td>A restaurant in Runaway Bay is seeking a casu...</td>\n",
       "      <td>Casual Cook in Runaway Bay</td>\n",
       "      <td>Casual/Vacation</td>\n",
       "      <td>2018-04-12T07:35:02Z</td>\n",
       "      <td>NaN</td>\n",
       "      <td>NaN</td>\n",
       "      <td>https://www.seek.com.au/job/35972652</td>\n",
       "    </tr>\n",
       "    <tr>\n",
       "      <th>2664</th>\n",
       "      <td>Community Services &amp; Development</td>\n",
       "      <td>Adelaide</td>\n",
       "      <td>Advanced Personnel Management</td>\n",
       "      <td>AU</td>\n",
       "      <td>seek</td>\n",
       "      <td>About the Company: APM is an Australian owned...</td>\n",
       "      <td>Employment Consultant - Disability Employment ...</td>\n",
       "      <td>Full Time</td>\n",
       "      <td>2018-04-16T03:48:14Z</td>\n",
       "      <td>Competitive Salary + Performance Incentives</td>\n",
       "      <td>NaN</td>\n",
       "      <td>https://www.seek.com.au/job/35993764</td>\n",
       "    </tr>\n",
       "    <tr>\n",
       "      <th>...</th>\n",
       "      <td>...</td>\n",
       "      <td>...</td>\n",
       "      <td>...</td>\n",
       "      <td>...</td>\n",
       "      <td>...</td>\n",
       "      <td>...</td>\n",
       "      <td>...</td>\n",
       "      <td>...</td>\n",
       "      <td>...</td>\n",
       "      <td>...</td>\n",
       "      <td>...</td>\n",
       "      <td>...</td>\n",
       "    </tr>\n",
       "    <tr>\n",
       "      <th>21481</th>\n",
       "      <td>Banking &amp; Financial Services</td>\n",
       "      <td>Brisbane</td>\n",
       "      <td>Davidson Corporate</td>\n",
       "      <td>AU</td>\n",
       "      <td>seek</td>\n",
       "      <td>About the Company Our client has a track reco...</td>\n",
       "      <td>Desk Assistant</td>\n",
       "      <td>Full Time</td>\n",
       "      <td>2018-04-12T03:31:03Z</td>\n",
       "      <td>NaN</td>\n",
       "      <td>CBD &amp; Inner Suburbs</td>\n",
       "      <td>https://www.seek.com.au/job/35968345</td>\n",
       "    </tr>\n",
       "    <tr>\n",
       "      <th>26178</th>\n",
       "      <td>Information &amp; Communication Technology</td>\n",
       "      <td>Melbourne</td>\n",
       "      <td>Finite IT Recruitment Solutions</td>\n",
       "      <td>AU</td>\n",
       "      <td>seek</td>\n",
       "      <td>Data Centre Support Engineer - 6 month contra...</td>\n",
       "      <td>Data Centre Support Engineer</td>\n",
       "      <td>Contract/Temp</td>\n",
       "      <td>2018-04-12T23:34:30Z</td>\n",
       "      <td>NaN</td>\n",
       "      <td>CBD &amp; Inner Suburbs</td>\n",
       "      <td>https://www.seek.com.au/job/35975087</td>\n",
       "    </tr>\n",
       "    <tr>\n",
       "      <th>27445</th>\n",
       "      <td>Hospitality &amp; Tourism</td>\n",
       "      <td>Newcastle, Maitland &amp; Hunter</td>\n",
       "      <td>Muswellbrook Motors</td>\n",
       "      <td>AU</td>\n",
       "      <td>seek</td>\n",
       "      <td>New business freshly renovated On-Par Steak H...</td>\n",
       "      <td>Chef or 4th Year Apprentice</td>\n",
       "      <td>Full Time</td>\n",
       "      <td>2018-04-12T23:08:02Z</td>\n",
       "      <td>NaN</td>\n",
       "      <td>NaN</td>\n",
       "      <td>https://www.seek.com.au/job/35974716</td>\n",
       "    </tr>\n",
       "    <tr>\n",
       "      <th>1723</th>\n",
       "      <td>Trades &amp; Services</td>\n",
       "      <td>Cairns &amp; Far North</td>\n",
       "      <td>Downer EDI Limited</td>\n",
       "      <td>AU</td>\n",
       "      <td>seek</td>\n",
       "      <td>Downer's construction business has recently b...</td>\n",
       "      <td>Trades and Non Trades - Far North Queensland</td>\n",
       "      <td>Full Time</td>\n",
       "      <td>2018-04-16T01:41:53Z</td>\n",
       "      <td>NaN</td>\n",
       "      <td>NaN</td>\n",
       "      <td>https://www.seek.com.au/job/35991886</td>\n",
       "    </tr>\n",
       "    <tr>\n",
       "      <th>8485</th>\n",
       "      <td>Call Centre &amp; Customer Service</td>\n",
       "      <td>Melbourne</td>\n",
       "      <td>Prism Group</td>\n",
       "      <td>AU</td>\n",
       "      <td>seek</td>\n",
       "      <td>Cash This is a position offeringÂ FULL TIME s...</td>\n",
       "      <td>CUSTOMER SERVICE - $750 - $1300 A WEEK OTE!</td>\n",
       "      <td>Full Time</td>\n",
       "      <td>2018-04-15T07:13:14Z</td>\n",
       "      <td>$40,000 - $59,999</td>\n",
       "      <td>NaN</td>\n",
       "      <td>https://www.seek.com.au/job/35987610</td>\n",
       "    </tr>\n",
       "  </tbody>\n",
       "</table>\n",
       "<p>3000 rows × 12 columns</p>\n",
       "</div>"
      ],
      "text/plain": [
       "                                     category                          city  \\\n",
       "2308                    Consulting & Strategy                      Brisbane   \n",
       "22404                       Trades & Services                      Adelaide   \n",
       "23397                              Accounting                      Brisbane   \n",
       "25058                   Hospitality & Tourism                    Gold Coast   \n",
       "2664         Community Services & Development                      Adelaide   \n",
       "...                                       ...                           ...   \n",
       "21481            Banking & Financial Services                      Brisbane   \n",
       "26178  Information & Communication Technology                     Melbourne   \n",
       "27445                   Hospitality & Tourism  Newcastle, Maitland & Hunter   \n",
       "1723                        Trades & Services            Cairns & Far North   \n",
       "8485           Call Centre & Customer Service                     Melbourne   \n",
       "\n",
       "                          company_name geo job_board  \\\n",
       "2308                              RACQ  AU      seek   \n",
       "22404                       Extrastaff  AU      seek   \n",
       "23397         Boeing Defence Australia  AU      seek   \n",
       "25058                       Jora Local  AU      seek   \n",
       "2664     Advanced Personnel Management  AU      seek   \n",
       "...                                ...  ..       ...   \n",
       "21481               Davidson Corporate  AU      seek   \n",
       "26178  Finite IT Recruitment Solutions  AU      seek   \n",
       "27445              Muswellbrook Motors  AU      seek   \n",
       "1723                Downer EDI Limited  AU      seek   \n",
       "8485                       Prism Group  AU      seek   \n",
       "\n",
       "                                         job_description  \\\n",
       "2308    Â  Lead and develop team of Pricing Analysts ...   \n",
       "22404   Backed by the Australian Chamber movement,Â E...   \n",
       "23397   Boeing Defence Australia Ltd, a wholly owned ...   \n",
       "25058   A restaurant in Runaway Bay is seeking a casu...   \n",
       "2664    About the Company: APM is an Australian owned...   \n",
       "...                                                  ...   \n",
       "21481   About the Company Our client has a track reco...   \n",
       "26178   Data Centre Support Engineer - 6 month contra...   \n",
       "27445   New business freshly renovated On-Par Steak H...   \n",
       "1723    Downer's construction business has recently b...   \n",
       "8485    Cash This is a position offeringÂ FULL TIME s...   \n",
       "\n",
       "                                               job_title         job_type  \\\n",
       "2308                                     Manager Pricing        Full Time   \n",
       "22404                                 Experienced Bakers  Casual/Vacation   \n",
       "23397                                  Contracts Manager        Full Time   \n",
       "25058                         Casual Cook in Runaway Bay  Casual/Vacation   \n",
       "2664   Employment Consultant - Disability Employment ...        Full Time   \n",
       "...                                                  ...              ...   \n",
       "21481                                     Desk Assistant        Full Time   \n",
       "26178                       Data Centre Support Engineer    Contract/Temp   \n",
       "27445                        Chef or 4th Year Apprentice        Full Time   \n",
       "1723        Trades and Non Trades - Far North Queensland        Full Time   \n",
       "8485         CUSTOMER SERVICE - $750 - $1300 A WEEK OTE!        Full Time   \n",
       "\n",
       "                  post_date                               salary_offered  \\\n",
       "2308   2018-04-16T02:48:56Z                                          NaN   \n",
       "22404  2018-04-12T02:23:53Z                                          NaN   \n",
       "23397  2018-04-12T03:45:02Z                                          NaN   \n",
       "25058  2018-04-12T07:35:02Z                                          NaN   \n",
       "2664   2018-04-16T03:48:14Z  Competitive Salary + Performance Incentives   \n",
       "...                     ...                                          ...   \n",
       "21481  2018-04-12T03:31:03Z                                          NaN   \n",
       "26178  2018-04-12T23:34:30Z                                          NaN   \n",
       "27445  2018-04-12T23:08:02Z                                          NaN   \n",
       "1723   2018-04-16T01:41:53Z                                          NaN   \n",
       "8485   2018-04-15T07:13:14Z                            $40,000 - $59,999   \n",
       "\n",
       "                          state                                   url  \n",
       "2308   Southern Suburbs & Logan  https://www.seek.com.au/job/35992845  \n",
       "22404                       NaN  https://www.seek.com.au/job/35967419  \n",
       "23397       CBD & Inner Suburbs  https://www.seek.com.au/job/35968503  \n",
       "25058                       NaN  https://www.seek.com.au/job/35972652  \n",
       "2664                        NaN  https://www.seek.com.au/job/35993764  \n",
       "...                         ...                                   ...  \n",
       "21481       CBD & Inner Suburbs  https://www.seek.com.au/job/35968345  \n",
       "26178       CBD & Inner Suburbs  https://www.seek.com.au/job/35975087  \n",
       "27445                       NaN  https://www.seek.com.au/job/35974716  \n",
       "1723                        NaN  https://www.seek.com.au/job/35991886  \n",
       "8485                        NaN  https://www.seek.com.au/job/35987610  \n",
       "\n",
       "[3000 rows x 12 columns]"
      ]
     },
     "execution_count": 2,
     "metadata": {},
     "output_type": "execute_result"
    }
   ],
   "source": [
    "df = pd.read_csv ('./data/seek_australia.csv')\n",
    "df = df.sample(frac = 0.1, random_state=42)\n",
    "df"
   ]
  },
  {
   "cell_type": "markdown",
   "id": "9b5d2b13",
   "metadata": {},
   "source": [
    "# Data pre-processing"
   ]
  },
  {
   "cell_type": "code",
   "execution_count": 3,
   "id": "07686710",
   "metadata": {},
   "outputs": [],
   "source": [
    "features_to_delete = ['job_board','geo','url'] # get rid of unnecessary features (maybe add more columns)\n",
    "df = df.drop(features_to_delete, axis=1)"
   ]
  },
  {
   "cell_type": "markdown",
   "id": "80f9fd59",
   "metadata": {},
   "source": [
    "Job description is necessary for all the tasks in this assignment, so it makes sense to drop rows that are missing these values"
   ]
  },
  {
   "cell_type": "code",
   "execution_count": 4,
   "id": "237fa708",
   "metadata": {},
   "outputs": [
    {
     "name": "stdout",
     "output_type": "stream",
     "text": [
      "37\n"
     ]
    }
   ],
   "source": [
    "print(df['job_description'].isna().sum())\n",
    "df.dropna(subset=['job_description'], inplace=True)"
   ]
  },
  {
   "cell_type": "markdown",
   "id": "e430cc0c",
   "metadata": {},
   "source": [
    "Tokenize each row and decode the text to remove all the non-latin characters"
   ]
  },
  {
   "cell_type": "code",
   "execution_count": 5,
   "id": "f449f487",
   "metadata": {},
   "outputs": [],
   "source": [
    "for i in df[ \"job_description\"].index:\n",
    "    df.loc[i, \"job_description\"] = gensim.utils.simple_preprocess(\n",
    "        ftfy.fix_text(unicodedata.normalize(\"NFKD\",df.loc[i,\"job_description\"])), deacc=True)"
   ]
  },
  {
   "cell_type": "markdown",
   "id": "c3e32dd4",
   "metadata": {},
   "source": [
    "Create_tfidf function creates a dataframe with each row representing a document with corresponding tfidf scores and the columns showing the full corpus vocabulary. Thus the tfidf score for each word in each document can be looked up."
   ]
  },
  {
   "cell_type": "code",
   "execution_count": 73,
   "id": "8024e60f",
   "metadata": {},
   "outputs": [],
   "source": [
    "from sklearn.feature_extraction.text import TfidfVectorizer\n",
    "# Allows passing tokens to the vectorizer\n",
    "def dummy_fun(doc):\n",
    "    return doc\n",
    "\n",
    "def create_tfidf_df(tokens):  \n",
    "    tfidf = TfidfVectorizer(\n",
    "    analyzer='word',\n",
    "    tokenizer=dummy_fun,\n",
    "    preprocessor=dummy_fun,\n",
    "    token_pattern=None) \n",
    "\n",
    "    tdf = tfidf.fit_transform(tokens)\n",
    "    bow = pd.DataFrame(tdf.toarray(), columns = tfidf.get_feature_names_out())\n",
    "\n",
    "    return bow"
   ]
  },
  {
   "cell_type": "markdown",
   "id": "ea528389",
   "metadata": {},
   "source": [
    "Top x tfidf accepts a list of tokenized documents and removes all words that do not have the top x tfidf scores"
   ]
  },
  {
   "cell_type": "code",
   "execution_count": 74,
   "id": "9303a7ed",
   "metadata": {},
   "outputs": [],
   "source": [
    "df['short_description'] = [None for i in range(len(df))]"
   ]
  },
  {
   "cell_type": "markdown",
   "id": "6c79debb",
   "metadata": {},
   "source": [
    "Removes all words that do not have the top 10 tfidf scores. Treats each category as its own corpus"
   ]
  },
  {
   "cell_type": "code",
   "execution_count": 89,
   "id": "b7a3c345",
   "metadata": {},
   "outputs": [],
   "source": [
    "def top_x_tfidf(df, x):\n",
    "    for category in df.category.unique():\n",
    "        tfidf_df = create_tfidf_df(df[df.category == category]['job_description'])\n",
    "        for i, (idx_row) in enumerate(df[df.category == category].iterrows()):\n",
    "            idx, row = idx_row\n",
    "            desc = row['job_description']\n",
    "            words = set(desc)        \n",
    "            if len(words) < x: \n",
    "                df.loc[idx]['short_description'] = desc\n",
    "                continue\n",
    "\n",
    "            # Create a dictionary of words and their tfidf values and then sort them in descending order\n",
    "            tfidf_words = {word: tfidf_df.iloc[i][word] for word in words}\n",
    "            tfidf_words = {k: v for k, v in sorted(tfidf_words.items(), key=lambda item: -item[1])}\n",
    "\n",
    "            for word in desc:\n",
    "                if word not in list(tfidf_words.keys())[:x]: # Remove all words who are not in the top ten tfidf scores\n",
    "                    desc = list(filter(lambda x: x != word, desc))\n",
    "            df.loc[idx]['short_description'] = desc\n",
    "    return df['short_description']\n"
   ]
  },
  {
   "cell_type": "code",
   "execution_count": 90,
   "id": "8731f423",
   "metadata": {},
   "outputs": [
    {
     "data": {
      "text/plain": [
       "2308     [and, develop, of, pricing, and, product, and,...\n",
       "22404    [backed, the, chamber, the, and, and, and, the...\n",
       "23397    [boeing, defence, of, the, boeing, contracts, ...\n",
       "25058    [runaway, bay, casual, cook, to, to, to, at, b...\n",
       "2664     [the, apm, with, and, apm, employment, and, th...\n",
       "                               ...                        \n",
       "21481    [about, the, track, record, and, to, internal,...\n",
       "26178    [centre, telco, cloud, telco, solutions, centr...\n",
       "27445    [freshly, renovated, par, steak, inside, muswe...\n",
       "1723     [downer, construction, bauxite, mine, of, down...\n",
       "8485     [cash, is, to, and, we, we, we, the, average, ...\n",
       "Name: short_description, Length: 2963, dtype: object"
      ]
     },
     "execution_count": 90,
     "metadata": {},
     "output_type": "execute_result"
    }
   ],
   "source": [
    "top_x_tfidf(df, 10)"
   ]
  },
  {
   "cell_type": "code",
   "execution_count": null,
   "id": "bb192c17",
   "metadata": {},
   "outputs": [],
   "source": [
    "short_descriptions = []\n",
    "for category in df['category'].unique():\n",
    "    short_descriptions += top_x_tfidf(df.loc[df['category'] == category]['job_description'], tfidf_bow, 10)\n",
    "df['short_description']"
   ]
  },
  {
   "cell_type": "markdown",
   "id": "0e5e3048",
   "metadata": {},
   "source": [
    "Split the dataframe into training, testing and validation"
   ]
  },
  {
   "cell_type": "code",
   "execution_count": null,
   "id": "ccb29901",
   "metadata": {},
   "outputs": [],
   "source": [
    "train, test_val = train_test_split(df, test_size=0.3)\n",
    "\n",
    "test, val = train_test_split(test_val, test_size = float(1/3))"
   ]
  },
  {
   "cell_type": "markdown",
   "id": "c3504360",
   "metadata": {},
   "source": [
    "# Task 1"
   ]
  },
  {
   "cell_type": "markdown",
   "id": "6a8805ea",
   "metadata": {},
   "source": [
    "Derive target variable"
   ]
  },
  {
   "cell_type": "code",
   "execution_count": null,
   "id": "cea8cb7d",
   "metadata": {},
   "outputs": [],
   "source": [
    "df['job_type_target'] = df['job_type']"
   ]
  },
  {
   "cell_type": "code",
   "execution_count": null,
   "id": "ab6844c3",
   "metadata": {},
   "outputs": [],
   "source": [
    "df.loc[df['job_type_target'] != 'Full Time', 'job_type_target'] = 'Other'"
   ]
  },
  {
   "cell_type": "markdown",
   "id": "3f574dac",
   "metadata": {},
   "source": [
    "Analyse class distribution"
   ]
  },
  {
   "cell_type": "code",
   "execution_count": null,
   "id": "d25c60fb",
   "metadata": {},
   "outputs": [],
   "source": [
    "df['job_type_target'].hist()"
   ]
  },
  {
   "cell_type": "code",
   "execution_count": null,
   "id": "aa01ed50",
   "metadata": {},
   "outputs": [],
   "source": [
    "# Class 'Full Time' is twice as large as 'Other'. Verify based on literature if such a distribution is too\n",
    "# imbalanced for this learning task "
   ]
  },
  {
   "cell_type": "markdown",
   "id": "2ba58b9f",
   "metadata": {},
   "source": [
    "# Task 2"
   ]
  },
  {
   "cell_type": "code",
   "execution_count": null,
   "id": "c4543322",
   "metadata": {},
   "outputs": [],
   "source": []
  }
 ],
 "metadata": {
  "kernelspec": {
   "display_name": "Python 3.9.10",
   "language": "python",
   "name": "python3"
  },
  "language_info": {
   "codemirror_mode": {
    "name": "ipython",
    "version": 3
   },
   "file_extension": ".py",
   "mimetype": "text/x-python",
   "name": "python",
   "nbconvert_exporter": "python",
   "pygments_lexer": "ipython3",
   "version": "3.9.10"
  },
  "vscode": {
   "interpreter": {
    "hash": "3931f8ce93702ec92af21f632a7247673a82decd980a4ceb2171679cfa65979b"
   }
  }
 },
 "nbformat": 4,
 "nbformat_minor": 5
}
